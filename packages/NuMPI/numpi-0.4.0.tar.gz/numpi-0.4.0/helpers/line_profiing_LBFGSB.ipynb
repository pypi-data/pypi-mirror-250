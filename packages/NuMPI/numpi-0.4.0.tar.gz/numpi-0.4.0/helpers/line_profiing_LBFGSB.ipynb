{
 "cells": [
  {
   "cell_type": "code",
   "execution_count": 1,
   "metadata": {},
   "outputs": [],
   "source": [
    "%load_ext snakeviz\n"
   ]
  },
  {
   "cell_type": "code",
   "execution_count": 2,
   "metadata": {},
   "outputs": [
    {
     "name": "stdout",
     "output_type": "stream",
     "text": [
      "27\n",
      " \n",
      "*** Profile stats marshalled to file '/var/folders/l8/vsnk8lcd1p11f5xmv3x0qmg40000gn/T/tmpvf30xvc5'. \n"
     ]
    }
   ],
   "source": [
    "%%snakeviz\n",
    "# %%writefile helpers/temp_LBFGS_performance_test.py\n",
    "\n",
    "from NuMPI.Optimization import LBFGS\n",
    "from test.Optimization.MPI_minimization_problems import MPI_Quadratic\n",
    "import numpy as np\n",
    "import scipy\n",
    "\n",
    "n = 10**6\n",
    "\n",
    "Objective = MPI_Quadratic(n)\n",
    "result = scipy.optimize.minimize(Objective.f,Objective.startpoint(),\n",
    "                                 jac=Objective.grad,method=LBFGS,\n",
    "                                 options ={\"gtol\":1e-6,\"pnp\":Objective.pnp})\n",
    "assert result.success\n",
    "print(result.nit)"
   ]
  },
  {
   "cell_type": "code",
   "execution_count": 3,
   "metadata": {},
   "outputs": [
    {
     "ename": "SyntaxError",
     "evalue": "invalid syntax (<ipython-input-3-e12fbefd137c>, line 2)",
     "output_type": "error",
     "traceback": [
      "\u001B[0;36m  File \u001B[0;32m\"<ipython-input-3-e12fbefd137c>\"\u001B[0;36m, line \u001B[0;32m2\u001B[0m\n\u001B[0;31m    A lot of time is spend in concatenate and numpy.roll, but at which lines exactly ?\u001B[0m\n\u001B[0m        ^\u001B[0m\n\u001B[0;31mSyntaxError\u001B[0m\u001B[0;31m:\u001B[0m invalid syntax\n"
     ]
    }
   ],
   "source": [
    "A lot of time is spend in concatenate and numpy.roll, but at which lines exactly ?"
   ]
  },
  {
   "cell_type": "code",
   "execution_count": 4,
   "metadata": {},
   "outputs": [],
   "source": [
    "%load_ext line_profiler"
   ]
  },
  {
   "cell_type": "code",
   "execution_count": 5,
   "metadata": {},
   "outputs": [
    {
     "name": "stdout",
     "output_type": "stream",
     "text": [
      "27\n"
     ]
    },
    {
     "ename": "TokenError",
     "evalue": "('EOF in multi-line string', (66, 12))",
     "output_type": "error",
     "traceback": [
      "\u001B[0;31m---------------------------------------------------------------------------\u001B[0m",
      "\u001B[0;31mTokenError\u001B[0m                                Traceback (most recent call last)",
      "\u001B[0;32m<ipython-input-5-f476e6789e00>\u001B[0m in \u001B[0;36m<module>\u001B[0;34m\u001B[0m\n\u001B[1;32m     15\u001B[0m     \u001B[0mprint\u001B[0m\u001B[0;34m(\u001B[0m\u001B[0mresult\u001B[0m\u001B[0;34m.\u001B[0m\u001B[0mnit\u001B[0m\u001B[0;34m)\u001B[0m\u001B[0;34m\u001B[0m\u001B[0;34m\u001B[0m\u001B[0m\n\u001B[1;32m     16\u001B[0m \u001B[0;34m\u001B[0m\u001B[0m\n\u001B[0;32m---> 17\u001B[0;31m \u001B[0mget_ipython\u001B[0m\u001B[0;34m(\u001B[0m\u001B[0;34m)\u001B[0m\u001B[0;34m.\u001B[0m\u001B[0mrun_line_magic\u001B[0m\u001B[0;34m(\u001B[0m\u001B[0;34m'lprun'\u001B[0m\u001B[0;34m,\u001B[0m \u001B[0;34m'-f LBFGS -T lprunprofile.txt do(10**6)'\u001B[0m\u001B[0;34m)\u001B[0m\u001B[0;34m\u001B[0m\u001B[0;34m\u001B[0m\u001B[0m\n\u001B[0m\u001B[1;32m     18\u001B[0m \u001B[0;34m\u001B[0m\u001B[0m\n",
      "\u001B[0;32m/usr/local/lib/python3.7/site-packages/IPython/core/interactiveshell.py\u001B[0m in \u001B[0;36mrun_line_magic\u001B[0;34m(self, magic_name, line, _stack_depth)\u001B[0m\n\u001B[1;32m   2283\u001B[0m                 \u001B[0mkwargs\u001B[0m\u001B[0;34m[\u001B[0m\u001B[0;34m'local_ns'\u001B[0m\u001B[0;34m]\u001B[0m \u001B[0;34m=\u001B[0m \u001B[0msys\u001B[0m\u001B[0;34m.\u001B[0m\u001B[0m_getframe\u001B[0m\u001B[0;34m(\u001B[0m\u001B[0mstack_depth\u001B[0m\u001B[0;34m)\u001B[0m\u001B[0;34m.\u001B[0m\u001B[0mf_locals\u001B[0m\u001B[0;34m\u001B[0m\u001B[0;34m\u001B[0m\u001B[0m\n\u001B[1;32m   2284\u001B[0m             \u001B[0;32mwith\u001B[0m \u001B[0mself\u001B[0m\u001B[0;34m.\u001B[0m\u001B[0mbuiltin_trap\u001B[0m\u001B[0;34m:\u001B[0m\u001B[0;34m\u001B[0m\u001B[0;34m\u001B[0m\u001B[0m\n\u001B[0;32m-> 2285\u001B[0;31m                 \u001B[0mresult\u001B[0m \u001B[0;34m=\u001B[0m \u001B[0mfn\u001B[0m\u001B[0;34m(\u001B[0m\u001B[0;34m*\u001B[0m\u001B[0margs\u001B[0m\u001B[0;34m,\u001B[0m\u001B[0;34m**\u001B[0m\u001B[0mkwargs\u001B[0m\u001B[0;34m)\u001B[0m\u001B[0;34m\u001B[0m\u001B[0;34m\u001B[0m\u001B[0m\n\u001B[0m\u001B[1;32m   2286\u001B[0m             \u001B[0;32mreturn\u001B[0m \u001B[0mresult\u001B[0m\u001B[0;34m\u001B[0m\u001B[0;34m\u001B[0m\u001B[0m\n\u001B[1;32m   2287\u001B[0m \u001B[0;34m\u001B[0m\u001B[0m\n",
      "\u001B[0;32m<decorator-gen-155>\u001B[0m in \u001B[0;36mlprun\u001B[0;34m(self, parameter_s)\u001B[0m\n",
      "\u001B[0;32m/usr/local/lib/python3.7/site-packages/IPython/core/magic.py\u001B[0m in \u001B[0;36m<lambda>\u001B[0;34m(f, *a, **k)\u001B[0m\n\u001B[1;32m    185\u001B[0m     \u001B[0;31m# but it's overkill for just that one bit of state.\u001B[0m\u001B[0;34m\u001B[0m\u001B[0;34m\u001B[0m\u001B[0;34m\u001B[0m\u001B[0m\n\u001B[1;32m    186\u001B[0m     \u001B[0;32mdef\u001B[0m \u001B[0mmagic_deco\u001B[0m\u001B[0;34m(\u001B[0m\u001B[0marg\u001B[0m\u001B[0;34m)\u001B[0m\u001B[0;34m:\u001B[0m\u001B[0;34m\u001B[0m\u001B[0;34m\u001B[0m\u001B[0m\n\u001B[0;32m--> 187\u001B[0;31m         \u001B[0mcall\u001B[0m \u001B[0;34m=\u001B[0m \u001B[0;32mlambda\u001B[0m \u001B[0mf\u001B[0m\u001B[0;34m,\u001B[0m \u001B[0;34m*\u001B[0m\u001B[0ma\u001B[0m\u001B[0;34m,\u001B[0m \u001B[0;34m**\u001B[0m\u001B[0mk\u001B[0m\u001B[0;34m:\u001B[0m \u001B[0mf\u001B[0m\u001B[0;34m(\u001B[0m\u001B[0;34m*\u001B[0m\u001B[0ma\u001B[0m\u001B[0;34m,\u001B[0m \u001B[0;34m**\u001B[0m\u001B[0mk\u001B[0m\u001B[0;34m)\u001B[0m\u001B[0;34m\u001B[0m\u001B[0;34m\u001B[0m\u001B[0m\n\u001B[0m\u001B[1;32m    188\u001B[0m \u001B[0;34m\u001B[0m\u001B[0m\n\u001B[1;32m    189\u001B[0m         \u001B[0;32mif\u001B[0m \u001B[0mcallable\u001B[0m\u001B[0;34m(\u001B[0m\u001B[0marg\u001B[0m\u001B[0;34m)\u001B[0m\u001B[0;34m:\u001B[0m\u001B[0;34m\u001B[0m\u001B[0;34m\u001B[0m\u001B[0m\n",
      "\u001B[0;32m/usr/local/lib/python3.7/site-packages/line_profiler.py\u001B[0m in \u001B[0;36mlprun\u001B[0;34m(self, parameter_s)\u001B[0m\n\u001B[1;32m    367\u001B[0m         \u001B[0;31m# Trap text output.\u001B[0m\u001B[0;34m\u001B[0m\u001B[0;34m\u001B[0m\u001B[0;34m\u001B[0m\u001B[0m\n\u001B[1;32m    368\u001B[0m         \u001B[0mstdout_trap\u001B[0m \u001B[0;34m=\u001B[0m \u001B[0mStringIO\u001B[0m\u001B[0;34m(\u001B[0m\u001B[0;34m)\u001B[0m\u001B[0;34m\u001B[0m\u001B[0;34m\u001B[0m\u001B[0m\n\u001B[0;32m--> 369\u001B[0;31m         \u001B[0mprofile\u001B[0m\u001B[0;34m.\u001B[0m\u001B[0mprint_stats\u001B[0m\u001B[0;34m(\u001B[0m\u001B[0mstdout_trap\u001B[0m\u001B[0;34m,\u001B[0m \u001B[0moutput_unit\u001B[0m\u001B[0;34m=\u001B[0m\u001B[0moutput_unit\u001B[0m\u001B[0;34m,\u001B[0m \u001B[0mstripzeros\u001B[0m\u001B[0;34m=\u001B[0m\u001B[0;34m's'\u001B[0m \u001B[0;32min\u001B[0m \u001B[0mopts\u001B[0m\u001B[0;34m)\u001B[0m\u001B[0;34m\u001B[0m\u001B[0;34m\u001B[0m\u001B[0m\n\u001B[0m\u001B[1;32m    370\u001B[0m         \u001B[0moutput\u001B[0m \u001B[0;34m=\u001B[0m \u001B[0mstdout_trap\u001B[0m\u001B[0;34m.\u001B[0m\u001B[0mgetvalue\u001B[0m\u001B[0;34m(\u001B[0m\u001B[0;34m)\u001B[0m\u001B[0;34m\u001B[0m\u001B[0;34m\u001B[0m\u001B[0m\n\u001B[1;32m    371\u001B[0m         \u001B[0moutput\u001B[0m \u001B[0;34m=\u001B[0m \u001B[0moutput\u001B[0m\u001B[0;34m.\u001B[0m\u001B[0mrstrip\u001B[0m\u001B[0;34m(\u001B[0m\u001B[0;34m)\u001B[0m\u001B[0;34m\u001B[0m\u001B[0;34m\u001B[0m\u001B[0m\n",
      "\u001B[0;32m/usr/local/lib/python3.7/site-packages/line_profiler.py\u001B[0m in \u001B[0;36mprint_stats\u001B[0;34m(self, stream, output_unit, stripzeros)\u001B[0m\n\u001B[1;32m    135\u001B[0m         \"\"\"\n\u001B[1;32m    136\u001B[0m         \u001B[0mlstats\u001B[0m \u001B[0;34m=\u001B[0m \u001B[0mself\u001B[0m\u001B[0;34m.\u001B[0m\u001B[0mget_stats\u001B[0m\u001B[0;34m(\u001B[0m\u001B[0;34m)\u001B[0m\u001B[0;34m\u001B[0m\u001B[0;34m\u001B[0m\u001B[0m\n\u001B[0;32m--> 137\u001B[0;31m         \u001B[0mshow_text\u001B[0m\u001B[0;34m(\u001B[0m\u001B[0mlstats\u001B[0m\u001B[0;34m.\u001B[0m\u001B[0mtimings\u001B[0m\u001B[0;34m,\u001B[0m \u001B[0mlstats\u001B[0m\u001B[0;34m.\u001B[0m\u001B[0munit\u001B[0m\u001B[0;34m,\u001B[0m \u001B[0moutput_unit\u001B[0m\u001B[0;34m=\u001B[0m\u001B[0moutput_unit\u001B[0m\u001B[0;34m,\u001B[0m \u001B[0mstream\u001B[0m\u001B[0;34m=\u001B[0m\u001B[0mstream\u001B[0m\u001B[0;34m,\u001B[0m \u001B[0mstripzeros\u001B[0m\u001B[0;34m=\u001B[0m\u001B[0mstripzeros\u001B[0m\u001B[0;34m)\u001B[0m\u001B[0;34m\u001B[0m\u001B[0;34m\u001B[0m\u001B[0m\n\u001B[0m\u001B[1;32m    138\u001B[0m \u001B[0;34m\u001B[0m\u001B[0m\n\u001B[1;32m    139\u001B[0m     \u001B[0;32mdef\u001B[0m \u001B[0mrun\u001B[0m\u001B[0;34m(\u001B[0m\u001B[0mself\u001B[0m\u001B[0;34m,\u001B[0m \u001B[0mcmd\u001B[0m\u001B[0;34m)\u001B[0m\u001B[0;34m:\u001B[0m\u001B[0;34m\u001B[0m\u001B[0;34m\u001B[0m\u001B[0m\n",
      "\u001B[0;32m/usr/local/lib/python3.7/site-packages/line_profiler.py\u001B[0m in \u001B[0;36mshow_text\u001B[0;34m(stats, unit, output_unit, stream, stripzeros)\u001B[0m\n\u001B[1;32m    257\u001B[0m     \u001B[0;32mfor\u001B[0m \u001B[0;34m(\u001B[0m\u001B[0mfn\u001B[0m\u001B[0;34m,\u001B[0m \u001B[0mlineno\u001B[0m\u001B[0;34m,\u001B[0m \u001B[0mname\u001B[0m\u001B[0;34m)\u001B[0m\u001B[0;34m,\u001B[0m \u001B[0mtimings\u001B[0m \u001B[0;32min\u001B[0m \u001B[0msorted\u001B[0m\u001B[0;34m(\u001B[0m\u001B[0mstats\u001B[0m\u001B[0;34m.\u001B[0m\u001B[0mitems\u001B[0m\u001B[0;34m(\u001B[0m\u001B[0;34m)\u001B[0m\u001B[0;34m)\u001B[0m\u001B[0;34m:\u001B[0m\u001B[0;34m\u001B[0m\u001B[0;34m\u001B[0m\u001B[0m\n\u001B[1;32m    258\u001B[0m         show_func(fn, lineno, name, stats[fn, lineno, name], unit,\n\u001B[0;32m--> 259\u001B[0;31m             output_unit=output_unit, stream=stream, stripzeros=stripzeros)\n\u001B[0m\u001B[1;32m    260\u001B[0m \u001B[0;34m\u001B[0m\u001B[0m\n\u001B[1;32m    261\u001B[0m \u001B[0;34m@\u001B[0m\u001B[0mmagics_class\u001B[0m\u001B[0;34m\u001B[0m\u001B[0;34m\u001B[0m\u001B[0m\n",
      "\u001B[0;32m/usr/local/lib/python3.7/site-packages/line_profiler.py\u001B[0m in \u001B[0;36mshow_func\u001B[0;34m(filename, start_lineno, func_name, timings, unit, output_unit, stream, stripzeros)\u001B[0m\n\u001B[1;32m    212\u001B[0m             \u001B[0mlinecache\u001B[0m\u001B[0;34m.\u001B[0m\u001B[0mclearcache\u001B[0m\u001B[0;34m(\u001B[0m\u001B[0;34m)\u001B[0m\u001B[0;34m\u001B[0m\u001B[0;34m\u001B[0m\u001B[0m\n\u001B[1;32m    213\u001B[0m         \u001B[0mall_lines\u001B[0m \u001B[0;34m=\u001B[0m \u001B[0mlinecache\u001B[0m\u001B[0;34m.\u001B[0m\u001B[0mgetlines\u001B[0m\u001B[0;34m(\u001B[0m\u001B[0mfilename\u001B[0m\u001B[0;34m)\u001B[0m\u001B[0;34m\u001B[0m\u001B[0;34m\u001B[0m\u001B[0m\n\u001B[0;32m--> 214\u001B[0;31m         \u001B[0msublines\u001B[0m \u001B[0;34m=\u001B[0m \u001B[0minspect\u001B[0m\u001B[0;34m.\u001B[0m\u001B[0mgetblock\u001B[0m\u001B[0;34m(\u001B[0m\u001B[0mall_lines\u001B[0m\u001B[0;34m[\u001B[0m\u001B[0mstart_lineno\u001B[0m\u001B[0;34m-\u001B[0m\u001B[0;36m1\u001B[0m\u001B[0;34m:\u001B[0m\u001B[0;34m]\u001B[0m\u001B[0;34m)\u001B[0m\u001B[0;34m\u001B[0m\u001B[0;34m\u001B[0m\u001B[0m\n\u001B[0m\u001B[1;32m    215\u001B[0m     \u001B[0;32melse\u001B[0m\u001B[0;34m:\u001B[0m\u001B[0;34m\u001B[0m\u001B[0;34m\u001B[0m\u001B[0m\n\u001B[1;32m    216\u001B[0m         \u001B[0mstream\u001B[0m\u001B[0;34m.\u001B[0m\u001B[0mwrite\u001B[0m\u001B[0;34m(\u001B[0m\u001B[0;34m\"\\n\"\u001B[0m\u001B[0;34m)\u001B[0m\u001B[0;34m\u001B[0m\u001B[0;34m\u001B[0m\u001B[0m\n",
      "\u001B[0;32m/usr/local/Cellar/python/3.7.7/Frameworks/Python.framework/Versions/3.7/lib/python3.7/inspect.py\u001B[0m in \u001B[0;36mgetblock\u001B[0;34m(lines)\u001B[0m\n\u001B[1;32m    938\u001B[0m     \u001B[0;32mtry\u001B[0m\u001B[0;34m:\u001B[0m\u001B[0;34m\u001B[0m\u001B[0;34m\u001B[0m\u001B[0m\n\u001B[1;32m    939\u001B[0m         \u001B[0mtokens\u001B[0m \u001B[0;34m=\u001B[0m \u001B[0mtokenize\u001B[0m\u001B[0;34m.\u001B[0m\u001B[0mgenerate_tokens\u001B[0m\u001B[0;34m(\u001B[0m\u001B[0miter\u001B[0m\u001B[0;34m(\u001B[0m\u001B[0mlines\u001B[0m\u001B[0;34m)\u001B[0m\u001B[0;34m.\u001B[0m\u001B[0m__next__\u001B[0m\u001B[0;34m)\u001B[0m\u001B[0;34m\u001B[0m\u001B[0;34m\u001B[0m\u001B[0m\n\u001B[0;32m--> 940\u001B[0;31m         \u001B[0;32mfor\u001B[0m \u001B[0m_token\u001B[0m \u001B[0;32min\u001B[0m \u001B[0mtokens\u001B[0m\u001B[0;34m:\u001B[0m\u001B[0;34m\u001B[0m\u001B[0;34m\u001B[0m\u001B[0m\n\u001B[0m\u001B[1;32m    941\u001B[0m             \u001B[0mblockfinder\u001B[0m\u001B[0;34m.\u001B[0m\u001B[0mtokeneater\u001B[0m\u001B[0;34m(\u001B[0m\u001B[0;34m*\u001B[0m\u001B[0m_token\u001B[0m\u001B[0;34m)\u001B[0m\u001B[0;34m\u001B[0m\u001B[0;34m\u001B[0m\u001B[0m\n\u001B[1;32m    942\u001B[0m     \u001B[0;32mexcept\u001B[0m \u001B[0;34m(\u001B[0m\u001B[0mEndOfBlock\u001B[0m\u001B[0;34m,\u001B[0m \u001B[0mIndentationError\u001B[0m\u001B[0;34m)\u001B[0m\u001B[0;34m:\u001B[0m\u001B[0;34m\u001B[0m\u001B[0;34m\u001B[0m\u001B[0m\n",
      "\u001B[0;32m/usr/local/Cellar/python/3.7.7/Frameworks/Python.framework/Versions/3.7/lib/python3.7/tokenize.py\u001B[0m in \u001B[0;36m_tokenize\u001B[0;34m(readline, encoding)\u001B[0m\n\u001B[1;32m    517\u001B[0m         \u001B[0;32mif\u001B[0m \u001B[0mcontstr\u001B[0m\u001B[0;34m:\u001B[0m                            \u001B[0;31m# continued string\u001B[0m\u001B[0;34m\u001B[0m\u001B[0;34m\u001B[0m\u001B[0m\n\u001B[1;32m    518\u001B[0m             \u001B[0;32mif\u001B[0m \u001B[0;32mnot\u001B[0m \u001B[0mline\u001B[0m\u001B[0;34m:\u001B[0m\u001B[0;34m\u001B[0m\u001B[0;34m\u001B[0m\u001B[0m\n\u001B[0;32m--> 519\u001B[0;31m                 \u001B[0;32mraise\u001B[0m \u001B[0mTokenError\u001B[0m\u001B[0;34m(\u001B[0m\u001B[0;34m\"EOF in multi-line string\"\u001B[0m\u001B[0;34m,\u001B[0m \u001B[0mstrstart\u001B[0m\u001B[0;34m)\u001B[0m\u001B[0;34m\u001B[0m\u001B[0;34m\u001B[0m\u001B[0m\n\u001B[0m\u001B[1;32m    520\u001B[0m             \u001B[0mendmatch\u001B[0m \u001B[0;34m=\u001B[0m \u001B[0mendprog\u001B[0m\u001B[0;34m.\u001B[0m\u001B[0mmatch\u001B[0m\u001B[0;34m(\u001B[0m\u001B[0mline\u001B[0m\u001B[0;34m)\u001B[0m\u001B[0;34m\u001B[0m\u001B[0;34m\u001B[0m\u001B[0m\n\u001B[1;32m    521\u001B[0m             \u001B[0;32mif\u001B[0m \u001B[0mendmatch\u001B[0m\u001B[0;34m:\u001B[0m\u001B[0;34m\u001B[0m\u001B[0;34m\u001B[0m\u001B[0m\n",
      "\u001B[0;31mTokenError\u001B[0m: ('EOF in multi-line string', (66, 12))"
     ]
    }
   ],
   "source": [
    "from NuMPI.Optimization import LBFGS\n",
    "from test.Optimization.MPI_minimization_problems import MPI_Quadratic\n",
    "import numpy as np\n",
    "import scipy\n",
    "\n",
    "\n",
    "def do(n):\n",
    "    \n",
    "    Objective = MPI_Quadratic(n)\n",
    "    result = scipy.optimize.minimize(Objective.f,Objective.startpoint(),\n",
    "                                     jac=Objective.grad,method=LBFGS,\n",
    "                                     options ={\"gtol\":1e-6,\"pnp\":Objective.pnp})\n",
    "    assert result.success\n",
    "    print(result.nit)\n",
    "    \n",
    "%lprun -f LBFGS -T lprunprofile.txt do(10**6)"
   ]
  },
  {
   "cell_type": "markdown",
   "metadata": {},
   "source": [
    "Result: \n",
    "\n",
    "51.9 % of time spent in   \n",
    "\n",
    "```\n",
    "Hgrad = gamma * grad + np.hstack([S, gamma * Y]).dot(p) #TODO\n",
    "```\n",
    "Now the question: what is slow here: the hstack or the dot ?"
   ]
  },
  {
   "cell_type": "markdown",
   "metadata": {},
   "source": [
    "Now I split the ghstack and the dot\n",
    "```\n",
    " 0.0 %    p = np.vstack([Rinv.T.dot(D + gamma * YTY).dot(RiSg) - gamma * Rinv.T.dot(YTgrad), - RiSg]) \n",
    "                                       \n",
    " 46.2 %   temphstack=np.hstack([S, gamma * Y])\n",
    " 5.2  %   Hgrad = gamma * grad + temphstack.dot(p) #TODO\n",
    "```"
   ]
  },
  {
   "cell_type": "markdown",
   "metadata": {},
   "source": [
    "Conclusion: it was the hstack the problem. \n",
    "And actually it isn't necessary at all"
   ]
  },
  {
   "cell_type": "markdown",
   "metadata": {},
   "source": [
    "Now I suppressed the concatenation:"
   ]
  },
  {
   "cell_type": "markdown",
   "metadata": {},
   "source": [
    " ```\n",
    " 12.5 %    Hgrad = gamma * grad + S.dot(p1)+ gamma * Y.dot(p2)\n",
    " ```"
   ]
  },
  {
   "cell_type": "code",
   "execution_count": null,
   "metadata": {},
   "outputs": [],
   "source": []
  }
 ],
 "metadata": {
  "kernelspec": {
   "display_name": "Python 3",
   "language": "python",
   "name": "python3"
  },
  "language_info": {
   "codemirror_mode": {
    "name": "ipython",
    "version": 3
   },
   "file_extension": ".py",
   "mimetype": "text/x-python",
   "name": "python",
   "nbconvert_exporter": "python",
   "pygments_lexer": "ipython3",
   "version": "3.7.0"
  }
 },
 "nbformat": 4,
 "nbformat_minor": 2
}