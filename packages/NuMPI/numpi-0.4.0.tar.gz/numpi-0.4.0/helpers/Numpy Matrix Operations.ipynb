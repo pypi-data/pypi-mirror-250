{
 "cells": [
  {
   "cell_type": "code",
   "execution_count": 2,
   "metadata": {},
   "outputs": [],
   "source": [
    "import numpy as np"
   ]
  },
  {
   "cell_type": "markdown",
   "metadata": {},
   "source": [
    "# Numpy Matrix Operations"
   ]
  },
  {
   "cell_type": "code",
   "execution_count": 3,
   "metadata": {},
   "outputs": [
    {
     "data": {
      "text/plain": [
       "array([[ 1, -2],\n",
       "       [ 0,  1]])"
      ]
     },
     "execution_count": 3,
     "metadata": {},
     "output_type": "execute_result"
    }
   ],
   "source": [
    "np.dot(np.array([[1,-1],[0,1]]),np.array([[1,-1],[0,1]])) # OK"
   ]
  },
  {
   "cell_type": "code",
   "execution_count": 4,
   "metadata": {},
   "outputs": [
    {
     "data": {
      "text/plain": [
       "array([[ 1, -2],\n",
       "       [ 0,  1]])"
      ]
     },
     "execution_count": 4,
     "metadata": {},
     "output_type": "execute_result"
    }
   ],
   "source": [
    "np.array([[1,-1],[0,1]]).dot( np.array([[1,-1],[0,1]]) )"
   ]
  },
  {
   "cell_type": "code",
   "execution_count": 104,
   "metadata": {},
   "outputs": [
    {
     "name": "stdout",
     "output_type": "stream",
     "text": [
      "[[1 2 3]\n",
      " [0 5 6]\n",
      " [0 0 9]]\n",
      "[[5 6 0]\n",
      " [0 9 0]\n",
      " [2 3 1]]\n",
      "[[5 6 0]\n",
      " [0 9 0]\n",
      " [0 0 0]]\n",
      "[[ 5  6 10]\n",
      " [ 0  9 11]\n",
      " [ 0  0 12]]\n"
     ]
    }
   ],
   "source": [
    "# Test dazu\n",
    "A = np.array([[1,2,3],\n",
    "              [0,5,6],\n",
    "              [0,0,9]])\n",
    "print(A)\n",
    "A=np.roll(A,(-1,-1),axis=(0,1))\n",
    "print(A)\n",
    "A[-1,:] = 0\n",
    "print(A)\n",
    "A[:,-1] = [10,11,12]\n",
    "print(A)"
   ]
  },
  {
   "cell_type": "code",
   "execution_count": 139,
   "metadata": {},
   "outputs": [
    {
     "name": "stdout",
     "output_type": "stream",
     "text": [
      "A: [[0 1 2]\n",
      " [3 4 5]]\n",
      "B: [[0 2 4]\n",
      " [1 3 5]]\n",
      "[[ 3  0  0]\n",
      " [ 0 14  0]\n",
      " [ 0  0 33]]\n",
      "[[ 3  4  5]\n",
      " [ 9 14 19]\n",
      " [15 24 33]]\n"
     ]
    }
   ],
   "source": [
    "A = np.arange(2*3).reshape(2,3)\n",
    "B = np.arange(2*3).reshape(3,2).T\n",
    "print(\"A: {}\".format(A))\n",
    "print(\"B: {}\".format(B))\n",
    "\n",
    "print(np.diag(np.einsum(\"ik,ik -> k\",A,B))) # This is only the diagonal of AT B\n",
    "print(np.einsum(\"ik,ij\",A,B)) # This is AT B "
   ]
  },
  {
   "cell_type": "code",
   "execution_count": null,
   "metadata": {},
   "outputs": [],
   "source": []
  }
 ],
 "metadata": {
  "kernelspec": {
   "display_name": "Python 3",
   "language": "python",
   "name": "python3"
  },
  "language_info": {
   "codemirror_mode": {
    "name": "ipython",
    "version": 3
   },
   "file_extension": ".py",
   "mimetype": "text/x-python",
   "name": "python",
   "nbconvert_exporter": "python",
   "pygments_lexer": "ipython3",
   "version": "3.7.0"
  }
 },
 "nbformat": 4,
 "nbformat_minor": 2
}
