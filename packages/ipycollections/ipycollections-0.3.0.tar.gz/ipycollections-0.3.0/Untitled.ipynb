{
 "cells": [
  {
   "cell_type": "code",
   "execution_count": 1,
   "id": "0b9ca643-d542-4a60-9b1a-c03d18e01cf2",
   "metadata": {
    "tags": []
   },
   "outputs": [],
   "source": [
    "import ipycollections"
   ]
  },
  {
   "cell_type": "code",
   "execution_count": 3,
   "id": "1e442051-07f4-4428-8c61-eddeff255089",
   "metadata": {
    "tags": []
   },
   "outputs": [],
   "source": [
    "%load_ext ipycollections"
   ]
  },
  {
   "cell_type": "code",
   "execution_count": 4,
   "id": "4609dc61-9e57-4e28-b49e-52922132b273",
   "metadata": {
    "tags": []
   },
   "outputs": [
    {
     "data": {
      "application/vnd.ipycollections+json": {
       "t": "list",
       "v": [
        1,
        2,
        3
       ]
      },
      "text/plain": [
       "[1, 2, 3]"
      ]
     },
     "execution_count": 4,
     "metadata": {},
     "output_type": "execute_result"
    }
   ],
   "source": [
    "a = [1,2,3]"
   ]
  },
  {
   "cell_type": "code",
   "execution_count": 5,
   "id": "255c366a-5f67-4be7-8b1b-7dc0a6294788",
   "metadata": {
    "tags": []
   },
   "outputs": [
    {
     "data": {
      "application/vnd.ipycollections+json": {
       "t": "dict",
       "v": [
        [
         "a",
         {
          "t": "list",
          "v": [
           1,
           2,
           3
          ]
         }
        ],
        [
         "b",
         "astring"
        ]
       ]
      },
      "text/plain": [
       "{'a': [1, 2, 3], 'b': 'astring'}"
      ]
     },
     "execution_count": 5,
     "metadata": {},
     "output_type": "execute_result"
    }
   ],
   "source": [
    "b = {'a': a, 'b': 'astring'}"
   ]
  },
  {
   "cell_type": "code",
   "execution_count": 9,
   "id": "1b512df1-8424-43aa-a746-9c9cf926e7fc",
   "metadata": {
    "tags": []
   },
   "outputs": [],
   "source": [
    "import IPython.display"
   ]
  },
  {
   "cell_type": "code",
   "execution_count": 7,
   "id": "ba2f3f7d-2357-48f9-88a1-c60d6feb1414",
   "metadata": {
    "tags": []
   },
   "outputs": [],
   "source": [
    "IPython.display.Image('"
   ]
  },
  {
   "cell_type": "code",
   "execution_count": null,
   "id": "666a4949-8c79-4690-8842-965aead41120",
   "metadata": {},
   "outputs": [],
   "source": [
    "IPyto"
   ]
  }
 ],
 "metadata": {
  "kernelspec": {
   "display_name": "Python 3 (ipykernel)",
   "language": "python",
   "name": "python3"
  },
  "language_info": {
   "codemirror_mode": {
    "name": "ipython",
    "version": 3
   },
   "file_extension": ".py",
   "mimetype": "text/x-python",
   "name": "python",
   "nbconvert_exporter": "python",
   "pygments_lexer": "ipython3",
   "version": "3.11.7"
  }
 },
 "nbformat": 4,
 "nbformat_minor": 5
}
