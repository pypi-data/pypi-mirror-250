{
 "cells": [
  {
   "cell_type": "markdown",
   "metadata": {},
   "source": [
    "https://github.com/imperial-qore/line-solver/wiki/Getting-started#example-1-a-mm1-queue"
   ]
  },
  {
   "cell_type": "code",
   "execution_count": 3,
   "metadata": {
    "ExecuteTime": {
     "end_time": "2023-12-22T14:21:36.089440200Z",
     "start_time": "2023-12-22T14:21:36.034796500Z"
    }
   },
   "outputs": [
    {
     "ename": "ModuleNotFoundError",
     "evalue": "No module named 'jpype'",
     "output_type": "error",
     "traceback": [
      "\u001B[1;31m---------------------------------------------------------------------------\u001B[0m",
      "\u001B[1;31mModuleNotFoundError\u001B[0m                       Traceback (most recent call last)",
      "Cell \u001B[1;32mIn[3], line 1\u001B[0m\n\u001B[1;32m----> 1\u001B[0m \u001B[38;5;28;01mfrom\u001B[39;00m \u001B[38;5;21;01mline_solver\u001B[39;00m \u001B[38;5;28;01mimport\u001B[39;00m \u001B[38;5;241m*\u001B[39m\n\u001B[0;32m      2\u001B[0m GlobalConstants\u001B[38;5;241m.\u001B[39msetVerbose(VerboseLevel\u001B[38;5;241m.\u001B[39mSTD)\n",
      "File \u001B[1;32mE:\\Dropbox\\code\\line-solver.git\\python\\line_solver\\__init__.py:2\u001B[0m\n\u001B[0;32m      1\u001B[0m \u001B[38;5;66;03m# In __init__.py\u001B[39;00m\n\u001B[1;32m----> 2\u001B[0m \u001B[38;5;28;01mimport\u001B[39;00m \u001B[38;5;21;01mjpype\u001B[39;00m\n\u001B[0;32m      3\u001B[0m \u001B[38;5;28;01mfrom\u001B[39;00m \u001B[38;5;21;01murllib\u001B[39;00m\u001B[38;5;21;01m.\u001B[39;00m\u001B[38;5;21;01mrequest\u001B[39;00m \u001B[38;5;28;01mimport\u001B[39;00m urlretrieve\n\u001B[0;32m      4\u001B[0m \u001B[38;5;28;01mimport\u001B[39;00m \u001B[38;5;21;01mjpype\u001B[39;00m\u001B[38;5;21;01m.\u001B[39;00m\u001B[38;5;21;01mimports\u001B[39;00m\n",
      "\u001B[1;31mModuleNotFoundError\u001B[0m: No module named 'jpype'"
     ]
    }
   ],
   "source": [
    "from line_solver import *\n",
    "GlobalConstants.setVerbose(VerboseLevel.STD)"
   ]
  },
  {
   "cell_type": "code",
   "execution_count": null,
   "metadata": {
    "ExecuteTime": {
     "start_time": "2023-12-22T14:21:33.381828500Z"
    }
   },
   "outputs": [],
   "source": [
    "model = Network('M/M/1')\n",
    "# Block 1: nodes\n",
    "source = Source(model, 'mySource')\n",
    "queue = Queue(model, 'myQueue', SchedStrategy.FCFS)\n",
    "sink = Sink(model, 'mySink')\n",
    "# Block 2: classes\n",
    "oclass = OpenClass(model, 'myClass')\n",
    "source.setArrival(oclass, Exp(1))\n",
    "queue.setService(oclass, Exp(2))\n",
    "# Block 3: topology\n",
    "model.link(Network.serialRouting(source, queue, sink))"
   ]
  },
  {
   "cell_type": "code",
   "execution_count": null,
   "outputs": [],
   "source": [
    "# Block 4: solution\n",
    "AvgTable = SolverJMT(model, 'seed', 23000, 'samples', 10000).getAvgTable()"
   ],
   "metadata": {
    "collapsed": false,
    "ExecuteTime": {
     "end_time": "2023-12-22T14:21:33.386829900Z",
     "start_time": "2023-12-22T14:21:33.385830300Z"
    }
   }
  },
  {
   "cell_type": "code",
   "execution_count": null,
   "outputs": [],
   "source": [
    "# select a particular table row\n",
    "ARow = tget(AvgTable, queue, oclass)"
   ],
   "metadata": {
    "collapsed": false,
    "ExecuteTime": {
     "start_time": "2023-12-22T14:21:33.390831300Z"
    }
   }
  },
  {
   "cell_type": "code",
   "execution_count": null,
   "outputs": [],
   "source": [
    "# select a particular table row by node and class label\n",
    "ARow = tget(AvgTable, 'myQueue', 'myClass')"
   ],
   "metadata": {
    "collapsed": false,
    "ExecuteTime": {
     "end_time": "2023-12-22T14:21:33.394832500Z",
     "start_time": "2023-12-22T14:21:33.392832Z"
    }
   }
  }
 ],
 "metadata": {
  "kernelspec": {
   "display_name": "Python 3",
   "language": "python",
   "name": "python3"
  },
  "language_info": {
   "codemirror_mode": {
    "name": "ipython",
    "version": 3
   },
   "file_extension": ".py",
   "mimetype": "text/x-python",
   "name": "python",
   "nbconvert_exporter": "python",
   "pygments_lexer": "ipython3",
   "version": "3.6.4"
  }
 },
 "nbformat": 4,
 "nbformat_minor": 2
}
