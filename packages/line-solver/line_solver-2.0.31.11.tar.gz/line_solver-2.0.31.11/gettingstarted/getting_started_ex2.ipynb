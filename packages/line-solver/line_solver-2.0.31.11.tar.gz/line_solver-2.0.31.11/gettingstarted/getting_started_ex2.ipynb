{
 "cells": [
  {
   "cell_type": "markdown",
   "metadata": {},
   "source": [
    "WARNING: this example is not yet fully functional\n",
    "https://github.com/imperial-qore/line-solver/wiki/Getting-started#example-2-a-multiclass-mg1-queue"
   ]
  },
  {
   "cell_type": "code",
   "execution_count": null,
   "metadata": {
    "is_executing": true
   },
   "outputs": [],
   "source": [
    "from line_solver import *\n",
    "import os\n",
    "GlobalConstants.setVerbose(VerboseLevel.STD)"
   ]
  },
  {
   "cell_type": "code",
   "execution_count": 2,
   "metadata": {
    "ExecuteTime": {
     "end_time": "2023-12-10T18:43:25.857189934Z",
     "start_time": "2023-12-10T18:43:25.606018400Z"
    }
   },
   "outputs": [],
   "source": [
    "model = Network('M/G/1')\n",
    "source = Source(model, 'Source')\n",
    "queue = Queue(model, 'Queue', SchedStrategy.FCFS)\n",
    "sink = Sink(model, 'Sink')\n",
    "jobclass1 = OpenClass(model, 'Class1')\n",
    "jobclass2 = OpenClass(model, 'Class2')\n",
    "source.setArrival(jobclass1, Exp(0.5))\n",
    "source.setArrival(jobclass2, Exp(0.5))\n",
    "queue.setService(jobclass1, Erlang.fitMeanAndSCV(1, 1 / 3))\n",
    "queue.setService(jobclass2, Replayer(\"example_trace.txt\"))\n"
   ]
  },
  {
   "cell_type": "code",
   "execution_count": 3,
   "outputs": [],
   "source": [
    "P = model.initRoutingMatrix()\n",
    "P.set(jobclass1, jobclass1, Network.serialRouting(source,queue,sink))\n",
    "P.set(jobclass2, jobclass2, Network.serialRouting(source,queue,sink))\n",
    "model.link(P)"
   ],
   "metadata": {
    "collapsed": false,
    "ExecuteTime": {
     "end_time": "2023-12-10T18:43:25.865744185Z",
     "start_time": "2023-12-10T18:43:25.860346254Z"
    }
   }
  },
  {
   "cell_type": "code",
   "execution_count": 4,
   "outputs": [
    {
     "name": "stdout",
     "output_type": "stream",
     "text": [
      "JMT Model: /tmp/workspace/jsim/3242789389106563686/model.jsim\n",
      "JMT Analysis completed. Runtime: 1.068 seconds\n",
      "  Station JobClass      QLen      Util     RespT    ResidT      ArvR      Tput\n",
      "0  Source   Class1  0.000000  0.000000  0.000000  0.000000  0.500173  0.500173\n",
      "1  Source   Class2  0.000000  0.000000  0.000000  0.000000  0.491145  0.491145\n",
      "2   Queue   Class1  0.861526  0.498399  1.738891  1.738891  0.499527  0.499527\n",
      "3   Queue   Class2  0.437515  0.049184  0.858789  0.858789  0.490639  0.490639\n"
     ]
    }
   ],
   "source": [
    "# TODO: Replayer with direct read from file not yet implemented in JLINE\n",
    "jmtAvgTable = SolverJMT(model,'seed',23000).getAvgTable()"
   ],
   "metadata": {
    "collapsed": false,
    "ExecuteTime": {
     "end_time": "2023-12-10T18:43:27.131664689Z",
     "start_time": "2023-12-10T18:43:25.866753674Z"
    }
   }
  },
  {
   "cell_type": "code",
   "execution_count": 5,
   "outputs": [
    {
     "name": "stdout",
     "output_type": "stream",
     "text": [
      "JMT Model: /tmp/workspace/jsim/12933985982280222139/model.jsim\n",
      "JMT Analysis completed. Runtime: 0.863 seconds\n",
      "  Station JobClass      QLen      Util     RespT    ResidT      ArvR      Tput\n",
      "0  Source   Class1  0.000000  0.000000  0.000000  0.000000  0.501685  0.501685\n",
      "1  Source   Class2  0.000000  0.000000  0.000000  0.000000  0.506538  0.506538\n",
      "2   Queue   Class1  0.880661  0.494749  1.737321  1.737321  0.506679  0.506679\n",
      "3   Queue   Class2  0.438433  0.053432  0.817414  0.817414  0.507503  0.507503\n"
     ]
    }
   ],
   "source": [
    "queue.setService(jobclass2, Replayer(\"example_trace.txt\").fitAPH())\n",
    "model.reset()\n",
    "# TODO: results are slightly different than in MATLAB as the latter uses also the skewness within fitAPH\n",
    "jmtAvgTable = SolverJMT(model,'seed',23000).getAvgTable()"
   ],
   "metadata": {
    "collapsed": false,
    "ExecuteTime": {
     "end_time": "2023-12-10T18:43:28.046292413Z",
     "start_time": "2023-12-10T18:43:27.134545926Z"
    }
   }
  },
  {
   "cell_type": "code",
   "execution_count": 6,
   "outputs": [],
   "source": [
    "#ctmcAvgTable2 = SolverCTMC(model,'cutoff',2,'verbose',True).getAvgTable()\n",
    "#ctmcAvgTable4 = SolverCTMC(model,'cutoff',4,'verbose',True).getAvgTable()"
   ],
   "metadata": {
    "collapsed": false,
    "ExecuteTime": {
     "end_time": "2023-12-10T18:43:28.051652473Z",
     "start_time": "2023-12-10T18:43:28.045340243Z"
    }
   }
  },
  {
   "cell_type": "code",
   "execution_count": 7,
   "outputs": [
    {
     "name": "stdout",
     "output_type": "stream",
     "text": [
      "  Station JobClass      QLen      Util     RespT    ResidT  ArvR  Tput\n",
      "0  Source   Class1  0.000000  0.000000  0.000000  0.000000   0.5   0.5\n",
      "1  Source   Class2  0.000000  0.000000  0.000000  0.000000   0.5   0.5\n",
      "2   Queue   Class1  0.876460  0.500000  1.752920  1.752920   0.5   0.5\n",
      "3   Queue   Class2  0.426996  0.050536  0.853991  0.853991   0.5   0.5\n"
     ]
    }
   ],
   "source": [
    "mamAvgTable = SolverMAM(model).getAvgTable()"
   ],
   "metadata": {
    "collapsed": false,
    "ExecuteTime": {
     "end_time": "2023-12-10T18:43:28.339817801Z",
     "start_time": "2023-12-10T18:43:28.049937443Z"
    }
   }
  }
 ],
 "metadata": {
  "kernelspec": {
   "display_name": "Python 3",
   "language": "python",
   "name": "python3"
  },
  "language_info": {
   "codemirror_mode": {
    "name": "ipython",
    "version": 3
   },
   "file_extension": ".py",
   "mimetype": "text/x-python",
   "name": "python",
   "nbconvert_exporter": "python",
   "pygments_lexer": "ipython3",
   "version": "3.6.4"
  }
 },
 "nbformat": 4,
 "nbformat_minor": 2
}
