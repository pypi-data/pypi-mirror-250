{
 "cells": [
  {
   "cell_type": "markdown",
   "metadata": {},
   "source": [
    "WARNING: this example is not yet fully functional\n",
    "https://github.com/imperial-qore/line-solver/wiki/Getting-started#example-5-modelling-a-re-entrant-line"
   ]
  },
  {
   "cell_type": "code",
   "execution_count": 1,
   "metadata": {
    "ExecuteTime": {
     "end_time": "2023-12-10T18:43:45.903981578Z",
     "start_time": "2023-12-10T18:43:44.834743041Z"
    }
   },
   "outputs": [],
   "source": [
    "from line_solver import *\n",
    "GlobalConstants.setVerbose(VerboseLevel.STD)"
   ]
  },
  {
   "cell_type": "code",
   "execution_count": 2,
   "metadata": {
    "ExecuteTime": {
     "end_time": "2023-12-10T18:43:45.937145351Z",
     "start_time": "2023-12-10T18:43:45.910968680Z"
    }
   },
   "outputs": [],
   "source": [
    "model = Network('RL')\n",
    "queue = Queue(model, 'Queue', SchedStrategy.PS)\n",
    "K = 3\n",
    "N = (1, 0, 0)\n",
    "jobclass = []\n",
    "for k in range(K):\n",
    "    jobclass.append(ClosedClass(model, 'Class' + str(k), N[k], queue))\n",
    "    queue.setService(jobclass[k], Erlang.fitMeanAndOrder(1+k, 2))\n",
    "P = model.initRoutingMatrix()\n",
    "P.set(jobclass[0], jobclass[1], queue, queue, 1.0)\n",
    "P.set(jobclass[1], jobclass[2], queue, queue, 1.0)\n",
    "P.set(jobclass[2], jobclass[0], queue, queue, 1.0)\n",
    "model.link(P)"
   ]
  },
  {
   "cell_type": "code",
   "execution_count": 3,
   "outputs": [
    {
     "name": "stdout",
     "output_type": "stream",
     "text": [
      "  Station JobClass      QLen      Util  RespT    ResidT      ArvR      Tput\n",
      "0   Queue   Class0  0.166667  0.166667    1.0  0.333333  0.166667  0.166667\n",
      "1   Queue   Class1  0.333333  0.333333    2.0  0.666667  0.166667  0.166667\n",
      "2   Queue   Class2  0.500000  0.500000    3.0  1.000000  0.166667  0.166667\n"
     ]
    }
   ],
   "source": [
    "ctmcAvgTable = SolverMVA(model).getAvgTable()"
   ],
   "metadata": {
    "collapsed": false,
    "ExecuteTime": {
     "end_time": "2023-12-10T18:43:47.448493Z",
     "start_time": "2023-12-10T18:43:45.926295987Z"
    }
   }
  },
  {
   "cell_type": "code",
   "execution_count": 4,
   "outputs": [
    {
     "name": "stdout",
     "output_type": "stream",
     "text": [
      "    Chain              JobClasses  SysRespT  SysTput\n",
      "0  Chain0  (Class0 Class1 Class2)       2.0      0.5\n"
     ]
    }
   ],
   "source": [
    "# TODO: to be changed to SolverCTMC, the latter does not terminate\n",
    "ctmcAvgSysTable = SolverMVA(model).getAvgSysTable()"
   ],
   "metadata": {
    "collapsed": false,
    "ExecuteTime": {
     "end_time": "2023-12-10T18:43:47.964508955Z",
     "start_time": "2023-12-10T18:43:47.449877051Z"
    }
   }
  },
  {
   "cell_type": "code",
   "execution_count": 5,
   "outputs": [
    {
     "name": "stdout",
     "output_type": "stream",
     "text": [
      "    Chain              JobClasses  SysRespT   SysTput\n",
      "0  Chain0  (Class0 Class1 Class2)       6.0  0.166667\n"
     ]
    }
   ],
   "source": [
    "# TODO: to be changed to SolverCTMC, the latter does not terminate. Also, the result does not appear correct.\n",
    "jobclass[0].completes = False\n",
    "jobclass[1].completes = False\n",
    "ctmcAvgSysTable2 = SolverMVA(model).getAvgSysTable()"
   ],
   "metadata": {
    "collapsed": false,
    "ExecuteTime": {
     "end_time": "2023-12-10T18:43:48.077387644Z",
     "start_time": "2023-12-10T18:43:47.933659872Z"
    }
   }
  }
 ],
 "metadata": {
  "kernelspec": {
   "display_name": "Python 3",
   "language": "python",
   "name": "python3"
  },
  "language_info": {
   "codemirror_mode": {
    "name": "ipython",
    "version": 3
   },
   "file_extension": ".py",
   "mimetype": "text/x-python",
   "name": "python",
   "nbconvert_exporter": "python",
   "pygments_lexer": "ipython3",
   "version": "3.6.4"
  }
 },
 "nbformat": 4,
 "nbformat_minor": 2
}
