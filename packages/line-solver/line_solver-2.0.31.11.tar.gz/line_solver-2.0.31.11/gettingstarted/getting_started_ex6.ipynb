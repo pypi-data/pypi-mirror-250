{
 "cells": [
  {
   "cell_type": "markdown",
   "metadata": {},
   "source": [
    "WARNING: this example is not yet fully functional\n",
    "https://github.com/imperial-qore/line-solver/wiki/Getting-started#example-6-a-queueing-network-with-caching"
   ]
  },
  {
   "cell_type": "code",
   "execution_count": 1,
   "metadata": {
    "ExecuteTime": {
     "end_time": "2023-12-10T18:43:53.046616122Z",
     "start_time": "2023-12-10T18:43:52.142814509Z"
    }
   },
   "outputs": [],
   "source": [
    "from line_solver import *\n",
    "GlobalConstants.setVerbose(VerboseLevel.STD)"
   ]
  },
  {
   "cell_type": "code",
   "execution_count": 2,
   "metadata": {
    "ExecuteTime": {
     "end_time": "2023-12-10T18:43:53.119834741Z",
     "start_time": "2023-12-10T18:43:53.045935248Z"
    }
   },
   "outputs": [],
   "source": [
    "model = Network('model')\n",
    "# Block 1: nodes\n",
    "clientDelay = Delay(model, 'Client')\n",
    "cacheNode = Cache(model, 'Cache', 1000, 50, ReplacementStrategy.LRU)\n",
    "cacheDelay = Delay(model, 'CacheDelay')"
   ]
  },
  {
   "cell_type": "code",
   "execution_count": 3,
   "outputs": [],
   "source": [
    "# Block 2: classes\n",
    "clientClass = ClosedClass(model, 'ClientClass', 1, clientDelay, 0)\n",
    "hitClass = ClosedClass(model, 'HitClass', 0, clientDelay, 0)\n",
    "missClass = ClosedClass(model, 'MissClass', 0, clientDelay, 0)\n",
    "\n",
    "clientDelay.setService(clientClass, Immediate())\n",
    "cacheDelay.setService(hitClass, Exp.fitMean(0.2))\n",
    "cacheDelay.setService(missClass, Exp.fitMean(1.0))\n",
    "\n",
    "cacheNode.setRead(clientClass, Zipf(1.4, 1000))\n",
    "cacheNode.setHitClass(clientClass, hitClass)\n",
    "cacheNode.setMissClass(clientClass, missClass)"
   ],
   "metadata": {
    "collapsed": false,
    "ExecuteTime": {
     "end_time": "2023-12-10T18:43:53.861208421Z",
     "start_time": "2023-12-10T18:43:53.121852015Z"
    }
   }
  },
  {
   "cell_type": "code",
   "execution_count": 4,
   "outputs": [],
   "source": [
    "# Block 3: topology\n",
    "P = model.initRoutingMatrix()\n",
    "# routing from client to cache\n",
    "P.set(clientClass, clientClass, clientDelay, cacheNode, 1.0)\n",
    "# routing out of the cache\n",
    "P.set(hitClass, hitClass, cacheNode, cacheDelay, 1.0)\n",
    "P.set(missClass, missClass, cacheNode, cacheDelay, 1.0)\n",
    "# return to the client\n",
    "P.set(hitClass, clientClass, cacheDelay, clientDelay, 1.0)\n",
    "P.set(missClass, clientClass, cacheDelay, clientDelay, 1.0)\n",
    "# routing from cacheNode\n",
    "model.link(P)"
   ],
   "metadata": {
    "collapsed": false,
    "ExecuteTime": {
     "end_time": "2023-12-10T18:43:53.894605770Z",
     "start_time": "2023-12-10T18:43:53.869392940Z"
    }
   }
  },
  {
   "cell_type": "code",
   "execution_count": 5,
   "outputs": [
    {
     "name": "stdout",
     "output_type": "stream",
     "text": [
      "      Station     JobClass      QLen          Util     RespT    ResidT  \\\n",
      "0      Client  ClientClass  0.000015  2.610757e-08  0.000006  0.000006   \n",
      "4  CacheDelay     HitClass  0.402683  4.026893e-01  0.199997  0.154240   \n",
      "5  CacheDelay    MissClass  0.597302  5.973106e-01  0.999985  0.228785   \n",
      "\n",
      "       ArvR      Tput  \n",
      "0  2.610757  2.610757  \n",
      "4  2.013447  2.013447  \n",
      "5  0.597311  0.597311  \n"
     ]
    }
   ],
   "source": [
    "# SSA not working on this case in Java but MVA works fine\n",
    "# Block 4: solution\n",
    "mvaAvgTable = SolverMVA(model,'verbose',True).getAvgTable()\n",
    "\n",
    "# TODO: to be changed to SolverSSA, presently it does not work\n",
    "# ssaAvgTable = SolverSSA(model,'samples',20000,'seed',1,'verbose',True).getAvgTable()\n",
    "# print(ssaAvgTable)\n",
    "\n",
    "# ssaAvgTablePara = SolverSSA(model,'samples',20000,'seed',1,'verbose',True,'parallel').getAvgTable()\n",
    "# print(ssaAvgTable)\n"
   ],
   "metadata": {
    "collapsed": false,
    "ExecuteTime": {
     "end_time": "2023-12-10T18:43:55.573961433Z",
     "start_time": "2023-12-10T18:43:53.885718755Z"
    }
   }
  }
 ],
 "metadata": {
  "kernelspec": {
   "display_name": "Python 3",
   "language": "python",
   "name": "python3"
  },
  "language_info": {
   "codemirror_mode": {
    "name": "ipython",
    "version": 3
   },
   "file_extension": ".py",
   "mimetype": "text/x-python",
   "name": "python",
   "nbconvert_exporter": "python",
   "pygments_lexer": "ipython3",
   "version": "3.6.4"
  }
 },
 "nbformat": 4,
 "nbformat_minor": 2
}
