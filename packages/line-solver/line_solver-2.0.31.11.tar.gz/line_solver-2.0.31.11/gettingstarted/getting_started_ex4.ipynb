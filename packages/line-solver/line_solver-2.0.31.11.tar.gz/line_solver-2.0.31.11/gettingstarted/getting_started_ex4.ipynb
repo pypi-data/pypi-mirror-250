{
 "cells": [
  {
   "cell_type": "markdown",
   "metadata": {},
   "source": [
    "https://github.com/imperial-qore/line-solver/wiki/Getting-started#example-4-round-robin-load-balancing"
   ]
  },
  {
   "cell_type": "code",
   "execution_count": 1,
   "metadata": {
    "ExecuteTime": {
     "end_time": "2023-12-10T18:43:39.460938220Z",
     "start_time": "2023-12-10T18:43:38.646861707Z"
    }
   },
   "outputs": [],
   "source": [
    "from line_solver import *\n",
    "GlobalConstants.setVerbose(VerboseLevel.STD)"
   ]
  },
  {
   "cell_type": "code",
   "execution_count": 2,
   "metadata": {
    "ExecuteTime": {
     "end_time": "2023-12-10T18:43:39.477616765Z",
     "start_time": "2023-12-10T18:43:39.465598107Z"
    }
   },
   "outputs": [],
   "source": [
    "model = Network('RRLB')\n",
    "source = Source(model, 'Source')\n",
    "lb = Router(model, 'LB')\n",
    "queue1 = Queue(model, 'Queue1', SchedStrategy.PS)\n",
    "queue2 = Queue(model, 'Queue2', SchedStrategy.PS)\n",
    "sink = Sink(model, 'Sink')\n",
    "oclass = OpenClass(model, 'Class1')\n",
    "source.setArrival(oclass, Exp(1))\n",
    "queue1.setService(oclass, Exp(2))\n",
    "queue2.setService(oclass, Exp(2))"
   ]
  },
  {
   "cell_type": "code",
   "execution_count": 3,
   "outputs": [
    {
     "name": "stdout",
     "output_type": "stream",
     "text": [
      "JMT Model: /tmp/workspace/jsim/12916583798063444618/model.jsim\n",
      "JMT Analysis completed. Runtime: 1.347 seconds\n",
      "  Station JobClass      QLen      Util     RespT    ResidT      ArvR      Tput\n",
      "0  Source   Class1  0.000000  0.000000  0.000000  0.000000  1.013486  1.013486\n",
      "1  Queue1   Class1  0.316119  0.246825  0.654111  0.327056  0.500997  0.500997\n",
      "2  Queue2   Class1  0.334030  0.250757  0.684064  0.342032  0.504135  0.504135\n"
     ]
    }
   ],
   "source": [
    "model.addLinks([[source, lb], \n",
    "               [lb, queue1],  \n",
    "               [lb, queue2],\n",
    "               [queue1, sink],\n",
    "               [queue2, sink]])\n",
    "lb.setRouting(oclass, RoutingStrategy.RAND)\n",
    "jmtAvgTable = SolverJMT(model,'seed',23000).getAvgTable()"
   ],
   "metadata": {
    "collapsed": false,
    "ExecuteTime": {
     "end_time": "2023-12-10T18:43:41.086506525Z",
     "start_time": "2023-12-10T18:43:39.480915145Z"
    }
   }
  },
  {
   "cell_type": "code",
   "execution_count": 4,
   "outputs": [
    {
     "name": "stdout",
     "output_type": "stream",
     "text": [
      "JMT Model: /tmp/workspace/jsim/6184510611373947255/model.jsim\n",
      "JMT Analysis completed. Runtime: 0.95 seconds\n",
      "  Station JobClass      QLen      Util     RespT    ResidT      ArvR      Tput\n",
      "0  Source   Class1  0.000000  0.000000  0.000000  0.000000  1.008868  1.008868\n",
      "1  Queue1   Class1  0.304291  0.261181  0.584815  0.292408  0.505255  0.505255\n",
      "2  Queue2   Class1  0.292822  0.243971  0.572931  0.286466  0.505264  0.505264\n"
     ]
    }
   ],
   "source": [
    "model.reset()\n",
    "lb.setRouting(oclass, RoutingStrategy.RROBIN)\n",
    "jmtAvgTableRR = SolverJMT(model,'seed',23000).getAvgTable()"
   ],
   "metadata": {
    "collapsed": false,
    "ExecuteTime": {
     "end_time": "2023-12-10T18:43:42.055035651Z",
     "start_time": "2023-12-10T18:43:41.086064926Z"
    }
   }
  }
 ],
 "metadata": {
  "kernelspec": {
   "display_name": "Python 3",
   "language": "python",
   "name": "python3"
  },
  "language_info": {
   "codemirror_mode": {
    "name": "ipython",
    "version": 3
   },
   "file_extension": ".py",
   "mimetype": "text/x-python",
   "name": "python",
   "nbconvert_exporter": "python",
   "pygments_lexer": "ipython3",
   "version": "3.6.4"
  }
 },
 "nbformat": 4,
 "nbformat_minor": 2
}
