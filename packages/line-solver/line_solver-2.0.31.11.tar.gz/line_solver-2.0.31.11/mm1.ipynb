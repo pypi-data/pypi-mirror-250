{
 "cells": [
  {
   "cell_type": "code",
   "execution_count": 7,
   "outputs": [],
   "source": [
    "from line_solver import *\n",
    "GlobalConstants.setVerbose(VerboseLevel.STD)"
   ],
   "metadata": {
    "collapsed": false,
    "ExecuteTime": {
     "end_time": "2023-11-24T04:10:07.808435989Z",
     "start_time": "2023-11-24T04:10:07.766001714Z"
    }
   },
   "id": "f7f879166a5915ce"
  },
  {
   "cell_type": "code",
   "execution_count": 8,
   "outputs": [],
   "source": [
    "model = Network(\"M/M/1 model\")\n",
    "source = Source(model, \"mySource\")\n",
    "queue = Queue(model, \"myQueue\", SchedStrategy.FCFS)\n",
    "sink = Sink(model, \"mySink\")\n",
    "\n",
    "# An M/M/1 queue with arrival rate 0.5 and service rate 1.0\n",
    "openclass = OpenClass(model, \"Class1\")\n",
    "source.setArrival(openclass, Exp(1.0))\n",
    "queue.setService(openclass, Exp(2.0))\n",
    "\n",
    "model.addLink(source, queue)\n",
    "model.addLink(queue, sink)"
   ],
   "metadata": {
    "collapsed": false,
    "ExecuteTime": {
     "end_time": "2023-11-24T04:10:07.903245278Z",
     "start_time": "2023-11-24T04:10:07.808281254Z"
    }
   },
   "id": "efab7afb7190e806"
  },
  {
   "cell_type": "code",
   "execution_count": 9,
   "outputs": [
    {
     "name": "stdout",
     "output_type": "stream",
     "text": [
      "JMT Model: /tmp/workspace/jsim/3521152116043248504/model.jsim\n",
      "JMT Analysis completed. Runtime: 0.625 seconds\n",
      "    Station JobClass      QLen      Util     RespT    ResidT      Tput\n",
      "0  mySource   Class1  0.000000  0.000000  0.000000  0.000000  1.010301\n",
      "1   myQueue   Class1  0.948858  0.499157  0.971177  0.971177  0.999656\n"
     ]
    }
   ],
   "source": [
    "solver = SolverJMT(model)\n",
    "table = solver.getAvgTable()  # pandas.DataFrame"
   ],
   "metadata": {
    "collapsed": false,
    "ExecuteTime": {
     "end_time": "2023-11-24T04:10:08.619370747Z",
     "start_time": "2023-11-24T04:10:07.905320672Z"
    }
   },
   "id": "ca8edb4c7cec0496"
  }
 ],
 "metadata": {
  "kernelspec": {
   "display_name": "Python 3",
   "language": "python",
   "name": "python3"
  },
  "language_info": {
   "codemirror_mode": {
    "name": "ipython",
    "version": 2
   },
   "file_extension": ".py",
   "mimetype": "text/x-python",
   "name": "python",
   "nbconvert_exporter": "python",
   "pygments_lexer": "ipython2",
   "version": "2.7.6"
  }
 },
 "nbformat": 4,
 "nbformat_minor": 5
}
