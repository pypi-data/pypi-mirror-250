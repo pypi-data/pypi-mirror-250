{
 "cells": [
  {
   "cell_type": "markdown",
   "metadata": {},
   "source": [
    "https://github.com/imperial-qore/line-solver/wiki/Getting-started#example-1-a-mm1-queue"
   ]
  },
  {
   "cell_type": "code",
   "execution_count": 1,
   "metadata": {
    "ExecuteTime": {
     "end_time": "2024-01-07T15:11:24.657497289Z",
     "start_time": "2024-01-07T15:11:23.836130298Z"
    }
   },
   "outputs": [],
   "source": [
    "from line_solver import *\n",
    "GlobalConstants.setVerbose(VerboseLevel.DEBUG)"
   ]
  },
  {
   "cell_type": "code",
   "execution_count": 2,
   "metadata": {
    "ExecuteTime": {
     "end_time": "2024-01-07T15:11:24.696242064Z",
     "start_time": "2024-01-07T15:11:24.662798095Z"
    }
   },
   "outputs": [
    {
     "name": "stdout",
     "output_type": "stream",
     "text": [
      "{'actposttype': array([[0., 0., 0., 0., 0., 0., 0., 0., 0.]]),\n",
      " 'actpretype': array([[0., 0., 0., 0., 0., 0., 0., 0., 0.]]),\n",
      " 'actsof': array([None, None], dtype=object),\n",
      " 'ashift': 6,\n",
      " 'callhashnames': array(['A:AS1=>E:E2'], dtype=object),\n",
      " 'callnames': array(['AS1=>E2'], dtype=object),\n",
      " 'callpair': array([[0., 0., 0.],\n",
      "       [0., 7., 6.],\n",
      "       [0., 0., 0.],\n",
      "       [0., 0., 0.],\n",
      "       [0., 0., 0.]]),\n",
      " 'callproc': array([<line_solver.distributions.Geometric object at 0x7f6cf7e78580>,\n",
      "       None, None, None, None, None, None, None], dtype=object),\n",
      " 'callsof': array([None, None], dtype=object),\n",
      " 'calltype': array(['SYNC'], dtype=object),\n",
      " 'cshift': 0,\n",
      " 'entriesof': array([None, None], dtype=object),\n",
      " 'eshift': 4,\n",
      " 'graph': array([[0., 0., 0., 0., 0., 0., 0., 0., 0.],\n",
      "       [0., 0., 0., 0., 0., 0., 0., 0., 0.],\n",
      "       [0., 0., 0., 0., 0., 0., 0., 0., 0.],\n",
      "       [0., 1., 0., 0., 0., 1., 0., 0., 0.],\n",
      "       [0., 0., 1., 0., 0., 0., 1., 0., 0.],\n",
      "       [0., 0., 0., 0., 0., 0., 0., 1., 0.],\n",
      "       [0., 0., 0., 0., 0., 0., 0., 0., 1.],\n",
      "       [0., 0., 0., 0., 0., 0., 1., 0., 0.],\n",
      "       [0., 0., 0., 0., 0., 0., 0., 0., 0.]]),\n",
      " 'hashnames': array(['P:P1', 'P:P2', 'R:T1', 'T:T2', 'E:E1', 'E:E2', 'A:AS1', 'A:AS2'],\n",
      "      dtype=object),\n",
      " 'hostdem': array([None, None,\n",
      "       <line_solver.distributions.Immediate object at 0x7f6cf7e78970>,\n",
      "       <line_solver.distributions.Immediate object at 0x7f6cf7e788e0>,\n",
      "       <line_solver.distributions.Immediate object at 0x7f6cf7e78850>,\n",
      "       <line_solver.distributions.Immediate object at 0x7f6cf7e78700>,\n",
      "       None, None], dtype=object),\n",
      " 'hshift': 0,\n",
      " 'isasynccaller': array([[0., 0., 0., 0., 0., 0., 0., 0., 0.],\n",
      "       [0., 0., 0., 0., 0., 0., 0., 0., 0.],\n",
      "       [0., 0., 0., 0., 0., 0., 0., 0., 0.],\n",
      "       [0., 0., 0., 0., 0., 0., 0., 0., 0.],\n",
      "       [0., 0., 0., 0., 0., 0., 0., 0., 0.],\n",
      "       [0., 0., 0., 0., 0., 0., 0., 0., 0.],\n",
      "       [0., 0., 0., 0., 0., 0., 0., 0., 0.],\n",
      "       [0., 0., 0., 0., 0., 0., 0., 0., 0.],\n",
      "       [0., 0., 0., 0., 0., 0., 0., 0., 0.]]),\n",
      " 'iscaller': array([[0., 0., 0., 0., 0., 0., 0., 0., 0.],\n",
      "       [0., 0., 0., 0., 0., 0., 0., 0., 0.],\n",
      "       [0., 0., 0., 0., 0., 0., 0., 0., 0.],\n",
      "       [0., 0., 0., 0., 1., 0., 1., 0., 0.],\n",
      "       [0., 0., 0., 0., 0., 0., 0., 0., 0.],\n",
      "       [0., 0., 0., 0., 0., 0., 0., 0., 0.],\n",
      "       [0., 0., 0., 0., 0., 0., 0., 0., 0.],\n",
      "       [0., 0., 0., 0., 1., 0., 1., 0., 0.],\n",
      "       [0., 0., 0., 0., 0., 0., 0., 0., 0.]]),\n",
      " 'isref': array([[0., 0., 0., 1., 0.]]),\n",
      " 'issynccaller': array([[0., 0., 0., 0., 0., 0., 0., 0., 0.],\n",
      "       [0., 0., 0., 0., 0., 0., 0., 0., 0.],\n",
      "       [0., 0., 0., 0., 0., 0., 0., 0., 0.],\n",
      "       [0., 0., 0., 0., 1., 0., 1., 0., 0.],\n",
      "       [0., 0., 0., 0., 0., 0., 0., 0., 0.],\n",
      "       [0., 0., 0., 0., 0., 0., 0., 0., 0.],\n",
      "       [0., 0., 0., 0., 0., 0., 0., 0., 0.],\n",
      "       [0., 0., 0., 0., 1., 0., 1., 0., 0.],\n",
      "       [0., 0., 0., 0., 0., 0., 0., 0., 0.]]),\n",
      " 'itemcap': array([], dtype=object),\n",
      " 'itemproc': array([None, None, None, None, None, None, None, None], dtype=object),\n",
      " 'mult': array([[ 0.,  1.,  1., 10.,  1.]]),\n",
      " 'nacts': 2,\n",
      " 'names': array(['P1', 'P2', 'T1', 'T2', 'E1', 'E2', 'AS1', 'AS2'], dtype=object),\n",
      " 'ncalls': 1,\n",
      " 'nentries': 2,\n",
      " 'nhosts': 2,\n",
      " 'nidx': 8,\n",
      " 'nitems': array([[0., 0., 0., 0., 0., 0., 0.]]),\n",
      " 'ntasks': 2,\n",
      " 'parent': array([[0., 0., 0., 1., 2., 3., 4., 3., 4.]]),\n",
      " 'repl': array([[0., 1., 1., 1., 1.]]),\n",
      " 'replacement': array([[0., 0., 0., 0., 0.]]),\n",
      " 'replygraph': array([[0., 0., 0., 0., 0., 0., 0., 0., 0.],\n",
      "       [0., 0., 0., 0., 0., 0., 0., 0., 0.],\n",
      "       [0., 0., 0., 0., 0., 0., 0., 0., 0.],\n",
      "       [0., 0., 0., 0., 0., 0., 0., 0., 0.],\n",
      "       [0., 0., 0., 0., 0., 0., 0., 0., 0.],\n",
      "       [0., 0., 0., 0., 0., 0., 0., 0., 0.],\n",
      "       [0., 0., 0., 0., 0., 0., 0., 0., 0.],\n",
      "       [0., 0., 0., 0., 0., 1., 0., 0., 0.],\n",
      "       [0., 0., 0., 0., 0., 0., 1., 0., 0.]]),\n",
      " 'sched': array(['PS', 'PS', 'REF', 'FCFS'], dtype=object),\n",
      " 'schedid': array([[ 0.,  6.,  6., 14.,  1.]]),\n",
      " 'taskgraph': array([[0., 0., 0., 0., 0.],\n",
      "       [0., 0., 0., 0., 0.],\n",
      "       [0., 0., 0., 0., 0.],\n",
      "       [0., 0., 0., 0., 1.],\n",
      "       [0., 0., 0., 0., 0.]]),\n",
      " 'tasksof': array([list([3]), list([4])], dtype=object),\n",
      " 'think': array([None, None, None, None, None, None, None, None], dtype=object),\n",
      " 'tshift': 2,\n",
      " 'type': array([[0., 0., 0., 1., 1., 2., 2., 3., 3.]])}\n"
     ]
    }
   ],
   "source": [
    "model = LayeredNetwork('myLayeredModel')\n",
    "P = np.empty(2, dtype=object)\n",
    "P[0] = Processor(model, 'P1', 1, SchedStrategy.PS)\n",
    "P[1] = Processor(model, 'P2', 1, SchedStrategy.PS)\n",
    "T = np.empty(2, dtype=object)\n",
    "T[0] = Task(model, 'T1', 10, SchedStrategy.REF).on(P[0]).setThinkTime(Exp.fitMean(100))\n",
    "T[1] = Task(model, 'T2', 1, SchedStrategy.FCFS).on(P[1]).setThinkTime(Immediate())\n",
    "E = np.empty(2, dtype=object)\n",
    "E[0] = Entry(model, 'E1').on(T[0])\n",
    "E[1] = Entry(model, 'E2').on(T[1])\n",
    "A = np.empty(2, dtype=object)\n",
    "A[0] = Activity(model, 'AS1', Exp.fitMean(1.6)).on(T[0]).boundTo(E[0]).synchCall(E[1],1)\n",
    "A[1] = Activity(model, 'AS2', Exp.fitMean(5)).on(T[1]).boundTo(E[1]).repliesTo(E[1])\n",
    "\n",
    "#SolverLQNS(model).getAvgTable();\n",
    "#model.getStruct()\n",
    "print(model.getStruct())"
   ]
  }
 ],
 "metadata": {
  "kernelspec": {
   "display_name": "Python 3",
   "language": "python",
   "name": "python3"
  },
  "language_info": {
   "codemirror_mode": {
    "name": "ipython",
    "version": 3
   },
   "file_extension": ".py",
   "mimetype": "text/x-python",
   "name": "python",
   "nbconvert_exporter": "python",
   "pygments_lexer": "ipython3",
   "version": "3.6.4"
  }
 },
 "nbformat": 4,
 "nbformat_minor": 2
}
