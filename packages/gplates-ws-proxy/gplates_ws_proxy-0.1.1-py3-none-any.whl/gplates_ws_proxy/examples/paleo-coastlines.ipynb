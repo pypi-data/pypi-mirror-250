{
 "cells": [
  {
   "cell_type": "markdown",
   "id": "d9c46d1d",
   "metadata": {},
   "source": [
    "**This notebook demonstrates how to get paleo-coastlines from GPlates Web Service.**\n",
    "\n",
    "\n",
    "#### Dependencies\n",
    "\n",
    "- gplates-ws-proxy\n",
    "- shapely\n",
    "- cartopy\n",
    "- matplotlib\n",
    "- moviepy\n",
    "\n",
    "    Use the following commands to create a running environment\n",
    "\n",
    "    `conda create --name gplates-ws-example -c conda-forge cartopy matplotlib moviepy shapely jupyter requests`\n",
    "    \n",
    "    `conda activate gplates-ws-example`\n",
    "    \n",
    "    `pip install gplates-ws-proxy`\n",
    "    \n",
    "    You may use the environment.yml to create the conda env as well.\n",
    "\n",
    "    `conda env create -f environment.yml `\n",
    "\n"
   ]
  },
  {
   "cell_type": "code",
   "execution_count": null,
   "id": "7737e92b",
   "metadata": {},
   "outputs": [],
   "source": [
    "from pathlib import Path\n",
    "import json, os\n",
    "import shapely\n",
    "from shapely.geometry import shape\n",
    "from shapely.geometry.polygon import Polygon\n",
    "from shapely.geometry import shape\n",
    "from cartopy.feature import ShapelyFeature\n",
    "import matplotlib.pyplot as plt\n",
    "import cartopy.crs as ccrs\n",
    "\n",
    "import gplates_ws_proxy\n",
    "\n",
    "#os.environ['GWS_URL']='http://localhost:18000'\n",
    "os.environ['GWS_URL']='https://gws.gplates.org'\n",
    "\n",
    "OUTPUT_PATH=\"output/coastlines\"\n",
    "\n",
    "def plot_paleo_map(paleo_age, show=True, save=False):\n",
    "    #get coastlines\n",
    "    model= gplates_ws_proxy.PlateModel('Muller2022')\n",
    "    coastlines=model.get_coastlines(paleo_age, format=\"shapely\", min_area=None)\n",
    "\n",
    "    # plot the map\n",
    "    crs = ccrs.Orthographic(central_longitude=115, central_latitude=-34)\n",
    "    #crs = ccrs.PlateCarree(central_longitude=0.0, globe=None)\n",
    "    #crs = ccrs.Mollweide()\n",
    "    \n",
    "    fig = plt.figure(figsize=(12, 6), dpi=120, frameon=False)\n",
    "    ax = plt.axes(projection=crs)\n",
    "    ax.gridlines()\n",
    "    ax.set_global()\n",
    "\n",
    "    #plot coastlines\n",
    "    shape_feature = ShapelyFeature(coastlines, ccrs.PlateCarree(), facecolor=\"lime\", edgecolor='none',alpha=1, lw=0, zorder=1)\n",
    "    ax.add_feature(shape_feature)\n",
    "\n",
    "    \n",
    "    plt.title(f\"{paleo_age} Ma\", loc='left', y=0.95)\n",
    "    if show:\n",
    "        plt.show()\n",
    "        \n",
    "    if save:\n",
    "        Path(OUTPUT_PATH).mkdir(parents=True, exist_ok=True)\n",
    "        fig.savefig(\n",
    "            f\"{OUTPUT_PATH}/coastlines_{paleo_age}_Ma.png\",\n",
    "            format=\"png\",\n",
    "            bbox_inches=\"tight\",\n",
    "            dpi=96,\n",
    "            #transparent=True,\n",
    "            #pad_inches=0\n",
    "        )\n",
    "        plt.close()\n",
    "        "
   ]
  },
  {
   "cell_type": "markdown",
   "id": "5eab3edd",
   "metadata": {},
   "source": [
    "plot coastlines in Orthographic projection. test cell for creating animation code beow"
   ]
  },
  {
   "cell_type": "code",
   "execution_count": null,
   "id": "c585f108",
   "metadata": {},
   "outputs": [],
   "source": [
    "plot_paleo_map(70, show=True, save=True)"
   ]
  },
  {
   "cell_type": "markdown",
   "id": "5187620d",
   "metadata": {},
   "source": [
    "create a sequence of images. This cell might take long time to run."
   ]
  },
  {
   "cell_type": "code",
   "execution_count": null,
   "id": "7a6da818",
   "metadata": {},
   "outputs": [],
   "source": [
    "import time\n",
    "\n",
    "for age in range(0,101,10):\n",
    "    print(age)\n",
    "    plot_paleo_map(age,save=True, show=False)\n",
    "    time.sleep(1)"
   ]
  },
  {
   "cell_type": "markdown",
   "id": "4fcf2cd6",
   "metadata": {},
   "source": [
    "cell to create a mp4 from a sequence of images"
   ]
  },
  {
   "cell_type": "code",
   "execution_count": null,
   "id": "f58381dc",
   "metadata": {},
   "outputs": [],
   "source": [
    "%%capture --no-stdout\n",
    "\n",
    "#pip install moviepy\n",
    "#create the mp4 video\n",
    "import moviepy.editor as mpy\n",
    "from pathlib import Path\n",
    "\n",
    "frame_list = [f\"{OUTPUT_PATH}/coastlines_{age}_Ma.png\" for age in range(0,101,1)]\n",
    "frame_list.reverse()\n",
    "#print(frame_list)\n",
    "clip = mpy.ImageSequenceClip(frame_list, fps=12)\n",
    "              \n",
    "Path(\"videos\").mkdir(parents=True, exist_ok=True)\n",
    "\n",
    "clip.write_videofile( f'{OUTPUT_PATH}/coastlines.mp4',\n",
    "                          codec=\"libx264\",\n",
    "                          #audio_codec='aac',\n",
    "                          ffmpeg_params=[ \"-s\", \"462x462\", \"-pix_fmt\", \"yuv420p\"]) #LOOK HERE!!!! give image size here(the numbers must divide by 2)\n",
    "print('video has been created!')"
   ]
  },
  {
   "cell_type": "markdown",
   "id": "5f239a58",
   "metadata": {},
   "source": [
    "play the newly created videeo"
   ]
  },
  {
   "cell_type": "code",
   "execution_count": null,
   "id": "38578e01",
   "metadata": {},
   "outputs": [],
   "source": [
    "from IPython.display import Video\n",
    "\n",
    "#display the mp4 video\n",
    "Video(f'{OUTPUT_PATH}/coastlines.mp4',width=600, embed=True)"
   ]
  },
  {
   "cell_type": "markdown",
   "id": "65723afb",
   "metadata": {},
   "source": [
    "demo get coastline map image from gplates proxy"
   ]
  },
  {
   "cell_type": "code",
   "execution_count": null,
   "id": "f067243f",
   "metadata": {},
   "outputs": [],
   "source": [
    "from IPython.display import Image, display\n",
    "coastlines_png=gplates_ws_proxy.get_paleo_coastlines(\n",
    "    10, format=\"png\", extent=(-180,180,-90,90), \n",
    "    facecolor='blue',central_meridian=-60)\n",
    "display(Image(coastlines_png))"
   ]
  },
  {
   "cell_type": "markdown",
   "id": "476bab9d",
   "metadata": {},
   "source": [
    "get coastlines as shapely objects and plot them with Cartopy"
   ]
  },
  {
   "cell_type": "code",
   "execution_count": null,
   "id": "093ebb3b",
   "metadata": {},
   "outputs": [],
   "source": [
    "import matplotlib.ticker as mticker\n",
    "from cartopy.mpl.gridliner import LONGITUDE_FORMATTER, LATITUDE_FORMATTER\n",
    "\n",
    "#get coastlines\n",
    "coastlines=gplates_ws_proxy.get_paleo_coastlines(10, format=\"shapely\")\n",
    "\n",
    "# plot the map\n",
    "crs = ccrs.PlateCarree(central_longitude=90.0, globe=None)\n",
    "\n",
    "fig = plt.figure(figsize=(12, 8), dpi=120, frameon=False)\n",
    "ax = plt.axes(projection=crs)\n",
    "gl = ax.gridlines(crs=ccrs.PlateCarree(), draw_labels=True,\n",
    "                  linewidth=2, color='gray', alpha=0.5, linestyle='--')\n",
    "gl.top_labels = False\n",
    "gl.right_labels = False\n",
    "gl.xlines = False\n",
    "gl.xlocator = mticker.FixedLocator([-180,-135,-90, -45, 0, 45, 90,135,180])\n",
    "gl.xformatter = LONGITUDE_FORMATTER\n",
    "gl.yformatter = LATITUDE_FORMATTER\n",
    "gl.xlabel_style = {'size': 15, 'color': 'gray'}\n",
    "gl.ylabel_style = {'color': 'red', 'weight': 'bold'}\n",
    "\n",
    "ax.set_global()\n",
    "\n",
    "#plot coastlines\n",
    "shape_feature = ShapelyFeature(coastlines, ccrs.PlateCarree(), \n",
    "                               facecolor=\"grey\", edgecolor='grey', lw=1, zorder=1)\n",
    "ax.add_feature(shape_feature)\n",
    "\n",
    "plt.show()    "
   ]
  },
  {
   "cell_type": "code",
   "execution_count": null,
   "id": "9ac5f5bb",
   "metadata": {},
   "outputs": [],
   "source": []
  }
 ],
 "metadata": {
  "kernelspec": {
   "display_name": "Python 3 (ipykernel)",
   "language": "python",
   "name": "python3"
  },
  "language_info": {
   "codemirror_mode": {
    "name": "ipython",
    "version": 3
   },
   "file_extension": ".py",
   "mimetype": "text/x-python",
   "name": "python",
   "nbconvert_exporter": "python",
   "pygments_lexer": "ipython3",
   "version": "3.11.6"
  }
 },
 "nbformat": 4,
 "nbformat_minor": 5
}
