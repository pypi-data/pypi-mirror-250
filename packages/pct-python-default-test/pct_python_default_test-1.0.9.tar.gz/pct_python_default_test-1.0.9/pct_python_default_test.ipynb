{
    "cells": [
        {
            "cell_type": "code",
            "execution_count": null,
            "outputs": [],
            "source": [
                "# update pip and setuptools\n",
                "import sys\n",
                "!{sys.executable} -m pip install --upgrade pip\n",
                "!{sys.executable} -m pip install --upgrade setuptools\n",
                "\n",
                "# install pct_python_default_test from pypi\n",
                "!{sys.executable} -m pip install --upgrade pct_python_default_test\n",
                "\n",
                "# install pct_python_default_test from github\n",
                "!{sys.executable} -m pip install --upgrade git+https://github.com/bitranox/pct_python_default_test.git",
            ],
            "metadata": {"collapsed": false, "pycharm": {"name": "#%%\n"}},
        },
        {
            "metadata": {"trusted": true, "pycharm": {"name": "#%%\n"}},
            "cell_type": "code",
            "source": ["import pct_python_default_test"],
            "execution_count": null,
            "outputs": [],
        },
    ],
    "metadata": {
        "language_info": {
            "name": "python",
            "version": "3.7.6",
            "mimetype": "text/x-python",
            "codemirror_mode": {"name": "ipython", "version": 3},
            "pygments_lexer": "ipython3",
            "nbconvert_exporter": "python",
            "file_extension": ".py",
        },
        "kernelspec": {
            "name": "python3",
            "display_name": "Python 3",
            "language": "python",
        },
    },
    "nbformat": 4,
    "nbformat_minor": 4,
}
