{
 "cells": [
  {
   "cell_type": "code",
   "execution_count": null,
   "metadata": {},
   "outputs": [],
   "source": [
    "import gradio as gr\n",
    "from gradio_highlightedtextbox import HighlightedTextbox\n",
    "\n",
    "def set_highlighted():\n",
    "    return HighlightedTextbox(\n",
    "        value=[(\"Non è qualcosa di cui vergognarsi: non è diverso dalle paure e\", None), (\"odie\", \"Potential issue\"), (\"personali\", None), (\"di altre cose\", \"Potential issue\"), (\"che\", None), (\"molta gente ha\", \"Potential issue\"), (\".\", None)],\n",
    "        interactive=True, label=\"Output\", show_legend=True, show_label=False, legend_label=\"Test:\", show_legend_label=True\n",
    "    )\n",
    "\n",
    "with gr.Blocks() as demo:\n",
    "    with gr.Row():\n",
    "        gr.Textbox(\" It is not something to be ashamed of: it is no different from the personal fears and dislikes of other things that very many people have.\", interactive=False)\n",
    "        high = HighlightedTextbox(\n",
    "            interactive=True, label=\"Input\", show_legend=True, show_label=False, legend_label=\"Legend:\", show_legend_label=True\n",
    "        )\n",
    "    button = gr.Button(\"Submit\")\n",
    "    button.click(fn=set_highlighted, inputs=[], outputs=high)\n",
    "    \n",
    "\n",
    "demo.launch()\n",
    "\n"
   ]
  },
  {
   "cell_type": "code",
   "execution_count": null,
   "metadata": {},
   "outputs": [],
   "source": []
  }
 ],
 "metadata": {
  "kernelspec": {
   "display_name": "venv",
   "language": "python",
   "name": "python3"
  },
  "language_info": {
   "codemirror_mode": {
    "name": "ipython",
    "version": 3
   },
   "file_extension": ".py",
   "mimetype": "text/x-python",
   "name": "python",
   "nbconvert_exporter": "python",
   "pygments_lexer": "ipython3",
   "version": "3.11.6"
  }
 },
 "nbformat": 4,
 "nbformat_minor": 2
}
