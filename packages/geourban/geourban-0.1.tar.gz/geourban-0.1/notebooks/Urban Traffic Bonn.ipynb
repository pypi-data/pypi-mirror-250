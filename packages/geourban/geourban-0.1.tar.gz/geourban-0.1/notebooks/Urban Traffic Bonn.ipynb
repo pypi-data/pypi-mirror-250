{
 "cells": [
  {
   "cell_type": "markdown",
   "id": "273451c1",
   "metadata": {},
   "source": [
    "# Urban Traffic Bonn\n",
    "Simulate the urban traffic from the city of Bonn using [ArcGIS API for Python](https://developers.arcgis.com/python/)."
   ]
  },
  {
   "cell_type": "code",
   "execution_count": null,
   "id": "9058ccbc",
   "metadata": {},
   "outputs": [],
   "source": [
    "# author: Jan Tschada\n",
    "# SPDX-License-Identifer: Apache-2.0"
   ]
  },
  {
   "cell_type": "markdown",
   "id": "2369c5e3",
   "metadata": {},
   "source": [
    "## Required Python modules\n",
    "You need to install ArcGIS API for Python, please follow the [guide](https://developers.arcgis.com/python/guide/anaconda/)."
   ]
  },
  {
   "cell_type": "code",
   "execution_count": null,
   "id": "c99bb313",
   "metadata": {},
   "outputs": [],
   "source": [
    "from arcgis.gis import GIS\n",
    "from arcgis.features import FeatureSet\n",
    "from datetime import date, datetime, timedelta\n",
    "from georapid.client import GeoRapidClient\n",
    "from georapid.factory import EnvironmentClientFactory\n",
    "from geourban.services import aggregate, query, simulations, top\n",
    "from geourban.types import GridType, VehicleType"
   ]
  },
  {
   "cell_type": "markdown",
   "id": "2ac83fa8",
   "metadata": {},
   "source": [
    "## Connect to ArcGIS Online"
   ]
  },
  {
   "cell_type": "code",
   "execution_count": null,
   "id": "a8e3ad4b",
   "metadata": {},
   "outputs": [],
   "source": [
    "gis = GIS()"
   ]
  },
  {
   "cell_type": "markdown",
   "id": "6e5447bc",
   "metadata": {},
   "source": [
    "## Create a map showing the city of Bonn"
   ]
  },
  {
   "cell_type": "code",
   "execution_count": null,
   "id": "d0d3a9b3",
   "metadata": {},
   "outputs": [],
   "source": [
    "bonn_map = gis.map('Bonn, Germany', zoomlevel=13)\n",
    "bonn_map"
   ]
  },
  {
   "cell_type": "markdown",
   "id": "06e1b1c0",
   "metadata": {},
   "source": [
    "# Connect to geourban services\n",
    "The host parameter must target the specific host like \"geoprotests.p.rapidapi.com\". Furthermore, the factory directly access `os.environ['x_rapidapi_key']` and uses the specified API key as a header parameter. Otherwise, `georapid.factory.EnvironmentClientFactory.create_client_with_host()` will raise a `ValueError`.\n",
    "\n",
    "Please, check out the [RapidAPI Account Creation and Management Guide](https://docs.rapidapi.com/docs/account-creation-and-settings)."
   ]
  },
  {
   "cell_type": "code",
   "execution_count": null,
   "id": "1d729e79",
   "metadata": {},
   "outputs": [],
   "source": [
    "client = EnvironmentClientFactory.create_client_with_host('geourban.p.rapidapi.com')"
   ]
  },
  {
   "cell_type": "markdown",
   "id": "dda35350",
   "metadata": {},
   "source": [
    "# List the available simulations"
   ]
  },
  {
   "cell_type": "code",
   "execution_count": null,
   "id": "e62a2943",
   "metadata": {},
   "outputs": [],
   "source": [
    "urban_simulations = simulations(client)\n",
    "urban_simulations"
   ]
  },
  {
   "cell_type": "markdown",
   "id": "abcba225",
   "metadata": {},
   "source": [
    "## Request the top 5 accumulated car traffic grid cells\n",
    "We request these hotspots for the city of Bonn by using the urban region code `DEA22`, the simulation date `2023-08-24`, the vehicle type `Car`, and the grid type `agent`. The returned GeoJSON features represents the grid cells with the highest car throughput."
   ]
  },
  {
   "cell_type": "code",
   "execution_count": null,
   "id": "94c022cb",
   "metadata": {},
   "outputs": [],
   "source": [
    "bonn_region_code = 'DEA22'\n",
    "simulation_date = date(2023, 8, 24)\n",
    "vehicle_type = VehicleType.CAR\n",
    "grid_type = GridType.AGENT\n",
    "limit = 5\n",
    "top_traffic_grid_cells = top(client, bonn_region_code, simulation_date, vehicle_type, grid_type, limit=limit)\n",
    "top_traffic_grid_cells"
   ]
  },
  {
   "cell_type": "markdown",
   "id": "0444d2e1",
   "metadata": {},
   "source": [
    "## Convert the returned GeoJSON result into a FeatureSet\n",
    "The FeatureSet offers direct access to a spatially enabled dataframe. We can easily inspect the time frames (`start_time` - `end_time`) and the number of car vehicles `agent_count`."
   ]
  },
  {
   "cell_type": "code",
   "execution_count": null,
   "id": "52e761fa",
   "metadata": {},
   "outputs": [],
   "source": [
    "top_traffic_fset = FeatureSet.from_geojson(top_traffic_grid_cells)\n",
    "top_traffic_sdf = top_traffic_fset.sdf\n",
    "top_traffic_sdf"
   ]
  },
  {
   "cell_type": "markdown",
   "id": "2c393ac8",
   "metadata": {},
   "source": [
    "## Map the traffic grid cells"
   ]
  },
  {
   "cell_type": "code",
   "execution_count": null,
   "id": "53ef6c9d",
   "metadata": {},
   "outputs": [],
   "source": [
    "top_traffic_sdf.spatial.plot(bonn_map, renderer_type='s', colors='#E80000', alpha=0.3)\n",
    "bonn_map"
   ]
  },
  {
   "cell_type": "markdown",
   "id": "abeb8a8c",
   "metadata": {},
   "source": [
    "# Query the simulated agents nearby\n",
    "We are using the center of this crossroad intersection, request the simulated agents being within a distance of `250 meters`, and specify a `30 seconds` time window starting from `08:00:00`."
   ]
  },
  {
   "cell_type": "code",
   "execution_count": null,
   "id": "7982f8fb",
   "metadata": {},
   "outputs": [],
   "source": [
    "simulation_datetime = datetime.fromisoformat('2023-08-24T08:00:00')\n",
    "(latitude, longitude) = (50.746708, 7.074405)\n",
    "(seconds, meters) = (30, 250)\n",
    "car_positions = query(client, simulation_datetime, vehicle_type, latitude, longitude, seconds, meters)\n",
    "car_positions_fset = FeatureSet.from_geojson(car_positions)\n",
    "car_positions_sdf = car_positions_fset.sdf\n",
    "car_positions_sdf"
   ]
  },
  {
   "cell_type": "markdown",
   "id": "d1b2cbfc",
   "metadata": {},
   "source": [
    "## Map the car positions nearby"
   ]
  },
  {
   "cell_type": "code",
   "execution_count": null,
   "id": "a125320b",
   "metadata": {},
   "outputs": [],
   "source": [
    "bonn_map = gis.map('Bonn, Germay')\n",
    "car_positions_sdf.spatial.plot(bonn_map, renderer_type='s', colors='#E80000', marker_size=7, alpha=0.3)\n",
    "bonn_map"
   ]
  },
  {
   "cell_type": "markdown",
   "id": "98abdb12",
   "metadata": {},
   "source": [
    "## Accumulate the speed of car traffic between 08:00 and 09:00 AM"
   ]
  },
  {
   "cell_type": "code",
   "execution_count": null,
   "id": "71717d6d",
   "metadata": {},
   "outputs": [],
   "source": [
    "bonn_region_code = 'DEA22'\n",
    "simulation_datetime = datetime.fromisoformat('2023-08-24T08:00:00')\n",
    "vehicle_type = VehicleType.CAR\n",
    "grid_type = GridType.SPEED\n",
    "car_speed_cells = aggregate(client, bonn_region_code, simulation_datetime, vehicle_type, grid_type)\n",
    "car_speed_fset = FeatureSet.from_geojson(car_speed_cells)\n",
    "car_speed_sdf = car_speed_fset.sdf\n",
    "car_speed_sdf"
   ]
  },
  {
   "cell_type": "markdown",
   "id": "7a10398b",
   "metadata": {},
   "source": [
    "## Map the accumulated speed of car traffic"
   ]
  },
  {
   "cell_type": "code",
   "execution_count": null,
   "id": "aace42b3",
   "metadata": {},
   "outputs": [],
   "source": [
    "car_speed_sdf.spatial.plot(bonn_map, renderer_type='c', method='esriClassifyNaturalBreaks', class_count=5, col='speed_mean', cmap='YlOrRd')\n",
    "bonn_map"
   ]
  },
  {
   "cell_type": "code",
   "execution_count": null,
   "id": "a848860c",
   "metadata": {},
   "outputs": [],
   "source": []
  }
 ],
 "metadata": {
  "kernelspec": {
   "display_name": "Python 3 (ipykernel)",
   "language": "python",
   "name": "python3"
  },
  "language_info": {
   "codemirror_mode": {
    "name": "ipython",
    "version": 3
   },
   "file_extension": ".py",
   "mimetype": "text/x-python",
   "name": "python",
   "nbconvert_exporter": "python",
   "pygments_lexer": "ipython3",
   "version": "3.9.15"
  }
 },
 "nbformat": 4,
 "nbformat_minor": 5
}
