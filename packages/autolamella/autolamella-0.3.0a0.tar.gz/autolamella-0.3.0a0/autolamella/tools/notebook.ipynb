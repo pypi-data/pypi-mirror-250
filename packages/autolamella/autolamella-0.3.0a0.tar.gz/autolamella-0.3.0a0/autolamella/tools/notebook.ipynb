{
 "cells": [
  {
   "cell_type": "code",
   "execution_count": null,
   "metadata": {},
   "outputs": [],
   "source": [
    "%load_ext autoreload\n",
    "%autoreload 2\n",
    "\n",
    "import os\n",
    "import sys\n",
    "import data\n",
    "import plotly.express as px\n",
    "import pandas   as pd\n"
   ]
  },
  {
   "cell_type": "code",
   "execution_count": null,
   "metadata": {},
   "outputs": [],
   "source": [
    "path = r\"C:\\Users\\lnae0002\\Desktop\\autolamella\\autolamella\\log\\3\"\n",
    "\n",
    "df_sample, df_history, df_shift, df_steps  = data.calculate_statistics_dataframe(path)\n",
    "display(df_shift)"
   ]
  },
  {
   "cell_type": "code",
   "execution_count": null,
   "metadata": {},
   "outputs": [],
   "source": [
    "points = pd.DataFrame(df_shift[\"shift\"].tolist(), columns=[\"x\", \"y\"])\n",
    "points[\"lamella\"] = df_shift[\"lamella\"]\n",
    "fig = px.scatter(points, x=\"x\", y='y', color=\"lamella\")\n",
    "fig.show()"
   ]
  },
  {
   "cell_type": "code",
   "execution_count": null,
   "metadata": {},
   "outputs": [],
   "source": [
    "display(df_steps)\n",
    "fig = px.scatter(df_steps, x=\"step_n\", y=\"timestamp\", color=\"stage\", symbol='lamella')\n",
    "fig.show()\n",
    "\n"
   ]
  },
  {
   "cell_type": "code",
   "execution_count": null,
   "metadata": {},
   "outputs": [],
   "source": [
    "# calculate difference in timestamp between rows\n",
    "df_steps['delta'] = df_steps['timestamp'].diff()\n",
    "\n",
    "display(df_steps)\n",
    "\n",
    "px.bar(df_steps, x=\"lamella\", y=\"delta\", color=\"step\", facet_col=\"stage\")"
   ]
  },
  {
   "cell_type": "code",
   "execution_count": null,
   "metadata": {},
   "outputs": [],
   "source": [
    "fig = px.bar(df_history, x=\"stage\", y=\"duration\", color=\"petname\", barmode=\"group\")\n",
    "\n",
    "fig.show()"
   ]
  },
  {
   "cell_type": "code",
   "execution_count": null,
   "metadata": {},
   "outputs": [],
   "source": [
    "# display(df_history)\n",
    "df_history[\"duration\"].mean()\n",
    "\n",
    "df_sorted = df_history.groupby([\"stage\", \"petname\"]).mean()\n",
    "df_sorted.drop(columns=[\"start\", \"end\"], inplace=True)\n",
    "df_sorted.reset_index(inplace=True)\n",
    "display(df_sorted)\n"
   ]
  },
  {
   "cell_type": "code",
   "execution_count": null,
   "metadata": {},
   "outputs": [],
   "source": [
    "points = pd.DataFrame(df_sample[\"lamella.centre\"].tolist(), columns=[\"x\", \"y\"])\n",
    "points[\"petname\"] = df_history[\"petname\"].unique()\n",
    "display(points)\n",
    "fig = px.scatter(points, x=\"x\", y='y', color=\"petname\")\n",
    "fig.show()"
   ]
  },
  {
   "cell_type": "code",
   "execution_count": null,
   "metadata": {},
   "outputs": [],
   "source": [
    "df_sample[\"petname\"] = df_history[\"petname\"].unique()\n",
    "fig = px.scatter_3d(df_sample, x=\"lamella.x\", y='lamella.y', z='lamella.z', color=\"petname\")\n",
    "fig.show()"
   ]
  },
  {
   "cell_type": "markdown",
   "metadata": {},
   "source": [
    "### SpaceTOMO"
   ]
  },
  {
   "cell_type": "code",
   "execution_count": null,
   "metadata": {},
   "outputs": [],
   "source": [
    "\n",
    "from PIL import Image\n",
    "import tifffile as tff\n",
    "import glob\n",
    "\n",
    "\n",
    "\n",
    "PATH = \"../../../data/spacetomo/imagesTr/\"\n",
    "\n",
    "\n",
    "filenames = glob.glob(PATH + \"*.png\")\n",
    "\n",
    "from pprint import pprint\n",
    "\n",
    "# pprint(filenames)\n",
    "\n",
    "# convert to tiff, save in separate dir   \n",
    "for filename in filenames:\n",
    "    im = Image.open(filename)\n",
    "    im.save(filename.replace(\".png\", \".tif\"))\n"
   ]
  },
  {
   "cell_type": "code",
   "execution_count": null,
   "metadata": {},
   "outputs": [],
   "source": []
  },
  {
   "cell_type": "markdown",
   "metadata": {},
   "source": [
    "### Feature Detection Tools\n",
    "\n"
   ]
  },
  {
   "cell_type": "markdown",
   "metadata": {},
   "source": []
  },
  {
   "cell_type": "code",
   "execution_count": null,
   "metadata": {},
   "outputs": [],
   "source": [
    "%load_ext autoreload\n",
    "%autoreload 2\n",
    "\n",
    "import os\n",
    "import glob\n",
    "import pandas as pd\n",
    "\n",
    "\n",
    "\n",
    "path = \"../../../data/autolamella-paper/model-development/train/serial-liftout/test/\"\n",
    "\n",
    "filenames = sorted(glob.glob(os.path.join(path, \"*.tif*\")))\n",
    "\n",
    "\n",
    "print(df.head())"
   ]
  },
  {
   "cell_type": "code",
   "execution_count": null,
   "metadata": {},
   "outputs": [],
   "source": [
    "df = pd.read_csv(os.path.join(path, \"data.csv\"))\n",
    "\n",
    "display(df.head())\n",
    "\n",
    "filenames = []\n",
    "for fname in df[\"filename\"].values:\n",
    "    filenames += glob.glob(os.path.join(path, f\"*{fname}*\"))\n",
    "\n",
    "print(len(filenames))\n",
    "\n",
    "from pprint import pprint\n",
    "pprint(filenames)\n"
   ]
  },
  {
   "cell_type": "code",
   "execution_count": null,
   "metadata": {},
   "outputs": [],
   "source": [
    "df = pd.read_csv(os.path.join(path, \"data.csv\"))\n",
    "\n",
    "\n",
    "fname = df[\"filename\"].values[0]\n",
    "\n",
    "df_filt = df[df[\"filename\"] == fname]\n",
    "\n",
    "\n",
    "display(df)\n",
    "\n",
    "# drop rows with filename = fname\n",
    "df.drop(df[df[\"filename\"] == fname].index, inplace=True)\n",
    "\n",
    "display(df)"
   ]
  },
  {
   "cell_type": "code",
   "execution_count": null,
   "metadata": {},
   "outputs": [],
   "source": []
  }
 ],
 "metadata": {
  "kernelspec": {
   "display_name": "Python 3",
   "language": "python",
   "name": "python3"
  },
  "language_info": {
   "codemirror_mode": {
    "name": "ipython",
    "version": 3
   },
   "file_extension": ".py",
   "mimetype": "text/x-python",
   "name": "python",
   "nbconvert_exporter": "python",
   "pygments_lexer": "ipython3",
   "version": "3.9.18"
  },
  "orig_nbformat": 4
 },
 "nbformat": 4,
 "nbformat_minor": 2
}
