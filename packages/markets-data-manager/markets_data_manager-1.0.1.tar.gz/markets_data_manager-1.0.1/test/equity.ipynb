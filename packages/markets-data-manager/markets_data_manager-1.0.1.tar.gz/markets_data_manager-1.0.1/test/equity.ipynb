{
 "cells": [
  {
   "cell_type": "markdown",
   "metadata": {},
   "source": [
    "## Setup"
   ]
  },
  {
   "cell_type": "code",
   "execution_count": 1,
   "metadata": {},
   "outputs": [],
   "source": [
    "import os\n",
    "pwd = os.path.abspath('.')\n",
    "os.chdir(os.path.join(pwd, '../src/'))"
   ]
  },
  {
   "cell_type": "code",
   "execution_count": 2,
   "metadata": {},
   "outputs": [],
   "source": [
    "from collections import Counter\n",
    "import pandas as pd\n",
    "import seaborn as sns\n",
    "from core.environment import EnvironmentSettings\n",
    "from string import Template\n",
    "from core.column_definition import BaseColumns, CalculatedColumns\n",
    "\n",
    "import datetime"
   ]
  },
  {
   "cell_type": "code",
   "execution_count": 3,
   "metadata": {},
   "outputs": [],
   "source": [
    "%load_ext autoreload\n",
    "%autoreload 2"
   ]
  },
  {
   "cell_type": "markdown",
   "metadata": {},
   "source": [
    "## Setup"
   ]
  },
  {
   "cell_type": "markdown",
   "metadata": {},
   "source": [
    "#### Historical Data Processor "
   ]
  },
  {
   "cell_type": "code",
   "execution_count": 4,
   "metadata": {},
   "outputs": [],
   "source": [
    "from datareader.data_reader import BhavCopyReader\n",
    "reader = BhavCopyReader()\n",
    "\n",
    "from datareader.data_reader import MultiDatesDataReader, DateRangeDataReader, NseDerivatiesOldReader\n",
    "\n",
    "multidates_reader = MultiDatesDataReader(reader)\n",
    "daterange_reader = DateRangeDataReader(reader)\n",
    "\n",
    "from core.core import MarketDaysHelper, TypeHelper"
   ]
  },
  {
   "cell_type": "code",
   "execution_count": 5,
   "metadata": {},
   "outputs": [],
   "source": [
    "yest = datetime.date.today() + datetime.timedelta(days=-1)"
   ]
  },
  {
   "cell_type": "code",
   "execution_count": 6,
   "metadata": {},
   "outputs": [],
   "source": [
    "from dataprocess.data_processor import HistoricalDataProcessor, MultiDataCalculationPipelines, CalculationPipelineBuilder, HistoricalDataProcessOptions\n",
    "options = HistoricalDataProcessOptions()\n",
    "options.include_monthly_data = False\n",
    "options.include_annual_data = False\n",
    "histDataProcessor = HistoricalDataProcessor(options)"
   ]
  },
  {
   "cell_type": "code",
   "execution_count": 7,
   "metadata": {},
   "outputs": [
    {
     "name": "stdout",
     "output_type": "stream",
     "text": [
      "Started to read data\n",
      "Reading data from 2023-08-10 to 2023-08-11\n",
      "Downloading data for 2023-08-11 00:00:00\n",
      "https://archives.nseindia.com/content/historical/EQUITIES/2023/AUG/cm11AUG2023bhav.csv.zip\n",
      "Saving data to file: ../../_data/processed/historical/Equities.csv\n",
      "get_data took 45 seconds\n",
      "get_manual_data took 0 seconds\n",
      "Started basic calculation\n",
      "add_basic_calc took 3 seconds\n",
      "process took 49 seconds\n"
     ]
    }
   ],
   "source": [
    "year_start = datetime.date(2016, 1, 1)\n",
    "to_date = yest\n",
    "result = histDataProcessor.process(reader, {'from_date': year_start, 'to_date': to_date})"
   ]
  },
  {
   "cell_type": "code",
   "execution_count": null,
   "metadata": {},
   "outputs": [],
   "source": [
    "pipelines = MultiDataCalculationPipelines()\n",
    "#pipelines.set_item('rsi', CalculationPipelineBuilder.create_rsi_calculation_pipeline(crossing_above_flag_value = 75, crossing_below_flag_value = 30))\n",
    "pipelines.set_item('foward_looking_fall', CalculationPipelineBuilder.create_forward_looking_price_fall_pipeline(range(1, 11)))\n",
    "pipelines.set_item('foward_looking_rise', CalculationPipelineBuilder.create_forward_looking_price_rise_pipeline(range(1, 11)))\n",
    "pipelines.set_item('sma', CalculationPipelineBuilder.create_sma_calculation_pipeline())\n",
    "\n",
    "histDataProcessor.set_calculation_pipelines(pipelines)"
   ]
  },
  {
   "cell_type": "code",
   "execution_count": 8,
   "metadata": {},
   "outputs": [
    {
     "name": "stdout",
     "output_type": "stream",
     "text": [
      "LowestPriceInNextNDaysCalculationWorker took 2 seconds\n",
      "LowestPriceInNextNDaysCalculationWorker took 2 seconds\n",
      "LowestPriceInNextNDaysCalculationWorker took 2 seconds\n",
      "LowestPriceInNextNDaysCalculationWorker took 2 seconds\n",
      "LowestPriceInNextNDaysCalculationWorker took 2 seconds\n",
      "LowestPriceInNextNDaysCalculationWorker took 2 seconds\n",
      "LowestPriceInNextNDaysCalculationWorker took 2 seconds\n",
      "LowestPriceInNextNDaysCalculationWorker took 2 seconds\n",
      "LowestPriceInNextNDaysCalculationWorker took 2 seconds\n",
      "LowestPriceInNextNDaysCalculationWorker took 2 seconds\n",
      "HighestPriceInNextNDaysCalculationWorker took 2 seconds\n",
      "HighestPriceInNextNDaysCalculationWorker took 2 seconds\n",
      "HighestPriceInNextNDaysCalculationWorker took 2 seconds\n",
      "HighestPriceInNextNDaysCalculationWorker took 2 seconds\n",
      "HighestPriceInNextNDaysCalculationWorker took 2 seconds\n",
      "HighestPriceInNextNDaysCalculationWorker took 2 seconds\n",
      "HighestPriceInNextNDaysCalculationWorker took 2 seconds\n",
      "HighestPriceInNextNDaysCalculationWorker took 2 seconds\n",
      "HighestPriceInNextNDaysCalculationWorker took 2 seconds\n",
      "HighestPriceInNextNDaysCalculationWorker took 2 seconds\n",
      "SMACalculationWorker took 2 seconds\n",
      "SMACalculationWorker took 2 seconds\n",
      "SMACalculationWorker took 2 seconds\n"
     ]
    }
   ],
   "source": [
    "histDataProcessor.run_calculation_pipelines()"
   ]
  },
  {
   "cell_type": "markdown",
   "metadata": {},
   "source": [
    "## Analysis"
   ]
  },
  {
   "cell_type": "markdown",
   "metadata": {},
   "source": [
    "#### Expiry Analysis"
   ]
  },
  {
   "cell_type": "code",
   "execution_count": 9,
   "metadata": {},
   "outputs": [],
   "source": [
    "from datareader.data_reader import NseDerivatiesReader, NseDerivatiesOldReader"
   ]
  },
  {
   "cell_type": "code",
   "execution_count": 10,
   "metadata": {},
   "outputs": [
    {
     "data": {
      "text/plain": [
       "array(['2023-07-27T00:00:00.000000000', '2023-06-28T00:00:00.000000000',\n",
       "       '2023-05-25T00:00:00.000000000', '2023-04-27T00:00:00.000000000',\n",
       "       '2023-03-29T00:00:00.000000000'], dtype='datetime64[ns]')"
      ]
     },
     "execution_count": 10,
     "metadata": {},
     "output_type": "execute_result"
    }
   ],
   "source": [
    "data = multidates_reader.read(MarketDaysHelper.get_monthly_expiry_dates(6))\n",
    "data['Date'].unique()"
   ]
  },
  {
   "cell_type": "code",
   "execution_count": 11,
   "metadata": {},
   "outputs": [],
   "source": [
    "data['CloseToPrevCloseChangePerc'] = (data['Close'] / data['PreviousClose'] - 1) * 100\n",
    "data['OpenToPrevCloseChangePerc'] = (data['Open'] / data['PreviousClose'] - 1) * 100\n",
    "\n",
    "display_columns = ['Identifier', 'PreviousClose', 'Open', 'High', 'Low', 'Close', 'Date', \n",
    "                    'CloseToPrevCloseChangePerc', 'OpenToPrevCloseChangePerc'\n",
    "                    ]"
   ]
  },
  {
   "cell_type": "code",
   "execution_count": null,
   "metadata": {},
   "outputs": [],
   "source": [
    "data.reindex(data['CloseToPrevCloseChangePerc'].abs().sort_values(ascending=False).index)[data['Identifier'].isin(derivative_instruments)][display_columns].head(20)\n",
    "#data['Date'].dt.strftime('%d-%b-%Y').str.upper()"
   ]
  },
  {
   "cell_type": "code",
   "execution_count": null,
   "metadata": {},
   "outputs": [],
   "source": [
    "quantile = data.sort_values(by='OpenToPrevCloseChangePerc', ascending=True)['OpenToPrevCloseChangePerc'].quantile(q=0.99)\n",
    "data[data['OpenToPrevCloseChangePerc'] >= quantile][display_columns]"
   ]
  },
  {
   "cell_type": "markdown",
   "metadata": {},
   "source": [
    "#### RSI Crossing Above/Below"
   ]
  },
  {
   "cell_type": "markdown",
   "metadata": {},
   "source": [
    "##### Calculate RSI"
   ]
  },
  {
   "cell_type": "code",
   "execution_count": 12,
   "metadata": {},
   "outputs": [],
   "source": [
    "def get_symbols_with_rsi_signal(from_date: datetime.datetime, to_date: datetime.datetime, cross_above_level: float, \n",
    "    cross_below_level: float, output_sub_folder: str, derivative_instruments):\n",
    "  result = histDataProcessor.process(reader, {'from_date': from_date, 'to_date': to_date})\n",
    "  histDataProcessor.run_calculation_pipelines()\n",
    "  daily_data = result.get_daily_data()\n",
    "  identifier_grouped_data = result.get_identifier_grouped()\n",
    "  data = daily_data\n",
    "\n",
    "  data[CalculatedColumns.RsiCrossedAbove] = identifier_grouped_data[CalculatedColumns.RelativeStrengthIndex].transform(lambda x: \n",
    "    (x.shift(-1) < cross_above_level) & (x >= cross_above_level)\n",
    "  )\n",
    "\n",
    "  data[CalculatedColumns.RsiCrossedBelow] = identifier_grouped_data[CalculatedColumns.RelativeStrengthIndex].transform(lambda x: \n",
    "    (x.shift(-1) > cross_below_level) & (x <= cross_below_level)\n",
    "  )\n",
    "\n",
    "  data[(data[CalculatedColumns.RsiCrossedAbove] == True) & (data[BaseColumns.Identifier].isin(derivative_instruments))].to_csv(f\"{output_sub_folder}/sell_signal_symbols.csv\")\n",
    "  data[(data[CalculatedColumns.RsiCrossedBelow] == True) & (data[BaseColumns.Identifier].isin(derivative_instruments))].to_csv(f\"{output_sub_folder}/buy_signal_symbols.csv\")\n"
   ]
  },
  {
   "cell_type": "code",
   "execution_count": null,
   "metadata": {},
   "outputs": [],
   "source": [
    "from core.core import MarketDaysHelper\n",
    "cross_above_level = 75\n",
    "cross_below_level = 30\n",
    "output_base_path = '../output/trades/rsi'\n",
    "for year in range(2016, 2023):\n",
    "  print(f'Executing for {year}')\n",
    "  year_start = datetime.date(year, 1, 1)\n",
    "  to_date = datetime.date(year, 12, 31)\n",
    "\n",
    "  for_date = MarketDaysHelper.get_this_or_next_market_day(year_start)\n",
    "  derivative_instruments = NseDerivatiesOldReader().read(for_date)['Identifier'].unique()\n",
    "\n",
    "  get_symbols_with_rsi_signal(year_start, to_date, cross_above_level, cross_below_level, output_base_path + '/' + year_start.strftime('%Y'), derivative_instruments)"
   ]
  },
  {
   "cell_type": "markdown",
   "metadata": {},
   "source": [
    "##### Check best holding timeframe based on RSI"
   ]
  },
  {
   "cell_type": "code",
   "execution_count": 10,
   "metadata": {},
   "outputs": [],
   "source": [
    "  derivative_instruments = NseDerivatiesOldReader().read(datetime.datetime(2023, 8, 9))['Identifier'].unique()"
   ]
  },
  {
   "cell_type": "code",
   "execution_count": 11,
   "metadata": {},
   "outputs": [],
   "source": [
    "from calculations.base import CalculationWorker\n",
    "from core.core import Instrumentation"
   ]
  },
  {
   "cell_type": "code",
   "execution_count": 12,
   "metadata": {},
   "outputs": [],
   "source": [
    "daily_data = result.get_daily_data()\n",
    "derivative_instruments_daily_data = daily_data[daily_data[BaseColumns.Identifier].isin(derivative_instruments)]"
   ]
  },
  {
   "cell_type": "code",
   "execution_count": 13,
   "metadata": {},
   "outputs": [
    {
     "data": {
      "text/plain": [
       "HighestPercFallInNext1Days     2.183020\n",
       "HighestPercFallInNext2Days     2.968995\n",
       "HighestPercFallInNext3Days     3.401319\n",
       "HighestPercFallInNext4Days     3.770183\n",
       "HighestPercFallInNext5Days     4.055996\n",
       "HighestPercFallInNext6Days     4.316389\n",
       "HighestPercFallInNext7Days     4.565894\n",
       "HighestPercFallInNext8Days     4.840434\n",
       "HighestPercFallInNext9Days     5.051904\n",
       "HighestPercFallInNext10Days    5.262850\n",
       "dtype: float64"
      ]
     },
     "execution_count": 13,
     "metadata": {},
     "output_type": "execute_result"
    }
   ],
   "source": [
    "fwd_looking_price_fall_cols = [x for x in daily_data.columns if 'HighestPercFallInNext' in x]\n",
    "derivative_instruments_daily_data[derivative_instruments_daily_data[CalculatedColumns.RsiCrossedAbove] == True][fwd_looking_price_fall_cols].median()"
   ]
  },
  {
   "cell_type": "code",
   "execution_count": 14,
   "metadata": {},
   "outputs": [
    {
     "data": {
      "text/plain": [
       "HighestPercRiseInNext1Days     2.550922\n",
       "HighestPercRiseInNext2Days     3.464203\n",
       "HighestPercRiseInNext3Days     4.001278\n",
       "HighestPercRiseInNext4Days     4.511912\n",
       "HighestPercRiseInNext5Days     4.857013\n",
       "HighestPercRiseInNext6Days     5.197879\n",
       "HighestPercRiseInNext7Days     5.529805\n",
       "HighestPercRiseInNext8Days     5.814108\n",
       "HighestPercRiseInNext9Days     6.094214\n",
       "HighestPercRiseInNext10Days    6.328030\n",
       "dtype: float64"
      ]
     },
     "execution_count": 14,
     "metadata": {},
     "output_type": "execute_result"
    }
   ],
   "source": [
    "fwd_looking_price_rise_cols = [x for x in daily_data.columns if 'HighestPercRiseInNext' in x]\n",
    "derivative_instruments_daily_data[derivative_instruments_daily_data[CalculatedColumns.RsiCrossedBelow] == True][fwd_looking_price_rise_cols].median()\n",
    "#fwd_looking_price_rise_cols"
   ]
  },
  {
   "cell_type": "markdown",
   "metadata": {},
   "source": [
    "### Debug"
   ]
  },
  {
   "cell_type": "markdown",
   "metadata": {},
   "source": [
    "##### RSI"
   ]
  },
  {
   "cell_type": "code",
   "execution_count": 53,
   "metadata": {},
   "outputs": [
    {
     "name": "stdout",
     "output_type": "stream",
     "text": [
      "Started to read data\n",
      "Reading data from 2023-08-09 to 2023-08-10\n",
      "Downloading data for 2023-08-10 00:00:00\n",
      "https://archives.nseindia.com/content/historical/EQUITIES/2023/AUG/cm10AUG2023bhav.csv.zip\n",
      "The read operation timed out date(2023, 08, 10),\n",
      "Saving data to file: ../../_data/processed/historical/Equities.csv\n",
      "get_data took 46 seconds\n",
      "get_manual_data took 0 seconds\n",
      "Started basic calculation\n",
      "add_basic_calc took 1 seconds\n",
      "Started periodic calculation for Month\n",
      "add_monthly_growth_calc took 3 seconds\n",
      "Started periodic calculation for Year\n",
      "add_yearly_growth_calc took 1 seconds\n",
      "process took 51 seconds\n"
     ]
    }
   ],
   "source": [
    "result = histDataProcessor.process(reader, {'from_date': datetime.date(2023, 7, 1), 'to_date': datetime.date.today()})\n",
    "#identifier_grouped_data = result.get_identifier_grouped()\n",
    "data = result.get_daily_data()"
   ]
  },
  {
   "cell_type": "code",
   "execution_count": 58,
   "metadata": {},
   "outputs": [],
   "source": [
    "_time_window = 14\n",
    "\n",
    "def calculate_wsm_average(raw_data, data, avg_col_name, abs_col_name):\n",
    "  step = 1\n",
    "  for i, row in enumerate(data[avg_col_name].iloc[_time_window + step:]):\n",
    "    raw_data.at[data.index[i + _time_window + step], avg_col_name] =\\\n",
    "      (data[avg_col_name].iloc[i + _time_window] *\n",
    "      (_time_window - step) +\n",
    "      data[abs_col_name].iloc[i + _time_window + step])\\\n",
    "      / _time_window"
   ]
  },
  {
   "cell_type": "code",
   "execution_count": 62,
   "metadata": {},
   "outputs": [],
   "source": [
    "identifier_grouped_data = data.groupby(BaseColumns.Identifier)\n",
    "data[CalculatedColumns.ClosePriceDiff] = identifier_grouped_data[BaseColumns.Close].transform(lambda x: x.diff(1))\n",
    "data[CalculatedColumns.Gain] = identifier_grouped_data[CalculatedColumns.ClosePriceDiff].transform(lambda x: x.clip(lower=0).round(2))\n",
    "data[CalculatedColumns.Loss] = identifier_grouped_data[CalculatedColumns.ClosePriceDiff].transform(lambda x: x.clip(upper=0).abs().round(2))\n",
    "\n",
    "data[CalculatedColumns.ClosePriceDiff].fillna(0)\n",
    "data[CalculatedColumns.Gain].fillna(0)\n",
    "data[CalculatedColumns.Loss].fillna(0)\n",
    "\n",
    "# Get initial Averages\n",
    "data[CalculatedColumns.AvgGain] = identifier_grouped_data[CalculatedColumns.Gain].transform(lambda x: \n",
    "                                    x.rolling(window=_time_window, min_periods=_time_window).mean())\n",
    "data[CalculatedColumns.AvgLoss] = identifier_grouped_data[CalculatedColumns.Loss].transform(lambda x: \n",
    "                                    x.rolling(window=_time_window, min_periods=_time_window).mean())\n",
    "\n",
    "for identifier in data['Identifier'].unique():\n",
    "  calculate_wsm_average(data, identifier_grouped_data.get_group(identifier), CalculatedColumns.AvgGain, CalculatedColumns.Gain) \n",
    "  calculate_wsm_average(data, identifier_grouped_data.get_group(identifier), CalculatedColumns.AvgLoss, CalculatedColumns.Loss)\n",
    "\n",
    "data[CalculatedColumns.RelativeStrength] = data[CalculatedColumns.AvgGain] / data[CalculatedColumns.AvgLoss]\n",
    "data[CalculatedColumns.RelativeStrengthIndex] = 100 - (100 / (1.0 + data[CalculatedColumns.RelativeStrength]))"
   ]
  },
  {
   "cell_type": "code",
   "execution_count": 64,
   "metadata": {},
   "outputs": [
    {
     "data": {
      "text/html": [
       "<div>\n",
       "<style scoped>\n",
       "    .dataframe tbody tr th:only-of-type {\n",
       "        vertical-align: middle;\n",
       "    }\n",
       "\n",
       "    .dataframe tbody tr th {\n",
       "        vertical-align: top;\n",
       "    }\n",
       "\n",
       "    .dataframe thead th {\n",
       "        text-align: right;\n",
       "    }\n",
       "</style>\n",
       "<table border=\"1\" class=\"dataframe\">\n",
       "  <thead>\n",
       "    <tr style=\"text-align: right;\">\n",
       "      <th></th>\n",
       "      <th>Date</th>\n",
       "      <th>Rsi</th>\n",
       "    </tr>\n",
       "  </thead>\n",
       "  <tbody>\n",
       "    <tr>\n",
       "      <th>42317</th>\n",
       "      <td>2023-08-03</td>\n",
       "      <td>56.345408</td>\n",
       "    </tr>\n",
       "    <tr>\n",
       "      <th>44033</th>\n",
       "      <td>2023-08-04</td>\n",
       "      <td>51.629586</td>\n",
       "    </tr>\n",
       "    <tr>\n",
       "      <th>45742</th>\n",
       "      <td>2023-08-07</td>\n",
       "      <td>49.179718</td>\n",
       "    </tr>\n",
       "    <tr>\n",
       "      <th>50319</th>\n",
       "      <td>2023-08-08</td>\n",
       "      <td>46.982477</td>\n",
       "    </tr>\n",
       "    <tr>\n",
       "      <th>51286</th>\n",
       "      <td>2023-08-09</td>\n",
       "      <td>51.312888</td>\n",
       "    </tr>\n",
       "  </tbody>\n",
       "</table>\n",
       "</div>"
      ],
      "text/plain": [
       "            Date        Rsi\n",
       "42317 2023-08-03  56.345408\n",
       "44033 2023-08-04  51.629586\n",
       "45742 2023-08-07  49.179718\n",
       "50319 2023-08-08  46.982477\n",
       "51286 2023-08-09  51.312888"
      ]
     },
     "execution_count": 64,
     "metadata": {},
     "output_type": "execute_result"
    }
   ],
   "source": [
    "data[data[BaseColumns.Identifier] == 'TVSMOTOR'].tail(5)[[BaseColumns.Date, CalculatedColumns.RelativeStrengthIndex]]"
   ]
  }
 ],
 "metadata": {
  "kernelspec": {
   "display_name": "base",
   "language": "python",
   "name": "python3"
  },
  "language_info": {
   "codemirror_mode": {
    "name": "ipython",
    "version": 3
   },
   "file_extension": ".py",
   "mimetype": "text/x-python",
   "name": "python",
   "nbconvert_exporter": "python",
   "pygments_lexer": "ipython3",
   "version": "3.9.12"
  },
  "orig_nbformat": 4
 },
 "nbformat": 4,
 "nbformat_minor": 2
}
