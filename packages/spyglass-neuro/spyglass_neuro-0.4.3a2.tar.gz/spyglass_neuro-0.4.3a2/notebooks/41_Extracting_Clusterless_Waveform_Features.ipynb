{
 "cells": [
  {
   "cell_type": "markdown",
   "metadata": {},
   "source": [
    "_Developer Note:_ if you may make a PR in the future, be sure to copy this\n",
    "notebook, and use the `gitignore` prefix `temp` to avoid future conflicts.\n",
    "\n",
    "This is one notebook in a multi-part series on clusterless decoding in Spyglass \n",
    "\n",
    "- To set up your Spyglass environment and database, see\n",
    "  [the Setup notebook](./00_Setup.ipynb)\n",
    "- For additional info on DataJoint syntax, including table definitions and\n",
    "  inserts, see\n",
    "  [the Insert Data notebook](./01_Insert_Data.ipynb)\n",
    "- Prior to running, please familiarize yourself with the [spike sorting\n",
    "  pipeline](./02_Spike_Sorting.ipynb) and generate input position data with\n",
    "  either the [Trodes](./20_Position_Trodes.ipynb) or DLC notebooks\n",
    "  ([1](./21_Position_DLC_1.ipynb), [2](./22_Position_DLC_2.ipynb),\n",
    "  [3](./23_Position_DLC_3.ipynb)).\n",
    "\n",
    "The goal of this notebook is to populate the `UnitWaveformFeatures` table, which depends `SpikeSortingOutput`. This table contains the features of the waveforms of each unit.\n",
    "\n",
    "While clusterless decoding avoids actual spike sorting, we need to pass through these tables to maintain (relative) pipeline simplicity. Pass-through tables keep spike sorting and clusterless waveform extraction as similar as possible, by using shared steps. Here, \"spike sorting\" involves simple thresholding (sorter: clusterless_thresholder).\n",
    "\n",
    "Let's start with the following nwb file and time interval:"
   ]
  },
  {
   "cell_type": "code",
   "execution_count": 2,
   "metadata": {},
   "outputs": [],
   "source": [
    "from pathlib import Path\n",
    "import datajoint as dj\n",
    "\n",
    "dj.config.load(\n",
    "    Path(\"../dj_local_conf.json\").absolute()\n",
    ")  # load config for database connection info\n",
    "\n",
    "nwb_copy_file_name = \"mediumnwb20230802_.nwb\"\n",
    "interval_list_name = \"pos 0 valid times\""
   ]
  },
  {
   "cell_type": "markdown",
   "metadata": {},
   "source": [
    "If you haven't already, run the [Insert Data notebook](./01_Insert_Data.ipynb) to populate the tables.\n",
    "\n",
    "These next steps are the same as in the [Spike Sorting notebook](./10_Spike_SortingV1.ipynb), but we'll repeat them here for clarity. These are pre-processing steps that are shared between spike sorting and clusterless decoding.\n",
    "\n",
    "We first set the `SortGroup` to define which contacts are sorted together.\n",
    "\n",
    "We then setup for spike sorting by bandpass filtering and whitening the data via the `SpikeSortingRecording` table."
   ]
  },
  {
   "cell_type": "code",
   "execution_count": 3,
   "metadata": {},
   "outputs": [
    {
     "name": "stderr",
     "output_type": "stream",
     "text": [
      "[2024-01-02 11:22:08,897][INFO]: Connecting root@localhost:3306\n",
      "[2024-01-02 11:22:08,981][INFO]: Connected root@localhost:3306\n",
      "[11:22:10][WARNING] Spyglass: Similar row(s) already inserted.\n",
      "[11:22:10][WARNING] Spyglass: Similar row(s) already inserted.\n",
      "[11:22:10][WARNING] Spyglass: Similar row(s) already inserted.\n",
      "[11:22:10][WARNING] Spyglass: Similar row(s) already inserted.\n",
      "[11:22:10][WARNING] Spyglass: Similar row(s) already inserted.\n",
      "[11:22:10][WARNING] Spyglass: Similar row(s) already inserted.\n",
      "[11:22:10][WARNING] Spyglass: Similar row(s) already inserted.\n",
      "[11:22:10][WARNING] Spyglass: Similar row(s) already inserted.\n",
      "[11:22:10][WARNING] Spyglass: Similar row(s) already inserted.\n",
      "[11:22:10][WARNING] Spyglass: Similar row(s) already inserted.\n",
      "[11:22:10][WARNING] Spyglass: Similar row(s) already inserted.\n",
      "[11:22:10][WARNING] Spyglass: Similar row(s) already inserted.\n",
      "[11:22:10][WARNING] Spyglass: Similar row(s) already inserted.\n",
      "[11:22:10][WARNING] Spyglass: Similar row(s) already inserted.\n",
      "[11:22:10][WARNING] Spyglass: Similar row(s) already inserted.\n",
      "[11:22:10][WARNING] Spyglass: Similar row(s) already inserted.\n",
      "[11:22:10][WARNING] Spyglass: Similar row(s) already inserted.\n",
      "[11:22:10][WARNING] Spyglass: Similar row(s) already inserted.\n",
      "[11:22:11][WARNING] Spyglass: Similar row(s) already inserted.\n",
      "[11:22:11][WARNING] Spyglass: Similar row(s) already inserted.\n",
      "[11:22:11][WARNING] Spyglass: Similar row(s) already inserted.\n",
      "[11:22:11][WARNING] Spyglass: Similar row(s) already inserted.\n",
      "[11:22:11][WARNING] Spyglass: Similar row(s) already inserted.\n",
      "[11:22:11][WARNING] Spyglass: Similar row(s) already inserted.\n"
     ]
    }
   ],
   "source": [
    "import spyglass.spikesorting.v1 as sgs\n",
    "\n",
    "sgs.SortGroup.set_group_by_shank(nwb_file_name=nwb_copy_file_name)\n",
    "\n",
    "sort_group_ids = (sgs.SortGroup & {\"nwb_file_name\": nwb_copy_file_name}).fetch(\n",
    "    \"sort_group_id\"\n",
    ")\n",
    "\n",
    "group_keys = []\n",
    "for sort_group_id in sort_group_ids:\n",
    "    key = {\n",
    "        \"nwb_file_name\": nwb_copy_file_name,\n",
    "        \"sort_group_id\": sort_group_id,\n",
    "        \"interval_list_name\": interval_list_name,\n",
    "        \"preproc_param_name\": \"default\",\n",
    "        \"team_name\": \"Alison Comrie\",\n",
    "    }\n",
    "    group_keys.append(key)\n",
    "    sgs.SpikeSortingRecordingSelection.insert_selection(key)\n",
    "\n",
    "sgs.SpikeSortingRecording.populate(group_keys)"
   ]
  },
  {
   "cell_type": "markdown",
   "metadata": {},
   "source": [
    "Next we do artifact detection. Here we skip it by setting the `artifact_param_name` to `None`, but in practice you should detect artifacts as it will affect the decoding."
   ]
  },
  {
   "cell_type": "code",
   "execution_count": 4,
   "metadata": {},
   "outputs": [
    {
     "name": "stderr",
     "output_type": "stream",
     "text": [
      "[11:22:15][WARNING] Spyglass: Similar row(s) already inserted.\n",
      "[11:22:15][WARNING] Spyglass: Similar row(s) already inserted.\n",
      "[11:22:15][WARNING] Spyglass: Similar row(s) already inserted.\n",
      "[11:22:15][WARNING] Spyglass: Similar row(s) already inserted.\n",
      "[11:22:15][WARNING] Spyglass: Similar row(s) already inserted.\n",
      "[11:22:15][WARNING] Spyglass: Similar row(s) already inserted.\n",
      "[11:22:15][WARNING] Spyglass: Similar row(s) already inserted.\n",
      "[11:22:15][WARNING] Spyglass: Similar row(s) already inserted.\n",
      "[11:22:15][WARNING] Spyglass: Similar row(s) already inserted.\n",
      "[11:22:15][WARNING] Spyglass: Similar row(s) already inserted.\n",
      "[11:22:15][WARNING] Spyglass: Similar row(s) already inserted.\n",
      "[11:22:15][WARNING] Spyglass: Similar row(s) already inserted.\n",
      "[11:22:15][WARNING] Spyglass: Similar row(s) already inserted.\n",
      "[11:22:15][WARNING] Spyglass: Similar row(s) already inserted.\n",
      "[11:22:15][WARNING] Spyglass: Similar row(s) already inserted.\n",
      "[11:22:15][WARNING] Spyglass: Similar row(s) already inserted.\n",
      "[11:22:15][WARNING] Spyglass: Similar row(s) already inserted.\n",
      "[11:22:15][WARNING] Spyglass: Similar row(s) already inserted.\n",
      "[11:22:15][WARNING] Spyglass: Similar row(s) already inserted.\n",
      "[11:22:15][WARNING] Spyglass: Similar row(s) already inserted.\n",
      "[11:22:15][WARNING] Spyglass: Similar row(s) already inserted.\n",
      "[11:22:15][WARNING] Spyglass: Similar row(s) already inserted.\n",
      "[11:22:15][WARNING] Spyglass: Similar row(s) already inserted.\n",
      "[11:22:15][WARNING] Spyglass: Similar row(s) already inserted.\n"
     ]
    }
   ],
   "source": [
    "recording_ids = (\n",
    "    sgs.SpikeSortingRecordingSelection & {\"nwb_file_name\": nwb_copy_file_name}\n",
    ").fetch(\"recording_id\")\n",
    "\n",
    "group_keys = []\n",
    "for recording_id in recording_ids:\n",
    "    key = {\n",
    "        \"recording_id\": recording_id,\n",
    "        \"artifact_param_name\": \"none\",\n",
    "    }\n",
    "    group_keys.append(key)\n",
    "    sgs.ArtifactDetectionSelection.insert_selection(key)\n",
    "\n",
    "sgs.ArtifactDetection.populate(group_keys)"
   ]
  },
  {
   "cell_type": "markdown",
   "metadata": {},
   "source": [
    "Now we run the \"spike sorting\", which in our case is simply thresholding the signal to find spikes. We use the `SpikeSorting` table to store the results. Note that `sorter_param_name` defines the parameters for thresholding the signal."
   ]
  },
  {
   "cell_type": "code",
   "execution_count": 5,
   "metadata": {},
   "outputs": [
    {
     "name": "stderr",
     "output_type": "stream",
     "text": [
      "[11:22:17][INFO] Spyglass: Similar row(s) already inserted.\n",
      "[11:22:17][INFO] Spyglass: Similar row(s) already inserted.\n",
      "[11:22:17][INFO] Spyglass: Similar row(s) already inserted.\n",
      "[11:22:17][INFO] Spyglass: Similar row(s) already inserted.\n",
      "[11:22:17][INFO] Spyglass: Similar row(s) already inserted.\n",
      "[11:22:17][INFO] Spyglass: Similar row(s) already inserted.\n",
      "[11:22:17][INFO] Spyglass: Similar row(s) already inserted.\n",
      "[11:22:17][INFO] Spyglass: Similar row(s) already inserted.\n",
      "[11:22:17][INFO] Spyglass: Similar row(s) already inserted.\n",
      "[11:22:17][INFO] Spyglass: Similar row(s) already inserted.\n",
      "[11:22:17][INFO] Spyglass: Similar row(s) already inserted.\n",
      "[11:22:17][INFO] Spyglass: Similar row(s) already inserted.\n",
      "[11:22:17][INFO] Spyglass: Similar row(s) already inserted.\n",
      "[11:22:17][INFO] Spyglass: Similar row(s) already inserted.\n",
      "[11:22:17][INFO] Spyglass: Similar row(s) already inserted.\n",
      "[11:22:17][INFO] Spyglass: Similar row(s) already inserted.\n",
      "[11:22:17][INFO] Spyglass: Similar row(s) already inserted.\n",
      "[11:22:17][INFO] Spyglass: Similar row(s) already inserted.\n",
      "[11:22:17][INFO] Spyglass: Similar row(s) already inserted.\n",
      "[11:22:17][INFO] Spyglass: Similar row(s) already inserted.\n",
      "[11:22:17][INFO] Spyglass: Similar row(s) already inserted.\n",
      "[11:22:17][INFO] Spyglass: Similar row(s) already inserted.\n",
      "[11:22:17][INFO] Spyglass: Similar row(s) already inserted.\n",
      "[11:22:17][INFO] Spyglass: Similar row(s) already inserted.\n"
     ]
    }
   ],
   "source": [
    "group_keys = []\n",
    "for recording_id in recording_ids:\n",
    "    key = {\n",
    "        \"recording_id\": recording_id,\n",
    "        \"sorter\": \"clusterless_thresholder\",\n",
    "        \"sorter_param_name\": \"default_clusterless\",\n",
    "        \"nwb_file_name\": nwb_copy_file_name,\n",
    "        \"interval_list_name\": str(\n",
    "            (\n",
    "                sgs.ArtifactDetectionSelection & {\"recording_id\": recording_id}\n",
    "            ).fetch1(\"artifact_id\")\n",
    "        ),\n",
    "    }\n",
    "    group_keys.append(key)\n",
    "    sgs.SpikeSortingSelection.insert_selection(key)\n",
    "\n",
    "sgs.SpikeSorting.populate(group_keys)"
   ]
  },
  {
   "cell_type": "markdown",
   "metadata": {},
   "source": [
    "For clusterless decoding we do not need any manual curation, but for the sake of the pipeline, we need to store the output of the thresholding in the `CurationV1` table and insert this into the `SpikeSortingOutput` table."
   ]
  },
  {
   "cell_type": "code",
   "execution_count": 6,
   "metadata": {},
   "outputs": [],
   "source": [
    "from spyglass.spikesorting.merge import SpikeSortingOutput\n",
    "\n",
    "sorting_ids = (\n",
    "    sgs.SpikeSortingSelection & {\"nwb_file_name\": nwb_copy_file_name}\n",
    ").fetch(\"sorting_id\")\n",
    "\n",
    "for sorting_id in sorting_ids:\n",
    "    try:\n",
    "        sgs.CurationV1.insert_curation(sorting_id=sorting_id)\n",
    "    except KeyError as e:\n",
    "        pass\n",
    "\n",
    "SpikeSortingOutput.insert(\n",
    "    sgs.CurationV1().fetch(\"KEY\"),\n",
    "    part_name=\"CurationV1\",\n",
    "    skip_duplicates=True,\n",
    ")"
   ]
  },
  {
   "cell_type": "markdown",
   "metadata": {},
   "source": [
    "Finally, we extract the waveform features of each SortGroup. This is done by the `UnitWaveformFeatures` table.\n",
    "\n",
    "To set this up, we use the `WaveformFeaturesParams` to define the time around the spike that we want to use for feature extraction, and which features to extract. Here is an example of the parameters used for extraction the amplitude of the negative peak of the waveform:\n",
    "```python\n",
    "\n",
    "waveform_extraction_params = {\n",
    "    \"ms_before\": 0.5,\n",
    "    \"ms_after\": 0.5,\n",
    "    \"max_spikes_per_unit\": None,\n",
    "    \"n_jobs\": 5,\n",
    "    \"total_memory\": \"5G\",\n",
    "}\n",
    "waveform_feature_params = {\n",
    "    \"amplitude\": {\n",
    "        \"peak_sign\": \"neg\",\n",
    "        \"estimate_peak_time\": False,\n",
    "    }\n",
    "}\n",
    "```\n",
    "\n",
    "We see that we want 0.5 ms of time before and after the peak of the negative spike. We also see that we want to extract the amplitude of the negative peak, and that we do not want to estimate the peak time (since we know it is at 0 ms).\n",
    "\n",
    "\n",
    "You can define other features to extract such as spatial location of the spike:\n",
    "```python\n",
    "waveform_extraction_params = {\n",
    "    \"ms_before\": 0.5,\n",
    "    \"ms_after\": 0.5,\n",
    "    \"max_spikes_per_unit\": None,\n",
    "    \"n_jobs\": 5,\n",
    "    \"total_memory\": \"5G\",\n",
    "}\n",
    "waveform_feature_params = {\n",
    "    \"amplitude\": {\n",
    "        \"peak_sign\": \"neg\",\n",
    "        \"estimate_peak_time\": False,\n",
    "    },\n",
    "    \"spike location\": {}\n",
    "}\n",
    "\n",
    "```\n"
   ]
  },
  {
   "cell_type": "code",
   "execution_count": 7,
   "metadata": {},
   "outputs": [
    {
     "data": {
      "text/html": [
       "\n",
       "    \n",
       "    <style type=\"text/css\">\n",
       "        .Table{\n",
       "            border-collapse:collapse;\n",
       "        }\n",
       "        .Table th{\n",
       "            background: #A0A0A0; color: #ffffff; padding:4px; border:#f0e0e0 1px solid;\n",
       "            font-weight: normal; font-family: monospace; font-size: 100%;\n",
       "        }\n",
       "        .Table td{\n",
       "            padding:4px; border:#f0e0e0 1px solid; font-size:100%;\n",
       "        }\n",
       "        .Table tr:nth-child(odd){\n",
       "            background: #ffffff;\n",
       "            color: #000000;\n",
       "        }\n",
       "        .Table tr:nth-child(even){\n",
       "            background: #f3f1ff;\n",
       "            color: #000000;\n",
       "        }\n",
       "        /* Tooltip container */\n",
       "        .djtooltip {\n",
       "        }\n",
       "        /* Tooltip text */\n",
       "        .djtooltip .djtooltiptext {\n",
       "            visibility: hidden;\n",
       "            width: 120px;\n",
       "            background-color: black;\n",
       "            color: #fff;\n",
       "            text-align: center;\n",
       "            padding: 5px 0;\n",
       "            border-radius: 6px;\n",
       "            /* Position the tooltip text - see examples below! */\n",
       "            position: absolute;\n",
       "            z-index: 1;\n",
       "        }\n",
       "        #primary {\n",
       "            font-weight: bold;\n",
       "            color: black;\n",
       "        }\n",
       "        #nonprimary {\n",
       "            font-weight: normal;\n",
       "            color: white;\n",
       "        }\n",
       "\n",
       "        /* Show the tooltip text when you mouse over the tooltip container */\n",
       "        .djtooltip:hover .djtooltiptext {\n",
       "            visibility: visible;\n",
       "        }\n",
       "    </style>\n",
       "    \n",
       "    <b></b>\n",
       "        <div style=\"max-height:1000px;max-width:1500px;overflow:auto;\">\n",
       "        <table border=\"1\" class=\"Table\">\n",
       "            <thead> <tr style=\"text-align: right;\"> <th> <div class=\"djtooltip\">\n",
       "                            <p id=\"primary\">features_param_name</p>\n",
       "                            <span class=\"djtooltiptext\">a name for this set of parameters</span>\n",
       "                        </div></th><th><div class=\"djtooltip\">\n",
       "                            <p id=\"nonprimary\">params</p>\n",
       "                            <span class=\"djtooltiptext\">the parameters for the waveform features</span>\n",
       "                        </div> </th> </tr> </thead>\n",
       "            <tbody> <tr> <td>amplitude</td>\n",
       "<td>=BLOB=</td></tr><tr><td>amplitude, spike_location</td>\n",
       "<td>=BLOB=</td> </tr> </tbody>\n",
       "        </table>\n",
       "        \n",
       "        <p>Total: 2</p></div>\n",
       "        "
      ],
      "text/plain": [
       "*features_para params    \n",
       "+------------+ +--------+\n",
       "amplitude      =BLOB=    \n",
       "amplitude, spi =BLOB=    \n",
       " (Total: 2)"
      ]
     },
     "execution_count": 7,
     "metadata": {},
     "output_type": "execute_result"
    }
   ],
   "source": [
    "from spyglass.decoding.v1.waveform_features import WaveformFeaturesParams\n",
    "\n",
    "waveform_extraction_params = {\n",
    "    \"ms_before\": 0.5,\n",
    "    \"ms_after\": 0.5,\n",
    "    \"max_spikes_per_unit\": None,\n",
    "    \"n_jobs\": 5,\n",
    "    \"total_memory\": \"5G\",\n",
    "}\n",
    "waveform_feature_params = {\n",
    "    \"amplitude\": {\n",
    "        \"peak_sign\": \"neg\",\n",
    "        \"estimate_peak_time\": False,\n",
    "    }\n",
    "}\n",
    "\n",
    "WaveformFeaturesParams.insert1(\n",
    "    {\n",
    "        \"features_param_name\": \"amplitude\",\n",
    "        \"params\": {\n",
    "            \"waveform_extraction_params\": waveform_extraction_params,\n",
    "            \"waveform_feature_params\": waveform_feature_params,\n",
    "        },\n",
    "    },\n",
    "    skip_duplicates=True,\n",
    ")\n",
    "\n",
    "WaveformFeaturesParams()"
   ]
  },
  {
   "cell_type": "markdown",
   "metadata": {},
   "source": [
    "Now that we've inserted the waveform features parameters, we need to define which parameters to use for each SortGroup. This is done by the `UnitWaveformFeaturesSelection` table. We need to link the primary key `merge_id` from the `SpikeSortingOutput` table to a features parameter set."
   ]
  },
  {
   "cell_type": "code",
   "execution_count": 8,
   "metadata": {},
   "outputs": [
    {
     "data": {
      "text/html": [
       "\n",
       "    \n",
       "    <style type=\"text/css\">\n",
       "        .Table{\n",
       "            border-collapse:collapse;\n",
       "        }\n",
       "        .Table th{\n",
       "            background: #A0A0A0; color: #ffffff; padding:4px; border:#f0e0e0 1px solid;\n",
       "            font-weight: normal; font-family: monospace; font-size: 100%;\n",
       "        }\n",
       "        .Table td{\n",
       "            padding:4px; border:#f0e0e0 1px solid; font-size:100%;\n",
       "        }\n",
       "        .Table tr:nth-child(odd){\n",
       "            background: #ffffff;\n",
       "            color: #000000;\n",
       "        }\n",
       "        .Table tr:nth-child(even){\n",
       "            background: #f3f1ff;\n",
       "            color: #000000;\n",
       "        }\n",
       "        /* Tooltip container */\n",
       "        .djtooltip {\n",
       "        }\n",
       "        /* Tooltip text */\n",
       "        .djtooltip .djtooltiptext {\n",
       "            visibility: hidden;\n",
       "            width: 120px;\n",
       "            background-color: black;\n",
       "            color: #fff;\n",
       "            text-align: center;\n",
       "            padding: 5px 0;\n",
       "            border-radius: 6px;\n",
       "            /* Position the tooltip text - see examples below! */\n",
       "            position: absolute;\n",
       "            z-index: 1;\n",
       "        }\n",
       "        #primary {\n",
       "            font-weight: bold;\n",
       "            color: black;\n",
       "        }\n",
       "        #nonprimary {\n",
       "            font-weight: normal;\n",
       "            color: white;\n",
       "        }\n",
       "\n",
       "        /* Show the tooltip text when you mouse over the tooltip container */\n",
       "        .djtooltip:hover .djtooltiptext {\n",
       "            visibility: visible;\n",
       "        }\n",
       "    </style>\n",
       "    \n",
       "    <b></b>\n",
       "        <div style=\"max-height:1000px;max-width:1500px;overflow:auto;\">\n",
       "        <table border=\"1\" class=\"Table\">\n",
       "            <thead> <tr style=\"text-align: right;\"> <th> <div class=\"djtooltip\">\n",
       "                            <p id=\"primary\">spikesorting_merge_id</p>\n",
       "                            <span class=\"djtooltiptext\"></span>\n",
       "                        </div></th><th><div class=\"djtooltip\">\n",
       "                            <p id=\"primary\">features_param_name</p>\n",
       "                            <span class=\"djtooltiptext\">a name for this set of parameters</span>\n",
       "                        </div> </th> </tr> </thead>\n",
       "            <tbody> <tr>  </tr> </tbody>\n",
       "        </table>\n",
       "        \n",
       "        <p>Total: 0</p></div>\n",
       "        "
      ],
      "text/plain": [
       "*spikesorting_ *features_para\n",
       "+------------+ +------------+\n",
       "\n",
       " (Total: 0)"
      ]
     },
     "execution_count": 8,
     "metadata": {},
     "output_type": "execute_result"
    }
   ],
   "source": [
    "from spyglass.decoding.v1.waveform_features import UnitWaveformFeaturesSelection\n",
    "\n",
    "UnitWaveformFeaturesSelection()"
   ]
  },
  {
   "cell_type": "markdown",
   "metadata": {},
   "source": [
    "First we find the units we need:"
   ]
  },
  {
   "cell_type": "code",
   "execution_count": 9,
   "metadata": {},
   "outputs": [
    {
     "data": {
      "text/plain": [
       "array([UUID('86acdb0f-84f0-73a2-a851-1f8305cd2e41'),\n",
       "       UUID('46829e10-1984-99a1-65a3-2b485a2f037f'),\n",
       "       UUID('ec308784-2bfb-dd90-147c-e4d44e5f649b'),\n",
       "       UUID('4b3065e5-76c2-bd48-32a1-ae62484f9314'),\n",
       "       UUID('609aeb54-dc2e-52d3-91bf-1728e0a2cf09'),\n",
       "       UUID('88492b1c-f4a9-9669-bb5b-7f1573015187'),\n",
       "       UUID('f515c07f-fc80-b28a-750d-d0d5491259f4'),\n",
       "       UUID('f4e29a80-ec96-dbe8-7081-425ac311b74c'),\n",
       "       UUID('d7754d5f-af01-19f4-3fdc-c9635081667a'),\n",
       "       UUID('2567bf67-bc67-47a5-aa2a-2bce19da232d'),\n",
       "       UUID('d65a1bf3-797d-b01f-e8be-2cea90b14c20'),\n",
       "       UUID('92c336ee-81f4-0af9-4f60-9bc32e71bc9f'),\n",
       "       UUID('aa8bc575-0715-69e9-5da7-313a0e1ee769'),\n",
       "       UUID('26310ce7-9ac3-4159-99f8-a3ad17037235'),\n",
       "       UUID('7355bdf3-f31c-4c22-1a09-50d9f6f5f037'),\n",
       "       UUID('189fb8c6-f964-00a9-f392-a9dbb138ea63'),\n",
       "       UUID('c4f24219-c023-8783-df53-2bbc88c9ad9c'),\n",
       "       UUID('411dff13-44f0-3e03-e867-689ae275e418'),\n",
       "       UUID('153954b2-b230-cb1f-749d-f977a22eaae9'),\n",
       "       UUID('00763b68-d663-c446-0555-1f2622d7da50'),\n",
       "       UUID('03954edd-f8fd-3dd9-cd10-f0eee47d6b3d'),\n",
       "       UUID('43a98eab-1fa6-184b-1f09-2e923984b03a'),\n",
       "       UUID('0720e5f2-625e-09d2-b522-ca2652c09f2a')], dtype=object)"
      ]
     },
     "execution_count": 9,
     "metadata": {},
     "output_type": "execute_result"
    }
   ],
   "source": [
    "from spyglass.spikesorting.merge import SpikeSortingOutput\n",
    "\n",
    "merge_ids = (\n",
    "    (SpikeSortingOutput.CurationV1 * sgs.SpikeSortingSelection)\n",
    "    & {\n",
    "        \"nwb_file_name\": nwb_copy_file_name,\n",
    "        \"sorter\": \"clusterless_thresholder\",\n",
    "        \"sorter_param_name\": \"default_clusterless\",\n",
    "    }\n",
    ").fetch(\"merge_id\")\n",
    "merge_ids"
   ]
  },
  {
   "cell_type": "markdown",
   "metadata": {},
   "source": [
    "Then we link them with the features parameters:"
   ]
  },
  {
   "cell_type": "code",
   "execution_count": 10,
   "metadata": {},
   "outputs": [
    {
     "data": {
      "text/html": [
       "\n",
       "    \n",
       "    <style type=\"text/css\">\n",
       "        .Table{\n",
       "            border-collapse:collapse;\n",
       "        }\n",
       "        .Table th{\n",
       "            background: #A0A0A0; color: #ffffff; padding:4px; border:#f0e0e0 1px solid;\n",
       "            font-weight: normal; font-family: monospace; font-size: 100%;\n",
       "        }\n",
       "        .Table td{\n",
       "            padding:4px; border:#f0e0e0 1px solid; font-size:100%;\n",
       "        }\n",
       "        .Table tr:nth-child(odd){\n",
       "            background: #ffffff;\n",
       "            color: #000000;\n",
       "        }\n",
       "        .Table tr:nth-child(even){\n",
       "            background: #f3f1ff;\n",
       "            color: #000000;\n",
       "        }\n",
       "        /* Tooltip container */\n",
       "        .djtooltip {\n",
       "        }\n",
       "        /* Tooltip text */\n",
       "        .djtooltip .djtooltiptext {\n",
       "            visibility: hidden;\n",
       "            width: 120px;\n",
       "            background-color: black;\n",
       "            color: #fff;\n",
       "            text-align: center;\n",
       "            padding: 5px 0;\n",
       "            border-radius: 6px;\n",
       "            /* Position the tooltip text - see examples below! */\n",
       "            position: absolute;\n",
       "            z-index: 1;\n",
       "        }\n",
       "        #primary {\n",
       "            font-weight: bold;\n",
       "            color: black;\n",
       "        }\n",
       "        #nonprimary {\n",
       "            font-weight: normal;\n",
       "            color: white;\n",
       "        }\n",
       "\n",
       "        /* Show the tooltip text when you mouse over the tooltip container */\n",
       "        .djtooltip:hover .djtooltiptext {\n",
       "            visibility: visible;\n",
       "        }\n",
       "    </style>\n",
       "    \n",
       "    <b></b>\n",
       "        <div style=\"max-height:1000px;max-width:1500px;overflow:auto;\">\n",
       "        <table border=\"1\" class=\"Table\">\n",
       "            <thead> <tr style=\"text-align: right;\"> <th> <div class=\"djtooltip\">\n",
       "                            <p id=\"primary\">spikesorting_merge_id</p>\n",
       "                            <span class=\"djtooltiptext\"></span>\n",
       "                        </div></th><th><div class=\"djtooltip\">\n",
       "                            <p id=\"primary\">features_param_name</p>\n",
       "                            <span class=\"djtooltiptext\">a name for this set of parameters</span>\n",
       "                        </div> </th> </tr> </thead>\n",
       "            <tbody> <tr> <td>00763b68-d663-c446-0555-1f2622d7da50</td>\n",
       "<td>amplitude</td></tr><tr><td>03954edd-f8fd-3dd9-cd10-f0eee47d6b3d</td>\n",
       "<td>amplitude</td></tr><tr><td>0720e5f2-625e-09d2-b522-ca2652c09f2a</td>\n",
       "<td>amplitude</td></tr><tr><td>153954b2-b230-cb1f-749d-f977a22eaae9</td>\n",
       "<td>amplitude</td></tr><tr><td>189fb8c6-f964-00a9-f392-a9dbb138ea63</td>\n",
       "<td>amplitude</td></tr><tr><td>2567bf67-bc67-47a5-aa2a-2bce19da232d</td>\n",
       "<td>amplitude</td></tr><tr><td>26310ce7-9ac3-4159-99f8-a3ad17037235</td>\n",
       "<td>amplitude</td></tr><tr><td>411dff13-44f0-3e03-e867-689ae275e418</td>\n",
       "<td>amplitude</td></tr><tr><td>43a98eab-1fa6-184b-1f09-2e923984b03a</td>\n",
       "<td>amplitude</td></tr><tr><td>46829e10-1984-99a1-65a3-2b485a2f037f</td>\n",
       "<td>amplitude</td></tr><tr><td>4b3065e5-76c2-bd48-32a1-ae62484f9314</td>\n",
       "<td>amplitude</td></tr><tr><td>609aeb54-dc2e-52d3-91bf-1728e0a2cf09</td>\n",
       "<td>amplitude</td> </tr> </tbody>\n",
       "        </table>\n",
       "        <p>...</p>\n",
       "        <p>Total: 23</p></div>\n",
       "        "
      ],
      "text/plain": [
       "*spikesorting_ *features_para\n",
       "+------------+ +------------+\n",
       "00763b68-d663- amplitude     \n",
       "03954edd-f8fd- amplitude     \n",
       "0720e5f2-625e- amplitude     \n",
       "153954b2-b230- amplitude     \n",
       "189fb8c6-f964- amplitude     \n",
       "2567bf67-bc67- amplitude     \n",
       "26310ce7-9ac3- amplitude     \n",
       "411dff13-44f0- amplitude     \n",
       "43a98eab-1fa6- amplitude     \n",
       "46829e10-1984- amplitude     \n",
       "4b3065e5-76c2- amplitude     \n",
       "609aeb54-dc2e- amplitude     \n",
       "   ...\n",
       " (Total: 23)"
      ]
     },
     "execution_count": 10,
     "metadata": {},
     "output_type": "execute_result"
    }
   ],
   "source": [
    "selection_keys = [\n",
    "    {\n",
    "        \"spikesorting_merge_id\": merge_id,\n",
    "        \"features_param_name\": \"amplitude\",\n",
    "    }\n",
    "    for merge_id in merge_ids\n",
    "]\n",
    "UnitWaveformFeaturesSelection.insert(selection_keys, skip_duplicates=True)\n",
    "\n",
    "UnitWaveformFeaturesSelection & selection_keys"
   ]
  },
  {
   "cell_type": "markdown",
   "metadata": {},
   "source": [
    "Finally, we extract the waveform features, by populating the `UnitWaveformFeatures` table:"
   ]
  },
  {
   "cell_type": "code",
   "execution_count": 11,
   "metadata": {},
   "outputs": [
    {
     "name": "stderr",
     "output_type": "stream",
     "text": [
      "/Users/edeno/miniconda3/envs/spyglass/lib/python3.9/site-packages/spikeinterface/core/waveform_extractor.py:275: UserWarning: Sorting object is not dumpable, which might result in downstream errors for parallel processing. To make the sorting dumpable, use the `sorting.save()` function.\n",
      "  warn(\n"
     ]
    },
    {
     "data": {
      "application/vnd.jupyter.widget-view+json": {
       "model_id": "9d8a3acb3c93445cb6d77a739c4569f8",
       "version_major": 2,
       "version_minor": 0
      },
      "text/plain": [
       "extract waveforms memmap:   0%|          | 0/2 [00:00<?, ?it/s]"
      ]
     },
     "metadata": {},
     "output_type": "display_data"
    },
    {
     "name": "stderr",
     "output_type": "stream",
     "text": [
      "[2024-01-02 11:23:00,301][WARNING]: Skipped checksum for file with hash: b12a9d1d-d019-7c0e-09bf-355936d14915, and path: /Users/edeno/Documents/GitHub/spyglass/DATA/analysis/mediumnwb20230802/mediumnwb20230802_DRQ7MITSST.nwb\n",
      "/Users/edeno/miniconda3/envs/spyglass/lib/python3.9/site-packages/pynwb/ecephys.py:90: UserWarning: ElectricalSeries 'e-series': The second dimension of data does not match the length of electrodes. Your data may be transposed.\n",
      "  warnings.warn(\"%s '%s': The second dimension of data does not match the length of electrodes. \"\n",
      "/Users/edeno/miniconda3/envs/spyglass/lib/python3.9/site-packages/pynwb/base.py:193: UserWarning: TimeSeries 'analog': Length of data does not match length of timestamps. Your data may be transposed. Time should be on the 0th dimension\n",
      "  warn(\"%s '%s': Length of data does not match length of timestamps. Your data may be transposed. \"\n",
      "[11:23:00][INFO] Spyglass: Writing new NWB file mediumnwb20230802_OX2ORY4MKR.nwb\n",
      "/Users/edeno/miniconda3/envs/spyglass/lib/python3.9/site-packages/spikeinterface/core/waveform_extractor.py:275: UserWarning: Sorting object is not dumpable, which might result in downstream errors for parallel processing. To make the sorting dumpable, use the `sorting.save()` function.\n",
      "  warn(\n"
     ]
    },
    {
     "data": {
      "application/vnd.jupyter.widget-view+json": {
       "model_id": "a6ea0474a3344875804dc98c2fa13237",
       "version_major": 2,
       "version_minor": 0
      },
      "text/plain": [
       "extract waveforms memmap:   0%|          | 0/2 [00:00<?, ?it/s]"
      ]
     },
     "metadata": {},
     "output_type": "display_data"
    },
    {
     "name": "stderr",
     "output_type": "stream",
     "text": [
      "[2024-01-02 11:23:09,887][WARNING]: Skipped checksum for file with hash: c8f4786b-9ef7-61f7-cae0-251e84c59317, and path: /Users/edeno/Documents/GitHub/spyglass/DATA/analysis/mediumnwb20230802/mediumnwb20230802_XXD817HX5I.nwb\n",
      "/Users/edeno/miniconda3/envs/spyglass/lib/python3.9/site-packages/pynwb/ecephys.py:90: UserWarning: ElectricalSeries 'e-series': The second dimension of data does not match the length of electrodes. Your data may be transposed.\n",
      "  warnings.warn(\"%s '%s': The second dimension of data does not match the length of electrodes. \"\n",
      "/Users/edeno/miniconda3/envs/spyglass/lib/python3.9/site-packages/pynwb/base.py:193: UserWarning: TimeSeries 'analog': Length of data does not match length of timestamps. Your data may be transposed. Time should be on the 0th dimension\n",
      "  warn(\"%s '%s': Length of data does not match length of timestamps. Your data may be transposed. \"\n",
      "[11:23:10][INFO] Spyglass: Writing new NWB file mediumnwb20230802_O1OGMFS4AF.nwb\n",
      "/Users/edeno/miniconda3/envs/spyglass/lib/python3.9/site-packages/spikeinterface/core/waveform_extractor.py:275: UserWarning: Sorting object is not dumpable, which might result in downstream errors for parallel processing. To make the sorting dumpable, use the `sorting.save()` function.\n",
      "  warn(\n"
     ]
    },
    {
     "data": {
      "application/vnd.jupyter.widget-view+json": {
       "model_id": "3bec079c01bb44d99ffcc20c3306f139",
       "version_major": 2,
       "version_minor": 0
      },
      "text/plain": [
       "extract waveforms memmap:   0%|          | 0/2 [00:00<?, ?it/s]"
      ]
     },
     "metadata": {},
     "output_type": "display_data"
    },
    {
     "name": "stderr",
     "output_type": "stream",
     "text": [
      "[2024-01-02 11:23:19,778][WARNING]: Skipped checksum for file with hash: 6907761c-fb37-6528-56d7-507d5525a69b, and path: /Users/edeno/Documents/GitHub/spyglass/DATA/analysis/mediumnwb20230802/mediumnwb20230802_JN3OG7ZA5E.nwb\n",
      "/Users/edeno/miniconda3/envs/spyglass/lib/python3.9/site-packages/pynwb/ecephys.py:90: UserWarning: ElectricalSeries 'e-series': The second dimension of data does not match the length of electrodes. Your data may be transposed.\n",
      "  warnings.warn(\"%s '%s': The second dimension of data does not match the length of electrodes. \"\n",
      "/Users/edeno/miniconda3/envs/spyglass/lib/python3.9/site-packages/pynwb/base.py:193: UserWarning: TimeSeries 'analog': Length of data does not match length of timestamps. Your data may be transposed. Time should be on the 0th dimension\n",
      "  warn(\"%s '%s': Length of data does not match length of timestamps. Your data may be transposed. \"\n",
      "[11:23:20][INFO] Spyglass: Writing new NWB file mediumnwb20230802_Y3E5VJAR0Z.nwb\n",
      "/Users/edeno/miniconda3/envs/spyglass/lib/python3.9/site-packages/spikeinterface/core/waveform_extractor.py:275: UserWarning: Sorting object is not dumpable, which might result in downstream errors for parallel processing. To make the sorting dumpable, use the `sorting.save()` function.\n",
      "  warn(\n"
     ]
    },
    {
     "data": {
      "application/vnd.jupyter.widget-view+json": {
       "model_id": "993068f7b4c5443db4375a64a826cef4",
       "version_major": 2,
       "version_minor": 0
      },
      "text/plain": [
       "extract waveforms memmap:   0%|          | 0/2 [00:00<?, ?it/s]"
      ]
     },
     "metadata": {},
     "output_type": "display_data"
    },
    {
     "name": "stderr",
     "output_type": "stream",
     "text": [
      "[2024-01-02 11:23:29,678][WARNING]: Skipped checksum for file with hash: 1767224a-ebf4-819e-deb3-67c6d47bcf57, and path: /Users/edeno/Documents/GitHub/spyglass/DATA/analysis/mediumnwb20230802/mediumnwb20230802_BKRH5CPBEZ.nwb\n",
      "/Users/edeno/miniconda3/envs/spyglass/lib/python3.9/site-packages/pynwb/ecephys.py:90: UserWarning: ElectricalSeries 'e-series': The second dimension of data does not match the length of electrodes. Your data may be transposed.\n",
      "  warnings.warn(\"%s '%s': The second dimension of data does not match the length of electrodes. \"\n",
      "/Users/edeno/miniconda3/envs/spyglass/lib/python3.9/site-packages/pynwb/base.py:193: UserWarning: TimeSeries 'analog': Length of data does not match length of timestamps. Your data may be transposed. Time should be on the 0th dimension\n",
      "  warn(\"%s '%s': Length of data does not match length of timestamps. Your data may be transposed. \"\n",
      "[11:23:29][INFO] Spyglass: Writing new NWB file mediumnwb20230802_E66YNNI7S4.nwb\n",
      "/Users/edeno/miniconda3/envs/spyglass/lib/python3.9/site-packages/spikeinterface/core/waveform_extractor.py:275: UserWarning: Sorting object is not dumpable, which might result in downstream errors for parallel processing. To make the sorting dumpable, use the `sorting.save()` function.\n",
      "  warn(\n"
     ]
    },
    {
     "data": {
      "application/vnd.jupyter.widget-view+json": {
       "model_id": "3893c963e63d4cd79bcc111f7fdb5e5b",
       "version_major": 2,
       "version_minor": 0
      },
      "text/plain": [
       "extract waveforms memmap:   0%|          | 0/2 [00:00<?, ?it/s]"
      ]
     },
     "metadata": {},
     "output_type": "display_data"
    },
    {
     "name": "stderr",
     "output_type": "stream",
     "text": [
      "[2024-01-02 11:23:40,093][WARNING]: Skipped checksum for file with hash: 45bce4f3-1861-a3bb-a7d1-522a39d83dde, and path: /Users/edeno/Documents/GitHub/spyglass/DATA/analysis/mediumnwb20230802/mediumnwb20230802_RX8QUCHGVT.nwb\n",
      "/Users/edeno/miniconda3/envs/spyglass/lib/python3.9/site-packages/pynwb/ecephys.py:90: UserWarning: ElectricalSeries 'e-series': The second dimension of data does not match the length of electrodes. Your data may be transposed.\n",
      "  warnings.warn(\"%s '%s': The second dimension of data does not match the length of electrodes. \"\n",
      "/Users/edeno/miniconda3/envs/spyglass/lib/python3.9/site-packages/pynwb/base.py:193: UserWarning: TimeSeries 'analog': Length of data does not match length of timestamps. Your data may be transposed. Time should be on the 0th dimension\n",
      "  warn(\"%s '%s': Length of data does not match length of timestamps. Your data may be transposed. \"\n",
      "[11:23:40][INFO] Spyglass: Writing new NWB file mediumnwb20230802_UZ3IGTO5AU.nwb\n",
      "/Users/edeno/miniconda3/envs/spyglass/lib/python3.9/site-packages/spikeinterface/core/waveform_extractor.py:275: UserWarning: Sorting object is not dumpable, which might result in downstream errors for parallel processing. To make the sorting dumpable, use the `sorting.save()` function.\n",
      "  warn(\n"
     ]
    },
    {
     "data": {
      "application/vnd.jupyter.widget-view+json": {
       "model_id": "afd4a8f07be34ecb9250d4236e131fff",
       "version_major": 2,
       "version_minor": 0
      },
      "text/plain": [
       "extract waveforms memmap:   0%|          | 0/2 [00:00<?, ?it/s]"
      ]
     },
     "metadata": {},
     "output_type": "display_data"
    },
    {
     "name": "stderr",
     "output_type": "stream",
     "text": [
      "[2024-01-02 11:23:50,600][WARNING]: Skipped checksum for file with hash: 36da4c85-d069-0e7f-3086-94efb47e6b78, and path: /Users/edeno/Documents/GitHub/spyglass/DATA/analysis/mediumnwb20230802/mediumnwb20230802_VHA7WLA4XX.nwb\n",
      "/Users/edeno/miniconda3/envs/spyglass/lib/python3.9/site-packages/pynwb/ecephys.py:90: UserWarning: ElectricalSeries 'e-series': The second dimension of data does not match the length of electrodes. Your data may be transposed.\n",
      "  warnings.warn(\"%s '%s': The second dimension of data does not match the length of electrodes. \"\n",
      "/Users/edeno/miniconda3/envs/spyglass/lib/python3.9/site-packages/pynwb/base.py:193: UserWarning: TimeSeries 'analog': Length of data does not match length of timestamps. Your data may be transposed. Time should be on the 0th dimension\n",
      "  warn(\"%s '%s': Length of data does not match length of timestamps. Your data may be transposed. \"\n",
      "[11:23:50][INFO] Spyglass: Writing new NWB file mediumnwb20230802_CHBHDNP2W8.nwb\n",
      "/Users/edeno/miniconda3/envs/spyglass/lib/python3.9/site-packages/spikeinterface/core/waveform_extractor.py:275: UserWarning: Sorting object is not dumpable, which might result in downstream errors for parallel processing. To make the sorting dumpable, use the `sorting.save()` function.\n",
      "  warn(\n"
     ]
    },
    {
     "data": {
      "application/vnd.jupyter.widget-view+json": {
       "model_id": "b36a535ae08e43fcb5419b6727d8f53f",
       "version_major": 2,
       "version_minor": 0
      },
      "text/plain": [
       "extract waveforms memmap:   0%|          | 0/2 [00:00<?, ?it/s]"
      ]
     },
     "metadata": {},
     "output_type": "display_data"
    },
    {
     "name": "stderr",
     "output_type": "stream",
     "text": [
      "[2024-01-02 11:24:00,723][WARNING]: Skipped checksum for file with hash: 0972a7a6-1e32-5164-7fcc-e2b9aff76c05, and path: /Users/edeno/Documents/GitHub/spyglass/DATA/analysis/mediumnwb20230802/mediumnwb20230802_9SQUOJRQSS.nwb\n",
      "/Users/edeno/miniconda3/envs/spyglass/lib/python3.9/site-packages/pynwb/ecephys.py:90: UserWarning: ElectricalSeries 'e-series': The second dimension of data does not match the length of electrodes. Your data may be transposed.\n",
      "  warnings.warn(\"%s '%s': The second dimension of data does not match the length of electrodes. \"\n",
      "/Users/edeno/miniconda3/envs/spyglass/lib/python3.9/site-packages/pynwb/base.py:193: UserWarning: TimeSeries 'analog': Length of data does not match length of timestamps. Your data may be transposed. Time should be on the 0th dimension\n",
      "  warn(\"%s '%s': Length of data does not match length of timestamps. Your data may be transposed. \"\n",
      "[11:24:01][INFO] Spyglass: Writing new NWB file mediumnwb20230802_L0LVGC1DFT.nwb\n",
      "/Users/edeno/miniconda3/envs/spyglass/lib/python3.9/site-packages/spikeinterface/core/waveform_extractor.py:275: UserWarning: Sorting object is not dumpable, which might result in downstream errors for parallel processing. To make the sorting dumpable, use the `sorting.save()` function.\n",
      "  warn(\n"
     ]
    },
    {
     "data": {
      "application/vnd.jupyter.widget-view+json": {
       "model_id": "f8fda2628e3c4806940d629ed46e6260",
       "version_major": 2,
       "version_minor": 0
      },
      "text/plain": [
       "extract waveforms memmap:   0%|          | 0/2 [00:00<?, ?it/s]"
      ]
     },
     "metadata": {},
     "output_type": "display_data"
    },
    {
     "name": "stderr",
     "output_type": "stream",
     "text": [
      "[2024-01-02 11:24:10,661][WARNING]: Skipped checksum for file with hash: 7133aab2-7288-85f8-f65f-695afa564e63, and path: /Users/edeno/Documents/GitHub/spyglass/DATA/analysis/mediumnwb20230802/mediumnwb20230802_4LOGBKOP0I.nwb\n",
      "/Users/edeno/miniconda3/envs/spyglass/lib/python3.9/site-packages/pynwb/ecephys.py:90: UserWarning: ElectricalSeries 'e-series': The second dimension of data does not match the length of electrodes. Your data may be transposed.\n",
      "  warnings.warn(\"%s '%s': The second dimension of data does not match the length of electrodes. \"\n",
      "/Users/edeno/miniconda3/envs/spyglass/lib/python3.9/site-packages/pynwb/base.py:193: UserWarning: TimeSeries 'analog': Length of data does not match length of timestamps. Your data may be transposed. Time should be on the 0th dimension\n",
      "  warn(\"%s '%s': Length of data does not match length of timestamps. Your data may be transposed. \"\n",
      "[11:24:10][INFO] Spyglass: Writing new NWB file mediumnwb20230802_428JKP43Q1.nwb\n",
      "/Users/edeno/miniconda3/envs/spyglass/lib/python3.9/site-packages/spikeinterface/core/waveform_extractor.py:275: UserWarning: Sorting object is not dumpable, which might result in downstream errors for parallel processing. To make the sorting dumpable, use the `sorting.save()` function.\n",
      "  warn(\n"
     ]
    },
    {
     "data": {
      "application/vnd.jupyter.widget-view+json": {
       "model_id": "eab8a1d34ccc490ebf044cd1784f7305",
       "version_major": 2,
       "version_minor": 0
      },
      "text/plain": [
       "extract waveforms memmap:   0%|          | 0/2 [00:00<?, ?it/s]"
      ]
     },
     "metadata": {},
     "output_type": "display_data"
    },
    {
     "name": "stderr",
     "output_type": "stream",
     "text": [
      "[2024-01-02 11:24:20,521][WARNING]: Skipped checksum for file with hash: 1ea4fc37-411c-0da6-00ec-f18beaa69e06, and path: /Users/edeno/Documents/GitHub/spyglass/DATA/analysis/mediumnwb20230802/mediumnwb20230802_C8VMYH7C9V.nwb\n",
      "/Users/edeno/miniconda3/envs/spyglass/lib/python3.9/site-packages/pynwb/ecephys.py:90: UserWarning: ElectricalSeries 'e-series': The second dimension of data does not match the length of electrodes. Your data may be transposed.\n",
      "  warnings.warn(\"%s '%s': The second dimension of data does not match the length of electrodes. \"\n",
      "/Users/edeno/miniconda3/envs/spyglass/lib/python3.9/site-packages/pynwb/base.py:193: UserWarning: TimeSeries 'analog': Length of data does not match length of timestamps. Your data may be transposed. Time should be on the 0th dimension\n",
      "  warn(\"%s '%s': Length of data does not match length of timestamps. Your data may be transposed. \"\n",
      "[11:24:20][INFO] Spyglass: Writing new NWB file mediumnwb20230802_X13I3BGUB1.nwb\n",
      "/Users/edeno/miniconda3/envs/spyglass/lib/python3.9/site-packages/spikeinterface/core/waveform_extractor.py:275: UserWarning: Sorting object is not dumpable, which might result in downstream errors for parallel processing. To make the sorting dumpable, use the `sorting.save()` function.\n",
      "  warn(\n"
     ]
    },
    {
     "data": {
      "application/vnd.jupyter.widget-view+json": {
       "model_id": "85a6ac370fcc4c999e3bb8ff03bed6e9",
       "version_major": 2,
       "version_minor": 0
      },
      "text/plain": [
       "extract waveforms memmap:   0%|          | 0/2 [00:00<?, ?it/s]"
      ]
     },
     "metadata": {},
     "output_type": "display_data"
    },
    {
     "name": "stderr",
     "output_type": "stream",
     "text": [
      "[2024-01-02 11:24:30,164][WARNING]: Skipped checksum for file with hash: 7cd08c29-050b-30d6-93a4-6ede72933662, and path: /Users/edeno/Documents/GitHub/spyglass/DATA/analysis/mediumnwb20230802/mediumnwb20230802_OQL3ITCETP.nwb\n",
      "/Users/edeno/miniconda3/envs/spyglass/lib/python3.9/site-packages/pynwb/ecephys.py:90: UserWarning: ElectricalSeries 'e-series': The second dimension of data does not match the length of electrodes. Your data may be transposed.\n",
      "  warnings.warn(\"%s '%s': The second dimension of data does not match the length of electrodes. \"\n",
      "/Users/edeno/miniconda3/envs/spyglass/lib/python3.9/site-packages/pynwb/base.py:193: UserWarning: TimeSeries 'analog': Length of data does not match length of timestamps. Your data may be transposed. Time should be on the 0th dimension\n",
      "  warn(\"%s '%s': Length of data does not match length of timestamps. Your data may be transposed. \"\n",
      "[11:24:30][INFO] Spyglass: Writing new NWB file mediumnwb20230802_0LXKB5BPTL.nwb\n",
      "/Users/edeno/miniconda3/envs/spyglass/lib/python3.9/site-packages/spikeinterface/core/waveform_extractor.py:275: UserWarning: Sorting object is not dumpable, which might result in downstream errors for parallel processing. To make the sorting dumpable, use the `sorting.save()` function.\n",
      "  warn(\n"
     ]
    },
    {
     "data": {
      "application/vnd.jupyter.widget-view+json": {
       "model_id": "8038db68b7a94c1c829986dcc0b38bdb",
       "version_major": 2,
       "version_minor": 0
      },
      "text/plain": [
       "extract waveforms memmap:   0%|          | 0/2 [00:00<?, ?it/s]"
      ]
     },
     "metadata": {},
     "output_type": "display_data"
    },
    {
     "name": "stderr",
     "output_type": "stream",
     "text": [
      "[2024-01-02 11:24:40,329][WARNING]: Skipped checksum for file with hash: a2e79fe8-35f0-0f60-a4a5-27eb822c57d5, and path: /Users/edeno/Documents/GitHub/spyglass/DATA/analysis/mediumnwb20230802/mediumnwb20230802_GU6KPWJ35V.nwb\n",
      "/Users/edeno/miniconda3/envs/spyglass/lib/python3.9/site-packages/pynwb/ecephys.py:90: UserWarning: ElectricalSeries 'e-series': The second dimension of data does not match the length of electrodes. Your data may be transposed.\n",
      "  warnings.warn(\"%s '%s': The second dimension of data does not match the length of electrodes. \"\n",
      "/Users/edeno/miniconda3/envs/spyglass/lib/python3.9/site-packages/pynwb/base.py:193: UserWarning: TimeSeries 'analog': Length of data does not match length of timestamps. Your data may be transposed. Time should be on the 0th dimension\n",
      "  warn(\"%s '%s': Length of data does not match length of timestamps. Your data may be transposed. \"\n",
      "[11:24:40][INFO] Spyglass: Writing new NWB file mediumnwb20230802_HX2DNMBYI5.nwb\n",
      "/Users/edeno/miniconda3/envs/spyglass/lib/python3.9/site-packages/spikeinterface/core/waveform_extractor.py:275: UserWarning: Sorting object is not dumpable, which might result in downstream errors for parallel processing. To make the sorting dumpable, use the `sorting.save()` function.\n",
      "  warn(\n"
     ]
    },
    {
     "data": {
      "application/vnd.jupyter.widget-view+json": {
       "model_id": "ded45eee83b3496793d534c87e347573",
       "version_major": 2,
       "version_minor": 0
      },
      "text/plain": [
       "extract waveforms memmap:   0%|          | 0/2 [00:00<?, ?it/s]"
      ]
     },
     "metadata": {},
     "output_type": "display_data"
    },
    {
     "name": "stderr",
     "output_type": "stream",
     "text": [
      "[2024-01-02 11:24:49,788][WARNING]: Skipped checksum for file with hash: 386e6724-08dc-8cca-6670-f8ed557cdd44, and path: /Users/edeno/Documents/GitHub/spyglass/DATA/analysis/mediumnwb20230802/mediumnwb20230802_H8R2XMWTYU.nwb\n",
      "/Users/edeno/miniconda3/envs/spyglass/lib/python3.9/site-packages/pynwb/ecephys.py:90: UserWarning: ElectricalSeries 'e-series': The second dimension of data does not match the length of electrodes. Your data may be transposed.\n",
      "  warnings.warn(\"%s '%s': The second dimension of data does not match the length of electrodes. \"\n",
      "/Users/edeno/miniconda3/envs/spyglass/lib/python3.9/site-packages/pynwb/base.py:193: UserWarning: TimeSeries 'analog': Length of data does not match length of timestamps. Your data may be transposed. Time should be on the 0th dimension\n",
      "  warn(\"%s '%s': Length of data does not match length of timestamps. Your data may be transposed. \"\n",
      "[11:24:50][INFO] Spyglass: Writing new NWB file mediumnwb20230802_9BC3PGE9BE.nwb\n",
      "/Users/edeno/miniconda3/envs/spyglass/lib/python3.9/site-packages/spikeinterface/core/waveform_extractor.py:275: UserWarning: Sorting object is not dumpable, which might result in downstream errors for parallel processing. To make the sorting dumpable, use the `sorting.save()` function.\n",
      "  warn(\n"
     ]
    },
    {
     "data": {
      "application/vnd.jupyter.widget-view+json": {
       "model_id": "383e0fd18ef741cbbe57e8e46a2b61d2",
       "version_major": 2,
       "version_minor": 0
      },
      "text/plain": [
       "extract waveforms memmap:   0%|          | 0/2 [00:00<?, ?it/s]"
      ]
     },
     "metadata": {},
     "output_type": "display_data"
    },
    {
     "name": "stderr",
     "output_type": "stream",
     "text": [
      "[2024-01-02 11:24:58,435][WARNING]: Skipped checksum for file with hash: 41849951-22a3-e057-5b72-398a5fd795fb, and path: /Users/edeno/Documents/GitHub/spyglass/DATA/analysis/mediumnwb20230802/mediumnwb20230802_KKBMX8E512.nwb\n",
      "/Users/edeno/miniconda3/envs/spyglass/lib/python3.9/site-packages/pynwb/ecephys.py:90: UserWarning: ElectricalSeries 'e-series': The second dimension of data does not match the length of electrodes. Your data may be transposed.\n",
      "  warnings.warn(\"%s '%s': The second dimension of data does not match the length of electrodes. \"\n",
      "/Users/edeno/miniconda3/envs/spyglass/lib/python3.9/site-packages/pynwb/base.py:193: UserWarning: TimeSeries 'analog': Length of data does not match length of timestamps. Your data may be transposed. Time should be on the 0th dimension\n",
      "  warn(\"%s '%s': Length of data does not match length of timestamps. Your data may be transposed. \"\n",
      "[11:24:58][INFO] Spyglass: Writing new NWB file mediumnwb20230802_L35KWBBILV.nwb\n",
      "/Users/edeno/miniconda3/envs/spyglass/lib/python3.9/site-packages/spikeinterface/core/waveform_extractor.py:275: UserWarning: Sorting object is not dumpable, which might result in downstream errors for parallel processing. To make the sorting dumpable, use the `sorting.save()` function.\n",
      "  warn(\n"
     ]
    },
    {
     "data": {
      "application/vnd.jupyter.widget-view+json": {
       "model_id": "cb64438525ce4109a2dfef5e27c62bc1",
       "version_major": 2,
       "version_minor": 0
      },
      "text/plain": [
       "extract waveforms memmap:   0%|          | 0/2 [00:00<?, ?it/s]"
      ]
     },
     "metadata": {},
     "output_type": "display_data"
    },
    {
     "name": "stderr",
     "output_type": "stream",
     "text": [
      "[2024-01-02 11:25:07,943][WARNING]: Skipped checksum for file with hash: ff8fb4a0-6100-1d83-7568-5ee8e49be5d3, and path: /Users/edeno/Documents/GitHub/spyglass/DATA/analysis/mediumnwb20230802/mediumnwb20230802_4VRPO41KQE.nwb\n",
      "/Users/edeno/miniconda3/envs/spyglass/lib/python3.9/site-packages/pynwb/ecephys.py:90: UserWarning: ElectricalSeries 'e-series': The second dimension of data does not match the length of electrodes. Your data may be transposed.\n",
      "  warnings.warn(\"%s '%s': The second dimension of data does not match the length of electrodes. \"\n",
      "/Users/edeno/miniconda3/envs/spyglass/lib/python3.9/site-packages/pynwb/base.py:193: UserWarning: TimeSeries 'analog': Length of data does not match length of timestamps. Your data may be transposed. Time should be on the 0th dimension\n",
      "  warn(\"%s '%s': Length of data does not match length of timestamps. Your data may be transposed. \"\n",
      "[11:25:08][INFO] Spyglass: Writing new NWB file mediumnwb20230802_BSIV3DLAMV.nwb\n",
      "/Users/edeno/miniconda3/envs/spyglass/lib/python3.9/site-packages/spikeinterface/core/waveform_extractor.py:275: UserWarning: Sorting object is not dumpable, which might result in downstream errors for parallel processing. To make the sorting dumpable, use the `sorting.save()` function.\n",
      "  warn(\n"
     ]
    },
    {
     "data": {
      "application/vnd.jupyter.widget-view+json": {
       "model_id": "6d25e326a5784c8fbfcbd8a8d331fee1",
       "version_major": 2,
       "version_minor": 0
      },
      "text/plain": [
       "extract waveforms memmap:   0%|          | 0/2 [00:00<?, ?it/s]"
      ]
     },
     "metadata": {},
     "output_type": "display_data"
    },
    {
     "name": "stderr",
     "output_type": "stream",
     "text": [
      "[2024-01-02 11:25:17,690][WARNING]: Skipped checksum for file with hash: 7019ae20-b254-003d-969c-27238030f925, and path: /Users/edeno/Documents/GitHub/spyglass/DATA/analysis/mediumnwb20230802/mediumnwb20230802_HLUMWXS9R0.nwb\n",
      "/Users/edeno/miniconda3/envs/spyglass/lib/python3.9/site-packages/pynwb/ecephys.py:90: UserWarning: ElectricalSeries 'e-series': The second dimension of data does not match the length of electrodes. Your data may be transposed.\n",
      "  warnings.warn(\"%s '%s': The second dimension of data does not match the length of electrodes. \"\n",
      "/Users/edeno/miniconda3/envs/spyglass/lib/python3.9/site-packages/pynwb/base.py:193: UserWarning: TimeSeries 'analog': Length of data does not match length of timestamps. Your data may be transposed. Time should be on the 0th dimension\n",
      "  warn(\"%s '%s': Length of data does not match length of timestamps. Your data may be transposed. \"\n",
      "[11:25:17][INFO] Spyglass: Writing new NWB file mediumnwb20230802_PWCOH5ROGU.nwb\n",
      "/Users/edeno/miniconda3/envs/spyglass/lib/python3.9/site-packages/spikeinterface/core/waveform_extractor.py:275: UserWarning: Sorting object is not dumpable, which might result in downstream errors for parallel processing. To make the sorting dumpable, use the `sorting.save()` function.\n",
      "  warn(\n"
     ]
    },
    {
     "data": {
      "application/vnd.jupyter.widget-view+json": {
       "model_id": "b2b9ca4184af4c619885f1e867b8f388",
       "version_major": 2,
       "version_minor": 0
      },
      "text/plain": [
       "extract waveforms memmap:   0%|          | 0/2 [00:00<?, ?it/s]"
      ]
     },
     "metadata": {},
     "output_type": "display_data"
    },
    {
     "name": "stderr",
     "output_type": "stream",
     "text": [
      "[2024-01-02 11:25:27,785][WARNING]: Skipped checksum for file with hash: 6ede8753-2030-2522-3d8e-1c88ccda72d3, and path: /Users/edeno/Documents/GitHub/spyglass/DATA/analysis/mediumnwb20230802/mediumnwb20230802_AGDX79CGKU.nwb\n",
      "/Users/edeno/miniconda3/envs/spyglass/lib/python3.9/site-packages/pynwb/ecephys.py:90: UserWarning: ElectricalSeries 'e-series': The second dimension of data does not match the length of electrodes. Your data may be transposed.\n",
      "  warnings.warn(\"%s '%s': The second dimension of data does not match the length of electrodes. \"\n",
      "/Users/edeno/miniconda3/envs/spyglass/lib/python3.9/site-packages/pynwb/base.py:193: UserWarning: TimeSeries 'analog': Length of data does not match length of timestamps. Your data may be transposed. Time should be on the 0th dimension\n",
      "  warn(\"%s '%s': Length of data does not match length of timestamps. Your data may be transposed. \"\n",
      "[11:25:28][INFO] Spyglass: Writing new NWB file mediumnwb20230802_JE0YCFOTU6.nwb\n",
      "/Users/edeno/miniconda3/envs/spyglass/lib/python3.9/site-packages/spikeinterface/core/waveform_extractor.py:275: UserWarning: Sorting object is not dumpable, which might result in downstream errors for parallel processing. To make the sorting dumpable, use the `sorting.save()` function.\n",
      "  warn(\n"
     ]
    },
    {
     "data": {
      "application/vnd.jupyter.widget-view+json": {
       "model_id": "017bfbe285d34ef58108fcef6e7d7895",
       "version_major": 2,
       "version_minor": 0
      },
      "text/plain": [
       "extract waveforms memmap:   0%|          | 0/2 [00:00<?, ?it/s]"
      ]
     },
     "metadata": {},
     "output_type": "display_data"
    },
    {
     "name": "stderr",
     "output_type": "stream",
     "text": [
      "[2024-01-02 11:25:37,853][WARNING]: Skipped checksum for file with hash: adf6cda7-1231-8218-2a7d-d0ea495ac5e0, and path: /Users/edeno/Documents/GitHub/spyglass/DATA/analysis/mediumnwb20230802/mediumnwb20230802_QW819UWMPS.nwb\n",
      "/Users/edeno/miniconda3/envs/spyglass/lib/python3.9/site-packages/pynwb/ecephys.py:90: UserWarning: ElectricalSeries 'e-series': The second dimension of data does not match the length of electrodes. Your data may be transposed.\n",
      "  warnings.warn(\"%s '%s': The second dimension of data does not match the length of electrodes. \"\n",
      "/Users/edeno/miniconda3/envs/spyglass/lib/python3.9/site-packages/pynwb/base.py:193: UserWarning: TimeSeries 'analog': Length of data does not match length of timestamps. Your data may be transposed. Time should be on the 0th dimension\n",
      "  warn(\"%s '%s': Length of data does not match length of timestamps. Your data may be transposed. \"\n",
      "[11:25:38][INFO] Spyglass: Writing new NWB file mediumnwb20230802_KFVKOTUGBY.nwb\n",
      "/Users/edeno/miniconda3/envs/spyglass/lib/python3.9/site-packages/spikeinterface/core/waveform_extractor.py:275: UserWarning: Sorting object is not dumpable, which might result in downstream errors for parallel processing. To make the sorting dumpable, use the `sorting.save()` function.\n",
      "  warn(\n"
     ]
    },
    {
     "data": {
      "application/vnd.jupyter.widget-view+json": {
       "model_id": "0ea546483db04770a3d84b28bfba6d03",
       "version_major": 2,
       "version_minor": 0
      },
      "text/plain": [
       "extract waveforms memmap:   0%|          | 0/2 [00:00<?, ?it/s]"
      ]
     },
     "metadata": {},
     "output_type": "display_data"
    },
    {
     "name": "stderr",
     "output_type": "stream",
     "text": [
      "[2024-01-02 11:25:46,039][WARNING]: Skipped checksum for file with hash: 9158e229-f0be-fe25-e5ac-c203bf9dd774, and path: /Users/edeno/Documents/GitHub/spyglass/DATA/analysis/mediumnwb20230802/mediumnwb20230802_X1ENKGF5F6.nwb\n",
      "/Users/edeno/miniconda3/envs/spyglass/lib/python3.9/site-packages/pynwb/ecephys.py:90: UserWarning: ElectricalSeries 'e-series': The second dimension of data does not match the length of electrodes. Your data may be transposed.\n",
      "  warnings.warn(\"%s '%s': The second dimension of data does not match the length of electrodes. \"\n",
      "/Users/edeno/miniconda3/envs/spyglass/lib/python3.9/site-packages/pynwb/base.py:193: UserWarning: TimeSeries 'analog': Length of data does not match length of timestamps. Your data may be transposed. Time should be on the 0th dimension\n",
      "  warn(\"%s '%s': Length of data does not match length of timestamps. Your data may be transposed. \"\n",
      "[11:25:46][INFO] Spyglass: Writing new NWB file mediumnwb20230802_6ZW1JK07GZ.nwb\n",
      "/Users/edeno/miniconda3/envs/spyglass/lib/python3.9/site-packages/spikeinterface/core/waveform_extractor.py:275: UserWarning: Sorting object is not dumpable, which might result in downstream errors for parallel processing. To make the sorting dumpable, use the `sorting.save()` function.\n",
      "  warn(\n"
     ]
    },
    {
     "data": {
      "application/vnd.jupyter.widget-view+json": {
       "model_id": "778fa455133f49489df298bdb226d8c7",
       "version_major": 2,
       "version_minor": 0
      },
      "text/plain": [
       "extract waveforms memmap:   0%|          | 0/2 [00:00<?, ?it/s]"
      ]
     },
     "metadata": {},
     "output_type": "display_data"
    },
    {
     "name": "stderr",
     "output_type": "stream",
     "text": [
      "[2024-01-02 11:25:55,892][WARNING]: Skipped checksum for file with hash: 07fae3c3-9816-a718-b099-3c85adb7cb53, and path: /Users/edeno/Documents/GitHub/spyglass/DATA/analysis/mediumnwb20230802/mediumnwb20230802_ND0D5I9STR.nwb\n",
      "/Users/edeno/miniconda3/envs/spyglass/lib/python3.9/site-packages/pynwb/ecephys.py:90: UserWarning: ElectricalSeries 'e-series': The second dimension of data does not match the length of electrodes. Your data may be transposed.\n",
      "  warnings.warn(\"%s '%s': The second dimension of data does not match the length of electrodes. \"\n",
      "/Users/edeno/miniconda3/envs/spyglass/lib/python3.9/site-packages/pynwb/base.py:193: UserWarning: TimeSeries 'analog': Length of data does not match length of timestamps. Your data may be transposed. Time should be on the 0th dimension\n",
      "  warn(\"%s '%s': Length of data does not match length of timestamps. Your data may be transposed. \"\n",
      "[11:25:56][INFO] Spyglass: Writing new NWB file mediumnwb20230802_7J5JW85MUW.nwb\n",
      "/Users/edeno/miniconda3/envs/spyglass/lib/python3.9/site-packages/spikeinterface/core/waveform_extractor.py:275: UserWarning: Sorting object is not dumpable, which might result in downstream errors for parallel processing. To make the sorting dumpable, use the `sorting.save()` function.\n",
      "  warn(\n"
     ]
    },
    {
     "data": {
      "application/vnd.jupyter.widget-view+json": {
       "model_id": "2fcac97b47544d4f81e46237b86a60cf",
       "version_major": 2,
       "version_minor": 0
      },
      "text/plain": [
       "extract waveforms memmap:   0%|          | 0/2 [00:00<?, ?it/s]"
      ]
     },
     "metadata": {},
     "output_type": "display_data"
    },
    {
     "name": "stderr",
     "output_type": "stream",
     "text": [
      "[2024-01-02 11:26:06,531][WARNING]: Skipped checksum for file with hash: f3da67cc-99de-dde7-2b4e-86a8d1b9df6d, and path: /Users/edeno/Documents/GitHub/spyglass/DATA/analysis/mediumnwb20230802/mediumnwb20230802_MYA6F5PO4T.nwb\n",
      "/Users/edeno/miniconda3/envs/spyglass/lib/python3.9/site-packages/pynwb/ecephys.py:90: UserWarning: ElectricalSeries 'e-series': The second dimension of data does not match the length of electrodes. Your data may be transposed.\n",
      "  warnings.warn(\"%s '%s': The second dimension of data does not match the length of electrodes. \"\n",
      "/Users/edeno/miniconda3/envs/spyglass/lib/python3.9/site-packages/pynwb/base.py:193: UserWarning: TimeSeries 'analog': Length of data does not match length of timestamps. Your data may be transposed. Time should be on the 0th dimension\n",
      "  warn(\"%s '%s': Length of data does not match length of timestamps. Your data may be transposed. \"\n",
      "[11:26:06][INFO] Spyglass: Writing new NWB file mediumnwb20230802_P9LLTXF2UV.nwb\n",
      "/Users/edeno/miniconda3/envs/spyglass/lib/python3.9/site-packages/spikeinterface/core/waveform_extractor.py:275: UserWarning: Sorting object is not dumpable, which might result in downstream errors for parallel processing. To make the sorting dumpable, use the `sorting.save()` function.\n",
      "  warn(\n"
     ]
    },
    {
     "data": {
      "application/vnd.jupyter.widget-view+json": {
       "model_id": "1df67d1daa0a40f193ed77073c8c8ce8",
       "version_major": 2,
       "version_minor": 0
      },
      "text/plain": [
       "extract waveforms memmap:   0%|          | 0/2 [00:00<?, ?it/s]"
      ]
     },
     "metadata": {},
     "output_type": "display_data"
    },
    {
     "name": "stderr",
     "output_type": "stream",
     "text": [
      "[2024-01-02 11:26:16,350][WARNING]: Skipped checksum for file with hash: 5e927005-d667-e8e2-0cf8-d4250263085e, and path: /Users/edeno/Documents/GitHub/spyglass/DATA/analysis/mediumnwb20230802/mediumnwb20230802_2GYJ9DZDZM.nwb\n",
      "/Users/edeno/miniconda3/envs/spyglass/lib/python3.9/site-packages/pynwb/ecephys.py:90: UserWarning: ElectricalSeries 'e-series': The second dimension of data does not match the length of electrodes. Your data may be transposed.\n",
      "  warnings.warn(\"%s '%s': The second dimension of data does not match the length of electrodes. \"\n",
      "/Users/edeno/miniconda3/envs/spyglass/lib/python3.9/site-packages/pynwb/base.py:193: UserWarning: TimeSeries 'analog': Length of data does not match length of timestamps. Your data may be transposed. Time should be on the 0th dimension\n",
      "  warn(\"%s '%s': Length of data does not match length of timestamps. Your data may be transposed. \"\n",
      "[11:26:16][INFO] Spyglass: Writing new NWB file mediumnwb20230802_P1S52EP8IG.nwb\n",
      "/Users/edeno/miniconda3/envs/spyglass/lib/python3.9/site-packages/spikeinterface/core/waveform_extractor.py:275: UserWarning: Sorting object is not dumpable, which might result in downstream errors for parallel processing. To make the sorting dumpable, use the `sorting.save()` function.\n",
      "  warn(\n"
     ]
    },
    {
     "data": {
      "application/vnd.jupyter.widget-view+json": {
       "model_id": "e3b8ee37b63941f7866de97d1b510eb0",
       "version_major": 2,
       "version_minor": 0
      },
      "text/plain": [
       "extract waveforms memmap:   0%|          | 0/2 [00:00<?, ?it/s]"
      ]
     },
     "metadata": {},
     "output_type": "display_data"
    },
    {
     "name": "stderr",
     "output_type": "stream",
     "text": [
      "[2024-01-02 11:26:26,229][WARNING]: Skipped checksum for file with hash: 47d51f63-e94f-52f7-e633-a2f30d9a889f, and path: /Users/edeno/Documents/GitHub/spyglass/DATA/analysis/mediumnwb20230802/mediumnwb20230802_VUCHU58MU8.nwb\n",
      "/Users/edeno/miniconda3/envs/spyglass/lib/python3.9/site-packages/pynwb/ecephys.py:90: UserWarning: ElectricalSeries 'e-series': The second dimension of data does not match the length of electrodes. Your data may be transposed.\n",
      "  warnings.warn(\"%s '%s': The second dimension of data does not match the length of electrodes. \"\n",
      "/Users/edeno/miniconda3/envs/spyglass/lib/python3.9/site-packages/pynwb/base.py:193: UserWarning: TimeSeries 'analog': Length of data does not match length of timestamps. Your data may be transposed. Time should be on the 0th dimension\n",
      "  warn(\"%s '%s': Length of data does not match length of timestamps. Your data may be transposed. \"\n",
      "[11:26:26][INFO] Spyglass: Writing new NWB file mediumnwb20230802_L98HKJBI6P.nwb\n",
      "/Users/edeno/miniconda3/envs/spyglass/lib/python3.9/site-packages/spikeinterface/core/waveform_extractor.py:275: UserWarning: Sorting object is not dumpable, which might result in downstream errors for parallel processing. To make the sorting dumpable, use the `sorting.save()` function.\n",
      "  warn(\n"
     ]
    },
    {
     "data": {
      "application/vnd.jupyter.widget-view+json": {
       "model_id": "f37da0169e574731b9350e7c362ebb6f",
       "version_major": 2,
       "version_minor": 0
      },
      "text/plain": [
       "extract waveforms memmap:   0%|          | 0/2 [00:00<?, ?it/s]"
      ]
     },
     "metadata": {},
     "output_type": "display_data"
    },
    {
     "name": "stderr",
     "output_type": "stream",
     "text": [
      "[2024-01-02 11:26:36,556][WARNING]: Skipped checksum for file with hash: 43eefbae-67f4-1fbc-ac02-e37029006ed9, and path: /Users/edeno/Documents/GitHub/spyglass/DATA/analysis/mediumnwb20230802/mediumnwb20230802_B36EKV3244.nwb\n",
      "/Users/edeno/miniconda3/envs/spyglass/lib/python3.9/site-packages/pynwb/ecephys.py:90: UserWarning: ElectricalSeries 'e-series': The second dimension of data does not match the length of electrodes. Your data may be transposed.\n",
      "  warnings.warn(\"%s '%s': The second dimension of data does not match the length of electrodes. \"\n",
      "/Users/edeno/miniconda3/envs/spyglass/lib/python3.9/site-packages/pynwb/base.py:193: UserWarning: TimeSeries 'analog': Length of data does not match length of timestamps. Your data may be transposed. Time should be on the 0th dimension\n",
      "  warn(\"%s '%s': Length of data does not match length of timestamps. Your data may be transposed. \"\n",
      "[11:26:36][INFO] Spyglass: Writing new NWB file mediumnwb20230802_CHGNLEZ92L.nwb\n"
     ]
    }
   ],
   "source": [
    "from spyglass.decoding.v1.waveform_features import UnitWaveformFeatures\n",
    "\n",
    "UnitWaveformFeatures.populate(selection_keys)"
   ]
  },
  {
   "cell_type": "code",
   "execution_count": 12,
   "metadata": {},
   "outputs": [
    {
     "data": {
      "text/html": [
       "\n",
       "    \n",
       "    <style type=\"text/css\">\n",
       "        .Table{\n",
       "            border-collapse:collapse;\n",
       "        }\n",
       "        .Table th{\n",
       "            background: #A0A0A0; color: #ffffff; padding:4px; border:#f0e0e0 1px solid;\n",
       "            font-weight: normal; font-family: monospace; font-size: 100%;\n",
       "        }\n",
       "        .Table td{\n",
       "            padding:4px; border:#f0e0e0 1px solid; font-size:100%;\n",
       "        }\n",
       "        .Table tr:nth-child(odd){\n",
       "            background: #ffffff;\n",
       "            color: #000000;\n",
       "        }\n",
       "        .Table tr:nth-child(even){\n",
       "            background: #f3f1ff;\n",
       "            color: #000000;\n",
       "        }\n",
       "        /* Tooltip container */\n",
       "        .djtooltip {\n",
       "        }\n",
       "        /* Tooltip text */\n",
       "        .djtooltip .djtooltiptext {\n",
       "            visibility: hidden;\n",
       "            width: 120px;\n",
       "            background-color: black;\n",
       "            color: #fff;\n",
       "            text-align: center;\n",
       "            padding: 5px 0;\n",
       "            border-radius: 6px;\n",
       "            /* Position the tooltip text - see examples below! */\n",
       "            position: absolute;\n",
       "            z-index: 1;\n",
       "        }\n",
       "        #primary {\n",
       "            font-weight: bold;\n",
       "            color: black;\n",
       "        }\n",
       "        #nonprimary {\n",
       "            font-weight: normal;\n",
       "            color: white;\n",
       "        }\n",
       "\n",
       "        /* Show the tooltip text when you mouse over the tooltip container */\n",
       "        .djtooltip:hover .djtooltiptext {\n",
       "            visibility: visible;\n",
       "        }\n",
       "    </style>\n",
       "    \n",
       "    <b></b>\n",
       "        <div style=\"max-height:1000px;max-width:1500px;overflow:auto;\">\n",
       "        <table border=\"1\" class=\"Table\">\n",
       "            <thead> <tr style=\"text-align: right;\"> <th> <div class=\"djtooltip\">\n",
       "                            <p id=\"primary\">spikesorting_merge_id</p>\n",
       "                            <span class=\"djtooltiptext\"></span>\n",
       "                        </div></th><th><div class=\"djtooltip\">\n",
       "                            <p id=\"primary\">features_param_name</p>\n",
       "                            <span class=\"djtooltiptext\">a name for this set of parameters</span>\n",
       "                        </div></th><th><div class=\"djtooltip\">\n",
       "                            <p id=\"nonprimary\">analysis_file_name</p>\n",
       "                            <span class=\"djtooltiptext\">name of the file</span>\n",
       "                        </div></th><th><div class=\"djtooltip\">\n",
       "                            <p id=\"nonprimary\">object_id</p>\n",
       "                            <span class=\"djtooltiptext\">the NWB object that stores the waveforms</span>\n",
       "                        </div> </th> </tr> </thead>\n",
       "            <tbody> <tr> <td>00763b68-d663-c446-0555-1f2622d7da50</td>\n",
       "<td>amplitude</td>\n",
       "<td>mediumnwb20230802_OX2ORY4MKR.nwb</td>\n",
       "<td>db7b7b7c-a97b-4982-96d9-60dd41d0546d</td></tr><tr><td>03954edd-f8fd-3dd9-cd10-f0eee47d6b3d</td>\n",
       "<td>amplitude</td>\n",
       "<td>mediumnwb20230802_O1OGMFS4AF.nwb</td>\n",
       "<td>cbdbc6ab-aeb4-4447-8d26-6bfb56a44081</td></tr><tr><td>0720e5f2-625e-09d2-b522-ca2652c09f2a</td>\n",
       "<td>amplitude</td>\n",
       "<td>mediumnwb20230802_Y3E5VJAR0Z.nwb</td>\n",
       "<td>e36c31d6-2ebf-46eb-b7fe-028e88945e3a</td></tr><tr><td>153954b2-b230-cb1f-749d-f977a22eaae9</td>\n",
       "<td>amplitude</td>\n",
       "<td>mediumnwb20230802_E66YNNI7S4.nwb</td>\n",
       "<td>4768d18a-ab94-4ba8-87fa-9a11f2d8d5cc</td></tr><tr><td>189fb8c6-f964-00a9-f392-a9dbb138ea63</td>\n",
       "<td>amplitude</td>\n",
       "<td>mediumnwb20230802_UZ3IGTO5AU.nwb</td>\n",
       "<td>d4ba1164-a043-46b3-924b-a2fc999f46d3</td></tr><tr><td>2567bf67-bc67-47a5-aa2a-2bce19da232d</td>\n",
       "<td>amplitude</td>\n",
       "<td>mediumnwb20230802_CHBHDNP2W8.nwb</td>\n",
       "<td>d7832810-313b-4186-861a-7e11341553d6</td></tr><tr><td>26310ce7-9ac3-4159-99f8-a3ad17037235</td>\n",
       "<td>amplitude</td>\n",
       "<td>mediumnwb20230802_L0LVGC1DFT.nwb</td>\n",
       "<td>202d6dae-c1b4-4915-850a-2f2f8f05d159</td></tr><tr><td>411dff13-44f0-3e03-e867-689ae275e418</td>\n",
       "<td>amplitude</td>\n",
       "<td>mediumnwb20230802_428JKP43Q1.nwb</td>\n",
       "<td>15dc2df6-26c7-415d-9446-aa44ecc40af1</td></tr><tr><td>43a98eab-1fa6-184b-1f09-2e923984b03a</td>\n",
       "<td>amplitude</td>\n",
       "<td>mediumnwb20230802_X13I3BGUB1.nwb</td>\n",
       "<td>5ad143d4-235f-4ad9-aa94-f7140bc71853</td></tr><tr><td>46829e10-1984-99a1-65a3-2b485a2f037f</td>\n",
       "<td>amplitude</td>\n",
       "<td>mediumnwb20230802_0LXKB5BPTL.nwb</td>\n",
       "<td>554ed58c-28c1-4786-850f-2be0a557574a</td></tr><tr><td>4b3065e5-76c2-bd48-32a1-ae62484f9314</td>\n",
       "<td>amplitude</td>\n",
       "<td>mediumnwb20230802_HX2DNMBYI5.nwb</td>\n",
       "<td>9e7ca80d-8d45-4718-8413-e0ad109220c1</td></tr><tr><td>609aeb54-dc2e-52d3-91bf-1728e0a2cf09</td>\n",
       "<td>amplitude</td>\n",
       "<td>mediumnwb20230802_9BC3PGE9BE.nwb</td>\n",
       "<td>44e3ac42-e9f2-4fff-a1ff-fb39678c57ff</td> </tr> </tbody>\n",
       "        </table>\n",
       "        <p>...</p>\n",
       "        <p>Total: 23</p></div>\n",
       "        "
      ],
      "text/plain": [
       "*spikesorting_ *features_para analysis_file_ object_id     \n",
       "+------------+ +------------+ +------------+ +------------+\n",
       "00763b68-d663- amplitude      mediumnwb20230 db7b7b7c-a97b-\n",
       "03954edd-f8fd- amplitude      mediumnwb20230 cbdbc6ab-aeb4-\n",
       "0720e5f2-625e- amplitude      mediumnwb20230 e36c31d6-2ebf-\n",
       "153954b2-b230- amplitude      mediumnwb20230 4768d18a-ab94-\n",
       "189fb8c6-f964- amplitude      mediumnwb20230 d4ba1164-a043-\n",
       "2567bf67-bc67- amplitude      mediumnwb20230 d7832810-313b-\n",
       "26310ce7-9ac3- amplitude      mediumnwb20230 202d6dae-c1b4-\n",
       "411dff13-44f0- amplitude      mediumnwb20230 15dc2df6-26c7-\n",
       "43a98eab-1fa6- amplitude      mediumnwb20230 5ad143d4-235f-\n",
       "46829e10-1984- amplitude      mediumnwb20230 554ed58c-28c1-\n",
       "4b3065e5-76c2- amplitude      mediumnwb20230 9e7ca80d-8d45-\n",
       "609aeb54-dc2e- amplitude      mediumnwb20230 44e3ac42-e9f2-\n",
       "   ...\n",
       " (Total: 23)"
      ]
     },
     "execution_count": 12,
     "metadata": {},
     "output_type": "execute_result"
    }
   ],
   "source": [
    "UnitWaveformFeatures & selection_keys"
   ]
  },
  {
   "cell_type": "markdown",
   "metadata": {},
   "source": [
    "Now that we've extracted the data, we can inspect the results. Let's fetch the data:"
   ]
  },
  {
   "cell_type": "code",
   "execution_count": 14,
   "metadata": {},
   "outputs": [
    {
     "name": "stderr",
     "output_type": "stream",
     "text": [
      "[2024-01-02 11:27:25,269][WARNING]: Skipped checksum for file with hash: 300bbca3-e3e5-b477-cad5-2d2fb4d790cd, and path: /Users/edeno/Documents/GitHub/spyglass/DATA/analysis/mediumnwb20230802/mediumnwb20230802_OX2ORY4MKR.nwb\n",
      "[2024-01-02 11:27:25,272][WARNING]: Skipped checksum for file with hash: eba88548-8666-4c8a-6142-de9a8c439d8e, and path: /Users/edeno/Documents/GitHub/spyglass/DATA/analysis/mediumnwb20230802/mediumnwb20230802_O1OGMFS4AF.nwb\n",
      "[2024-01-02 11:27:25,274][WARNING]: Skipped checksum for file with hash: 4e8d390c-bbe4-714e-b050-8c9551de4644, and path: /Users/edeno/Documents/GitHub/spyglass/DATA/analysis/mediumnwb20230802/mediumnwb20230802_Y3E5VJAR0Z.nwb\n"
     ]
    },
    {
     "name": "stderr",
     "output_type": "stream",
     "text": [
      "[2024-01-02 11:27:25,276][WARNING]: Skipped checksum for file with hash: ba6297db-6420-4727-d704-d852c44e8a41, and path: /Users/edeno/Documents/GitHub/spyglass/DATA/analysis/mediumnwb20230802/mediumnwb20230802_E66YNNI7S4.nwb\n",
      "[2024-01-02 11:27:25,279][WARNING]: Skipped checksum for file with hash: f128807d-04ef-323f-0f88-1d269e73b75a, and path: /Users/edeno/Documents/GitHub/spyglass/DATA/analysis/mediumnwb20230802/mediumnwb20230802_UZ3IGTO5AU.nwb\n",
      "[2024-01-02 11:27:25,281][WARNING]: Skipped checksum for file with hash: fbba2646-b978-3a2b-8feb-c5af5e7efc19, and path: /Users/edeno/Documents/GitHub/spyglass/DATA/analysis/mediumnwb20230802/mediumnwb20230802_CHBHDNP2W8.nwb\n",
      "[2024-01-02 11:27:25,283][WARNING]: Skipped checksum for file with hash: e156635c-e762-2aff-4ea4-30f4088c51ff, and path: /Users/edeno/Documents/GitHub/spyglass/DATA/analysis/mediumnwb20230802/mediumnwb20230802_L0LVGC1DFT.nwb\n",
      "[2024-01-02 11:27:25,286][WARNING]: Skipped checksum for file with hash: 19e855c8-b423-fc02-7832-baf43826672b, and path: /Users/edeno/Documents/GitHub/spyglass/DATA/analysis/mediumnwb20230802/mediumnwb20230802_428JKP43Q1.nwb\n",
      "[2024-01-02 11:27:25,288][WARNING]: Skipped checksum for file with hash: 262c2d00-de0f-83d4-68ea-02430525a910, and path: /Users/edeno/Documents/GitHub/spyglass/DATA/analysis/mediumnwb20230802/mediumnwb20230802_X13I3BGUB1.nwb\n",
      "[2024-01-02 11:27:25,291][WARNING]: Skipped checksum for file with hash: eb0c83e3-66ff-b442-6d1b-e56f0e337ce9, and path: /Users/edeno/Documents/GitHub/spyglass/DATA/analysis/mediumnwb20230802/mediumnwb20230802_0LXKB5BPTL.nwb\n",
      "[2024-01-02 11:27:25,294][WARNING]: Skipped checksum for file with hash: 5f076ded-5d3b-2493-a989-ef479a8f9c6c, and path: /Users/edeno/Documents/GitHub/spyglass/DATA/analysis/mediumnwb20230802/mediumnwb20230802_HX2DNMBYI5.nwb\n",
      "[2024-01-02 11:27:25,297][WARNING]: Skipped checksum for file with hash: 6cfae48e-0e6a-f598-a623-f27bf356006d, and path: /Users/edeno/Documents/GitHub/spyglass/DATA/analysis/mediumnwb20230802/mediumnwb20230802_9BC3PGE9BE.nwb\n",
      "[2024-01-02 11:27:25,301][WARNING]: Skipped checksum for file with hash: ede73129-dd92-9c00-d872-c7aa2b75fc3c, and path: /Users/edeno/Documents/GitHub/spyglass/DATA/analysis/mediumnwb20230802/mediumnwb20230802_L35KWBBILV.nwb\n",
      "[2024-01-02 11:27:25,307][WARNING]: Skipped checksum for file with hash: a9ec5a4f-99e3-7c42-b48e-6fd5b5bb6de8, and path: /Users/edeno/Documents/GitHub/spyglass/DATA/analysis/mediumnwb20230802/mediumnwb20230802_BSIV3DLAMV.nwb\n",
      "[2024-01-02 11:27:25,312][WARNING]: Skipped checksum for file with hash: 2cc29264-a305-386c-e768-f2107f676432, and path: /Users/edeno/Documents/GitHub/spyglass/DATA/analysis/mediumnwb20230802/mediumnwb20230802_PWCOH5ROGU.nwb\n",
      "[2024-01-02 11:27:25,319][WARNING]: Skipped checksum for file with hash: 35dfecb6-220e-91c1-70ac-f33a501caae4, and path: /Users/edeno/Documents/GitHub/spyglass/DATA/analysis/mediumnwb20230802/mediumnwb20230802_JE0YCFOTU6.nwb\n",
      "[2024-01-02 11:27:25,323][WARNING]: Skipped checksum for file with hash: 656eabf7-fe6a-1143-7e12-6cd0cfcd5c92, and path: /Users/edeno/Documents/GitHub/spyglass/DATA/analysis/mediumnwb20230802/mediumnwb20230802_KFVKOTUGBY.nwb\n",
      "[2024-01-02 11:27:25,327][WARNING]: Skipped checksum for file with hash: 590c5b18-cef8-7dca-f1ca-00c50844d270, and path: /Users/edeno/Documents/GitHub/spyglass/DATA/analysis/mediumnwb20230802/mediumnwb20230802_6ZW1JK07GZ.nwb\n",
      "[2024-01-02 11:27:25,331][WARNING]: Skipped checksum for file with hash: 974e846b-d5aa-cd6e-252f-d9d7325ab4c0, and path: /Users/edeno/Documents/GitHub/spyglass/DATA/analysis/mediumnwb20230802/mediumnwb20230802_7J5JW85MUW.nwb\n",
      "[2024-01-02 11:27:25,334][WARNING]: Skipped checksum for file with hash: 97aff308-3f6a-6619-cd4f-a82f1141401f, and path: /Users/edeno/Documents/GitHub/spyglass/DATA/analysis/mediumnwb20230802/mediumnwb20230802_P9LLTXF2UV.nwb\n",
      "[2024-01-02 11:27:25,340][WARNING]: Skipped checksum for file with hash: 6bfb828b-a4cf-3dc1-d4a1-163368665c50, and path: /Users/edeno/Documents/GitHub/spyglass/DATA/analysis/mediumnwb20230802/mediumnwb20230802_P1S52EP8IG.nwb\n",
      "[2024-01-02 11:27:25,343][WARNING]: Skipped checksum for file with hash: 41ef4471-2371-3208-2b04-afcda1dded9b, and path: /Users/edeno/Documents/GitHub/spyglass/DATA/analysis/mediumnwb20230802/mediumnwb20230802_L98HKJBI6P.nwb\n",
      "[2024-01-02 11:27:25,346][WARNING]: Skipped checksum for file with hash: 81e5bd8d-06e8-17c2-2474-f6bbfe3f8fe6, and path: /Users/edeno/Documents/GitHub/spyglass/DATA/analysis/mediumnwb20230802/mediumnwb20230802_CHGNLEZ92L.nwb\n"
     ]
    }
   ],
   "source": [
    "spike_times, spike_waveform_features = (\n",
    "    UnitWaveformFeatures & selection_keys\n",
    ").fetch_data()"
   ]
  },
  {
   "cell_type": "markdown",
   "metadata": {},
   "source": [
    "Let's look at the features shape. This is a list corresponding to tetrodes, with each element being a numpy array of shape (n_spikes, n_features). The features in this case are the amplitude of each tetrode wire at the negative peak of the waveform."
   ]
  },
  {
   "cell_type": "code",
   "execution_count": 15,
   "metadata": {},
   "outputs": [
    {
     "name": "stdout",
     "output_type": "stream",
     "text": [
      "(18, 4)\n",
      "(44284, 4)\n",
      "(43804, 4)\n",
      "(57394, 4)\n",
      "(36687, 4)\n",
      "(41622, 4)\n",
      "(4198, 4)\n",
      "(21024, 4)\n",
      "(21675, 4)\n",
      "(39886, 4)\n",
      "(6348, 4)\n",
      "(12188, 4)\n",
      "(2654, 4)\n",
      "(51330, 4)\n",
      "(8283, 4)\n",
      "(106549, 4)\n",
      "(76353, 4)\n",
      "(803, 4)\n",
      "(11367, 4)\n",
      "(8952, 4)\n",
      "(30772, 4)\n",
      "(49808, 4)\n",
      "(99400, 4)\n"
     ]
    }
   ],
   "source": [
    "for features in spike_waveform_features:\n",
    "    print(features.shape)"
   ]
  },
  {
   "cell_type": "markdown",
   "metadata": {},
   "source": [
    "We can plot the amplitudes to see if there is anything that looks neural and to look for outliers:"
   ]
  },
  {
   "cell_type": "code",
   "execution_count": 16,
   "metadata": {},
   "outputs": [
    {
     "data": {
      "text/plain": [
       "<matplotlib.collections.PathCollection at 0x1c57fd820>"
      ]
     },
     "execution_count": 16,
     "metadata": {},
     "output_type": "execute_result"
    },
    {
     "data": {
      "image/png": "[encoded data removed]",
      "text/plain": [
       "<Figure size 640x480 with 1 Axes>"
      ]
     },
     "metadata": {},
     "output_type": "display_data"
    }
   ],
   "source": [
    "import matplotlib.pyplot as plt\n",
    "\n",
    "tetrode_ind = 1\n",
    "plt.scatter(\n",
    "    spike_waveform_features[tetrode_ind][:, 0],\n",
    "    spike_waveform_features[tetrode_ind][:, 1],\n",
    "    s=1,\n",
    ")"
   ]
  },
  {
   "cell_type": "code",
   "execution_count": null,
   "metadata": {},
   "outputs": [],
   "source": []
  }
 ],
 "metadata": {
  "kernelspec": {
   "display_name": "spyglass",
   "language": "python",
   "name": "python3"
  },
  "language_info": {
   "codemirror_mode": {
    "name": "ipython",
    "version": 3
   },
   "file_extension": ".py",
   "mimetype": "text/x-python",
   "name": "python",
   "nbconvert_exporter": "python",
   "pygments_lexer": "ipython3",
   "version": "3.9.18"
  }
 },
 "nbformat": 4,
 "nbformat_minor": 2
}
