{
 "cells": [
  {
   "cell_type": "markdown",
   "id": "de73cd97",
   "metadata": {},
   "source": [
    "# Position - DeepLabCut PreTrained\n"
   ]
  },
  {
   "cell_type": "markdown",
   "id": "3c2ac37a",
   "metadata": {},
   "source": [
    "## Overview\n"
   ]
  },
  {
   "cell_type": "markdown",
   "id": "6bc203b0",
   "metadata": {},
   "source": [
    "_Developer Note:_ if you may make a PR in the future, be sure to copy this\n",
    "notebook, and use the `gitignore` prefix `temp` to avoid future conflicts.\n",
    "\n",
    "This is one notebook in a multi-part series on Spyglass.\n",
    "\n",
    "- To set up your Spyglass environment and database, see\n",
    "  [the Setup notebook](./00_Setup.ipynb)\n",
    "- For additional info on DataJoint syntax, including table definitions and\n",
    "  inserts, see\n",
    "  [the Insert Data notebook](./01_Insert_Data.ipynb)\n",
    "\n",
    "This is a tutorial will cover how to extract position given a pre-trained DeepLabCut (DLC) model. It will walk through adding your DLC model to Spyglass.\n",
    "\n",
    "If you already have a model in the database, skip to the \n",
    "[next tutorial](./23_Position_DLC_3.ipynb)."
   ]
  },
  {
   "cell_type": "markdown",
   "id": "e3ff00d6",
   "metadata": {},
   "source": [
    "## Imports\n"
   ]
  },
  {
   "cell_type": "code",
   "execution_count": 13,
   "id": "704fe083",
   "metadata": {},
   "outputs": [],
   "source": [
    "import os\n",
    "import datajoint as dj\n",
    "\n",
    "# change to the upper level folder to detect dj_local_conf.json\n",
    "if os.path.basename(os.getcwd()) == \"notebooks\":\n",
    "    os.chdir(\"..\")\n",
    "dj.config.load(\"dj_local_conf.json\")  # load config for database connection info\n",
    "\n",
    "from spyglass.settings import load_config\n",
    "\n",
    "load_config(base_dir=\"/home/cb/wrk/zOther/data/\")\n",
    "\n",
    "import spyglass.common as sgc\n",
    "import spyglass.position.v1 as sgp\n",
    "from spyglass.position import PositionOutput\n",
    "\n",
    "# ignore datajoint+jupyter async warnings\n",
    "import warnings\n",
    "\n",
    "warnings.simplefilter(\"ignore\", category=DeprecationWarning)\n",
    "warnings.simplefilter(\"ignore\", category=ResourceWarning)"
   ]
  },
  {
   "attachments": {},
   "cell_type": "markdown",
   "id": "7e3e1854-0baf-44f4-a5a6-ddc1fdb4c3e1",
   "metadata": {},
   "source": [
    "#### Here is a schematic showing the tables used in this notebook.<br>\n",
    "![dlc_existing.png|2000x900](./../notebook-images/dlc_existing.png)"
   ]
  },
  {
   "cell_type": "markdown",
   "id": "0388fc5f",
   "metadata": {},
   "source": [
    "## Table of Contents<a id='ToC'></a>\n",
    "\n",
    "- [`DLCProject`](#DLCProject)\n",
    "- [`DLCModel`](#DLCModel)\n",
    "<!-- \n",
    "- [`DLCPoseEstimation`](#DLCPoseEstimation)\n",
    "- [`DLCSmoothInterp`](#DLCSmoothInterp)\n",
    "- [`DLCCentroid`](#DLCCentroid)\n",
    "- [`DLCOrientation`](#DLCOrientation)\n",
    "- [`DLCPos`](#DLCPos)\n",
    "- [`DLCPosVideo`](#DLCPosVideo)\n",
    "- [`PositionOutput`](#PositionOutput) -->\n",
    "\n",
    "You can click on any header to return to the Table of Contents"
   ]
  },
  {
   "cell_type": "markdown",
   "id": "6adc175d",
   "metadata": {},
   "source": [
    "## [DLCProject](#ToC) <a id='DLCProject'></a>"
   ]
  },
  {
   "cell_type": "markdown",
   "id": "e7c51888-b05d-4a51-bb9f-b075db4bbf49",
   "metadata": {},
   "source": [
    "We'll look at the BodyPart table, which stores standard names of body parts used within DLC models."
   ]
  },
  {
   "cell_type": "markdown",
   "id": "f8a64a57",
   "metadata": {},
   "source": [
    "<div class=\"alert alert-block alert-info\">\n",
    "    <b>Notes:</b><ul>\n",
    "    <li>\n",
    "        Please do not add to the <code>BodyPart</code> table in the production \n",
    "        database unless necessary.\n",
    "    </li>\n",
    "    </ul>\n",
    "</div>"
   ]
  },
  {
   "cell_type": "code",
   "execution_count": null,
   "id": "c938c639",
   "metadata": {},
   "outputs": [],
   "source": [
    "sgp.BodyPart()"
   ]
  },
  {
   "cell_type": "markdown",
   "id": "f422dd98-728b-4b48-877b-f77c2d60872f",
   "metadata": {},
   "source": [
    "We can `insert_existing_project` into the `DLCProject` table using:\n",
    "\n",
    "- `project_name`: a short, unique, descriptive project name to reference\n",
    "  throughout the pipeline\n",
    "- `lab_team`: team name from `LabTeam`\n",
    "- `config_path`: string path to a DLC `config.yaml`\n",
    "- `bodyparts`: optional list of bodyparts used in the project\n",
    "- `frames_per_video`: optional, number of frames to extract for training from\n",
    "  each video"
   ]
  },
  {
   "cell_type": "code",
   "execution_count": null,
   "id": "f20ecce9",
   "metadata": {},
   "outputs": [],
   "source": [
    "project_name = \"tutorial_DG\"\n",
    "lab_team = \"LorenLab\"\n",
    "project_key = sgp.DLCProject.insert_existing_project(\n",
    "    project_name=project_name,\n",
    "    lab_team=lab_team,\n",
    "    config_path=\"/nimbus/deeplabcut/projects/tutorial_model-LorenLab-2022-07-15/config.yaml\",\n",
    "    bodyparts=[\"redLED_C\", \"greenLED\", \"redLED_L\", \"redLED_R\", \"tailBase\"],\n",
    "    frames_per_video=200,\n",
    "    skip_duplicates=True,\n",
    ")"
   ]
  },
  {
   "cell_type": "code",
   "execution_count": null,
   "id": "6d9d4223-63da-462e-8164-7cc63c945760",
   "metadata": {},
   "outputs": [],
   "source": [
    "sgp.DLCProject() & {\"project_name\": project_name}"
   ]
  },
  {
   "cell_type": "markdown",
   "id": "1c7876e7",
   "metadata": {},
   "source": [
    "## [DLCModel](#ToC) <a id='DLCModel'></a>"
   ]
  },
  {
   "cell_type": "markdown",
   "id": "fa36a042-f13e-4a36-812a-a4efaeb57a09",
   "metadata": {},
   "source": [
    "The `DLCModelInput` table has `dlc_model_name` and `project_name` as primary keys and `project_path` as a secondary key. "
   ]
  },
  {
   "cell_type": "code",
   "execution_count": null,
   "id": "25f0a45e-5bd9-48bf-a79d-908bd5a17235",
   "metadata": {},
   "outputs": [],
   "source": [
    "sgp.DLCModelInput()"
   ]
  },
  {
   "cell_type": "markdown",
   "id": "39ee99ae-586a-4cbb-9255-15ddd594b1b7",
   "metadata": {},
   "source": [
    "We can modify the `project_key` to replace `config_path` with `project_path` to\n",
    "fit with the fields in `DLCModelInput`"
   ]
  },
  {
   "cell_type": "code",
   "execution_count": null,
   "id": "fc961e93-8fe8-4069-a945-a9fc1e1ad993",
   "metadata": {},
   "outputs": [],
   "source": [
    "print(f\"current project_key:\\n{project_key}\")\n",
    "if not \"project_path\" in project_key:\n",
    "    project_key[\"project_path\"] = os.path.dirname(project_key[\"config_path\"])\n",
    "    del project_key[\"config_path\"]\n",
    "    print(f\"updated project_key:\\n{project_key}\")"
   ]
  },
  {
   "cell_type": "markdown",
   "id": "4b958ef7-160c-4141-a7c2-1177fdfd6eb6",
   "metadata": {},
   "source": [
    "After adding a unique `dlc_model_name` to `project_key`, we insert into\n",
    "`DLCModelInput`."
   ]
  },
  {
   "cell_type": "code",
   "execution_count": null,
   "id": "49650dc2",
   "metadata": {},
   "outputs": [],
   "source": [
    "dlc_model_name = \"tutorial_model_DG\"\n",
    "sgp.DLCModelInput().insert1(\n",
    "    {\"dlc_model_name\": dlc_model_name, **project_key}, skip_duplicates=True\n",
    ")\n",
    "sgp.DLCModelInput()"
   ]
  },
  {
   "cell_type": "markdown",
   "id": "d04c4785-23b4-4a79-9ef9-3815c1215422",
   "metadata": {},
   "source": [
    "Inserting into `DLCModelInput` will also populate `DLCModelSource`, which\n",
    "records whether or not a model was trained with Spyglass."
   ]
  },
  {
   "cell_type": "code",
   "execution_count": null,
   "id": "01021925",
   "metadata": {},
   "outputs": [],
   "source": [
    "sgp.DLCModelSource() & project_key"
   ]
  },
  {
   "cell_type": "markdown",
   "id": "8d8756c5-0d85-490b-a712-a95faa074b43",
   "metadata": {},
   "source": [
    "The `source` field will only accept _\"FromImport\"_ or _\"FromUpstream\"_ as entries. Let's checkout the `FromUpstream` part table attached to `DLCModelSource` below."
   ]
  },
  {
   "cell_type": "code",
   "execution_count": null,
   "id": "22fb6d58-225f-49fb-86ee-4b3197aa841f",
   "metadata": {},
   "outputs": [],
   "source": [
    "sgp.DLCModelSource.FromImport() & project_key"
   ]
  },
  {
   "cell_type": "markdown",
   "id": "02b9297c-49dc-43b8-ad7b-3897c4d442bf",
   "metadata": {},
   "source": [
    "Next we'll get ready to populate the `DLCModel` table, which holds all the relevant information for both pre-trained models and models trained within Spyglass.<br>First we'll need to determine a set of parameters for our model to select the correct model file.<br>We can visualize a default set below:"
   ]
  },
  {
   "cell_type": "code",
   "execution_count": null,
   "id": "8e01d109",
   "metadata": {},
   "outputs": [],
   "source": [
    "sgp.DLCModelParams.get_default()"
   ]
  },
  {
   "cell_type": "markdown",
   "id": "8aa565b0-37e4-462f-b0d8-fd1b1686b69c",
   "metadata": {},
   "source": [
    "Here is the syntax to add your own parameter set:\n",
    "\n",
    "```python\n",
    "dlc_model_params_name = \"make_this_yours\"\n",
    "params = {\n",
    "    \"params\": {},\n",
    "    \"shuffle\": 1,\n",
    "    \"trainingsetindex\": 0,\n",
    "    \"model_prefix\": \"\",\n",
    "}\n",
    "sgp.DLCModelParams.insert1(\n",
    "    {\"dlc_model_params_name\": dlc_model_params_name, \"params\": params},\n",
    "    skip_duplicates=True,\n",
    ")\n",
    "```"
   ]
  },
  {
   "cell_type": "markdown",
   "id": "c5acd2c6",
   "metadata": {},
   "source": [
    "We can insert sets of parameters into `DLCModelSelection` and populate\n",
    "`DLCModel`."
   ]
  },
  {
   "cell_type": "code",
   "execution_count": null,
   "id": "03b10bd6",
   "metadata": {},
   "outputs": [],
   "source": [
    "temp_model_key = (sgp.DLCModelSource.FromImport() & project_key).fetch1(\"KEY\")\n",
    "sgp.DLCModelSelection().insert1(\n",
    "    {**temp_model_key, \"dlc_model_params_name\": \"default\"}, skip_duplicates=True\n",
    ")\n",
    "model_key = (sgp.DLCModelSelection & temp_model_key).fetch1(\"KEY\")\n",
    "sgp.DLCModel.populate(model_key)"
   ]
  },
  {
   "cell_type": "markdown",
   "id": "a920fc2d-5b81-4d4b-817b-d7549d2810ac",
   "metadata": {},
   "source": [
    "And of course make sure it populated correctly"
   ]
  },
  {
   "cell_type": "code",
   "execution_count": null,
   "id": "930df143-c756-4904-b4b6-7eed8c194b9d",
   "metadata": {},
   "outputs": [],
   "source": [
    "sgp.DLCModel() & model_key"
   ]
  },
  {
   "cell_type": "markdown",
   "id": "887c5349",
   "metadata": {},
   "source": [
    "## Next Steps\n",
    "\n",
    "With our trained model in place, we're ready to move on to \n",
    "pose estimation (notebook coming soon!).\n",
    "<!-- [pose estimation](./23_Position_DLC_3.ipynb). -->"
   ]
  },
  {
   "cell_type": "markdown",
   "id": "5dbb3e99",
   "metadata": {},
   "source": [
    "### [`Return To Table of Contents`](#ToC)<br>"
   ]
  }
 ],
 "metadata": {
  "kernelspec": {
   "display_name": "spy",
   "language": "python",
   "name": "python3"
  },
  "language_info": {
   "codemirror_mode": {
    "name": "ipython",
    "version": 3
   },
   "file_extension": ".py",
   "mimetype": "text/x-python",
   "name": "python",
   "nbconvert_exporter": "python",
   "pygments_lexer": "ipython3",
   "version": "3.9.16"
  }
 },
 "nbformat": 4,
 "nbformat_minor": 5
}
