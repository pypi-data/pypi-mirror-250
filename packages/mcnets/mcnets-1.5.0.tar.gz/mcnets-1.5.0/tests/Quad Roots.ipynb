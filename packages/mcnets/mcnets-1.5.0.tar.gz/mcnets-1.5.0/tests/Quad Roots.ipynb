{
 "cells": [
  {
   "cell_type": "code",
   "execution_count": 103,
   "metadata": {},
   "outputs": [
    {
     "name": "stdout",
     "output_type": "stream",
     "text": [
      "# of Y features found to be 2 and not 1 per sample. No action required if this is correct.\n",
      "SSE Score: 15.397141 | Training: ========================================                   \n"
     ]
    }
   ],
   "source": [
    "import matplotlib.pyplot as plt\n",
    "import numpy as np\n",
    "import main as mc\n",
    "\n",
    "# # Training set (polynomial coefficients to roots)\n",
    "# rng = np.random.RandomState(420)\n",
    "# X = rng.rand(100, 3)\n",
    "# X = (X-0.5) * 20            # Domain is [-10, 10]\n",
    "# Y = np.zeros((100, 4))\n",
    "# for yr in range(len(Y)):\n",
    "#     vals = np.roots(X[yr])\n",
    "#     Y[yr] = np.array([np.real(vals[0]), np.imag(vals[0]), np.real(vals[1]), np.imag(vals[1])])\n",
    "\n",
    "# Training set (polynomial coefficients to roots, excluding imaginaries)\n",
    "rng = np.random.RandomState(420)\n",
    "ds = np.array([1, 2, 1, 0.5, -0.5]).reshape(1, 5)\n",
    "while len(ds) < 1000:\n",
    "    # Get coefficients\n",
    "    X = (rng.rand(3) - 0.5)*10\n",
    "\n",
    "    # Get roots, test if only real\n",
    "    vals = np.roots(X)\n",
    "    if type(vals[0]) in [np.complex128]:\n",
    "        continue\n",
    "    else:\n",
    "        Y = np.array([vals[0], vals[1]]).reshape(1, 2)\n",
    "\n",
    "    # Add to full dataset\n",
    "    X = X.reshape(1, 3)\n",
    "    newRow = np.concatenate((X, Y), axis=1)\n",
    "    ds = np.concatenate((ds, newRow), axis=0)\n",
    "\n",
    "X = ds[:, :3]\n",
    "Y = ds[:, 3:]\n",
    "\n",
    "# Simple Transform (bring max to 1)\n",
    "xscales = []\n",
    "yscales = []\n",
    "for xc in range(np.size(X, axis=1)):\n",
    "    M = np.max(np.abs(X[:, xc]))\n",
    "    if M == 0:\n",
    "        M = 1\n",
    "    xscales.append(M)\n",
    "    X[:, xc] /= M\n",
    "for yc in range(np.size(Y, axis=1)):\n",
    "    M = np.max(np.abs(Y[:, yc]))\n",
    "    if M == 0:\n",
    "        M = 1\n",
    "    yscales.append(M)\n",
    "    Y[:, yc] /= M\n",
    "\n",
    "# Fit\n",
    "reg = mc.MCRegressor(hiddenCounts=[10, 5], activations=['dsilu', 'lin', 'dsilu', 'dsilu'])\n",
    "reg.fit(X, Y, Ieta=40, Beta=100, Gamma=4)\n",
    "\n",
    "# SSE Score: 2.8178970613421015 | Set: ['dsilu', 'lin', 'dsilu', 'dsilu']\n",
    "# SSE Score: 2.9387205129202956 | Set: ['dsilu', 'elu', 'elu', 'elu']\n",
    "# SSE Score: 2.999036285484354 | Set: ['dsilu', 'elu', 'dsilu', 'dsilu']\n",
    "\n",
    "# xt, xv, yt, yv = mc.TTSplit(X, Y, 85)\n",
    "# reg.optimize_fit(xt, yt, testInput=True, testOutput=True, activationTests=['dsilu', 'elu', 'lin'], trainDepthFactor=2)\n",
    "# print(f\"Score (Combined, Train | Validation): {round(reg.score(X, Y), 6)}, {round(reg.score(xt, yt), 6)} | {round(reg.score(xv, yv), 6)}\")"
   ]
  },
  {
   "cell_type": "code",
   "execution_count": 102,
   "metadata": {},
   "outputs": [
    {
     "name": "stdout",
     "output_type": "stream",
     "text": [
      "True Roots: 0.5, -0.5\n",
      "Model Prediction: [[ 0.21693395 -0.23015037]]\n"
     ]
    }
   ],
   "source": [
    "a = 1\n",
    "b = 2\n",
    "c = 1\n",
    "\n",
    "if b**2 < 4*a*c:\n",
    "    raise ValueError(\"This gives imaginary roots dingus!\")\n",
    "else:\n",
    "    root = (-b + (b**2 - 4*a*c)**0.5) / (4*a)\n",
    "\n",
    "print(f\"True Roots: {abs(root)}, {-abs(root)}\")\n",
    "\n",
    "print(f\"Model Prediction: {reg.predict(np.array([a, b, c]).reshape(1, 3))}\")"
   ]
  }
 ],
 "metadata": {
  "kernelspec": {
   "display_name": "Python 3.8.2 32-bit",
   "language": "python",
   "name": "python3"
  },
  "language_info": {
   "codemirror_mode": {
    "name": "ipython",
    "version": 3
   },
   "file_extension": ".py",
   "mimetype": "text/x-python",
   "name": "python",
   "nbconvert_exporter": "python",
   "pygments_lexer": "ipython3",
   "version": "3.8.2"
  },
  "orig_nbformat": 4,
  "vscode": {
   "interpreter": {
    "hash": "6d1e45cadc3597bb8b6600530fbdf8c3eefe919a24ef54d9d32b318795b772e0"
   }
  }
 },
 "nbformat": 4,
 "nbformat_minor": 2
}
