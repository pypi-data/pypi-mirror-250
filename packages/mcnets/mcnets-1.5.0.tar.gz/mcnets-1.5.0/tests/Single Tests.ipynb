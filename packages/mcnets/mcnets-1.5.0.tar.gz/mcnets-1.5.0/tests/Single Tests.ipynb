{
 "cells": [
  {
   "cell_type": "code",
   "execution_count": 1,
   "metadata": {},
   "outputs": [],
   "source": [
    "import numpy as np\n",
    "import random as rn\n",
    "from time import perf_counter as pc\n",
    "import matplotlib.pyplot as plt\n",
    "\n",
    "from main import MCNeuralNetwork, SUNN, MCSimpleEnsemble, MCSoupClassifier, MCSoupRegressor, generate_model, TTSplit, cross_val, r2d2, normalize, run_module_tests\n",
    "\n",
    "from sklearn.datasets import load_diabetes\n",
    "from sklearn.neural_network import MLPRegressor"
   ]
  },
  {
   "cell_type": "code",
   "execution_count": 2,
   "metadata": {},
   "outputs": [
    {
     "name": "stdout",
     "output_type": "stream",
     "text": [
      "Step 1 Done - TTSplit() and normalize() verified\n",
      "\n",
      "Step 2 Part 1/4 Done (make MCNeuralNetwork)\n",
      "Step 2 Part 2/4 Done (fit MCNeuralNetwork)\n",
      "Step 2 Part 3/4 Done (score MCNeuralNetwork)\n",
      "Cross Validation Scores: [0.7628818165012207, 0.8976030514850651, 0.6530337902345813]\n",
      "Step 2 Part 4/4 Done (cross_val on MCNeuralNetwork)\n",
      "Step 2 Done - MCNeuralNetwork verified\n",
      "\n",
      "Step 3 Part 1/4 Done (make MCSimpleEnsemble)\n",
      "Step 3 Part 2/4 Done (fit MCSimpleEnsemble)\n",
      "Step 3 Part 3/4 Done (score MCSimpleEnsemble)\n",
      "Cross Validation Scores: [0.9184408062926971, 0.8529178175782142, 0.8727815961245006]\n",
      "Step 3 Part 4/4 Done (cross_val on MCSimpleEnsemble)\n",
      "Step 3 Done - MCSimpleEnsemble verified\n",
      "\n",
      "Step 4 Part 1/4 Done (make SUNN)\n",
      "Step 4 Part 2/4 Done (fit SUNN)\n",
      "Step 4 Part 3/4 Done (score SUNN)\n",
      "Cross Validation Scores: [0.8463588413985607, 0.8561270597142924, 0.9859766966707177]\n",
      "Step 4 Part 4/4 Done (cross_val on SUNN)\n",
      "Step 4 Done - SUNN verified\n",
      "\n",
      "Step 5 Part 1/4 Done (make MCSoupRegressor)\n",
      "Step 5 Part 2/4 Done (fit MCSoupRegressor)\n",
      "Step 5 Part 3/4 Done (score MCSoupRegressor)\n",
      "Cross Validation Scores: [0.6839833360448455, 0.48783688087066257, 0.6391537391473088]\n",
      "Step 5 Part 4/4 Done (cross_val on MCSoupRegressor)\n",
      "Step 5 Done - MCSoupRegressor verified\n",
      "\n",
      "Step 6 Part 1/4 Done (make MCSoupClassifier)\n",
      "Step 6 Part 2/4 Done (fit MCSoupClassifier)\n",
      "Step 6 Part 3/4 Done (score MCSoupClassifier)\n",
      "Cross Validation Scores: [0.40215742147278233, 0.31045002951039546, 0.4497540214055227]\n",
      "Step 6 Part 4/4 Done (cross_val on MCSoupClassifier)\n",
      "Step 6 Done - MCSoupClassifier verified\n",
      "\n"
     ]
    },
    {
     "name": "stderr",
     "output_type": "stream",
     "text": [
      "d:\\OneDrive\\Documents (Cloud)\\Hobby Things\\Codes\\~~~PyPi\\NeuralNet\\src\\mcnets\\main.py:2296: RuntimeWarning: overflow encountered in exp\n",
      "  return 1 / (1 + np.exp(-calcVec))\n"
     ]
    }
   ],
   "source": [
    "run_module_tests()"
   ]
  },
  {
   "cell_type": "code",
   "execution_count": null,
   "metadata": {},
   "outputs": [],
   "source": []
  }
 ],
 "metadata": {
  "kernelspec": {
   "display_name": "Python 3",
   "language": "python",
   "name": "python3"
  },
  "language_info": {
   "codemirror_mode": {
    "name": "ipython",
    "version": 3
   },
   "file_extension": ".py",
   "mimetype": "text/x-python",
   "name": "python",
   "nbconvert_exporter": "python",
   "pygments_lexer": "ipython3",
   "version": "3.8.8"
  },
  "orig_nbformat": 4,
  "vscode": {
   "interpreter": {
    "hash": "0359b4785db930eb8f1ea876bf7ba349bace0e70fea48707a8a08ed9921e0151"
   }
  }
 },
 "nbformat": 4,
 "nbformat_minor": 2
}
