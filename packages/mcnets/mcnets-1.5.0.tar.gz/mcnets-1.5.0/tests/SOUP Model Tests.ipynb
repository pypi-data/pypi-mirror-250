{
 "cells": [
  {
   "cell_type": "code",
   "execution_count": 1,
   "metadata": {},
   "outputs": [],
   "source": [
    "import numpy as np\n",
    "import random as rn\n",
    "from time import perf_counter as pc\n",
    "import matplotlib.pyplot as plt\n",
    "\n",
    "from main import MCNeuralNetwork, SUNN, MCSimpleEnsemble, MCSoupClassifier, MCSoupRegressor, generate_model, TTSplit, cross_val, r2d2, normalize\n",
    "\n",
    "from sklearn.datasets import load_diabetes\n",
    "from sklearn.neural_network import MLPRegressor"
   ]
  },
  {
   "cell_type": "code",
   "execution_count": 11,
   "metadata": {},
   "outputs": [
    {
     "name": "stdout",
     "output_type": "stream",
     "text": [
      "Iteration #200 | Score = 0.651204        \n",
      "[-0.07131448  0.7077319 ]\n",
      "Iteration #200 | Score = 0.912663        \n",
      "[1.71627306e-04 8.61576434e-01]\n"
     ]
    }
   ],
   "source": [
    "X = np.random.rand(500, 3) - 0.5\n",
    "Y = np.sum(X, axis=1) >= 0\n",
    "\n",
    "model = MCSoupRegressor()\n",
    "model.fit(X, Y, N=200)\n",
    "print(model.predict(X[:2, :]))\n",
    "\n",
    "model = MCSoupClassifier()\n",
    "model.fit(X, Y, N=200)\n",
    "print(model.predict(X[:2, :]))"
   ]
  },
  {
   "cell_type": "code",
   "execution_count": 16,
   "metadata": {},
   "outputs": [
    {
     "name": "stdout",
     "output_type": "stream",
     "text": [
      "Iteration #250 | Score = 0.427066        \n"
     ]
    }
   ],
   "source": [
    "X, Y = load_diabetes(return_X_y=True)\n",
    "\n",
    "X, x_ms = normalize(X)\n",
    "Y, y_ms = normalize(Y)\n",
    "\n",
    "model = MCSoupRegressor(coef_bounds=(-1, 1), round_threshold=1e-5)\n",
    "model.fit(X, Y, N=250, gamma=25, beta=25, dropout=0.9, verbose=True)"
   ]
  },
  {
   "cell_type": "code",
   "execution_count": 14,
   "metadata": {},
   "outputs": [
    {
     "name": "stdout",
     "output_type": "stream",
     "text": [
      "Function Soup:\n",
      "Iteration #100 | Score = 0.995066        \n",
      "0.9948093191075738\n",
      "\n",
      "Default Neural Network:\n",
      "R2 Score: 0.911940 | Training: ========================================       \n",
      "0.8994255685828677\n"
     ]
    }
   ],
   "source": [
    "X = np.random.rand(500, 3)\n",
    "X[:, 0] = 2*X[:, 0]\n",
    "X[:, 1] = 1.5*(X[:, 1])\n",
    "\n",
    "Y = np.sum(X, axis=1)\n",
    "\n",
    "xt, xv, yt, yv = TTSplit(X, Y, 50)\n",
    "\n",
    "print(\"Function Soup:\")\n",
    "model = MCSoupRegressor(coef_bounds=(-1, 1), use_tan=False)\n",
    "model.fit(xt, yt, N=100, gamma=25, beta=25, dropout=0.9, verbose=True)\n",
    "print(model.score(xv, yv))\n",
    "\n",
    "print(\"\\nDefault Neural Network:\")\n",
    "model = MCNeuralNetwork()\n",
    "model.fit(xt, yt)\n",
    "print(model.score(xv, yv))"
   ]
  }
 ],
 "metadata": {
  "kernelspec": {
   "display_name": "Python 3",
   "language": "python",
   "name": "python3"
  },
  "language_info": {
   "codemirror_mode": {
    "name": "ipython",
    "version": 3
   },
   "file_extension": ".py",
   "mimetype": "text/x-python",
   "name": "python",
   "nbconvert_exporter": "python",
   "pygments_lexer": "ipython3",
   "version": "3.8.8 (tags/v3.8.8:024d805, Feb 19 2021, 13:18:16) [MSC v.1928 64 bit (AMD64)]"
  },
  "orig_nbformat": 4,
  "vscode": {
   "interpreter": {
    "hash": "0359b4785db930eb8f1ea876bf7ba349bace0e70fea48707a8a08ed9921e0151"
   }
  }
 },
 "nbformat": 4,
 "nbformat_minor": 2
}
