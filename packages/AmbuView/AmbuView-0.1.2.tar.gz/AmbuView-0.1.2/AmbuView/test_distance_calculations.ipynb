{
 "cells": [
  {
   "cell_type": "code",
   "execution_count": 5,
   "id": "aa212c45-3d75-4786-97dd-361430f8de1b",
   "metadata": {
    "tags": []
   },
   "outputs": [],
   "source": [
    "from AmbuView import distance_calculations\n",
    "import pytest\n",
    "import folium\n",
    "from shapely.geometry import MultiPolygon\n",
    "import geopandas as gpd\n",
    "from geopy.distance import geodesic"
   ]
  },
  {
   "cell_type": "code",
   "execution_count": 6,
   "id": "70b8212e-6908-4d5b-8cd2-89816be42c2e",
   "metadata": {
    "tags": []
   },
   "outputs": [
    {
     "name": "stdout",
     "output_type": "stream",
     "text": [
      "5.337660776915568\n"
     ]
    }
   ],
   "source": [
    "# testing distance_calculations module\n",
    "# Calculate what the distance_calculations should return \n",
    "distance_a = geodesic((50.3951, -3.5), (50.40, -3.5)).kilometers\n",
    "\n",
    "distance_b = geodesic((50.4351, -3.5642), (50.442964, -3.586598)).kilometers\n",
    "\n",
    "distance_c = geodesic((50.4619, -3.5253), (50.482712,-3.55166)).kilometers\n",
    "total_distance = distance_a + distance_b + distance_c\n",
    "print(total_distance)"
   ]
  },
  {
   "cell_type": "code",
   "execution_count": 7,
   "id": "1a2e62fd-6718-4979-831b-ba04a329ae4e",
   "metadata": {
    "tags": []
   },
   "outputs": [
    {
     "name": "stdout",
     "output_type": "stream",
     "text": [
      "5.337660776915568\n"
     ]
    }
   ],
   "source": [
    "print(distance_calculations.calculate_total_distance([(50.3951, -3.5), (50.4351, -3.5642), (50.4619, -3.5253)],\n",
    "                                               [(50.38872, -3.51266),(50.442964, -3.586598),(50.482712,-3.55166)],(50.40, -3.5)))\n",
    "# expected output 5.34"
   ]
  },
  {
   "cell_type": "code",
   "execution_count": 8,
   "id": "54f3f73d-447a-4df9-8b0d-c044584f07c0",
   "metadata": {
    "tags": []
   },
   "outputs": [
    {
     "name": "stdout",
     "output_type": "stream",
     "text": [
      "5.938961349153143\n"
     ]
    }
   ],
   "source": [
    "print(distance_calculations.calculate_total_distance([(50.3951, -3.5), (50.4351, -3.5642), (50.4619, -3.5253)],\n",
    "                                               [(50.38872, -3.51266),(50.442964, -3.586598),(50.482712,-3.55166)],(50.29, -3.3)))\n",
    "# expected output 5.94"
   ]
  },
  {
   "cell_type": "code",
   "execution_count": null,
   "id": "ccfaa25d-cf7d-4999-9b8f-1b393675351d",
   "metadata": {},
   "outputs": [],
   "source": []
  }
 ],
 "metadata": {
  "kernelspec": {
   "display_name": "Python 3 (ipykernel)",
   "language": "python",
   "name": "python3"
  },
  "language_info": {
   "codemirror_mode": {
    "name": "ipython",
    "version": 3
   },
   "file_extension": ".py",
   "mimetype": "text/x-python",
   "name": "python",
   "nbconvert_exporter": "python",
   "pygments_lexer": "ipython3",
   "version": "3.11.4"
  }
 },
 "nbformat": 4,
 "nbformat_minor": 5
}
