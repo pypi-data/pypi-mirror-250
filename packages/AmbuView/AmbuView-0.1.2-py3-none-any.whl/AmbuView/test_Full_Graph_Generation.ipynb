{
 "cells": [
  {
   "cell_type": "code",
   "execution_count": 1,
   "id": "a8e4455d-0edd-464c-b15b-c3362db71051",
   "metadata": {
    "tags": []
   },
   "outputs": [
    {
     "name": "stdout",
     "output_type": "stream",
     "text": [
      "Requirement already satisfied: AmbuView==0.1.1 in /Users/thomasowen/anaconda3/lib/python3.11/site-packages (0.1.1)\n",
      "Requirement already satisfied: numpy==1.26.3 in /Users/thomasowen/anaconda3/lib/python3.11/site-packages (from AmbuView==0.1.1) (1.26.3)\n",
      "Requirement already satisfied: osmnx==1.8.1 in /Users/thomasowen/anaconda3/lib/python3.11/site-packages (from AmbuView==0.1.1) (1.8.1)\n",
      "Requirement already satisfied: networkx==3.2.1 in /Users/thomasowen/anaconda3/lib/python3.11/site-packages (from AmbuView==0.1.1) (3.2.1)\n",
      "Requirement already satisfied: folium==0.15.1 in /Users/thomasowen/anaconda3/lib/python3.11/site-packages (from AmbuView==0.1.1) (0.15.1)\n",
      "Requirement already satisfied: alphashape==1.3.1 in /Users/thomasowen/anaconda3/lib/python3.11/site-packages (from AmbuView==0.1.1) (1.3.1)\n",
      "Requirement already satisfied: requests==2.31.0 in /Users/thomasowen/anaconda3/lib/python3.11/site-packages (from AmbuView==0.1.1) (2.31.0)\n",
      "Requirement already satisfied: pandas==2.1.4 in /Users/thomasowen/anaconda3/lib/python3.11/site-packages (from AmbuView==0.1.1) (2.1.4)\n",
      "Requirement already satisfied: geopandas==0.14.1 in /Users/thomasowen/anaconda3/lib/python3.11/site-packages (from AmbuView==0.1.1) (0.14.1)\n",
      "Requirement already satisfied: shapely==2.0.2 in /Users/thomasowen/anaconda3/lib/python3.11/site-packages (from AmbuView==0.1.1) (2.0.2)\n",
      "Requirement already satisfied: scipy==1.11.4 in /Users/thomasowen/anaconda3/lib/python3.11/site-packages (from AmbuView==0.1.1) (1.11.4)\n",
      "Requirement already satisfied: setuptools==60.2.0 in /Users/thomasowen/anaconda3/lib/python3.11/site-packages (from AmbuView==0.1.1) (60.2.0)\n",
      "Requirement already satisfied: scikit-learn==1.3.2 in /Users/thomasowen/anaconda3/lib/python3.11/site-packages (from AmbuView==0.1.1) (1.3.2)\n",
      "Requirement already satisfied: geopy==2.4.1 in /Users/thomasowen/anaconda3/lib/python3.11/site-packages (from AmbuView==0.1.1) (2.4.1)\n",
      "Requirement already satisfied: Click>=6.0 in /Users/thomasowen/anaconda3/lib/python3.11/site-packages (from alphashape==1.3.1->AmbuView==0.1.1) (8.0.4)\n",
      "Requirement already satisfied: click-log>=0.3.2 in /Users/thomasowen/anaconda3/lib/python3.11/site-packages (from alphashape==1.3.1->AmbuView==0.1.1) (0.4.0)\n",
      "Requirement already satisfied: trimesh>=3.9.8 in /Users/thomasowen/anaconda3/lib/python3.11/site-packages (from alphashape==1.3.1->AmbuView==0.1.1) (4.0.8)\n",
      "Requirement already satisfied: rtree>=0.9.7 in /Users/thomasowen/anaconda3/lib/python3.11/site-packages (from alphashape==1.3.1->AmbuView==0.1.1) (1.0.1)\n",
      "Requirement already satisfied: branca>=0.6.0 in /Users/thomasowen/anaconda3/lib/python3.11/site-packages (from folium==0.15.1->AmbuView==0.1.1) (0.7.0)\n",
      "Requirement already satisfied: jinja2>=2.9 in /Users/thomasowen/anaconda3/lib/python3.11/site-packages (from folium==0.15.1->AmbuView==0.1.1) (3.1.2)\n",
      "Requirement already satisfied: xyzservices in /Users/thomasowen/anaconda3/lib/python3.11/site-packages (from folium==0.15.1->AmbuView==0.1.1) (2022.9.0)\n",
      "Requirement already satisfied: fiona>=1.8.21 in /Users/thomasowen/anaconda3/lib/python3.11/site-packages (from geopandas==0.14.1->AmbuView==0.1.1) (1.9.5)\n",
      "Requirement already satisfied: packaging in /Users/thomasowen/anaconda3/lib/python3.11/site-packages (from geopandas==0.14.1->AmbuView==0.1.1) (23.0)\n",
      "Requirement already satisfied: pyproj>=3.3.0 in /Users/thomasowen/anaconda3/lib/python3.11/site-packages (from geopandas==0.14.1->AmbuView==0.1.1) (3.6.1)\n",
      "Requirement already satisfied: geographiclib<3,>=1.52 in /Users/thomasowen/anaconda3/lib/python3.11/site-packages (from geopy==2.4.1->AmbuView==0.1.1) (2.0)\n",
      "Requirement already satisfied: python-dateutil>=2.8.2 in /Users/thomasowen/anaconda3/lib/python3.11/site-packages (from pandas==2.1.4->AmbuView==0.1.1) (2.8.2)\n",
      "Requirement already satisfied: pytz>=2020.1 in /Users/thomasowen/anaconda3/lib/python3.11/site-packages (from pandas==2.1.4->AmbuView==0.1.1) (2022.7)\n",
      "Requirement already satisfied: tzdata>=2022.1 in /Users/thomasowen/anaconda3/lib/python3.11/site-packages (from pandas==2.1.4->AmbuView==0.1.1) (2023.4)\n",
      "Requirement already satisfied: charset-normalizer<4,>=2 in /Users/thomasowen/anaconda3/lib/python3.11/site-packages (from requests==2.31.0->AmbuView==0.1.1) (2.0.4)\n",
      "Requirement already satisfied: idna<4,>=2.5 in /Users/thomasowen/anaconda3/lib/python3.11/site-packages (from requests==2.31.0->AmbuView==0.1.1) (3.4)\n",
      "Requirement already satisfied: urllib3<3,>=1.21.1 in /Users/thomasowen/anaconda3/lib/python3.11/site-packages (from requests==2.31.0->AmbuView==0.1.1) (1.26.16)\n",
      "Requirement already satisfied: certifi>=2017.4.17 in /Users/thomasowen/anaconda3/lib/python3.11/site-packages (from requests==2.31.0->AmbuView==0.1.1) (2023.7.22)\n",
      "Requirement already satisfied: joblib>=1.1.1 in /Users/thomasowen/anaconda3/lib/python3.11/site-packages (from scikit-learn==1.3.2->AmbuView==0.1.1) (1.2.0)\n",
      "Requirement already satisfied: threadpoolctl>=2.0.0 in /Users/thomasowen/anaconda3/lib/python3.11/site-packages (from scikit-learn==1.3.2->AmbuView==0.1.1) (2.2.0)\n",
      "Requirement already satisfied: attrs>=19.2.0 in /Users/thomasowen/anaconda3/lib/python3.11/site-packages (from fiona>=1.8.21->geopandas==0.14.1->AmbuView==0.1.1) (22.1.0)\n",
      "Requirement already satisfied: click-plugins>=1.0 in /Users/thomasowen/anaconda3/lib/python3.11/site-packages (from fiona>=1.8.21->geopandas==0.14.1->AmbuView==0.1.1) (1.1.1)\n",
      "Requirement already satisfied: cligj>=0.5 in /Users/thomasowen/anaconda3/lib/python3.11/site-packages (from fiona>=1.8.21->geopandas==0.14.1->AmbuView==0.1.1) (0.7.2)\n",
      "Requirement already satisfied: six in /Users/thomasowen/anaconda3/lib/python3.11/site-packages (from fiona>=1.8.21->geopandas==0.14.1->AmbuView==0.1.1) (1.16.0)\n",
      "Requirement already satisfied: MarkupSafe>=2.0 in /Users/thomasowen/anaconda3/lib/python3.11/site-packages (from jinja2>=2.9->folium==0.15.1->AmbuView==0.1.1) (2.1.1)\n"
     ]
    }
   ],
   "source": [
    "!pip install AmbuView==0.1.2"
   ]
  },
  {
   "cell_type": "code",
   "execution_count": 2,
   "id": "751daba7-8281-4935-9d97-4f1cc5d87d54",
   "metadata": {
    "tags": []
   },
   "outputs": [],
   "source": [
    "from AmbuView import Full_Graph_Generation\n",
    "import os\n",
    "import sys"
   ]
  },
  {
   "cell_type": "code",
   "execution_count": 21,
   "id": "3ba62c72-3e17-4e04-a8bc-213d2d254347",
   "metadata": {
    "tags": []
   },
   "outputs": [
    {
     "name": "stdout",
     "output_type": "stream",
     "text": [
      "Generating map...\n",
      "Downloading URL Data\n",
      "The number of ambulance hub isochrones to be added: 3\n",
      "Processing isochrones...\n",
      "Number of isochrones added: 50\n",
      "Number of isochrones added: 51\n",
      "Number of isochrones added: 52\n",
      "centroid location =  [50.438132 -3.550306]\n",
      "Running new hub optimization algorithm...\n",
      "The furthest point within the convex hull from all central nodes is at: [50.46189937 -3.52530057]\n",
      "the total isochrones generated: 52\n",
      "Total Runtime: 6.85652232170105 seconds\n",
      "The map can be found as an HTML file located in the same directory as where you ran the python script named:combined_isochrone_map.HTML\n"
     ]
    }
   ],
   "source": [
    "# test data for torbay with a single population density, single location, and limited to regional ambulance hubs\n",
    "Full_Graph_Generation.create_ambulance_coverage_map(locations_csv='test_data_torquay_locations.csv',\n",
    "                                  uk_county_boundary_url=\"https://services1.arcgis.com/ESMARspQHYMw9BZ9/arcgis/rest/services/Counties_May_2023_Boundaries_EN_BFC/FeatureServer/0/query?outFields=*&where=1%3D1&f=geojson\",\n",
    "                                  pop_density_urls=[\n",
    "                                      \"https://raw.githubusercontent.com/martinjc/UK-GeoJSON/master/json/statistical/eng/msoa_by_lad/E06000027.json\"\n",
    "                                  ],\n",
    "                                  pop_density_csv=\"Torbay_test_data_population_density.csv\",\n",
    "                                  ambulance_hub_lat_lon_tuples= [(50.38872, -3.51266),(50.442964, -3.586598),(50.482712,-3.55166)],\n",
    "                                  ambulance_time=15)"
   ]
  },
  {
   "cell_type": "code",
   "execution_count": 22,
   "id": "32ad78cb-cab6-426b-8d38-008b4edea59c",
   "metadata": {},
   "outputs": [
    {
     "name": "stdout",
     "output_type": "stream",
     "text": [
      "Generating map...\n",
      "Downloading URL Data\n",
      "The number of ambulance hub isochrones to be added: 3\n",
      "Processing isochrones...\n",
      "Number of isochrones added: 53\n",
      "Number of isochrones added: 54\n",
      "Number of isochrones added: 55\n",
      "centroid location =  [50.438132 -3.550306]\n",
      "Running new hub optimization algorithm...\n",
      "The furthest point within the convex hull from all central nodes is at: [50.482712 -3.586598]\n",
      "the total isochrones generated: 55\n",
      "Total Runtime: 7.439573049545288 seconds\n",
      "The map can be found as an HTML file located in the same directory as where you ran the python script named:combined_isochrone_map.HTML\n"
     ]
    }
   ],
   "source": [
    "# Test data changing the ambulance time to 5 minutes\n",
    "Full_Graph_Generation.create_ambulance_coverage_map(locations_csv='Devon_2021_Census_Population_by_town.csv',\n",
    "                                  uk_county_boundary_url=\"https://services1.arcgis.com/ESMARspQHYMw9BZ9/arcgis/rest/services/Counties_May_2023_Boundaries_EN_BFC/FeatureServer/0/query?outFields=*&where=1%3D1&f=geojson\",\n",
    "                                  pop_density_urls=[\n",
    "                                      \"https://raw.githubusercontent.com/martinjc/UK-GeoJSON/master/json/statistical/eng/msoa_by_lad/E07000046.json\",\n",
    "            \"https://raw.githubusercontent.com/martinjc/UK-GeoJSON/master/json/statistical/eng/msoa_by_lad/E07000040.json\",\n",
    "            \"https://raw.githubusercontent.com/martinjc/UK-GeoJSON/master/json/statistical/eng/msoa_by_lad/E07000041.json\",\n",
    "            \"https://raw.githubusercontent.com/martinjc/UK-GeoJSON/master/json/statistical/eng/msoa_by_lad/E07000042.json\",\n",
    "            \"https://raw.githubusercontent.com/martinjc/UK-GeoJSON/master/json/statistical/eng/msoa_by_lad/E07000043.json\",\n",
    "            \"https://raw.githubusercontent.com/martinjc/UK-GeoJSON/master/json/statistical/eng/msoa_by_lad/E07000044.json\",\n",
    "            \"https://raw.githubusercontent.com/martinjc/UK-GeoJSON/master/json/statistical/eng/msoa_by_lad/E07000045.json\",\n",
    "            \"https://raw.githubusercontent.com/martinjc/UK-GeoJSON/master/json/statistical/eng/msoa_by_lad/E07000047.json\"\n",
    "                                  ],\n",
    "                                  pop_density_csv=\"nomis_2023_12_31_000343.csv\",\n",
    "                                  ambulance_hub_lat_lon_tuples= [(50.38872, -3.51266),(50.442964, -3.586598),(50.482712,-3.55166)],\n",
    "                                  ambulance_time=5)"
   ]
  }
 ],
 "metadata": {
  "kernelspec": {
   "display_name": "Python 3 (ipykernel)",
   "language": "python",
   "name": "python3"
  },
  "language_info": {
   "codemirror_mode": {
    "name": "ipython",
    "version": 3
   },
   "file_extension": ".py",
   "mimetype": "text/x-python",
   "name": "python",
   "nbconvert_exporter": "python",
   "pygments_lexer": "ipython3",
   "version": "3.11.4"
  }
 },
 "nbformat": 4,
 "nbformat_minor": 5
}
