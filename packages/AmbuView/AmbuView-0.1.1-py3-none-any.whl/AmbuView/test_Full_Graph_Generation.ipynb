{
 "cells": [
  {
   "cell_type": "code",
   "execution_count": null,
   "id": "3ba62c72-3e17-4e04-a8bc-213d2d254347",
   "metadata": {},
   "outputs": [],
   "source": [
    "# test data for torbay\n",
    "create_ambulance_coverage_map(locations_csv=\"C:\\\\Users\\\\Helen\\\\OneDrive - Durham University\\\\test_data_torquay_locations.csv\",\n",
    "                                  uk_county_boundary_url=\"https://services1.arcgis.com/ESMARspQHYMw9BZ9/arcgis/rest/services/Counties_and_Unitary_Authorities_May_2023_UK_BFC/FeatureServer/0/query?outFields=*&where=1%3D1&f=geojson\",\n",
    "                                  pop_density_urls=\"https://raw.githubusercontent.com/martinjc/UK-GeoJSON/master/json/statistical/eng/msoa_by_lad/E06000027.json\",\n",
    "                                  pop_density_csv=\"C:\\\\Users\\\\Helen\\\\AmbuView\\\\AmbuView\\\\Torbay_test_data_population_density.csv\",\n",
    "                                  ambulance_hub_lat_lon_tuples= [(50.38872, -3.51266),(50.442964, -3.586598),(50.482712,-3.55166)],\n",
    "                                  ambulance_time=None)"
   ]
  }
 ],
 "metadata": {
  "kernelspec": {
   "display_name": "Python 3 (ipykernel)",
   "language": "python",
   "name": "python3"
  },
  "language_info": {
   "codemirror_mode": {
    "name": "ipython",
    "version": 3
   },
   "file_extension": ".py",
   "mimetype": "text/x-python",
   "name": "python",
   "nbconvert_exporter": "python",
   "pygments_lexer": "ipython3",
   "version": "3.11.4"
  }
 },
 "nbformat": 4,
 "nbformat_minor": 5
}
