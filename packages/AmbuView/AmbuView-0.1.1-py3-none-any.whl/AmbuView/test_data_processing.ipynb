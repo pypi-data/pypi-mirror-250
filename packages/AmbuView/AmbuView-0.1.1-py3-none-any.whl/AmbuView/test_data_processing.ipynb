{
 "cells": [
  {
   "cell_type": "code",
   "execution_count": null,
   "id": "e6d25b33-43f8-4b1b-bd35-7cbcdaa9dd2f",
   "metadata": {},
   "outputs": [],
   "source": [
    "!"
   ]
  },
  {
   "cell_type": "code",
   "execution_count": 1,
   "id": "7c026835-4cad-4cc9-a002-27eb74ef1832",
   "metadata": {
    "tags": []
   },
   "outputs": [
    {
     "ename": "ModuleNotFoundError",
     "evalue": "No module named 'AmbuView'",
     "output_type": "error",
     "traceback": [
      "\u001b[0;31m---------------------------------------------------------------------------\u001b[0m",
      "\u001b[0;31mModuleNotFoundError\u001b[0m                       Traceback (most recent call last)",
      "Cell \u001b[0;32mIn[1], line 1\u001b[0m\n\u001b[0;32m----> 1\u001b[0m \u001b[38;5;28;01mfrom\u001b[39;00m \u001b[38;5;21;01mAmbuView\u001b[39;00m \u001b[38;5;28;01mimport\u001b[39;00m data_processing\n\u001b[1;32m      2\u001b[0m \u001b[38;5;28;01mimport\u001b[39;00m \u001b[38;5;21;01mpytest\u001b[39;00m\n\u001b[1;32m      3\u001b[0m \u001b[38;5;28;01mimport\u001b[39;00m \u001b[38;5;21;01mfolium\u001b[39;00m\n",
      "\u001b[0;31mModuleNotFoundError\u001b[0m: No module named 'AmbuView'"
     ]
    }
   ],
   "source": [
    "from AmbuView import data_processing\n",
    "import pytest\n",
    "import folium\n",
    "from shapely.geometry import MultiPolygon\n",
    "import geopandas as gpd"
   ]
  },
  {
   "cell_type": "code",
   "execution_count": null,
   "id": "eca96b96-629c-4434-897c-e9f83fa15da0",
   "metadata": {
    "tags": []
   },
   "outputs": [],
   "source": [
    "# testing data_processing.py\n",
    "# load locations from csv\n",
    "locations_df = data_processing.load_locations_from_csv(\"C:\\\\Users\\\\Helen\\\\OneDrive - Durham University\\\\test_data_torquay_locations.csv\")\n",
    "print(locations_df)\n",
    "# should return a Dataframe containing the locations data."
   ]
  },
  {
   "cell_type": "code",
   "execution_count": null,
   "id": "ffc53836-8514-4e9b-ad19-08e38da0fed2",
   "metadata": {
    "tags": []
   },
   "outputs": [],
   "source": [
    "# testing preprocess_locations_data function\n",
    "heat_data = data_processing.preprocess_locations_data(locations_df)\n",
    "# expected output [(50.3951, -3.5, 17834), (50.4351, -3.5642, 67488), (50.4619, -3.5253, 52037)]\n",
    "print(heat_data)"
   ]
  },
  {
   "cell_type": "code",
   "execution_count": null,
   "id": "7385c249-07bc-4b4d-92c0-140ab85a7246",
   "metadata": {
    "tags": []
   },
   "outputs": [],
   "source": [
    "# testing preprocess_locations_data_for_opt\n",
    "opt_data = data_processing.preprocess_locations_data_for_opt(heat_data)\n",
    "# expected output [(50.3951, -3.5), (50.4351, -3.5642), (50.4619, -3.5253)]\n",
    "print(opt_data)"
   ]
  },
  {
   "cell_type": "code",
   "execution_count": null,
   "id": "e3f45ce1-3401-410d-8ce0-8a2ac41aebf4",
   "metadata": {
    "tags": []
   },
   "outputs": [],
   "source": [
    "torbay_gdf = data_processing.load_devon_boundary(\"https://services1.arcgis.com/ESMARspQHYMw9BZ9/arcgis/rest/services/Counties_and_Unitary_Authorities_May_2023_UK_BFC/FeatureServer/0/query?outFields=*&where=1%3D1&f=geojson\")\n",
    "torbay_gdf.head() # expected output: geodataframe "
   ]
  },
  {
   "cell_type": "code",
   "execution_count": null,
   "id": "782a0d3b-7707-44a7-81f1-a629ba3c40fc",
   "metadata": {
    "tags": []
   },
   "outputs": [],
   "source": [
    "torbay_gdf = data_processing.optimize_geodataframe(torbay_gdf, \"CTYUA23NM\", \"Torbay\")\n",
    "print(torbay_gdf)\n",
    "# expected output: geodataframe containing just the geometry for torbay "
   ]
  },
  {
   "cell_type": "code",
   "execution_count": null,
   "id": "cde613d1-acfd-4034-8597-112acc3770f7",
   "metadata": {
    "tags": []
   },
   "outputs": [],
   "source": [
    "# test get_devon_boundary_polygon\n",
    "print(data_processing.get_devon_boundary_polygon(torbay_gdf))\n",
    "# expected output: POLYGON ((-3.5151077200151 50.5174265250422, -3.50913535137322 50.5165786692391..."
   ]
  },
  {
   "cell_type": "code",
   "execution_count": null,
   "id": "25716e9a-c126-4291-9c9f-d4045c5485fa",
   "metadata": {
    "tags": []
   },
   "outputs": [],
   "source": [
    "f_map = folium.Map(location=[50.38872, -3.51266], zoom_start=11)\n",
    "torbay_boundry_layer = data_processing.create_devon_boundary_layer(f_map, torbay_gdf)\n",
    "print(torbay_boundry_layer)\n",
    "# Showing the torbay_boundry_layer added to the folium map.\n",
    "torbay_boundry_layer.add_to(f_map)\n",
    "f_map\n",
    "# expected output: folium map with the torbay boundries outlined in yellow."
   ]
  },
  {
   "cell_type": "code",
   "execution_count": null,
   "id": "bc1fb87d-47b2-4c7f-8b9c-bcad897a4009",
   "metadata": {
    "tags": []
   },
   "outputs": [],
   "source": [
    "# test read_and_combine_geojson\n",
    "data_processing.read_and_combine_geojson([\"https://raw.githubusercontent.com/martinjc/UK-GeoJSON/master/json/statistical/eng/msoa_by_lad/E07000188.json\", \n",
    "                        \"https://raw.githubusercontent.com/martinjc/UK-GeoJSON/master/json/statistical/eng/msoa_by_lad/E07000189.json\"])\n",
    "# expected output should be a geodataframe with both sedgemoor and south somerset documented. "
   ]
  },
  {
   "cell_type": "code",
   "execution_count": null,
   "id": "962c0935-4ee7-4084-b8cc-72945e914c24",
   "metadata": {
    "tags": []
   },
   "outputs": [],
   "source": [
    "data_processing.read_and_combine_geojson([\"https://raw.githubusercontent.com/martinjc/UK-GeoJSON/master/json/statistical/eng/msoa_by_lad/E06000027.json\"])\n",
    "# checking it still works if only one geojson file is input in the list. "
   ]
  },
  {
   "cell_type": "code",
   "execution_count": null,
   "id": "f9c97f5a-79f8-48d7-983e-d6a2dcd49708",
   "metadata": {},
   "outputs": [],
   "source": []
  }
 ],
 "metadata": {
  "kernelspec": {
   "display_name": "Python 3 (ipykernel)",
   "language": "python",
   "name": "python3"
  },
  "language_info": {
   "codemirror_mode": {
    "name": "ipython",
    "version": 3
   },
   "file_extension": ".py",
   "mimetype": "text/x-python",
   "name": "python",
   "nbconvert_exporter": "python",
   "pygments_lexer": "ipython3",
   "version": "3.11.4"
  }
 },
 "nbformat": 4,
 "nbformat_minor": 5
}
