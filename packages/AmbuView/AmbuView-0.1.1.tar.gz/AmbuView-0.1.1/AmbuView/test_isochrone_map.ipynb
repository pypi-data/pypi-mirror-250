{
 "cells": [
  {
   "cell_type": "code",
   "execution_count": 1,
   "id": "e4723e5b-b5ba-4666-831e-1ba9aac8c7dc",
   "metadata": {
    "tags": []
   },
   "outputs": [],
   "source": [
    "import numpy as np\n",
    "import osmnx as ox\n",
    "import networkx as nx\n",
    "import folium\n",
    "import alphashape\n",
    "from shapely import MultiPoint\n",
    "from shapely.geometry import Polygon, MultiPolygon\n",
    "from concurrent.futures import ThreadPoolExecutor, as_completed\n",
    "from AmbuView import data_processing, isochrone_map, map_visualization, optimization"
   ]
  },
  {
   "cell_type": "code",
   "execution_count": 3,
   "id": "ffe3aff1-8110-4d3e-b5b3-f25d624b30fb",
   "metadata": {
    "tags": []
   },
   "outputs": [
    {
     "name": "stdout",
     "output_type": "stream",
     "text": [
      "Processing isochrones...\n",
      "number of isochrones added: 1\n",
      "number of isochrones added: 2\n",
      "number of isochrones added: 3\n"
     ]
    }
   ],
   "source": [
    "isochrone_layer = folium.FeatureGroup(name='Isochrones')\n",
    "isochrone_map.create_isochrones([(50.38872, -3.51266),(50.442964, -3.586598),(50.482712,-3.55166)], isochrone_layer, ambulance_time=15, isotype='concave')"
   ]
  },
  {
   "cell_type": "code",
   "execution_count": null,
   "id": "8c6e2851-8af7-4977-bd96-1157e56a4408",
   "metadata": {},
   "outputs": [],
   "source": []
  }
 ],
 "metadata": {
  "kernelspec": {
   "display_name": "Python 3 (ipykernel)",
   "language": "python",
   "name": "python3"
  },
  "language_info": {
   "codemirror_mode": {
    "name": "ipython",
    "version": 3
   },
   "file_extension": ".py",
   "mimetype": "text/x-python",
   "name": "python",
   "nbconvert_exporter": "python",
   "pygments_lexer": "ipython3",
   "version": "3.11.4"
  }
 },
 "nbformat": 4,
 "nbformat_minor": 5
}
