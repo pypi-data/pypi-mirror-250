{
 "cells": [
  {
   "cell_type": "code",
   "execution_count": 1,
   "metadata": {},
   "outputs": [],
   "source": [
    "from tile_match_gym.tile_match_env import TileMatchEnv\n",
    "import numpy as np"
   ]
  },
  {
   "cell_type": "code",
   "execution_count": 2,
   "metadata": {},
   "outputs": [],
   "source": [
    "env = TileMatchEnv(10, 10, 4, 30, [], [], seed=2)\n",
    "obs, _ = env.reset()\n",
    "# print(obs)"
   ]
  },
  {
   "cell_type": "code",
   "execution_count": 3,
   "metadata": {},
   "outputs": [
    {
     "name": "stdout",
     "output_type": "stream",
     "text": [
      "1000\n",
      "Episode: 33, Average_Reward: 88.51515151515152,Nothing move: 0.747 \n",
      "2000\n",
      "Episode: 66, Average_Reward: 91.24242424242425,Nothing move: 0.7495 \n",
      "3000\n",
      "Episode: 100, Average_Reward: 87.16,Nothing move: 0.752 \n",
      "4000\n",
      "Episode: 133, Average_Reward: 85.21052631578948,Nothing move: 0.75425 \n",
      "5000\n",
      "Episode: 166, Average_Reward: 86.59036144578313,Nothing move: 0.7528 \n",
      "6000\n",
      "Episode: 200, Average_Reward: 84.755,Nothing move: 0.7561666666666667 \n",
      "7000\n",
      "Episode: 233, Average_Reward: 84.0901287553648,Nothing move: 0.759 \n",
      "8000\n",
      "Episode: 266, Average_Reward: 85.61278195488721,Nothing move: 0.76 \n",
      "9000\n",
      "Episode: 300, Average_Reward: 84.87,Nothing move: 0.761 \n",
      "10000\n",
      "Episode: 333, Average_Reward: 86.01801801801801,Nothing move: 0.7597 \n",
      "11000\n",
      "Episode: 366, Average_Reward: 86.59016393442623,Nothing move: 0.7596363636363637 \n",
      "12000\n",
      "Episode: 400, Average_Reward: 86.485,Nothing move: 0.75975 \n",
      "13000\n",
      "Episode: 433, Average_Reward: 86.26789838337183,Nothing move: 0.7608461538461538 \n",
      "14000\n",
      "Episode: 466, Average_Reward: 86.09871244635193,Nothing move: 0.7612142857142857 \n",
      "15000\n",
      "Episode: 500, Average_Reward: 86.612,Nothing move: 0.7592666666666666 \n",
      "16000\n",
      "Episode: 533, Average_Reward: 86.48217636022514,Nothing move: 0.7596875 \n",
      "17000\n",
      "Episode: 566, Average_Reward: 86.41166077738517,Nothing move: 0.7591176470588236 \n",
      "18000\n",
      "Episode: 600, Average_Reward: 86.05,Nothing move: 0.7591666666666667 \n",
      "19000\n",
      "Episode: 633, Average_Reward: 86.36334913112164,Nothing move: 0.7590526315789474 \n",
      "20000\n",
      "Episode: 666, Average_Reward: 86.35735735735736,Nothing move: 0.75955 \n",
      "21000\n",
      "Episode: 700, Average_Reward: 86.17285714285714,Nothing move: 0.7588571428571429 \n",
      "22000\n",
      "Episode: 733, Average_Reward: 86.62619372442019,Nothing move: 0.7584545454545455 \n",
      "23000\n",
      "Episode: 766, Average_Reward: 86.97650130548303,Nothing move: 0.7575652173913043 \n",
      "24000\n",
      "Episode: 800, Average_Reward: 87.10875,Nothing move: 0.7582083333333334 \n",
      "25000\n",
      "Episode: 833, Average_Reward: 86.79111644657863,Nothing move: 0.75884 \n",
      "26000\n",
      "Episode: 866, Average_Reward: 86.65127020785219,Nothing move: 0.759423076923077 \n",
      "27000\n",
      "Episode: 900, Average_Reward: 86.45444444444445,Nothing move: 0.7597037037037037 \n",
      "28000\n",
      "Episode: 933, Average_Reward: 86.29581993569131,Nothing move: 0.7600714285714286 \n",
      "29000\n",
      "Episode: 966, Average_Reward: 86.26086956521739,Nothing move: 0.7594827586206897 \n",
      "30000\n",
      "Episode: 1000, Average_Reward: 86.146,Nothing move: 0.7599 \n",
      "31000\n",
      "Episode: 1033, Average_Reward: 86.54791868344627,Nothing move: 0.7595161290322581 \n",
      "32000\n",
      "Episode: 1066, Average_Reward: 87.1594746716698,Nothing move: 0.75853125 \n",
      "33000\n",
      "Episode: 1100, Average_Reward: 86.82,Nothing move: 0.7591818181818182 \n",
      "34000\n",
      "Episode: 1133, Average_Reward: 86.66284201235658,Nothing move: 0.7591764705882353 \n",
      "35000\n",
      "Episode: 1166, Average_Reward: 86.85763293310463,Nothing move: 0.7596857142857143 \n",
      "36000\n",
      "Episode: 1200, Average_Reward: 86.79166666666667,Nothing move: 0.7595833333333334 \n",
      "37000\n",
      "Episode: 1233, Average_Reward: 86.57583130575831,Nothing move: 0.759972972972973 \n",
      "38000\n",
      "Episode: 1266, Average_Reward: 86.89652448657188,Nothing move: 0.7596842105263157 \n",
      "39000\n",
      "Episode: 1300, Average_Reward: 86.83,Nothing move: 0.7595384615384615 \n",
      "40000\n",
      "Episode: 1333, Average_Reward: 86.70217554388597,Nothing move: 0.759775 \n",
      "41000\n",
      "Episode: 1366, Average_Reward: 86.8316251830161,Nothing move: 0.7598292682926829 \n",
      "42000\n",
      "Episode: 1400, Average_Reward: 86.63571428571429,Nothing move: 0.7601666666666667 \n",
      "43000\n",
      "Episode: 1433, Average_Reward: 86.85415212840195,Nothing move: 0.7596046511627907 \n",
      "44000\n",
      "Episode: 1466, Average_Reward: 86.71691678035471,Nothing move: 0.7595227272727273 \n",
      "45000\n",
      "Episode: 1500, Average_Reward: 86.58133333333333,Nothing move: 0.7593111111111112 \n",
      "46000\n",
      "Episode: 1533, Average_Reward: 87.00326157860404,Nothing move: 0.7583478260869565 \n",
      "47000\n",
      "Episode: 1566, Average_Reward: 87.14623243933589,Nothing move: 0.7583404255319149 \n",
      "48000\n",
      "Episode: 1600, Average_Reward: 86.93625,Nothing move: 0.75875 \n",
      "49000\n",
      "Episode: 1633, Average_Reward: 86.89344764237599,Nothing move: 0.7589591836734694 \n",
      "50000\n",
      "Episode: 1666, Average_Reward: 86.81332533013206,Nothing move: 0.75862 \n",
      "51000\n",
      "Episode: 1700, Average_Reward: 86.84176470588235,Nothing move: 0.7586666666666667 \n",
      "52000\n",
      "Episode: 1733, Average_Reward: 86.85516445470283,Nothing move: 0.7586153846153846 \n",
      "53000\n",
      "Episode: 1766, Average_Reward: 86.81426953567384,Nothing move: 0.7585094339622641 \n",
      "54000\n",
      "Episode: 1800, Average_Reward: 86.69722222222222,Nothing move: 0.7586296296296297 \n",
      "55000\n",
      "Episode: 1833, Average_Reward: 86.46863066012003,Nothing move: 0.759 \n",
      "56000\n",
      "Episode: 1866, Average_Reward: 86.70578778135048,Nothing move: 0.7587142857142857 \n",
      "57000\n",
      "Episode: 1900, Average_Reward: 86.72947368421053,Nothing move: 0.7587368421052632 \n",
      "58000\n",
      "Episode: 1933, Average_Reward: 86.84428349715468,Nothing move: 0.7587586206896552 \n",
      "59000\n",
      "Episode: 1966, Average_Reward: 87.03407934893184,Nothing move: 0.7584237288135594 \n",
      "60000\n",
      "Episode: 2000, Average_Reward: 87.1485,Nothing move: 0.7580833333333333 \n",
      "61000\n",
      "Episode: 2033, Average_Reward: 87.1460895228726,Nothing move: 0.7583934426229508 \n",
      "62000\n",
      "Episode: 2066, Average_Reward: 87.0677637947725,Nothing move: 0.7584193548387097 \n",
      "63000\n",
      "Episode: 2100, Average_Reward: 87.09476190476191,Nothing move: 0.7582380952380953 \n",
      "64000\n",
      "Episode: 2133, Average_Reward: 87.29254571026723,Nothing move: 0.7579375 \n",
      "65000\n",
      "Episode: 2166, Average_Reward: 87.0595567867036,Nothing move: 0.7583846153846154 \n",
      "66000\n",
      "Episode: 2200, Average_Reward: 87.09863636363636,Nothing move: 0.7581060606060606 \n",
      "67000\n",
      "Episode: 2233, Average_Reward: 87.09404388714734,Nothing move: 0.7580597014925373 \n",
      "68000\n",
      "Episode: 2266, Average_Reward: 87.08120035304502,Nothing move: 0.758 \n",
      "69000\n",
      "Episode: 2300, Average_Reward: 87.0391304347826,Nothing move: 0.7580434782608696 \n",
      "70000\n",
      "Episode: 2333, Average_Reward: 86.94813544792113,Nothing move: 0.7581714285714286 \n",
      "71000\n",
      "Episode: 2366, Average_Reward: 86.95435333896873,Nothing move: 0.7580985915492958 \n",
      "72000\n",
      "Episode: 2400, Average_Reward: 87.17291666666667,Nothing move: 0.75775 \n",
      "73000\n",
      "Episode: 2433, Average_Reward: 87.27661323468968,Nothing move: 0.7578082191780822 \n",
      "74000\n",
      "Episode: 2466, Average_Reward: 87.39497161394972,Nothing move: 0.7575945945945946 \n",
      "75000\n",
      "Episode: 2500, Average_Reward: 87.362,Nothing move: 0.7576533333333333 \n",
      "76000\n",
      "Episode: 2533, Average_Reward: 87.33004342676668,Nothing move: 0.7576842105263157 \n",
      "77000\n",
      "Episode: 2566, Average_Reward: 87.3261886204209,Nothing move: 0.757961038961039 \n",
      "78000\n",
      "Episode: 2600, Average_Reward: 87.2176923076923,Nothing move: 0.7580641025641026 \n",
      "79000\n",
      "Episode: 2633, Average_Reward: 87.18951766046335,Nothing move: 0.7581265822784811 \n",
      "80000\n",
      "Episode: 2666, Average_Reward: 87.07239309827457,Nothing move: 0.75845 \n",
      "81000\n",
      "Episode: 2700, Average_Reward: 87.01962962962963,Nothing move: 0.758320987654321 \n",
      "82000\n",
      "Episode: 2733, Average_Reward: 86.9048664471277,Nothing move: 0.7583414634146342 \n",
      "83000\n",
      "Episode: 2766, Average_Reward: 86.88069414316703,Nothing move: 0.7583493975903615 \n",
      "84000\n",
      "Episode: 2800, Average_Reward: 86.84928571428571,Nothing move: 0.758297619047619 \n",
      "85000\n",
      "Episode: 2833, Average_Reward: 86.71867278503353,Nothing move: 0.7582823529411765 \n",
      "86000\n",
      "Episode: 2866, Average_Reward: 86.63991625959525,Nothing move: 0.7583372093023256 \n",
      "87000\n",
      "Episode: 2900, Average_Reward: 86.69793103448276,Nothing move: 0.7581379310344828 \n",
      "88000\n",
      "Episode: 2933, Average_Reward: 86.79849982952608,Nothing move: 0.758125 \n",
      "89000\n",
      "Episode: 2966, Average_Reward: 86.7464598786244,Nothing move: 0.7581573033707865 \n",
      "90000\n",
      "Episode: 3000, Average_Reward: 86.71033333333334,Nothing move: 0.7581444444444444 \n",
      "91000\n",
      "Episode: 3033, Average_Reward: 86.837784371909,Nothing move: 0.757978021978022 \n",
      "92000\n",
      "Episode: 3066, Average_Reward: 86.85649054142205,Nothing move: 0.757891304347826 \n",
      "93000\n",
      "Episode: 3100, Average_Reward: 86.77129032258064,Nothing move: 0.7580967741935484 \n",
      "94000\n",
      "Episode: 3133, Average_Reward: 86.67251835301627,Nothing move: 0.7581595744680851 \n",
      "95000\n",
      "Episode: 3166, Average_Reward: 86.61876184459886,Nothing move: 0.7581473684210527 \n",
      "96000\n",
      "Episode: 3200, Average_Reward: 86.42875,Nothing move: 0.7583541666666667 \n",
      "97000\n",
      "Episode: 3233, Average_Reward: 86.25394370553666,Nothing move: 0.7584536082474227 \n",
      "98000\n",
      "Episode: 3266, Average_Reward: 86.27924066135947,Nothing move: 0.7584489795918368 \n",
      "99000\n",
      "Episode: 3300, Average_Reward: 86.35,Nothing move: 0.7583333333333333 \n"
     ]
    }
   ],
   "source": [
    "num_epi = 0\n",
    "total_reward = 0\n",
    "no_elim = 0\n",
    "num_shuffled = 0\n",
    "for i in range(100000):\n",
    "    action = env.action_space.sample()\n",
    "    next_obs, reward, done, _, info = env.step(action)\n",
    "    \n",
    "    if reward == 0:\n",
    "        no_elim += 1\n",
    "        \n",
    "    total_reward += reward\n",
    "    if info[\"shuffled\"]:\n",
    "        num_shuffled +=1\n",
    "        assert env.board.possible_move()\n",
    "        assert len(env.board.get_colour_lines()) == 0\n",
    "        \n",
    "    if done:\n",
    "        num_epi +=1\n",
    "        env.reset()\n",
    "\n",
    "    if i % 1000 == 0 and i > 0:\n",
    "        print(i)\n",
    "        print(f\"Episode: {num_epi}, Average_Reward: {total_reward / num_epi},Nothing move: {no_elim/i} \")"
   ]
  },
  {
   "cell_type": "code",
   "execution_count": null,
   "metadata": {},
   "outputs": [
    {
     "data": {
      "text/plain": [
       "7458"
      ]
     },
     "execution_count": 10,
     "metadata": {},
     "output_type": "execute_result"
    }
   ],
   "source": [
    "num_shuffled"
   ]
  },
  {
   "cell_type": "code",
   "execution_count": null,
   "metadata": {},
   "outputs": [
    {
     "ename": "IndexError",
     "evalue": "list index out of range",
     "output_type": "error",
     "traceback": [
      "\u001b[0;31m---------------------------------------------------------------------------\u001b[0m",
      "\u001b[0;31mIndexError\u001b[0m                                Traceback (most recent call last)",
      "\u001b[1;32m/home/akshil/research/tile-match-gym/src/tile_match_gym/working.ipynb Cell 4\u001b[0m line \u001b[0;36m1\n\u001b[0;32m----> <a href='vscode-notebook-cell://wsl%2Bubuntu/home/akshil/research/tile-match-gym/src/tile_match_gym/working.ipynb#W3sdnNjb2RlLXJlbW90ZQ%3D%3D?line=0'>1</a>\u001b[0m next_obs, reward, done, _, info \u001b[39m=\u001b[39m env\u001b[39m.\u001b[39;49mstep(\u001b[39m6\u001b[39;49m)\n\u001b[1;32m      <a href='vscode-notebook-cell://wsl%2Bubuntu/home/akshil/research/tile-match-gym/src/tile_match_gym/working.ipynb#W3sdnNjb2RlLXJlbW90ZQ%3D%3D?line=1'>2</a>\u001b[0m \u001b[39massert\u001b[39;00m np\u001b[39m.\u001b[39marray_equal(next_obs, np\u001b[39m.\u001b[39marray([[[\u001b[39m2\u001b[39m, \u001b[39m3\u001b[39m, \u001b[39m1\u001b[39m, \u001b[39m2\u001b[39m, \u001b[39m1\u001b[39m],\n\u001b[1;32m      <a href='vscode-notebook-cell://wsl%2Bubuntu/home/akshil/research/tile-match-gym/src/tile_match_gym/working.ipynb#W3sdnNjb2RlLXJlbW90ZQ%3D%3D?line=2'>3</a>\u001b[0m                                            [\u001b[39m2\u001b[39m, \u001b[39m2\u001b[39m, \u001b[39m3\u001b[39m, \u001b[39m1\u001b[39m, \u001b[39m2\u001b[39m],\n\u001b[1;32m      <a href='vscode-notebook-cell://wsl%2Bubuntu/home/akshil/research/tile-match-gym/src/tile_match_gym/working.ipynb#W3sdnNjb2RlLXJlbW90ZQ%3D%3D?line=3'>4</a>\u001b[0m                                            [\u001b[39m3\u001b[39m, \u001b[39m2\u001b[39m, \u001b[39m1\u001b[39m, \u001b[39m2\u001b[39m, \u001b[39m3\u001b[39m]],                            \n\u001b[1;32m      <a href='vscode-notebook-cell://wsl%2Bubuntu/home/akshil/research/tile-match-gym/src/tile_match_gym/working.ipynb#W3sdnNjb2RlLXJlbW90ZQ%3D%3D?line=4'>5</a>\u001b[0m                                            [[\u001b[39m1\u001b[39m, \u001b[39m1\u001b[39m, \u001b[39m1\u001b[39m, \u001b[39m1\u001b[39m, \u001b[39m1\u001b[39m],\n\u001b[1;32m      <a href='vscode-notebook-cell://wsl%2Bubuntu/home/akshil/research/tile-match-gym/src/tile_match_gym/working.ipynb#W3sdnNjb2RlLXJlbW90ZQ%3D%3D?line=5'>6</a>\u001b[0m                                            [\u001b[39m1\u001b[39m, \u001b[39m1\u001b[39m, \u001b[39m1\u001b[39m, \u001b[39m1\u001b[39m, \u001b[39m1\u001b[39m],\n\u001b[1;32m      <a href='vscode-notebook-cell://wsl%2Bubuntu/home/akshil/research/tile-match-gym/src/tile_match_gym/working.ipynb#W3sdnNjb2RlLXJlbW90ZQ%3D%3D?line=6'>7</a>\u001b[0m                                            [\u001b[39m1\u001b[39m, \u001b[39m1\u001b[39m, \u001b[39m1\u001b[39m, \u001b[39m1\u001b[39m, \u001b[39m1\u001b[39m]]]))\n\u001b[1;32m      <a href='vscode-notebook-cell://wsl%2Bubuntu/home/akshil/research/tile-match-gym/src/tile_match_gym/working.ipynb#W3sdnNjb2RlLXJlbW90ZQ%3D%3D?line=8'>9</a>\u001b[0m \u001b[39massert\u001b[39;00m reward \u001b[39m==\u001b[39m \u001b[39m6\u001b[39m\n",
      "File \u001b[0;32m~/research/tile-match-gym/src/tile_match_gym/tile_match_env.py:65\u001b[0m, in \u001b[0;36mTileMatchEnv.step\u001b[0;34m(self, action)\u001b[0m\n\u001b[1;32m     62\u001b[0m     \u001b[39mraise\u001b[39;00m \u001b[39mException\u001b[39;00m(\u001b[39m\"\u001b[39m\u001b[39mYou must call reset before calling step\u001b[39m\u001b[39m\"\u001b[39m)\n\u001b[1;32m     64\u001b[0m coord1, coord2 \u001b[39m=\u001b[39m \u001b[39mself\u001b[39m\u001b[39m.\u001b[39m_action_to_coords(action)\n\u001b[0;32m---> 65\u001b[0m num_eliminations, is_combination_match, num_new_specials, num_specials_activated, shuffled \u001b[39m=\u001b[39m \u001b[39mself\u001b[39;49m\u001b[39m.\u001b[39;49mboard\u001b[39m.\u001b[39;49mmove(coord1, coord2)\n\u001b[1;32m     67\u001b[0m \u001b[39mself\u001b[39m\u001b[39m.\u001b[39mtimer \u001b[39m+\u001b[39m\u001b[39m=\u001b[39m \u001b[39m1\u001b[39m\n\u001b[1;32m     68\u001b[0m done \u001b[39m=\u001b[39m \u001b[39mself\u001b[39m\u001b[39m.\u001b[39mtimer \u001b[39m==\u001b[39m \u001b[39mself\u001b[39m\u001b[39m.\u001b[39mnum_moves\n",
      "File \u001b[0;32m~/research/tile-match-gym/src/tile_match_gym/board.py:407\u001b[0m, in \u001b[0;36mBoard.move\u001b[0;34m(self, coord1, coord2)\u001b[0m\n\u001b[1;32m    405\u001b[0m     has_match \u001b[39m=\u001b[39m \u001b[39mFalse\u001b[39;00m\n\u001b[1;32m    406\u001b[0m \u001b[39melse\u001b[39;00m:\n\u001b[0;32m--> 407\u001b[0m     \u001b[39mself\u001b[39;49m\u001b[39m.\u001b[39;49mresolve_colour_matches(match_locs, match_types, match_colours)\n\u001b[1;32m    408\u001b[0m     num_eliminations \u001b[39m+\u001b[39m\u001b[39m=\u001b[39m \u001b[39mself\u001b[39m\u001b[39m.\u001b[39mflat_size \u001b[39m-\u001b[39m np\u001b[39m.\u001b[39mcount_nonzero(\u001b[39mself\u001b[39m\u001b[39m.\u001b[39mboard[\u001b[39m1\u001b[39m])\n\u001b[1;32m    409\u001b[0m     \u001b[39mself\u001b[39m\u001b[39m.\u001b[39mgravity()\n",
      "File \u001b[0;32m~/research/tile-match-gym/src/tile_match_gym/board.py:448\u001b[0m, in \u001b[0;36mBoard.resolve_colour_matches\u001b[0;34m(self, match_locs, match_types, match_colours)\u001b[0m\n\u001b[1;32m    446\u001b[0m \u001b[39mif\u001b[39;00m match_types[i] \u001b[39m!=\u001b[39m \u001b[39m\"\u001b[39m\u001b[39mnormal\u001b[39m\u001b[39m\"\u001b[39m:\n\u001b[1;32m    447\u001b[0m     taken_positions \u001b[39m=\u001b[39m \u001b[39mset\u001b[39m()\n\u001b[0;32m--> 448\u001b[0m     special_creation_coord \u001b[39m=\u001b[39m \u001b[39mself\u001b[39;49m\u001b[39m.\u001b[39;49mget_special_creation_pos(match_locs[i], taken_pos\u001b[39m=\u001b[39;49mtaken_positions, straight_match\u001b[39m=\u001b[39;49mmatch_types[i] \u001b[39m!=\u001b[39;49m \u001b[39m\"\u001b[39;49m\u001b[39mbomb\u001b[39;49m\u001b[39m\"\u001b[39;49m)\n\u001b[1;32m    449\u001b[0m     \u001b[39mif\u001b[39;00m special_creation_coord \u001b[39mis\u001b[39;00m \u001b[39mnot\u001b[39;00m \u001b[39mNone\u001b[39;00m:\n\u001b[1;32m    450\u001b[0m         taken_positions\u001b[39m.\u001b[39madd(special_creation_coord)\n",
      "File \u001b[0;32m~/research/tile-match-gym/src/tile_match_gym/board.py:589\u001b[0m, in \u001b[0;36mBoard.get_special_creation_pos\u001b[0;34m(self, coords, taken_pos, straight_match)\u001b[0m\n\u001b[1;32m    587\u001b[0m         \u001b[39mreturn\u001b[39;00m corner\n\u001b[1;32m    588\u001b[0m     \u001b[39melse\u001b[39;00m:\n\u001b[0;32m--> 589\u001b[0m         \u001b[39mreturn\u001b[39;00m \u001b[39msorted\u001b[39;49m(std, key\u001b[39m=\u001b[39;49m\u001b[39mlambda\u001b[39;49;00m x: (x[\u001b[39m0\u001b[39;49m] \u001b[39m-\u001b[39;49m corner[\u001b[39m0\u001b[39;49m]) \u001b[39m*\u001b[39;49m\u001b[39m*\u001b[39;49m \u001b[39m2\u001b[39;49m \u001b[39m+\u001b[39;49m (x[\u001b[39m1\u001b[39;49m] \u001b[39m-\u001b[39;49m corner[\u001b[39m1\u001b[39;49m]) \u001b[39m*\u001b[39;49m\u001b[39m*\u001b[39;49m \u001b[39m2\u001b[39;49m)[\u001b[39m0\u001b[39;49m]\n\u001b[1;32m    591\u001b[0m \u001b[39m# For straight matches get the center of the coords\u001b[39;00m\n\u001b[1;32m    592\u001b[0m sorted_coords \u001b[39m=\u001b[39m \u001b[39msorted\u001b[39m([c \u001b[39mfor\u001b[39;00m c \u001b[39min\u001b[39;00m coords \u001b[39mif\u001b[39;00m is_valid_pos(c)], key\u001b[39m=\u001b[39m\u001b[39mlambda\u001b[39;00m x: (x[\u001b[39m0\u001b[39m], x[\u001b[39m1\u001b[39m]))        \n",
      "\u001b[0;31mIndexError\u001b[0m: list index out of range"
     ]
    }
   ],
   "source": [
    "next_obs, reward, done, _, info = env.step(6)\n",
    "assert np.array_equal(next_obs, np.array([[[2, 3, 1, 2, 1],\n",
    "                                           [2, 2, 3, 1, 2],\n",
    "                                           [3, 2, 1, 2, 3]],                            \n",
    "                                           [[1, 1, 1, 1, 1],\n",
    "                                           [1, 1, 1, 1, 1],\n",
    "                                           [1, 1, 1, 1, 1]]]))\n",
    "\n",
    "assert reward == 6\n",
    "assert not done\n",
    "assert info == {'is_combination_match': False,\n",
    "                'num_new_specials': 0,\n",
    "                'num_new_specials': 0,\n",
    "                'num_specials_activated': 0,\n",
    "                'shuffled': False,\n",
    "                'num_moves_left': 3}"
   ]
  },
  {
   "cell_type": "code",
   "execution_count": null,
   "metadata": {},
   "outputs": [
    {
     "name": "stdout",
     "output_type": "stream",
     "text": [
      "swapped coords\n",
      "[[[2 3 1 2 1]\n",
      "  [2 2 1 3 2]\n",
      "  [3 2 1 2 3]]\n",
      "\n",
      " [[1 1 1 1 1]\n",
      "  [1 1 1 1 1]\n",
      "  [1 1 1 1 1]]]\n",
      "colour_match\n",
      "[[[2 3 1 2 1]\n",
      "  [2 2 1 3 2]\n",
      "  [3 2 1 2 3]]\n",
      "\n",
      " [[1 1 1 1 1]\n",
      "  [1 1 1 1 1]\n",
      "  [1 1 1 1 1]]]\n",
      "[[(0, 2), (1, 2), (2, 2)]] ['normal']\n",
      "gravity\n",
      "[[[2 3 0 2 1]\n",
      "  [2 2 0 3 2]\n",
      "  [3 2 0 2 3]]\n",
      "\n",
      " [[1 1 0 1 1]\n",
      "  [1 1 0 1 1]\n",
      "  [1 1 0 1 1]]]\n",
      "refill\n",
      "[[[2 3 3 2 1]\n",
      "  [2 2 3 3 2]\n",
      "  [3 2 2 2 3]]\n",
      "\n",
      " [[1 1 1 1 1]\n",
      "  [1 1 1 1 1]\n",
      "  [1 1 1 1 1]]]\n",
      "colour_match\n",
      "[[[2 3 3 2 1]\n",
      "  [2 2 3 3 2]\n",
      "  [3 2 2 2 3]]\n",
      "\n",
      " [[1 1 1 1 1]\n",
      "  [1 1 1 1 1]\n",
      "  [1 1 1 1 1]]]\n",
      "[[(2, 1), (2, 2), (2, 3)]] ['normal']\n",
      "gravity\n",
      "[[[2 0 0 0 1]\n",
      "  [2 3 3 2 2]\n",
      "  [3 2 3 3 3]]\n",
      "\n",
      " [[1 0 0 0 1]\n",
      "  [1 1 1 1 1]\n",
      "  [1 1 1 1 1]]]\n",
      "refill\n",
      "[[[2 1 3 1 1]\n",
      "  [2 3 3 2 2]\n",
      "  [3 2 3 3 3]]\n",
      "\n",
      " [[1 1 1 1 1]\n",
      "  [1 1 1 1 1]\n",
      "  [1 1 1 1 1]]]\n",
      "colour_match\n",
      "[[[2 1 3 1 1]\n",
      "  [2 3 3 2 2]\n",
      "  [3 2 3 3 3]]\n",
      "\n",
      " [[1 1 1 1 1]\n",
      "  [1 1 1 1 1]\n",
      "  [1 1 1 1 1]]]\n",
      "[[(0, 2), (1, 2), (2, 2), (2, 3), (2, 4)]] ['bomb']\n",
      "gravity\n",
      "[[[2 1 0 0 0]\n",
      "  [2 3 0 1 1]\n",
      "  [3 2 3 2 2]]\n",
      "\n",
      " [[1 1 0 0 0]\n",
      "  [1 1 0 1 1]\n",
      "  [1 1 4 1 1]]]\n",
      "refill\n",
      "[[[2 1 3 3 2]\n",
      "  [2 3 3 1 1]\n",
      "  [3 2 3 2 2]]\n",
      "\n",
      " [[1 1 1 1 1]\n",
      "  [1 1 1 1 1]\n",
      "  [1 1 4 1 1]]]\n",
      "colour_match\n",
      "[[[2 1 3 3 2]\n",
      "  [2 3 3 1 1]\n",
      "  [3 2 3 2 2]]\n",
      "\n",
      " [[1 1 1 1 1]\n",
      "  [1 1 1 1 1]\n",
      "  [1 1 4 1 1]]]\n",
      "[[(0, 2), (1, 2), (2, 2)]] ['normal']\n",
      "gravity\n",
      "[[[2 0 0 0 2]\n",
      "  [2 0 0 0 1]\n",
      "  [3 1 0 3 2]]\n",
      "\n",
      " [[1 0 0 0 1]\n",
      "  [1 0 0 0 1]\n",
      "  [1 1 0 1 1]]]\n",
      "refill\n",
      "[[[2 3 1 3 2]\n",
      "  [2 2 1 2 1]\n",
      "  [3 1 3 3 2]]\n",
      "\n",
      " [[1 1 1 1 1]\n",
      "  [1 1 1 1 1]\n",
      "  [1 1 1 1 1]]]\n"
     ]
    }
   ],
   "source": [
    "next_obs, reward, done, _, info = env.step(16)"
   ]
  },
  {
   "cell_type": "code",
   "execution_count": null,
   "metadata": {},
   "outputs": [],
   "source": [
    "assert np.array_equal(next_obs, np.array([[[2, 3, 1, 3, 2],\n",
    "                                           [2, 2, 1, 2, 1],\n",
    "                                           [3, 1, 3, 3, 2]],\n",
    "                                          [[1, 1, 1, 1, 1],\n",
    "                                           [1, 1, 1, 1, 1],\n",
    "                                           [1, 1, 1, 1, 1]]]))\n",
    "assert reward == 18\n",
    "assert not done\n",
    "info = {'is_combination_match': False,\n",
    "        'num_new_specials': 1,\n",
    "        'num_specials_activated': 1,\n",
    "        'shuffled': False,\n",
    "        'num_moves_left': 2}"
   ]
  },
  {
   "cell_type": "code",
   "execution_count": null,
   "metadata": {},
   "outputs": [
    {
     "name": "stdout",
     "output_type": "stream",
     "text": [
      "swapped coords\n",
      "[[[2 3 1 3 2]\n",
      "  [2 2 1 2 1]\n",
      "  [3 3 1 3 2]]\n",
      "\n",
      " [[1 1 1 1 1]\n",
      "  [1 1 1 1 1]\n",
      "  [1 1 1 1 1]]]\n",
      "colour_match\n",
      "[[[2 3 1 3 2]\n",
      "  [2 2 1 2 1]\n",
      "  [3 3 1 3 2]]\n",
      "\n",
      " [[1 1 1 1 1]\n",
      "  [1 1 1 1 1]\n",
      "  [1 1 1 1 1]]]\n",
      "[[(0, 2), (1, 2), (2, 2)]] ['normal']\n",
      "gravity\n",
      "[[[2 3 0 3 2]\n",
      "  [2 2 0 2 1]\n",
      "  [3 3 0 3 2]]\n",
      "\n",
      " [[1 1 0 1 1]\n",
      "  [1 1 0 1 1]\n",
      "  [1 1 0 1 1]]]\n",
      "refill\n",
      "[[[2 3 2 3 2]\n",
      "  [2 2 2 2 1]\n",
      "  [3 3 3 3 2]]\n",
      "\n",
      " [[1 1 1 1 1]\n",
      "  [1 1 1 1 1]\n",
      "  [1 1 1 1 1]]]\n",
      "colour_match\n",
      "[[[2 3 2 3 2]\n",
      "  [2 2 2 2 1]\n",
      "  [3 3 3 3 2]]\n",
      "\n",
      " [[1 1 1 1 1]\n",
      "  [1 1 1 1 1]\n",
      "  [1 1 1 1 1]]]\n",
      "[[(2, 0), (2, 1), (2, 2), (2, 3)]] ['horizontal_laser']\n",
      "gravity\n",
      "[[[0 3 0 0 2]\n",
      "  [2 2 2 3 1]\n",
      "  [2 3 2 2 2]]\n",
      "\n",
      " [[0 1 0 0 1]\n",
      "  [1 1 1 1 1]\n",
      "  [1 3 1 1 1]]]\n",
      "refill\n",
      "[[[2 3 2 1 2]\n",
      "  [2 2 2 3 1]\n",
      "  [2 3 2 2 2]]\n",
      "\n",
      " [[1 1 1 1 1]\n",
      "  [1 1 1 1 1]\n",
      "  [1 3 1 1 1]]]\n",
      "colour_match\n",
      "[[[2 3 2 1 2]\n",
      "  [2 2 2 3 1]\n",
      "  [2 3 2 2 2]]\n",
      "\n",
      " [[1 1 1 1 1]\n",
      "  [1 1 1 1 1]\n",
      "  [1 3 1 1 1]]]\n",
      "[[(0, 0), (1, 0), (2, 0)], [(0, 2), (1, 2), (2, 2), (2, 3), (2, 4)]] ['normal', 'bomb']\n",
      "gravity\n",
      "[[[0 3 0 0 0]\n",
      "  [0 2 0 1 2]\n",
      "  [0 3 2 3 1]]\n",
      "\n",
      " [[0 1 0 0 0]\n",
      "  [0 1 0 1 1]\n",
      "  [0 3 4 1 1]]]\n",
      "refill\n",
      "[[[1 3 3 3 1]\n",
      "  [2 2 3 1 2]\n",
      "  [1 3 2 3 1]]\n",
      "\n",
      " [[1 1 1 1 1]\n",
      "  [1 1 1 1 1]\n",
      "  [1 3 4 1 1]]]\n",
      "colour_match\n",
      "[[[1 3 3 3 1]\n",
      "  [2 2 3 1 2]\n",
      "  [1 3 2 3 1]]\n",
      "\n",
      " [[1 1 1 1 1]\n",
      "  [1 1 1 1 1]\n",
      "  [1 3 4 1 1]]]\n",
      "[[(0, 1), (0, 2), (0, 3)]] ['normal']\n",
      "gravity\n",
      "[[[1 0 0 0 1]\n",
      "  [2 2 3 1 2]\n",
      "  [1 3 2 3 1]]\n",
      "\n",
      " [[1 0 0 0 1]\n",
      "  [1 1 1 1 1]\n",
      "  [1 3 4 1 1]]]\n",
      "refill\n",
      "[[[1 1 2 2 1]\n",
      "  [2 2 3 1 2]\n",
      "  [1 3 2 3 1]]\n",
      "\n",
      " [[1 1 1 1 1]\n",
      "  [1 1 1 1 1]\n",
      "  [1 3 4 1 1]]]\n"
     ]
    }
   ],
   "source": [
    "# No move possible\n",
    "next_obs, reward, done, _, info = env.step(19)\n",
    "# Combination match\n",
    "\n",
    "# Combination match -> activate special/create special."
   ]
  },
  {
   "cell_type": "code",
   "execution_count": null,
   "metadata": {},
   "outputs": [],
   "source": [
    "assert np.array_equal(next_obs, np.array([[[1, 1, 2, 2, 1],\n",
    "                                           [2, 2, 3, 1, 2],\n",
    "                                           [1, 3, 2, 3, 1]],\n",
    "                                           [[1, 1, 1, 1, 1],\n",
    "                                           [1, 1, 1, 1, 1],\n",
    "                                           [1, 3, 4, 1, 1]]]))\n",
    "assert reward == 18\n",
    "assert info == {\n",
    "    'is_combination_match': False,\n",
    "    'num_new_specials': 2,\n",
    "    'num_specials_activated': 0,\n",
    "    'shuffled': False,\n",
    "    'num_moves_left': 1\n",
    "    }"
   ]
  },
  {
   "cell_type": "code",
   "execution_count": null,
   "metadata": {},
   "outputs": [
    {
     "name": "stdout",
     "output_type": "stream",
     "text": [
      "swapped coords\n",
      "[[[1 1 2 2 1]\n",
      "  [2 2 3 1 2]\n",
      "  [1 2 3 3 1]]\n",
      "\n",
      " [[1 1 1 1 1]\n",
      "  [1 1 1 1 1]\n",
      "  [1 4 3 1 1]]]\n",
      "combo match\n",
      "[[[0 0 0 2 1]\n",
      "  [0 0 0 0 0]\n",
      "  [0 0 0 0 0]]\n",
      "\n",
      " [[0 0 0 1 1]\n",
      "  [0 0 0 0 0]\n",
      "  [0 0 0 0 0]]]\n",
      "gravity\n",
      "[[[0 0 0 0 0]\n",
      "  [0 0 0 0 0]\n",
      "  [0 0 0 2 1]]\n",
      "\n",
      " [[0 0 0 0 0]\n",
      "  [0 0 0 0 0]\n",
      "  [0 0 0 1 1]]]\n",
      "refill\n",
      "[[[2 2 1 2 3]\n",
      "  [1 3 1 1 3]\n",
      "  [1 3 1 2 1]]\n",
      "\n",
      " [[1 1 1 1 1]\n",
      "  [1 1 1 1 1]\n",
      "  [1 1 1 1 1]]]\n",
      "colour_match\n",
      "[[[2 2 1 2 3]\n",
      "  [1 3 1 1 3]\n",
      "  [1 3 1 2 1]]\n",
      "\n",
      " [[1 1 1 1 1]\n",
      "  [1 1 1 1 1]\n",
      "  [1 1 1 1 1]]]\n",
      "[[(0, 2), (1, 2), (2, 2)]] ['normal']\n",
      "gravity\n",
      "[[[2 2 0 2 3]\n",
      "  [1 3 0 1 3]\n",
      "  [1 3 0 2 1]]\n",
      "\n",
      " [[1 1 0 1 1]\n",
      "  [1 1 0 1 1]\n",
      "  [1 1 0 1 1]]]\n",
      "refill\n",
      "[[[2 2 2 2 3]\n",
      "  [1 3 3 1 3]\n",
      "  [1 3 3 2 1]]\n",
      "\n",
      " [[1 1 1 1 1]\n",
      "  [1 1 1 1 1]\n",
      "  [1 1 1 1 1]]]\n",
      "colour_match\n",
      "[[[2 2 2 2 3]\n",
      "  [1 3 3 1 3]\n",
      "  [1 3 3 2 1]]\n",
      "\n",
      " [[1 1 1 1 1]\n",
      "  [1 1 1 1 1]\n",
      "  [1 1 1 1 1]]]\n",
      "[[(0, 0), (0, 1), (0, 2), (0, 3)]] ['horizontal_laser']\n",
      "gravity\n",
      "[[[0 2 0 0 3]\n",
      "  [1 3 3 1 3]\n",
      "  [1 3 3 2 1]]\n",
      "\n",
      " [[0 3 0 0 1]\n",
      "  [1 1 1 1 1]\n",
      "  [1 1 1 1 1]]]\n",
      "refill\n",
      "[[[2 2 1 1 3]\n",
      "  [1 3 3 1 3]\n",
      "  [1 3 3 2 1]]\n",
      "\n",
      " [[1 3 1 1 1]\n",
      "  [1 1 1 1 1]\n",
      "  [1 1 1 1 1]]]\n"
     ]
    }
   ],
   "source": [
    "next_obs, reward, done, _, info = env.step(19)"
   ]
  },
  {
   "cell_type": "code",
   "execution_count": null,
   "metadata": {},
   "outputs": [
    {
     "data": {
      "text/plain": [
       "array([[[2, 2, 1, 1, 3],\n",
       "        [1, 3, 3, 1, 3],\n",
       "        [1, 3, 3, 2, 1]],\n",
       "\n",
       "       [[1, 3, 1, 1, 1],\n",
       "        [1, 1, 1, 1, 1],\n",
       "        [1, 1, 1, 1, 1]]])"
      ]
     },
     "execution_count": 9,
     "metadata": {},
     "output_type": "execute_result"
    }
   ],
   "source": [
    "next_obs"
   ]
  },
  {
   "cell_type": "code",
   "execution_count": null,
   "metadata": {},
   "outputs": [],
   "source": [
    "assert reward == 20\n",
    "assert np.array_equal(next_obs, np.array([[[2, 2, 1, 1, 3],\n",
    "                                          [1, 3, 3, 1, 3],\n",
    "                                          [1, 3, 3, 2, 1]],\n",
    "                                          [[1, 3, 1, 1, 1],\n",
    "                                          [1, 1, 1, 1, 1],\n",
    "                                          [1, 1, 1, 1, 1]]]))\n",
    "assert done\n",
    "\n",
    "assert info == {\n",
    "    'is_combination_match': True,\n",
    "    'num_new_specials': 1,\n",
    "    'num_specials_activated': 0,\n",
    "    'shuffled': False,\n",
    "    'num_moves_left': 0\n",
    "}"
   ]
  },
  {
   "cell_type": "code",
   "execution_count": null,
   "metadata": {},
   "outputs": [],
   "source": [
    "from tile_match_gym.board import Board \n",
    "from multiprocessing import Pool\n",
    "def process_combination(combination):\n",
    "    count_s, count_s_, count_m = 0, 0, 0\n",
    "    b = Board(4, 4, 3,[], [])\n",
    "    b.board = np.array(combination).reshape(4, 4)\n",
    "    no_poss_move = not b.possible_move()\n",
    "    has_match = len(b.get_colour_lines()) > 0\n",
    "    if has_match or no_poss_move:\n",
    "        count_s = 1\n",
    "    if not has_match and no_poss_move:\n",
    "        count_s_= 1\n",
    "    if has_match:\n",
    "        count_m = 1\n",
    "\n",
    "    return count_s, count_s_, count_m"
   ]
  },
  {
   "cell_type": "code",
   "execution_count": null,
   "metadata": {},
   "outputs": [
    {
     "name": "stdout",
     "output_type": "stream",
     "text": [
      "8426718 57420 34562583\n"
     ]
    }
   ],
   "source": [
    "num_invalid_s, num_valid_states_no_move, num_states_w_move_and_match = 0, 0, 0\n",
    "with Pool() as pool:\n",
    "    results = pool.map(process_combination, x)\n",
    "\n",
    "    # Aggregate results from parallel processes\n",
    "\n",
    "    for result in results:\n",
    "        num_invalid_s += result[0]\n",
    "        num_valid_states_no_move += result[1]\n",
    "        num_states_w_move_and_match += result[2]\n",
    "\n",
    "print(len(x) - num_invalid_s, num_valid_states_no_move, num_states_w_move_and_match)"
   ]
  },
  {
   "cell_type": "code",
   "execution_count": null,
   "metadata": {},
   "outputs": [
    {
     "data": {
      "text/plain": [
       "531441"
      ]
     },
     "execution_count": 45,
     "metadata": {},
     "output_type": "execute_result"
    }
   ],
   "source": [
    "len(x)"
   ]
  },
  {
   "cell_type": "code",
   "execution_count": null,
   "metadata": {},
   "outputs": [
    {
     "data": {
      "text/plain": [
       "13303"
      ]
     },
     "execution_count": 41,
     "metadata": {},
     "output_type": "execute_result"
    }
   ],
   "source": [
    "count_s"
   ]
  },
  {
   "cell_type": "code",
   "execution_count": null,
   "metadata": {},
   "outputs": [
    {
     "data": {
      "text/plain": [
       "6377"
      ]
     },
     "execution_count": 33,
     "metadata": {},
     "output_type": "execute_result"
    }
   ],
   "source": [
    "count_s_"
   ]
  },
  {
   "cell_type": "code",
   "execution_count": null,
   "metadata": {},
   "outputs": [
    {
     "data": {
      "text/plain": [
       "2458"
      ]
     },
     "execution_count": 34,
     "metadata": {},
     "output_type": "execute_result"
    }
   ],
   "source": [
    "count_m"
   ]
  },
  {
   "cell_type": "code",
   "execution_count": null,
   "metadata": {},
   "outputs": [
    {
     "data": {
      "text/plain": [
       "6380"
      ]
     },
     "execution_count": 20,
     "metadata": {},
     "output_type": "execute_result"
    }
   ],
   "source": [
    "count_poss"
   ]
  },
  {
   "cell_type": "code",
   "execution_count": null,
   "metadata": {},
   "outputs": [],
   "source": [
    "for i, combination in enumerate(x):\n",
    "    b = Board(3, 3, 3, [\"vertical_laser\"], [])\n",
    "    b.board = np.array(combination).reshape(3,3)\n",
    "    no_poss_move = not b.possible_move()\n",
    "    has_match = len(b.get_colour_lines()) > 0\n",
    "    if has_match or no_poss_move:\n",
    "        count_tot -= 1\n",
    "    if has_match:\n",
    "        count_m += 1\n",
    "    if not no_poss_move:\n",
    "        count_poss += 1\n",
    "\n",
    "    # if i % 1000 == 1:\n",
    "    #     print(i, count_m / i, count_poss / i, count_tot, b.board)\n",
    "\n",
    "    \n",
    "        \n",
    "\n",
    "\n",
    "    "
   ]
  },
  {
   "cell_type": "code",
   "execution_count": null,
   "metadata": {},
   "outputs": [
    {
     "data": {
      "text/plain": [
       "10077696"
      ]
     },
     "execution_count": 7,
     "metadata": {},
     "output_type": "execute_result"
    }
   ],
   "source": [
    "valid_arr"
   ]
  },
  {
   "cell_type": "code",
   "execution_count": null,
   "metadata": {},
   "outputs": [],
   "source": [
    "\n",
    "board = Board(10, 10, 5)  # cookie , and vertical laser, horizontal laser, bomb\n",
    "board.board = np.array([[4, 4, 5, 4, 2, 2, 6, 6, 3, 3],\n",
    "                        [3, 6, 3, 6, 3, 4, 5, 4, 2, 2],\n",
    "                        [6, 5, 6, 4, 6, 3, 4, 5, 2, 3],\n",
    "                        [2, 4, 6, 2, 3, 4, 6, 3, 4, 3],\n",
    "                        [2, 5, 2, 3, 4, 4, 2, 6, 5, 6],\n",
    "                        [4, 5, 3, 4, 6, 3, 5, 2, 5, 6],\n",
    "                        [4, 4, 3, 2, 4, 5, 4, 5, 3, 5],\n",
    "                        [5, 6, 4, 2, 5, 4, 6, 4, 3, 2],\n",
    "                        [4, 5, 5, 6, 3, 4, 6, 3, 5, 6],\n",
    "                        [4, 4, 5, 4, 6, 5, 2, 2, 4, 6]])\n",
    "\n",
    "old_board = deepcopy(board.board)\n",
    "assert board.check_move_validity((1,1), (1, 2))\n",
    "assert board.check_move_validity((1,1), (2, 1))\n",
    "assert np.array_equal(board.board, old_board)"
   ]
  }
 ],
 "metadata": {
  "kernelspec": {
   "display_name": "venv",
   "language": "python",
   "name": "python3"
  },
  "language_info": {
   "codemirror_mode": {
    "name": "ipython",
    "version": 3
   },
   "file_extension": ".py",
   "mimetype": "text/x-python",
   "name": "python",
   "nbconvert_exporter": "python",
   "pygments_lexer": "ipython3",
   "version": "3.8.10"
  },
  "orig_nbformat": 4,
  "vscode": {
   "interpreter": {
    "hash": "acec314c2cac18a708074281f4b8a3eae7149b282c3c19c28090d8a8e9c34189"
   }
  }
 },
 "nbformat": 4,
 "nbformat_minor": 2
}
