{
 "cells": [
  {
   "cell_type": "markdown",
   "metadata": {},
   "source": [
    "# Exporting the information created and cleaning up datascribe after use"
   ]
  },
  {
   "cell_type": "markdown",
   "metadata": {},
   "source": [
    "Once you have performed the actions you wish to use within the package, you can use the `Scribe.output_process()` method to export the commentary, tables and/or images to a markdown file or word document."
   ]
  },
  {
   "cell_type": "code",
   "execution_count": null,
   "metadata": {},
   "outputs": [],
   "source": [
    "import os\n",
    "import sys\n",
    "\n",
    "# Get the path of the current script\n",
    "current_script_path = os.path.abspath(\"__file__\")\n",
    "\n",
    "# Deduce the root folder of the project\n",
    "project_root = os.path.dirname(os.path.dirname(os.path.dirname(current_script_path)))\n",
    "\n",
    "# Add the project root to the Python path\n",
    "sys.path.append(project_root)"
   ]
  },
  {
   "cell_type": "code",
   "execution_count": null,
   "metadata": {},
   "outputs": [],
   "source": [
    "from datascribe.datasets import load_ed_scribe_evaluated"
   ]
  },
  {
   "cell_type": "code",
   "execution_count": null,
   "metadata": {},
   "outputs": [],
   "source": [
    "s = load_ed_scribe_evaluated()"
   ]
  },
  {
   "cell_type": "markdown",
   "metadata": {},
   "source": [
    "#### *(Scribe.output_process(file_name, title='Data Processing Summary, file_type='md', output_img_files=True))*\n",
    "\n",
    "The following parameters can be included:\n",
    "\n",
    "* `file_name`: required.  The file extension is not required.\n",
    "\n",
    "* `title`: optional.  Default value is *Data Processing Summary*\n",
    "\n",
    "* `file_type`: optional.  Default is *md* (markdown) but *docx* is the alternative currently.  The output formats have been designed so that the user can edit or cut and paste from the output into other files if required.\n",
    "\n",
    "* `output_img_files`: optional.  Default is *True*.  If you produce images for a markdown file and set this option to False, the images will not load into the markdown.  Therefore, we would recommend only using for word output and only if you really do not wish to have spearate image files stored."
   ]
  },
  {
   "cell_type": "code",
   "execution_count": null,
   "metadata": {},
   "outputs": [],
   "source": [
    "file_name = 'Example ED LR Analysis'\n",
    "\n",
    "title = 'Predicting the probability of being admitted from '\\\n",
    "        'an Emergency Department'\n",
    "\n",
    "s.output_process(file_name=file_name, title=title )"
   ]
  }
 ],
 "metadata": {
  "kernelspec": {
   "display_name": "Python 3",
   "language": "python",
   "name": "python3"
  },
  "language_info": {
   "codemirror_mode": {
    "name": "ipython",
    "version": 3
   },
   "file_extension": ".py",
   "mimetype": "text/x-python",
   "name": "python",
   "nbconvert_exporter": "python",
   "pygments_lexer": "ipython3",
   "version": "3.10.12"
  }
 },
 "nbformat": 4,
 "nbformat_minor": 2
}
