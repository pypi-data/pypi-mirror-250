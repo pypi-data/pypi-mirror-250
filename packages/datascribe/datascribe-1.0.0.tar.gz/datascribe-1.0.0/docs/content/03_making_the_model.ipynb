{
 "cells": [
  {
   "cell_type": "markdown",
   "metadata": {},
   "source": [
    "# Making a model through datascribe\n",
    "\n",
    "For this example we use the preprocessed Emergency Department data, and Scribe object as preprocessed previously.  Then, we will implement our logistic regression model and fit it."
   ]
  },
  {
   "cell_type": "markdown",
   "metadata": {},
   "source": [
    "## Imports"
   ]
  },
  {
   "cell_type": "code",
   "execution_count": 66,
   "metadata": {},
   "outputs": [],
   "source": [
    "import os\n",
    "import sys\n",
    "\n",
    "# Get the path of the current script\n",
    "current_script_path = os.path.abspath(\"__file__\")\n",
    "\n",
    "# Deduce the root folder of the project\n",
    "project_root = os.path.dirname(os.path.dirname(os.path.dirname(current_script_path)))\n",
    "\n",
    "# Add the project root to the Python path\n",
    "sys.path.append(project_root)"
   ]
  },
  {
   "cell_type": "code",
   "execution_count": 67,
   "metadata": {},
   "outputs": [],
   "source": [
    "from datascribe.datasets import load_ed_scribe_processed\n",
    "import pandas as pd"
   ]
  },
  {
   "cell_type": "markdown",
   "metadata": {},
   "source": [
    "Load example data frame and Scribe object which contains the preprocessed dataset."
   ]
  },
  {
   "cell_type": "code",
   "execution_count": 68,
   "metadata": {},
   "outputs": [],
   "source": [
    "df, s = load_ed_scribe_processed()"
   ]
  },
  {
   "cell_type": "markdown",
   "metadata": {},
   "source": [
    "## k_fold\n",
    "\n",
    "#### *(Scribe.model.k_fold(n_splits=5))*\n",
    "\n",
    "As we want to use cross-validation method, first, kfold with 'n_splits' folds is defined. It uses Stratifiedkfold class to make stratified folds."
   ]
  },
  {
   "cell_type": "code",
   "execution_count": 69,
   "metadata": {},
   "outputs": [],
   "source": [
    "n_splits = 10\n",
    "s.model.k_fold(n_splits=n_splits)"
   ]
  },
  {
   "cell_type": "markdown",
   "metadata": {},
   "source": [
    "## Split the datasets\n",
    "\n",
    "#### *(Scribe.model.split_dataset(\\*arrays, ttest_size=0.25, stratify=None))*\n",
    "\n",
    "Split the output from input data, then, split both datasets to train and test datasets."
   ]
  },
  {
   "cell_type": "code",
   "execution_count": 70,
   "metadata": {},
   "outputs": [],
   "source": [
    "X = df.drop('Admitted_Flag', axis=1)\n",
    "y = df['Admitted_Flag']\n",
    "test_size = 0.3\n",
    "s.model.split_dataset(X, y, test_size=test_size, stratify=y)"
   ]
  },
  {
   "cell_type": "markdown",
   "metadata": {},
   "source": [
    "## Standardise the independent variables\n",
    "\n",
    "#### *(Scribe.preprocessing.standardise_data(X_train, X_test))*\n",
    "\n",
    "You can standardise the input values using `standardise_data` from `preprocessing`"
   ]
  },
  {
   "cell_type": "code",
   "execution_count": 71,
   "metadata": {},
   "outputs": [],
   "source": [
    "X_train, X_test = \\\n",
    "s.preprocessing.standardise_data(s.model.splitted_data['X_train'], \n",
    "                                    s.model.splitted_data['X_test'])\n",
    "\n",
    "s.model.splitted_data['X_train'] = X_train\n",
    "s.model.splitted_data['X_test'] = X_test"
   ]
  },
  {
   "cell_type": "markdown",
   "metadata": {},
   "source": [
    "## Creating parameters and creating the regression model\n",
    "\n",
    "#### *(Scribe.model.regression_model(params=params))*\n",
    "\n",
    "Next, the regression model can be defined with different parameters. Gridsearchcv will be used to find the best parameters to use in the logistic regression model during the training process.\n",
    "\n",
    "A full list of parameters can be found on the [sci-kit learn](https://scikit-learn.org/stable/modules/generated/sklearn.linear_model.LogisticRegression.html) website."
   ]
  },
  {
   "cell_type": "code",
   "execution_count": 72,
   "metadata": {},
   "outputs": [],
   "source": [
    "params = {\n",
    "    'random_state': [42],\n",
    "    'solver': ['lbfgs', 'sag']\n",
    "}\n",
    "s.model.regression_model(params=params)"
   ]
  },
  {
   "cell_type": "markdown",
   "metadata": {},
   "source": [
    "To check that a model has been created, you can use the `check_model_exists` method."
   ]
  },
  {
   "cell_type": "code",
   "execution_count": 73,
   "metadata": {},
   "outputs": [
    {
     "data": {
      "text/plain": [
       "True"
      ]
     },
     "execution_count": 73,
     "metadata": {},
     "output_type": "execute_result"
    }
   ],
   "source": [
    "s.model.check_model_exists()"
   ]
  },
  {
   "cell_type": "markdown",
   "metadata": {},
   "source": [
    "## Fitting the model\n",
    "\n",
    "#### *(Scribe.model.fit())*\n",
    "\n",
    "At this stage, the model will be trained using X_train and y_train data."
   ]
  },
  {
   "cell_type": "code",
   "execution_count": 74,
   "metadata": {},
   "outputs": [],
   "source": [
    "s.model.fit()"
   ]
  },
  {
   "cell_type": "markdown",
   "metadata": {},
   "source": [
    "## Test the model\n",
    "\n",
    "#### *(Scribe.model.predict())*\n",
    "\n",
    "Now, we can test the trained model and predict using `X_test` data."
   ]
  },
  {
   "cell_type": "code",
   "execution_count": 75,
   "metadata": {},
   "outputs": [],
   "source": [
    "y_predict = pd.DataFrame(s.model.predict())"
   ]
  },
  {
   "cell_type": "markdown",
   "metadata": {},
   "source": [
    "Here, we can see which parameters make the best performance for our model."
   ]
  },
  {
   "cell_type": "code",
   "execution_count": 76,
   "metadata": {},
   "outputs": [
    {
     "data": {
      "text/plain": [
       "{'random_state': 42, 'solver': 'sag'}"
      ]
     },
     "execution_count": 76,
     "metadata": {},
     "output_type": "execute_result"
    }
   ],
   "source": [
    "s.model.model.best_params_"
   ]
  },
  {
   "cell_type": "code",
   "execution_count": 77,
   "metadata": {},
   "outputs": [
    {
     "data": {
      "text/plain": [
       "49208     0\n",
       "13367     0\n",
       "92594     0\n",
       "100965    1\n",
       "41704     0\n",
       "         ..\n",
       "80172     1\n",
       "52220     0\n",
       "34116     1\n",
       "95913     1\n",
       "81291     0\n",
       "Name: Admitted_Flag, Length: 31831, dtype: Int8"
      ]
     },
     "execution_count": 77,
     "metadata": {},
     "output_type": "execute_result"
    }
   ],
   "source": [
    "s.model.splitted_data['y_test']"
   ]
  },
  {
   "cell_type": "markdown",
   "metadata": {},
   "source": [
    "## Viewing the text summary for the model\n",
    "\n",
    "#### *(Scribe.model.model_commentary())*\n",
    "\n",
    "To view the write up for this model, you can use the `model.model_commentary()` method.  This is a preview of the text which will be output to the final file."
   ]
  },
  {
   "cell_type": "code",
   "execution_count": 78,
   "metadata": {},
   "outputs": [
    {
     "data": {
      "text/plain": [
       "'A logistic regression model was used with stratified k fold (k=10) and GridCV search used for feature selection.  The train/test split was 70%/30%.'"
      ]
     },
     "execution_count": 78,
     "metadata": {},
     "output_type": "execute_result"
    }
   ],
   "source": [
    "s.model.model_commentary()"
   ]
  }
 ],
 "metadata": {
  "kernelspec": {
   "display_name": "my_env",
   "language": "python",
   "name": "python3"
  },
  "language_info": {
   "codemirror_mode": {
    "name": "ipython",
    "version": 3
   },
   "file_extension": ".py",
   "mimetype": "text/x-python",
   "name": "python",
   "nbconvert_exporter": "python",
   "pygments_lexer": "ipython3",
   "version": "3.12.1"
  }
 },
 "nbformat": 4,
 "nbformat_minor": 2
}
