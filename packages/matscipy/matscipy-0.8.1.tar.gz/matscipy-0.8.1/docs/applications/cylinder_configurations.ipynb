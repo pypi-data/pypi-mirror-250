{
 "cells": [
  {
   "cell_type": "markdown",
   "metadata": {},
   "source": [
    "# Building cylindrical configurations with dislocations\n",
    "\n",
    "![](dislocation_cylinder.png)\n",
    "\n",
    "The `matscipy.dislocation` provides a set of tools to create atomistic configurations containing dislocations. In this example we focus on cylindrical configurations. In order to create a dislocation we start with a cylinder of bulk material oriented along the vector of the future dislocation line $\\vec l$. By convention assumed in `matscipy.dislocation` Z direction of the cell always corresponds to the dislocation line $\\vec l$. Then a displacement field is applied to the cylinder and outer radial shell is fixed in order to stabilise the configuration. So we end up with periodic boundary conditions along the dislocation line (Z) and fixed boundaries along X and Y directions. As shown on the figure above, screw dislocations are characterised by a displacement with corresponding burgers vector $\\vec b$ parallel to the dislocation line $\\vec l$, while edge dislocations have the burgers vector $\\vec b$ perpendicular to $\\vec l$. `matscipy` uses an anisotropic solution within [Stroh formalism](https://doi.org/10.1080/14786435808565804) to generate displacement field as implemented in [atomman](https://www.ctcms.nist.gov/potentials/atomman/) package.\n",
    "\n",
    "For the interactive visualisation of the structures we will use [nglview](https://nglviewer.org/nglview/latest/) which allows viewing atomistic structures interactively within an IPython/Jupyter notebooks. We will also color atoms according to the crystallographic structure identified by [Common Neighbour Analysis algoritm](https://www.ovito.org/docs/current/reference/pipelines/modifiers/common_neighbor_analysis.html) and its [extention for diamond structure](https://www.ovito.org/docs/current/reference/pipelines/modifiers/identify_diamond.html) implemented in [OVITO](https://www.ovito.org/docs/current/introduction.html) package. [OVITO](https://www.ovito.org/docs/current/introduction.html), [atomman](https://www.ctcms.nist.gov/potentials/atomman/) and [nglview](https://nglviewer.org/nglview/latest/) are not part of the default dependencies of `matscipy` and require separate installation. Keep that in mind while running these examples as well test in [`test_dislocation.py`](https://github.com/libAtoms/matscipy/blob/master/tests/test_dislocation.py) since the majority of the tests there require this modules and thus will be skipped if the modules are not found in your system. Please note that for this example we use very small systems (small radius). For production calculations one should do a convergence tests with the system size in order to ensure that fixed boundaries do not affect the studied properties."
   ]
  },
  {
   "cell_type": "code",
   "execution_count": 1,
   "metadata": {},
   "outputs": [
    {
     "data": {
      "application/vnd.jupyter.widget-view+json": {
       "model_id": "928a58090bfa46b29cf864362bcbfdc9",
       "version_major": 2,
       "version_minor": 0
      },
      "text/plain": []
     },
     "metadata": {},
     "output_type": "display_data"
    }
   ],
   "source": [
    "import numpy as np\n",
    "import nglview # this import is necessary for rendering of the 3D view\n",
    "from visualisation import show_dislocation"
   ]
  },
  {
   "cell_type": "markdown",
   "metadata": {},
   "source": [
    "## Accessing Key Dislocation Properties\n",
    "As defined in a dimensionless (alat=1) frame, each kind of dislocation has several key properties which describe the geometric layout of the atomic cell, and also the position and orientation of the dislocation. Such properties are stored in matscipy as attributes of each dislocation class, such that they can be accessed without actually needing to construct a dislocation.\n",
    "\n",
    "As an example:"
   ]
  },
  {
   "cell_type": "code",
   "execution_count": null,
   "metadata": {},
   "outputs": [],
   "source": [
    "from matscipy.dislocation import BCCMixed111Dislocation\n",
    "\n",
    "print(\"For a BCC 1/2<111>{110} Mixed Dislocation\")\n",
    "print()\n",
    "\n",
    "print(\"The dislocation is oriented in a cell described by the miller indices: \")\n",
    "print(BCCMixed111Dislocation.axes)\n",
    "\n",
    "print(\"Dimensionless burgers vector is: \", BCCMixed111Dislocation.burgers_dimensionless)\n",
    "\n",
    "print(\"Dislocation core will be at fractional coords:\\n\", \n",
    "      BCCMixed111Dislocation.unit_cell_core_position_dimensionless, \" within a unit cell\")"
   ]
  },
  {
   "cell_type": "markdown",
   "metadata": {},
   "source": [
    "## Available Dislocation Systems\n",
    "The available dislocation systems are:"
   ]
  },
  {
   "cell_type": "code",
   "execution_count": 2,
   "metadata": {},
   "outputs": [
    {
     "name": "stdout",
     "output_type": "stream",
     "text": [
      "BCCScrew111Dislocation\n",
      "BCCEdge111Dislocation\n",
      "BCCMixed111Dislocation\n",
      "BCCEdge100Dislocation\n",
      "BCCEdge100110Dislocation\n",
      "DiamondGlide30degreePartial\n",
      "DiamondGlide90degreePartial\n",
      "DiamondGlideScrew\n",
      "DiamondGlide60Degree\n",
      "FCCScrewShockleyPartial\n",
      "FCCEdgeShockleyPartial\n",
      "FCCScrew110Dislocation\n",
      "FCCEdge110Dislocation\n"
     ]
    }
   ],
   "source": [
    "import matscipy.dislocation as disloc_mod\n",
    "import inspect\n",
    "# Find all classes in matscipy.dislocation which inherit from \n",
    "# the Abstract Base Class CubicCrystalDislocation\n",
    "for name, attr in disloc_mod.__dict__.items():\n",
    "    if inspect.isclass(attr):\n",
    "        if issubclass(attr, disloc_mod.CubicCrystalDislocation) and \\\n",
    "            attr not in [disloc_mod.CubicCrystalDislocation,\n",
    "                         disloc_mod.CubicCrystalDissociatedDislocation]:\n",
    "            print(name)"
   ]
  },
  {
   "cell_type": "markdown",
   "metadata": {},
   "source": [
    "## Body Centered Cubic \n",
    "\n",
    "For the case of BCC structure we take tungsten as an example. In order to create a dislocation configuration one has to provide lattice parameter and elastic constants. It is possible to provide these values from literature. However, if you plan to relax the configuration with an interatomic potential, `matscipy.dislocation` provides a convenient method `get_elastic_constants` to calculate desired properties. We will use and Embedded Atom Potential from [Marinica _et. al._ 2013 paper](http://dx.doi.org/10.1088/0953-8984/25/39/395502) (version EAM4) for the case of tungsten."
   ]
  },
  {
   "cell_type": "code",
   "execution_count": 2,
   "metadata": {
    "tags": [
     "hide-output"
    ]
   },
   "outputs": [
    {
     "name": "stdout",
     "output_type": "stream",
     "text": [
      "      Step     Time          Energy         fmax\n",
      "*Force-consistent energies used in optimization.\n",
      "FIRE:    0 15:29:59      -17.792788*       1.5616\n",
      "FIRE:    1 15:29:59      -17.796007*       1.2330\n",
      "FIRE:    2 15:29:59      -17.798904*       0.6354\n",
      "FIRE:    3 15:29:59      -17.799853*       0.2223\n",
      "FIRE:    4 15:29:59      -17.799882*       0.1976\n",
      "FIRE:    5 15:29:59      -17.799928*       0.1509\n",
      "FIRE:    6 15:29:59      -17.799970*       0.0870\n",
      "FIRE:    7 15:29:59      -17.799991*       0.0130\n",
      "FIRE:    8 15:29:59      -17.799981*       0.0629\n",
      "FIRE:    9 15:29:59      -17.799981*       0.0611\n",
      "FIRE:   10 15:29:59      -17.799982*       0.0576\n",
      "FIRE:   11 15:29:59      -17.799984*       0.0525\n",
      "FIRE:   12 15:29:59      -17.799986*       0.0458\n",
      "FIRE:   13 15:29:59      -17.799988*       0.0379\n",
      "FIRE:   14 15:29:59      -17.799989*       0.0289\n",
      "FIRE:   15 15:29:59      -17.799991*       0.0191\n",
      "FIRE:   16 15:29:59      -17.799991*       0.0076\n",
      "FIRE:   17 15:29:59      -17.799992*       0.0052\n",
      "FIRE:   18 15:29:59      -17.799992*       0.0052\n",
      "FIRE:   19 15:29:59      -17.799992*       0.0051\n",
      "FIRE:   20 15:29:59      -17.799992*       0.0049\n",
      "FIRE:   21 15:29:59      -17.799992*       0.0047\n",
      "FIRE:   22 15:29:59      -17.799992*       0.0044\n",
      "FIRE:   23 15:29:59      -17.799992*       0.0041\n",
      "FIRE:   24 15:29:59      -17.799992*       0.0038\n",
      "FIRE:   25 15:29:59      -17.799992*       0.0034\n",
      "FIRE:   26 15:29:59      -17.799992*       0.0028\n",
      "FIRE:   27 15:29:59      -17.799992*       0.0022\n",
      "FIRE:   28 15:29:59      -17.799992*       0.0015\n",
      "FIRE:   29 15:29:59      -17.799992*       0.0006\n",
      "FIRE:   30 15:30:00      -17.799992*       0.0003\n",
      "FIRE:   31 15:30:00      -17.799992*       0.0003\n",
      "FIRE:   32 15:30:00      -17.799992*       0.0003\n",
      "FIRE:   33 15:30:00      -17.799992*       0.0003\n",
      "FIRE:   34 15:30:00      -17.799992*       0.0003\n",
      "FIRE:   35 15:30:00      -17.799992*       0.0003\n",
      "FIRE:   36 15:30:00      -17.799992*       0.0003\n",
      "FIRE:   37 15:30:00      -17.799992*       0.0003\n",
      "FIRE:   38 15:30:00      -17.799992*       0.0002\n",
      "FIRE:   39 15:30:00      -17.799992*       0.0002\n",
      "FIRE:   40 15:30:00      -17.799992*       0.0002\n",
      "FIRE:   41 15:30:00      -17.799992*       0.0001\n",
      "FIRE:   42 15:30:00      -17.799992*       0.0001\n",
      "Fitting C_11\n",
      "Strain array([-0.02, -0.01,  0.  ,  0.01,  0.02])\n",
      "Stress array([-1.18143011e+01, -5.57729763e+00, -2.88261126e-04,  4.98286691e+00,\n",
      "        9.85079614e+00]) GPa\n",
      "Cij (gradient) / GPa    :     538.9035896451805\n",
      "Error in Cij / GPa      :     16.584381718776033\n",
      "Correlation coefficient :     0.9985824334709763\n",
      "Setting C11 (1) to 3.363572 +/- 0.103512\n",
      "\n",
      "\n",
      "Fitting C_21\n",
      "Strain array([-0.02, -0.01,  0.  ,  0.01,  0.02])\n",
      "Stress array([-5.18171556e+00, -2.29563243e+00, -2.88261126e-04,  1.85153957e+00,\n",
      "        3.74132626e+00]) GPa\n",
      "Cij (gradient) / GPa    :     219.93255649330877\n",
      "Error in Cij / GPa      :     12.450223131451542\n",
      "Correlation coefficient :     0.9952274688373499\n",
      "Setting C21 (7) to 1.372711 +/- 0.077708\n",
      "\n",
      "\n",
      "Fitting C_31\n",
      "Strain array([-0.02, -0.01,  0.  ,  0.01,  0.02])\n",
      "Stress array([-5.18171556e+00, -2.29563243e+00, -2.88261126e-04,  1.85153957e+00,\n",
      "        3.74132626e+00]) GPa\n",
      "Cij (gradient) / GPa    :     219.93255649330868\n",
      "Error in Cij / GPa      :     12.450223131451247\n",
      "Correlation coefficient :     0.9952274688373501\n",
      "Updating C31 (7) with value 1.372711 +/- 0.077708\n",
      "\n",
      "\n",
      "Fitting C_44\n",
      "Strain array([-0.02, -0.01,  0.  ,  0.01,  0.02])\n",
      "Stress array([-4.37426370e+00, -1.88654647e+00,  9.30635418e-15,  1.43563268e+00,\n",
      "        2.90478138e+00]) GPa\n",
      "Cij (gradient) / GPa    :     178.80269302570218\n",
      "Error in Cij / GPa      :     12.702352202927047\n",
      "Correlation coefficient :     0.9925146216927534\n",
      "Setting C44 (4) to 1.115999 +/- 0.079282\n",
      "\n",
      "\n",
      "[[b C11 b C12 b C12 b     b     b    ]\n",
      " [b C12 b C11 b C12 b     b     b    ]\n",
      " [b C12 b C12 b C11 b     b     b    ]\n",
      " [b     b     b     b C44 b     b    ]\n",
      " [b     b     b     b     b C44 b    ]\n",
      " [b     b     b     b     b     b C44]]\n",
      "\n",
      " = \n",
      "\n",
      "[[538.9  219.93 219.93   0.     0.     0.  ]\n",
      " [219.93 538.9  219.93   0.     0.     0.  ]\n",
      " [219.93 219.93 538.9    0.     0.     0.  ]\n",
      " [  0.     0.     0.   178.8    0.     0.  ]\n",
      " [  0.     0.     0.     0.   178.8    0.  ]\n",
      " [  0.     0.     0.     0.     0.   178.8 ]]\n",
      "C_11 = 538.90 +/- 16.58 GPa\n",
      "C_12 = 219.93 +/- 12.45 GPa\n",
      "C_44 = 178.80 +/- 12.70 GPa\n"
     ]
    }
   ],
   "source": [
    "from matscipy.dislocation import get_elastic_constants\n",
    "# the calculator to provide forces and energies from the potential\n",
    "from matscipy.calculators.eam import EAM\n",
    "eam_calc = EAM(\"../../tests/w_eam4.fs\")\n",
    "\n",
    "# the function accepts any ASE type of calculator\n",
    "alat, C11, C12, C44 = get_elastic_constants(calculator=eam_calc, symbol=\"W\", verbose=False)"
   ]
  },
  {
   "cell_type": "code",
   "execution_count": 3,
   "metadata": {},
   "outputs": [
    {
     "name": "stdout",
     "output_type": "stream",
     "text": [
      "3.143 (Angstrom), 538.90, 219.93, 178.80 (GPa)\n"
     ]
    }
   ],
   "source": [
    "print(f\"{alat:.3f} (Angstrom), {C11:.2f}, {C12:.2f}, {C44:.2f} (GPa)\")"
   ]
  },
  {
   "cell_type": "markdown",
   "metadata": {},
   "source": [
    "The values are in good agreement with corresponding numbers in the paper: 3.143, 523, 202, 161"
   ]
  },
  {
   "cell_type": "markdown",
   "metadata": {},
   "source": [
    "### 1/2<111>{110} screw dislocation\n",
    "\n",
    "The notation 1/2<111>{110} means a dislocation with a burgers vector 1/2<111> and glide plane {110}. For screw dislocation, the dislocation line is parallel to the burgers vector, thus Z direction of the cell will be along <111>. The glide plane {110} fixes the Y direction to be <110> and the X direction is fixed by the geometry to be along <112>. However you do not have to think about it to start since `BCCScrew111Dislocation` object contains all the necessary information. All you need to do is to pass $a_0$ and elastic constants $C_{11}$, $C_{12}$ and $C_{44}$ and the symbol of the desired BCC element to the constructor."
   ]
  },
  {
   "cell_type": "code",
   "execution_count": 4,
   "metadata": {},
   "outputs": [
    {
     "name": "stdout",
     "output_type": "stream",
     "text": [
      "Cell orientation:\n",
      "[[ 1  1 -2]\n",
      " [-1  1  0]\n",
      " [ 1  1  1]]\n",
      "Burgers vector:\n",
      "[1.57169453 1.57169453 1.57169453]\n"
     ]
    }
   ],
   "source": [
    "from matscipy.dislocation import BCCScrew111Dislocation\n",
    "\n",
    "W_screw = BCCScrew111Dislocation(alat, C11, C12, C44, symbol=\"W\")\n",
    "\n",
    "print(\"Cell orientation:\")\n",
    "print(W_screw.axes)\n",
    "\n",
    "print(\"Burgers vector:\")\n",
    "print(W_screw.burgers)\n"
   ]
  },
  {
   "cell_type": "markdown",
   "metadata": {},
   "source": [
    "We are going to use `BCCScrew111Dislocation.build_cylinder()` method to build the cells. All the necessary parameters are passed automatically and we only need to chose the radius of the cell in (X,Y) plane. The function returns reference bulk cell and a cell containing dislocation. The displacement field is applied iteratively until a converged value is achieved, the printed output shows the difference between the steps. The radius provided is a parameter is a radius of unconstrained region around the core. The outer shell of fixed atoms is added on top of this. The default value is 10 Angstrom which is about two times larger than the cutoff for the used interatomic potential. The information about which atoms are fixed is stored in `fix_mask` array and can be accessed via `W_screw_dislo.get_array('fix_mask')`."
   ]
  },
  {
   "cell_type": "code",
   "execution_count": 31,
   "metadata": {},
   "outputs": [
    {
     "name": "stdout",
     "output_type": "stream",
     "text": [
      "disloc SCF 0 |d1-d2|_inf = 0.001400723332078968\n",
      "disloc SCF 1 |d1-d2|_inf = 6.704394990092455e-06\n",
      "disloc SCF 2 |d1-d2|_inf = 3.2089362583809233e-08\n",
      "\n",
      "Cell vectors:\n",
      "[[61.59759392  0.          0.        ]\n",
      " [ 0.         62.235928    0.        ]\n",
      " [ 0.          0.          2.72225477]]\n",
      "\n",
      "Burgers vector lenth: 2.72 Angstrom\n"
     ]
    }
   ],
   "source": [
    "W_screw_bulk, W_screw_dislo = W_screw.build_cylinder(radius=20)\n",
    "\n",
    "print(\"\\nCell vectors:\")\n",
    "print(W_screw_dislo.cell.array)\n",
    "\n",
    "print(f\"\\nBurgers vector lenth: {np.linalg.norm(W_screw.burgers):.2f} Angstrom\")"
   ]
  },
  {
   "cell_type": "markdown",
   "metadata": {},
   "source": [
    "Now we can look at the created structure with the interactive view. Hovering your mouse over an atom will show chemical symbol of the atom and the structure identified by CNA algorithm. Dislocation is shown with an arrow corresponding to the dislocation line vector $\\vec l$. Hovering over the dislocation will display the dislocation name. Moreover, you can use your mouse to control the view:\n",
    "\n",
    "- Translation: right click + drag\n",
    "- Rotation: left click + drag\n",
    "- Z-axis rotation: Ctrl + right click + drag\n",
    "- Zoom: scroll wheel\n",
    "- Center view: left click on the desired atom"
   ]
  },
  {
   "cell_type": "code",
   "execution_count": 32,
   "metadata": {},
   "outputs": [
    {
     "data": {
      "application/vnd.jupyter.widget-view+json": {
       "model_id": "df6d21351f824d99bd4ec008cc1417bc",
       "version_major": 2,
       "version_minor": 0
      },
      "text/plain": [
       "NGLWidget()"
      ]
     },
     "metadata": {},
     "output_type": "display_data"
    }
   ],
   "source": [
    "show_dislocation(W_screw_dislo, d_name=\"1/2<111> screw\")"
   ]
  },
  {
   "cell_type": "markdown",
   "metadata": {},
   "source": [
    "It can be seen that most of the cell is identified as BCC structure with some grey atoms identified as _Other_. These atoms represent the defect atoms, where the algorithm could not assign a crystallographic structure. In this case we have defect atoms at the dislocation core and on the artificial free surfaces on the edges of the cell. The atoms at the _surface_ are part of fixed region of the cell. \n",
    "\n",
    "Here we have a cell with the length of one Burgers vector $|\\vec b| = \\frac{\\sqrt{3}}{2}a_0$ along the dislocation line. With the periodic boundary conditions along Z, it corresponds to infinitely long straight dislocation line. Note that the periodic boundary conditions along the dislocation line are not applied in the visualisation. It makes it easier to see the displacement, but you might notice the atoms outside the simulation box. \n",
    "\n",
    "To increase the size of the cell along the line we can rely on the magic of [ASE](https://wiki.fysik.dtu.dk/ase/) and simply multiply the cell."
   ]
  },
  {
   "cell_type": "code",
   "execution_count": 38,
   "metadata": {},
   "outputs": [
    {
     "data": {
      "application/vnd.jupyter.widget-view+json": {
       "model_id": "3645f686ef254210bd8007af69ca5ea2",
       "version_major": 2,
       "version_minor": 0
      },
      "text/plain": [
       "NGLWidget()"
      ]
     },
     "metadata": {},
     "output_type": "display_data"
    }
   ],
   "source": [
    "longer_W_screw_dislo = W_screw_dislo * [1, 1, 10]\n",
    "show_dislocation(longer_W_screw_dislo, d_name=\"1/2<111> screw\")"
   ]
  },
  {
   "cell_type": "markdown",
   "metadata": {},
   "source": [
    "If you want to save the configuration in a file for further analysis or as an input for a code you can use build in [ASE write method](https://wiki.fysik.dtu.dk/ase/ase/io/io.html#ase.io.write) as `longer_W_screw_dislo.write(filename)`. The method supports a wide range of formats including `xyz` and LAMMPS data files. Do not forget to take into account fixed atoms if you use the saved file as an input for a simulation code like LAMMPS. \n",
    "\n",
    "### 1/2<111>{110} edge dislocation\n",
    "\n",
    "As we said before, for edge dislocations burgers vectpr $\\vec b$ is perpendicular to the dislocation $\\vec l$. So here, we have the same glide plane of (110) which fixes the cell Y direction to <110>. X direction now will be along burgers vector <111> and Z dislocation line direction <112>."
   ]
  },
  {
   "cell_type": "code",
   "execution_count": 7,
   "metadata": {},
   "outputs": [
    {
     "name": "stdout",
     "output_type": "stream",
     "text": [
      "Cell orientation:\n",
      "[[ 1  1  1]\n",
      " [ 1 -1  0]\n",
      " [ 1  1 -2]]\n",
      "Burgers vector:\n",
      "[1.57169453 1.57169453 1.57169453]\n"
     ]
    }
   ],
   "source": [
    "from matscipy.dislocation import BCCEdge111Dislocation\n",
    "\n",
    "W_edge = BCCEdge111Dislocation(alat, C11, C12, C44, symbol=\"W\")\n",
    "\n",
    "print(\"Cell orientation:\")\n",
    "print(W_edge.axes)\n",
    "\n",
    "print(\"Burgers vector:\")\n",
    "print(W_edge.burgers)\n"
   ]
  },
  {
   "cell_type": "code",
   "execution_count": 34,
   "metadata": {},
   "outputs": [
    {
     "name": "stdout",
     "output_type": "stream",
     "text": [
      "disloc SCF 0 |d1-d2|_inf = 0.17503717189385382\n",
      "disloc SCF 1 |d1-d2|_inf = 0.030669651063355258\n",
      "disloc SCF 2 |d1-d2|_inf = 0.004376489640269432\n",
      "disloc SCF 3 |d1-d2|_inf = 0.0008807112000284167\n",
      "disloc SCF 4 |d1-d2|_inf = 0.00015452837692353505\n",
      "disloc SCF 5 |d1-d2|_inf = 2.6112647029508107e-05\n",
      "disloc SCF 6 |d1-d2|_inf = 5.7487804006051135e-06\n",
      "disloc SCF 7 |d1-d2|_inf = 7.771108773702018e-07\n",
      "\n",
      "Cell vectors:\n",
      "[[54.44509545  0.          0.        ]\n",
      " [ 0.         53.34508114  0.        ]\n",
      " [ 0.          0.          7.69969924]]\n",
      "\n",
      "Burgers vector lenth: 2.72 Angstrom\n"
     ]
    }
   ],
   "source": [
    "W_edge_bulk, W_edge_dislo = W_edge.build_cylinder(radius=15)\n",
    "\n",
    "print(\"\\nCell vectors:\")\n",
    "print(W_edge_dislo.cell.array)\n",
    "\n",
    "print(f\"\\nBurgers vector lenth: {np.linalg.norm(W_edge.burgers):.2f} Angstrom\")"
   ]
  },
  {
   "cell_type": "markdown",
   "metadata": {},
   "source": [
    "It can be seen from the print output of ` W_edge.build_cylinder()` that the case of edge dislocation the requires more iterations to achieve converged displacement field."
   ]
  },
  {
   "cell_type": "code",
   "execution_count": 33,
   "metadata": {},
   "outputs": [
    {
     "data": {
      "application/vnd.jupyter.widget-view+json": {
       "model_id": "863a61925a3c4d8ca4de13786507f13c",
       "version_major": 2,
       "version_minor": 0
      },
      "text/plain": [
       "NGLWidget()"
      ]
     },
     "metadata": {},
     "output_type": "display_data"
    }
   ],
   "source": [
    "show_dislocation(W_edge_dislo, scale=0.25, d_name=\"1/2<111> edge\")"
   ]
  },
  {
   "cell_type": "markdown",
   "metadata": {},
   "source": [
    "### 1/2<111>{110} mixed dislocation\n",
    "\n",
    "For mixed dislocation the cell vector are the same as for the screw dislocation. The difference is that the displacement vector is applied along <111> direction that is not parallel to the Z direction: [$1\\bar 11$] and [$1\\bar 1 \\bar1$] with an angle of 70.5 degrees between the vectors. This leads to both edge and screw component in the displacement and thus the name _mixed_ dislocation."
   ]
  },
  {
   "cell_type": "code",
   "execution_count": 9,
   "metadata": {},
   "outputs": [
    {
     "name": "stdout",
     "output_type": "stream",
     "text": [
      "Cell orientation:\n",
      "[[ 1 -1 -2]\n",
      " [ 1  1  0]\n",
      " [ 1 -1  1]]\n",
      "Burgers vector:\n",
      "[ 1.57169453 -1.57169453 -1.57169453]\n"
     ]
    }
   ],
   "source": [
    "from matscipy.dislocation import BCCMixed111Dislocation\n",
    "\n",
    "W_mixed = BCCMixed111Dislocation(alat, C11, C12, C44, symbol=\"W\")\n",
    "\n",
    "print(\"Cell orientation:\")\n",
    "print(W_mixed.axes)\n",
    "\n",
    "print(\"Burgers vector:\")\n",
    "print(W_mixed.burgers)\n"
   ]
  },
  {
   "cell_type": "code",
   "execution_count": 10,
   "metadata": {},
   "outputs": [
    {
     "name": "stdout",
     "output_type": "stream",
     "text": [
      "disloc SCF 0 |d1-d2|_inf = 0.10539187767041772\n",
      "disloc SCF 1 |d1-d2|_inf = 0.018105716735450528\n",
      "disloc SCF 2 |d1-d2|_inf = 0.002853744720166418\n",
      "disloc SCF 3 |d1-d2|_inf = 0.00044617599789692486\n",
      "disloc SCF 4 |d1-d2|_inf = 6.968641396387643e-05\n",
      "disloc SCF 5 |d1-d2|_inf = 1.0882499856867955e-05\n",
      "disloc SCF 6 |d1-d2|_inf = 1.6994203833053945e-06\n",
      "disloc SCF 7 |d1-d2|_inf = 2.653822296916353e-07\n",
      "\n",
      "Cell vectors:\n",
      "[[61.59759392  0.          0.        ]\n",
      " [ 0.         62.235928    0.        ]\n",
      " [ 0.          0.          2.72225477]]\n",
      "\n",
      "Burgers vector length: 2.72 Angstrom\n"
     ]
    },
    {
     "data": {
      "application/vnd.jupyter.widget-view+json": {
       "model_id": "c8e63ead26fc406590892d6e8897f0d0",
       "version_major": 2,
       "version_minor": 0
      },
      "text/plain": [
       "NGLWidget()"
      ]
     },
     "metadata": {},
     "output_type": "display_data"
    }
   ],
   "source": [
    "W_mixed_bulk, W_mixed_dislo = W_mixed.build_cylinder(radius=20)\n",
    "\n",
    "print(\"\\nCell vectors:\")\n",
    "print(W_mixed_dislo.cell.array)\n",
    "\n",
    "print(f\"\\nBurgers vector length: {np.linalg.norm(W_mixed.burgers):.2f} Angstrom\")\n",
    "\n",
    "show_dislocation(W_mixed_dislo, scale=0.5, d_name=\"1/2<111> mixed\")"
   ]
  },
  {
   "cell_type": "markdown",
   "metadata": {},
   "source": [
    "### <100>{110} edge 'junction' dislocation\n",
    "\n",
    "So called junction dislocations with burdgers vector along <100> can be formed in the reactions between more abundant dislocations with burgers vector 1/2<111> such as: \n",
    "\n",
    "$$\n",
    "    \\frac{1}{2}[1\\bar{1}1] + \\frac{1}{2}[11\\bar{1}] = [100]\n",
    "$$\n",
    "\n",
    "They share the same glide plane ad 1/2<111> dislocations and can play important role in impurity segregation. "
   ]
  },
  {
   "cell_type": "code",
   "execution_count": 11,
   "metadata": {},
   "outputs": [
    {
     "name": "stdout",
     "output_type": "stream",
     "text": [
      "Cell orientation:\n",
      "[[ 1  0  0]\n",
      " [ 0  1  1]\n",
      " [ 0 -1  1]]\n",
      "Burgers vector:\n",
      "[3.14338905 0.         0.        ]\n"
     ]
    }
   ],
   "source": [
    "from matscipy.dislocation import BCCEdge100110Dislocation\n",
    "\n",
    "W_100110_edge = BCCEdge100110Dislocation(alat, C11, C12, C44, symbol=\"W\")\n",
    "\n",
    "print(\"Cell orientation:\")\n",
    "print(W_100110_edge.axes)\n",
    "\n",
    "print(\"Burgers vector:\")\n",
    "print(W_100110_edge.burgers)\n"
   ]
  },
  {
   "cell_type": "code",
   "execution_count": 12,
   "metadata": {},
   "outputs": [
    {
     "name": "stdout",
     "output_type": "stream",
     "text": [
      "disloc SCF 0 |d1-d2|_inf = 0.256011923011219\n",
      "disloc SCF 1 |d1-d2|_inf = 0.06016875789278883\n",
      "disloc SCF 2 |d1-d2|_inf = 0.008688239875985548\n",
      "disloc SCF 3 |d1-d2|_inf = 0.002036859690120879\n",
      "disloc SCF 4 |d1-d2|_inf = 0.00025500641555943615\n",
      "disloc SCF 5 |d1-d2|_inf = 8.302194247189476e-05\n",
      "disloc SCF 6 |d1-d2|_inf = 1.6579146270331857e-05\n",
      "disloc SCF 7 |d1-d2|_inf = 1.7272275882884713e-06\n",
      "disloc SCF 8 |d1-d2|_inf = 6.753932630942927e-07\n"
     ]
    },
    {
     "data": {
      "application/vnd.jupyter.widget-view+json": {
       "model_id": "97a6a8aa8305419b802a254b534dcf62",
       "version_major": 2,
       "version_minor": 0
      },
      "text/plain": [
       "NGLWidget()"
      ]
     },
     "metadata": {},
     "output_type": "display_data"
    }
   ],
   "source": [
    "W_100110_edge_bulk, W_100110_edge_dislo = W_100110_edge.build_cylinder(radius=17)\n",
    "show_dislocation(W_100110_edge_dislo, scale=0.3, \n",
    "                 d_name=\"<100>{110} edge\", d_color=[1, 0, 1])"
   ]
  },
  {
   "cell_type": "markdown",
   "metadata": {},
   "source": [
    "### <100>{001} edge dislocation\n",
    "\n",
    "This is the same junction dislocation but lying in a different glide plane: (001)."
   ]
  },
  {
   "cell_type": "code",
   "execution_count": 13,
   "metadata": {},
   "outputs": [
    {
     "name": "stdout",
     "output_type": "stream",
     "text": [
      "Cell orientation:\n",
      "[[ 1  0  0]\n",
      " [ 0  0 -1]\n",
      " [ 0  1  0]]\n",
      "Burgers vector:\n",
      "[3.14338905 0.         0.        ]\n"
     ]
    }
   ],
   "source": [
    "from matscipy.dislocation import BCCEdge100Dislocation\n",
    "\n",
    "W_100_edge = BCCEdge100Dislocation(alat, C11, C12, C44, symbol=\"W\")\n",
    "\n",
    "print(\"Cell orientation:\")\n",
    "print(W_100_edge.axes)\n",
    "\n",
    "print(\"Burgers vector:\")\n",
    "print(W_100_edge.burgers)\n"
   ]
  },
  {
   "cell_type": "code",
   "execution_count": 14,
   "metadata": {},
   "outputs": [
    {
     "name": "stdout",
     "output_type": "stream",
     "text": [
      "disloc SCF 0 |d1-d2|_inf = 0.29723896079013645\n",
      "disloc SCF 1 |d1-d2|_inf = 0.03893895819760007\n",
      "disloc SCF 2 |d1-d2|_inf = 0.011189961805871729\n",
      "disloc SCF 3 |d1-d2|_inf = 0.001492901691747324\n",
      "disloc SCF 4 |d1-d2|_inf = 0.00046542738716470744\n",
      "disloc SCF 5 |d1-d2|_inf = 8.162136711258039e-05\n",
      "disloc SCF 6 |d1-d2|_inf = 1.3593036747305831e-05\n",
      "disloc SCF 7 |d1-d2|_inf = 4.370960947186475e-06\n",
      "disloc SCF 8 |d1-d2|_inf = 5.007713447316431e-07\n"
     ]
    },
    {
     "data": {
      "application/vnd.jupyter.widget-view+json": {
       "model_id": "f3c5f9df4a574110902f9da11ff7372f",
       "version_major": 2,
       "version_minor": 0
      },
      "text/plain": [
       "NGLWidget()"
      ]
     },
     "metadata": {},
     "output_type": "display_data"
    }
   ],
   "source": [
    "W_100_edge_bulk, W_100_edge_dislo = W_100_edge.build_cylinder(radius=20)\n",
    "show_dislocation(W_100_edge_dislo, scale=0.4, d_name=\"<100>{001} edge\", d_color=[1, 0, 1])"
   ]
  },
  {
   "cell_type": "markdown",
   "metadata": {},
   "source": [
    "## Face Centered Cubic\n",
    "\n",
    "As an example of FCC material we will consider Ni and an interatomic potential from [Bonny _et. al._](https://www.tandfonline.com/doi/abs/10.1080/14786430903299824)\n"
   ]
  },
  {
   "cell_type": "code",
   "execution_count": 15,
   "metadata": {
    "tags": [
     "hide-output"
    ]
   },
   "outputs": [
    {
     "name": "stdout",
     "output_type": "stream",
     "text": [
      "      Step     Time          Energy         fmax\n",
      "*Force-consistent energies used in optimization.\n",
      "FIRE:    0 15:30:04      -17.801046*       0.0001\n",
      "Fitting C_11\n",
      "Strain array([-0.02, -0.01,  0.  ,  0.01,  0.02])\n",
      "Stress array([-5.12800014e+00, -2.50333320e+00, -1.41366167e-04,  2.37961959e+00,\n",
      "        4.63379565e+00]) GPa\n",
      "Cij (gradient) / GPa    :     244.0654437182867\n",
      "Error in Cij / GPa      :     4.217968506243491\n",
      "Correlation coefficient :     0.9995522932872427\n",
      "Setting C11 (1) to 1.523337 +/- 0.026326\n",
      "\n",
      "\n",
      "Fitting C_21\n",
      "Strain array([-0.02, -0.01,  0.  ,  0.01,  0.02])\n",
      "Stress array([-3.37539886e+00, -1.58459192e+00, -1.41366167e-04,  1.38619385e+00,\n",
      "        2.58171226e+00]) GPa\n",
      "Cij (gradient) / GPa    :     148.85008009740656\n",
      "Error in Cij / GPa      :     6.776719382842348\n",
      "Correlation coefficient :     0.9969053432709588\n",
      "Setting C21 (7) to 0.929049 +/- 0.042297\n",
      "\n",
      "\n",
      "Fitting C_31\n",
      "Strain array([-0.02, -0.01,  0.  ,  0.01,  0.02])\n",
      "Stress array([-3.37539886e+00, -1.58459192e+00, -1.41366167e-04,  1.38619385e+00,\n",
      "        2.58171226e+00]) GPa\n",
      "Cij (gradient) / GPa    :     148.850080097406\n",
      "Error in Cij / GPa      :     6.776719382842323\n",
      "Correlation coefficient :     0.9969053432709588\n",
      "Updating C31 (7) with value 0.929049 +/- 0.042297\n",
      "\n",
      "\n",
      "Fitting C_44\n",
      "Strain array([-0.02, -0.01,  0.  ,  0.01,  0.02])\n",
      "Stress array([-2.51031965e+00, -1.25545671e+00, -2.54901650e-17,  1.25652507e+00,\n",
      "        2.51470655e+00]) GPa\n",
      "Cij (gradient) / GPa    :     125.62034171207866\n",
      "Error in Cij / GPa      :     0.0380968152678079\n",
      "Correlation coefficient :     0.9999998620414655\n",
      "Setting C44 (4) to 0.784061 +/- 0.000238\n",
      "\n",
      "\n",
      "[[b C11 b C12 b C12 b     b     b    ]\n",
      " [b C12 b C11 b C12 b     b     b    ]\n",
      " [b C12 b C12 b C11 b     b     b    ]\n",
      " [b     b     b     b C44 b     b    ]\n",
      " [b     b     b     b     b C44 b    ]\n",
      " [b     b     b     b     b     b C44]]\n",
      "\n",
      " = \n",
      "\n",
      "[[244.07 148.85 148.85   0.     0.     0.  ]\n",
      " [148.85 244.07 148.85   0.     0.     0.  ]\n",
      " [148.85 148.85 244.07   0.     0.     0.  ]\n",
      " [  0.     0.     0.   125.62   0.     0.  ]\n",
      " [  0.     0.     0.     0.   125.62   0.  ]\n",
      " [  0.     0.     0.     0.     0.   125.62]]\n",
      "C_11 = 244.07 +/- 4.22 GPa\n",
      "C_12 = 148.85 +/- 6.78 GPa\n",
      "C_44 = 125.62 +/- 0.04 GPa\n"
     ]
    }
   ],
   "source": [
    "eam_calc = EAM(\"../../tests/FeCuNi.eam.alloy\")\n",
    "\n",
    "# the function accepts any ASE type of calculator\n",
    "alat, C11, C12, C44 = get_elastic_constants(calculator=eam_calc, symbol=\"Ni\", verbose=False)"
   ]
  },
  {
   "cell_type": "code",
   "execution_count": 16,
   "metadata": {},
   "outputs": [
    {
     "name": "stdout",
     "output_type": "stream",
     "text": [
      "3.520 (Angstrom), 244.07, 148.85, 125.62 (GPa)\n"
     ]
    }
   ],
   "source": [
    "print(f\"{alat:.3f} (Angstrom), {C11:.2f}, {C12:.2f}, {C44:.2f} (GPa)\")"
   ]
  },
  {
   "cell_type": "markdown",
   "metadata": {},
   "source": [
    "### 1/2<110>{111} screw dislocation (perfect and dissociated)"
   ]
  },
  {
   "cell_type": "code",
   "execution_count": 17,
   "metadata": {},
   "outputs": [
    {
     "name": "stdout",
     "output_type": "stream",
     "text": [
      "Cell orientation:\n",
      "[[ 1  1 -2]\n",
      " [ 1  1  1]\n",
      " [ 1 -1  0]]\n",
      "Burgers vector:\n",
      "[ 1.76 -1.76  0.  ]\n"
     ]
    }
   ],
   "source": [
    "from matscipy.dislocation import FCCScrew110Dislocation\n",
    "\n",
    "Ni_screw = FCCScrew110Dislocation(alat, C11, C12, C44, symbol=\"Ni\")\n",
    "\n",
    "print(\"Cell orientation:\")\n",
    "print(Ni_screw.axes)\n",
    "\n",
    "print(\"Burgers vector:\")\n",
    "print(Ni_screw.burgers)\n"
   ]
  },
  {
   "cell_type": "code",
   "execution_count": 18,
   "metadata": {},
   "outputs": [
    {
     "name": "stdout",
     "output_type": "stream",
     "text": [
      "disloc SCF 0 |d1-d2|_inf = 0.021791458261984697\n",
      "disloc SCF 1 |d1-d2|_inf = 0.0002936041882874109\n",
      "disloc SCF 2 |d1-d2|_inf = 4.8928735380371347e-05\n",
      "disloc SCF 3 |d1-d2|_inf = 1.2696678054050815e-06\n",
      "disloc SCF 4 |d1-d2|_inf = 1.0764587210498888e-07\n",
      "disloc SCF 0 |d1-d2|_inf = 0.020321133865591423\n",
      "disloc SCF 1 |d1-d2|_inf = 0.0006134137472214689\n",
      "disloc SCF 2 |d1-d2|_inf = 5.9406489367308524e-05\n",
      "disloc SCF 3 |d1-d2|_inf = 2.948341477265748e-06\n",
      "disloc SCF 4 |d1-d2|_inf = 8.340714410803862e-08\n",
      "\n",
      "Cell vectors:\n",
      "[[60.35542726  0.          0.        ]\n",
      " [ 0.         60.96818843  0.        ]\n",
      " [ 0.          0.          2.48901587]]\n",
      "\n",
      "Burgers vector length: 2.49 Angstrom\n"
     ]
    },
    {
     "data": {
      "application/vnd.jupyter.widget-view+json": {
       "model_id": "c4f9f14bc6c84ecebe6c05988046b9d6",
       "version_major": 2,
       "version_minor": 0
      },
      "text/plain": [
       "NGLWidget()"
      ]
     },
     "metadata": {},
     "output_type": "display_data"
    }
   ],
   "source": [
    "Ni_screw_bulk, Ni_screw_dislo = Ni_screw.build_cylinder(radius=20)\n",
    "\n",
    "\n",
    "print(\"\\nCell vectors:\")\n",
    "print(Ni_screw_dislo.cell.array)\n",
    "\n",
    "print(f\"\\nBurgers vector length: {np.linalg.norm(Ni_screw.burgers):.2f} Angstrom\")\n",
    "\n",
    "show_dislocation(Ni_screw_dislo, \n",
    "                 d_name=\"1/2<110> screw\", \n",
    "                 d_color=[0, 0, 1])"
   ]
  },
  {
   "cell_type": "markdown",
   "metadata": {},
   "source": [
    "Due to stable Intrinsic Stacking Fault (ISF) the 1/2<110> dislocations are not stable and dissociate in two 1/6<112> Shockley partials separated by stacking fault. For example:\n",
    "\n",
    "$$\n",
    "    \\frac{1}{2}[1\\bar10] \\rightarrow \\frac{1}{6}[2\\bar1\\bar1] + \\mathrm{ISF} + \\frac{1}{2}[1\\bar21]\n",
    "$$\n",
    "\n",
    "where ISF is intrinsic stacking fault. It is possible to pass a parameter `partial_distance` to `build_cylinder()` function in order to create dissociated dislocation. `partial distance` defines separation distance (length of the stacking fault) of two partial dislocations. The value corresponds to number of glide distances the distance in Angstrom be obtaines as `patial_distance * dislocation.glide_distance`."
   ]
  },
  {
   "cell_type": "code",
   "execution_count": 35,
   "metadata": {},
   "outputs": [
    {
     "name": "stdout",
     "output_type": "stream",
     "text": [
      "disloc SCF 0 |d1-d2|_inf = 0.02179145826198453\n",
      "disloc SCF 1 |d1-d2|_inf = 0.0002936041882874109\n",
      "disloc SCF 2 |d1-d2|_inf = 4.892873538059339e-05\n",
      "disloc SCF 3 |d1-d2|_inf = 1.2696678051752307e-06\n",
      "disloc SCF 4 |d1-d2|_inf = 1.0764587193845543e-07\n",
      "disloc SCF 0 |d1-d2|_inf = 0.020321133865591506\n",
      "disloc SCF 1 |d1-d2|_inf = 0.0006134137472214689\n",
      "disloc SCF 2 |d1-d2|_inf = 5.9406489367308524e-05\n",
      "disloc SCF 3 |d1-d2|_inf = 2.948341477515548e-06\n",
      "disloc SCF 4 |d1-d2|_inf = 8.340714444804442e-08\n",
      "\n",
      "Expected partial distance: 10.8 Angstrom\n"
     ]
    },
    {
     "data": {
      "application/vnd.jupyter.widget-view+json": {
       "model_id": "edb77f22bec7476bb0cce5beb1723915",
       "version_major": 2,
       "version_minor": 0
      },
      "text/plain": [
       "NGLWidget()"
      ]
     },
     "metadata": {},
     "output_type": "display_data"
    }
   ],
   "source": [
    "Ni_screw_bulk, Ni_screw_dislo = Ni_screw.build_cylinder(radius=20, partial_distance=5)\n",
    "print(f\"\\nExpected partial distance: {5 * Ni_screw.glide_distance:.1f} Angstrom\")\n",
    "show_dislocation(Ni_screw_dislo, \n",
    "                 partial_distance=5 * Ni_screw.glide_distance,\n",
    "                 d_name=\"1/6<112> Shockley partial screw\")"
   ]
  },
  {
   "cell_type": "markdown",
   "metadata": {},
   "source": [
    "Together with FCC (green) and defect atoms (grey) the CNA algorithm identified the atoms of the stacking fault as HCP structure (pink), which is a result of the local change of stacking order of the atomic layers within the defect.\n",
    "\n",
    "### 1/2<110>{111} edge dislocation (perfect and dissociated)"
   ]
  },
  {
   "cell_type": "code",
   "execution_count": 20,
   "metadata": {},
   "outputs": [
    {
     "name": "stdout",
     "output_type": "stream",
     "text": [
      "Cell orientation:\n",
      "[[ 1 -1  0]\n",
      " [ 1  1  1]\n",
      " [-1 -1  2]]\n",
      "Burgers vector:\n",
      "[ 1.76 -1.76  0.  ]\n"
     ]
    }
   ],
   "source": [
    "from matscipy.dislocation import FCCEdge110Dislocation\n",
    "\n",
    "Ni_edge = FCCEdge110Dislocation(alat, C11, C12, C44, symbol=\"Ni\")\n",
    "\n",
    "print(\"Cell orientation:\")\n",
    "print(Ni_edge.axes)\n",
    "\n",
    "print(\"Burgers vector:\")\n",
    "print(Ni_edge.burgers)\n"
   ]
  },
  {
   "cell_type": "code",
   "execution_count": 21,
   "metadata": {},
   "outputs": [
    {
     "name": "stdout",
     "output_type": "stream",
     "text": [
      "disloc SCF 0 |d1-d2|_inf = 0.04310715442453525\n",
      "disloc SCF 1 |d1-d2|_inf = 0.0031359890399249857\n",
      "disloc SCF 2 |d1-d2|_inf = 0.00018078113282300745\n",
      "disloc SCF 3 |d1-d2|_inf = 1.4501349156037513e-05\n",
      "disloc SCF 4 |d1-d2|_inf = 9.978781161934513e-07\n",
      "disloc SCF 0 |d1-d2|_inf = 0.03462421627571943\n",
      "disloc SCF 1 |d1-d2|_inf = 0.0022123322463467043\n",
      "disloc SCF 2 |d1-d2|_inf = 0.00021564683900149317\n",
      "disloc SCF 3 |d1-d2|_inf = 1.1838612354972411e-05\n",
      "disloc SCF 4 |d1-d2|_inf = 6.324895580611667e-07\n",
      "\n",
      "Cell vectors:\n",
      "[[64.71441261  0.          0.        ]\n",
      " [ 0.         60.96818843  0.        ]\n",
      " [ 0.          0.          4.31110195]]\n",
      "\n",
      "Burgers vector length: 2.49 Angstrom\n"
     ]
    },
    {
     "data": {
      "application/vnd.jupyter.widget-view+json": {
       "model_id": "1329680a67d3459ca901a4ccb7c66955",
       "version_major": 2,
       "version_minor": 0
      },
      "text/plain": [
       "NGLWidget()"
      ]
     },
     "metadata": {},
     "output_type": "display_data"
    }
   ],
   "source": [
    "Ni_edge_bulk, Ni_edge_dislo = Ni_edge.build_cylinder(radius=20)\n",
    "\n",
    "print(\"\\nCell vectors:\")\n",
    "print(Ni_edge_dislo.cell.array)\n",
    "\n",
    "print(f\"\\nBurgers vector length: {np.linalg.norm(Ni_edge.burgers):.2f} Angstrom\")\n",
    "\n",
    "show_dislocation(Ni_edge_dislo, d_name=\"1/2<110> edge\", d_color=[0, 0, 1])"
   ]
  },
  {
   "cell_type": "code",
   "execution_count": 22,
   "metadata": {},
   "outputs": [
    {
     "name": "stdout",
     "output_type": "stream",
     "text": [
      "disloc SCF 0 |d1-d2|_inf = 0.04310715442453525\n",
      "disloc SCF 1 |d1-d2|_inf = 0.0031359890399249857\n",
      "disloc SCF 2 |d1-d2|_inf = 0.00018078113282300745\n",
      "disloc SCF 3 |d1-d2|_inf = 1.4501349155759957e-05\n",
      "disloc SCF 4 |d1-d2|_inf = 9.978781162003902e-07\n",
      "disloc SCF 0 |d1-d2|_inf = 0.03462421627571943\n",
      "disloc SCF 1 |d1-d2|_inf = 0.002212332246347065\n",
      "disloc SCF 2 |d1-d2|_inf = 0.00021564683900149317\n",
      "disloc SCF 3 |d1-d2|_inf = 1.1838612354972411e-05\n",
      "disloc SCF 4 |d1-d2|_inf = 6.324895580611667e-07\n",
      "Expected partial distance: 12.4 Angstrom\n"
     ]
    },
    {
     "data": {
      "application/vnd.jupyter.widget-view+json": {
       "model_id": "cbffabd9c6eb418f91e58d021cd4912e",
       "version_major": 2,
       "version_minor": 0
      },
      "text/plain": [
       "NGLWidget()"
      ]
     },
     "metadata": {},
     "output_type": "display_data"
    }
   ],
   "source": [
    "Ni_edge_bulk, Ni_edge_dislo = Ni_edge.build_cylinder(radius=20, partial_distance=10)\n",
    "print(f\"\\nExpected partial distance: {10 * Ni_edge.glide_distance:.1f} Angstrom\")\n",
    "show_dislocation(Ni_edge_dislo, \n",
    "                 partial_distance=10 * Ni_edge.glide_distance, \n",
    "                 d_name=\"1/2<110> Shockley partial edge\")"
   ]
  },
  {
   "cell_type": "markdown",
   "metadata": {},
   "source": [
    "## Diamond Cubic\n",
    "\n",
    "As an example of diamond structure we will use Si and potential from [work of D. Holland and M. Marder](https://journals.aps.org/prl/abstract/10.1103/PhysRevLett.80.746)."
   ]
  },
  {
   "cell_type": "code",
   "execution_count": 23,
   "metadata": {
    "tags": [
     "hide-output"
    ]
   },
   "outputs": [
    {
     "name": "stdout",
     "output_type": "stream",
     "text": [
      "      Step     Time          Energy         fmax\n",
      "*Force-consistent energies used in optimization.\n",
      "FIRE:    0 15:30:06      -34.692786*       0.0922\n",
      "FIRE:    1 15:30:06      -34.692742*       0.1881\n",
      "FIRE:    2 15:30:06      -34.692797*       0.0452\n"
     ]
    },
    {
     "name": "stdout",
     "output_type": "stream",
     "text": [
      "FIRE:    3 15:30:06      -34.692771*       0.1323\n",
      "FIRE:    4 15:30:06      -34.692781*       0.1071\n",
      "FIRE:    5 15:30:06      -34.692794*       0.0616\n",
      "FIRE:    6 15:30:06      -34.692800*       0.0043\n",
      "FIRE:    7 15:30:06      -34.692795*       0.0537\n",
      "FIRE:    8 15:30:06      -34.692796*       0.0511\n",
      "FIRE:    9 15:30:06      -34.692796*       0.0461\n",
      "FIRE:   10 15:30:06      -34.692798*       0.0390\n",
      "FIRE:   11 15:30:06      -34.692799*       0.0299\n",
      "FIRE:   12 15:30:06      -34.692799*       0.0195\n",
      "FIRE:   13 15:30:06      -34.692800*       0.0081\n",
      "FIRE:   14 15:30:06      -34.692800*       0.0036\n",
      "FIRE:   15 15:30:06      -34.692800*       0.0036\n",
      "FIRE:   16 15:30:06      -34.692800*       0.0035\n",
      "FIRE:   17 15:30:06      -34.692800*       0.0034\n",
      "FIRE:   18 15:30:06      -34.692800*       0.0032\n",
      "FIRE:   19 15:30:06      -34.692800*       0.0030\n",
      "FIRE:   20 15:30:06      -34.692800*       0.0028\n",
      "FIRE:   21 15:30:06      -34.692800*       0.0025\n",
      "FIRE:   22 15:30:06      -34.692800*       0.0022\n",
      "FIRE:   23 15:30:06      -34.692800*       0.0017\n",
      "FIRE:   24 15:30:06      -34.692800*       0.0013\n",
      "FIRE:   25 15:30:06      -34.692800*       0.0007\n",
      "FIRE:   26 15:30:06      -34.692800*       0.0000\n",
      "Fitting C_11\n",
      "Strain array([-0.02, -0.01,  0.  ,  0.01,  0.02])\n",
      "Stress array([-4.18437928e+00, -2.05313584e+00, -2.57946679e-05,  1.97559670e+00,\n",
      "        3.87433910e+00]) GPa\n",
      "Cij (gradient) / GPa    :     201.46169296718193\n",
      "Error in Cij / GPa      :     2.6470882834179283\n",
      "Correlation coefficient :     0.999741134311275\n",
      "Setting C11 (1) to 1.257425 +/- 0.016522\n",
      "\n",
      "\n",
      "Fitting C_21\n",
      "Strain array([-0.02, -0.01,  0.  ,  0.01,  0.02])\n",
      "Stress array([-1.13686951e+00, -5.40672589e-01, -2.57946679e-05,  4.89041361e-01,\n",
      "        9.30285346e-01]) GPa\n",
      "Cij (gradient) / GPa    :     51.640236590323106\n",
      "Error in Cij / GPa      :     1.7644327851076396\n",
      "Correlation coefficient :     0.9982534295801976\n",
      "Setting C21 (7) to 0.322313 +/- 0.011013\n",
      "\n",
      "\n",
      "Fitting C_31\n",
      "Strain array([-0.02, -0.01,  0.  ,  0.01,  0.02])\n",
      "Stress array([-1.13686951e+00, -5.40672589e-01, -2.57946679e-05,  4.89041361e-01,\n",
      "        9.30285346e-01]) GPa\n",
      "Cij (gradient) / GPa    :     51.64023659032299\n",
      "Error in Cij / GPa      :     1.764432785107523\n",
      "Correlation coefficient :     0.9982534295801978\n",
      "Updating C31 (7) with value 0.322313 +/- 0.011013\n",
      "\n",
      "\n",
      "Fitting C_44\n",
      "Strain array([-0.02, -0.01,  0.  ,  0.01,  0.02])\n",
      "Stress array([-2.43911684e+00, -1.19995048e+00,  2.16046225e-14,  1.16236368e+00,\n",
      "        2.28858547e+00]) GPa\n",
      "Cij (gradient) / GPa    :     118.17718786807852\n",
      "Error in Cij / GPa      :     1.2857535435707688\n",
      "Correlation coefficient :     0.9998224896147394\n",
      "Setting C44 (4) to 0.737604 +/- 0.008025\n",
      "\n",
      "\n",
      "[[b C11 b C12 b C12 b     b     b    ]\n",
      " [b C12 b C11 b C12 b     b     b    ]\n",
      " [b C12 b C12 b C11 b     b     b    ]\n",
      " [b     b     b     b C44 b     b    ]\n",
      " [b     b     b     b     b C44 b    ]\n",
      " [b     b     b     b     b     b C44]]\n",
      "\n",
      " = \n",
      "\n",
      "[[201.46  51.64  51.64   0.     0.     0.  ]\n",
      " [ 51.64 201.46  51.64   0.     0.     0.  ]\n",
      " [ 51.64  51.64 201.46   0.     0.     0.  ]\n",
      " [  0.     0.     0.   118.18   0.     0.  ]\n",
      " [  0.     0.     0.     0.   118.18   0.  ]\n",
      " [  0.     0.     0.     0.     0.   118.18]]\n",
      "C_11 = 201.46 +/- 2.65 GPa\n",
      "C_12 = 51.64 +/- 1.76 GPa\n",
      "C_44 = 118.18 +/- 1.29 GPa\n"
     ]
    }
   ],
   "source": [
    "from matscipy.calculators.manybody.explicit_forms.stillinger_weber import StillingerWeber,\\\n",
    "                                                                Holland_Marder_PRL_80_746_Si\n",
    "from matscipy.calculators.manybody import Manybody\n",
    "calc = Manybody(**StillingerWeber(Holland_Marder_PRL_80_746_Si))\n",
    "\n",
    "# the function accepts any ASE type of calculator\n",
    "alat, C11, C12, C44 = get_elastic_constants(calculator=calc, symbol=\"Si\", verbose=False)"
   ]
  },
  {
   "cell_type": "code",
   "execution_count": 24,
   "metadata": {},
   "outputs": [
    {
     "name": "stdout",
     "output_type": "stream",
     "text": [
      "5.431 (Angstrom), 201.46, 51.64, 118.18 (GPa)\n"
     ]
    }
   ],
   "source": [
    "print(f\"{alat:.3f} (Angstrom), {C11:.2f}, {C12:.2f}, {C44:.2f} (GPa)\")"
   ]
  },
  {
   "cell_type": "code",
   "execution_count": 25,
   "metadata": {},
   "outputs": [
    {
     "name": "stdout",
     "output_type": "stream",
     "text": [
      "Cell orientation:\n",
      "[[ 1  1 -2]\n",
      " [ 1  1  1]\n",
      " [ 1 -1  0]]\n",
      "Burgers vector:\n",
      "[ 2.71547466 -2.71547466  0.        ]\n"
     ]
    }
   ],
   "source": [
    "from matscipy.dislocation import DiamondGlideScrew\n",
    "\n",
    "Si_screw = DiamondGlideScrew(alat, C11, C12, C44, symbol=\"Si\")\n",
    "\n",
    "print(\"Cell orientation:\")\n",
    "print(Si_screw.axes)\n",
    "\n",
    "print(\"Burgers vector:\")\n",
    "print(Si_screw.burgers)\n"
   ]
  },
  {
   "cell_type": "markdown",
   "metadata": {},
   "source": [
    "### 1/2<110>{111} screw dislocation (perfect and dissociated)"
   ]
  },
  {
   "cell_type": "code",
   "execution_count": 36,
   "metadata": {},
   "outputs": [
    {
     "name": "stdout",
     "output_type": "stream",
     "text": [
      "\n",
      "Cell vectors:\n",
      "[[66.51527324  0.          0.        ]\n",
      " [ 0.         75.25344122  0.        ]\n",
      " [ 0.          0.          3.84026109]]\n",
      "\n",
      "Burgers vector length: 3.84 Angstrom\n"
     ]
    },
    {
     "data": {
      "application/vnd.jupyter.widget-view+json": {
       "model_id": "f7355f892a57430e9b62045a228e9ac3",
       "version_major": 2,
       "version_minor": 0
      },
      "text/plain": [
       "NGLWidget()"
      ]
     },
     "metadata": {},
     "output_type": "display_data"
    }
   ],
   "source": [
    "Si_screw_bulk, Si_screw_dislo = Si_screw.build_cylinder(radius=20)\n",
    "\n",
    "print(\"\\nCell vectors:\")\n",
    "print(Si_screw_dislo.cell.array)\n",
    "\n",
    "print(f\"\\nBurgers vector length: {np.linalg.norm(Si_screw.burgers):.2f} Angstrom\")\n",
    "\n",
    "show_dislocation(Si_screw_dislo, \n",
    "                 diamond_structure=True, \n",
    "                 scale=0.3, \n",
    "                 add_bonds=True, # bonds make it a bit easier to see the structure\n",
    "                 d_name=\"1/2<110> screw\", \n",
    "                 d_color=[0, 0, 1])"
   ]
  },
  {
   "cell_type": "markdown",
   "metadata": {},
   "source": [
    "The modification of the CNA algorithm for the diamond structure identifies the defect atoms gradually depending how _far_ they are from the perfect structure. The important outcome for us is now dislocation core and free surface atoms are identified as 1st and 2nd neighbors of the _Cubic diamond_ structure. \n",
    "\n",
    "As in FCC structure similar dissociation mechanism exists in diamond structure."
   ]
  },
  {
   "cell_type": "code",
   "execution_count": 27,
   "metadata": {},
   "outputs": [
    {
     "name": "stdout",
     "output_type": "stream",
     "text": [
      "Expected partial distance: 16.6 Angstrom\n"
     ]
    },
    {
     "data": {
      "application/vnd.jupyter.widget-view+json": {
       "model_id": "ee85e17cbfb74e9fab64ef50de7c4517",
       "version_major": 2,
       "version_minor": 0
      },
      "text/plain": [
       "NGLWidget()"
      ]
     },
     "metadata": {},
     "output_type": "display_data"
    }
   ],
   "source": [
    "Si_screw_bulk, Si_screw_dislo = Si_screw.build_cylinder(radius=20, partial_distance=5)\n",
    "\n",
    "print(f\"Expected partial distance: {5 * Si_screw.glide_distance:.1f} Angstrom\")\n",
    "show_dislocation(Si_screw_dislo, \n",
    "                 diamond_structure=True, # bonds make it a bit easier to see the structure\n",
    "                 scale=0.3, add_bonds=True, \n",
    "                 partial_distance=5 * Si_screw.glide_distance, \n",
    "                 d_name=\"1/6<112> 30 degree partial screw\") "
   ]
  },
  {
   "cell_type": "markdown",
   "metadata": {},
   "source": [
    "The stacking fault atoms are identified as _Hexagonal diamond_ structure.\n",
    "\n",
    "### 1/2<110>{111} 60 degree screw dislocation (perfect and dissociated)\n",
    "\n",
    "Due to the particular symmetry of cubic diamond structure, there exist dislocations with 60 degree angle between burgers vector and dislocation line. This dislocation can dissociate in two partials: 30 and 90 degree."
   ]
  },
  {
   "cell_type": "code",
   "execution_count": 28,
   "metadata": {},
   "outputs": [
    {
     "name": "stdout",
     "output_type": "stream",
     "text": [
      "Cell orientation:\n",
      "[[ 1  1 -2]\n",
      " [ 1  1  1]\n",
      " [ 1 -1  0]]\n",
      "Burgers vector:\n",
      "[ 2.71547466 -2.71547466  0.        ]\n"
     ]
    }
   ],
   "source": [
    "from matscipy.dislocation import DiamondGlide60Degree\n",
    "\n",
    "Si_60_degree_screw = DiamondGlide60Degree(alat, C11, C12, C44, symbol=\"Si\")\n",
    "\n",
    "print(\"Cell orientation:\")\n",
    "print(Si_screw.axes)\n",
    "\n",
    "print(\"Burgers vector:\")\n",
    "print(Si_screw.burgers)\n"
   ]
  },
  {
   "cell_type": "code",
   "execution_count": 29,
   "metadata": {},
   "outputs": [
    {
     "name": "stdout",
     "output_type": "stream",
     "text": [
      "\n",
      "Cell vectors:\n",
      "[[66.51527324  0.          0.        ]\n",
      " [ 0.         75.25344122  0.        ]\n",
      " [ 0.          0.          3.84026109]]\n",
      "\n",
      "Burgers vector length: 3.84 Angstrom\n"
     ]
    },
    {
     "data": {
      "application/vnd.jupyter.widget-view+json": {
       "model_id": "8d7eb594109f426e99d12a4a0d60125b",
       "version_major": 2,
       "version_minor": 0
      },
      "text/plain": [
       "NGLWidget()"
      ]
     },
     "metadata": {},
     "output_type": "display_data"
    }
   ],
   "source": [
    "Si_60_degree_screw_bulk, \\\n",
    "Si_60_degree_screw_dislo = Si_60_degree_screw.build_cylinder(radius=20)\n",
    "\n",
    "print(\"\\nCell vectors:\")\n",
    "print(Si_60_degree_screw_dislo.cell.array)\n",
    "\n",
    "print(f\"\\nBurgers vector length: {np.linalg.norm(Si_60_degree_screw.burgers):.2f} Angstrom\")\n",
    "\n",
    "show_dislocation(Si_60_degree_screw_dislo, \n",
    "                 diamond_structure=True, \n",
    "                 scale=0.3, add_bonds=True,\n",
    "                 d_name=\"1/2<110> 60 degree screw\", \n",
    "                 d_color=[0, 0, 1])"
   ]
  },
  {
   "cell_type": "code",
   "execution_count": 30,
   "metadata": {},
   "outputs": [
    {
     "name": "stdout",
     "output_type": "stream",
     "text": [
      "Expected partial distance: 16.6 Angstrom\n"
     ]
    },
    {
     "data": {
      "application/vnd.jupyter.widget-view+json": {
       "model_id": "8844142c06074a1ea1d1ceae83239da3",
       "version_major": 2,
       "version_minor": 0
      },
      "text/plain": [
       "NGLWidget()"
      ]
     },
     "metadata": {},
     "output_type": "display_data"
    }
   ],
   "source": [
    "Si_60_degree_screw_bulk, \\\n",
    "Si_60_degree_screw_dislo = Si_60_degree_screw.build_cylinder(radius=20, \n",
    "                                                             partial_distance=5)\n",
    "\n",
    "print(f\"Expected partial distance: {5 * Si_60_degree_screw.glide_distance:.1f} Angstrom\")\n",
    "show_dislocation(Si_60_degree_screw_dislo, \n",
    "                 diamond_structure=True, \n",
    "                 scale=0.3, \n",
    "                 add_bonds=True, \n",
    "                 d_color=[1, 0, 1],\n",
    "                 partial_distance=5 * Si_60_degree_screw.glide_distance, \n",
    "                 d_name=[\"1/6<112> 90 degree partial screw\", \n",
    "                         \"1/6<112> 30 degree partial screw\"])"
   ]
  },
  {
   "cell_type": "code",
   "execution_count": null,
   "metadata": {},
   "outputs": [],
   "source": []
  }
 ],
 "metadata": {
  "execution": {
   "timeout": 180
  },
  "kernelspec": {
   "display_name": "Python 3 (ipykernel)",
   "language": "python",
   "name": "python3"
  },
  "language_info": {
   "codemirror_mode": {
    "name": "ipython",
    "version": 3
   },
   "file_extension": ".py",
   "mimetype": "text/x-python",
   "name": "python",
   "nbconvert_exporter": "python",
   "pygments_lexer": "ipython3",
   "version": "3.9.15"
  }
 },
 "nbformat": 4,
 "nbformat_minor": 4
}
